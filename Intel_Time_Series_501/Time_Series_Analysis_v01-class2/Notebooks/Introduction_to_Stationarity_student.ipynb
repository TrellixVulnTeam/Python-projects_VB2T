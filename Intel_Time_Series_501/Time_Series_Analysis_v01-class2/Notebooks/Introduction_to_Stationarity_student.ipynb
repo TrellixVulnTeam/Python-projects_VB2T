{
 "cells": [
  {
   "cell_type": "markdown",
   "metadata": {},
   "source": [
    "# Introduction\n",
    "\n",
    "In Lesson 1, *An Introduction to Time Series*, we learned that time series data is data that is measured at equally-spaced intervals. We also learned that time series data can be decomposed into three parts: trend, seasonality, and residuals. \n",
    "\n",
    "Now we'll dig deeper by discussing an important concept called **stationarity**. Having a firm grasp of this concept will lay the foundation necessary to understand more advanced modeling strategies that we'll introduce in subsequent lessons. Spend the time to really understand this material.\n",
    "\n",
    "# Learning Outcomes\n",
    "You should walk away from this Python tutorial with:\n",
    "1. A practical understanding of what it means for time series to be stationary.\n",
    "2. A better understanding of ways to identify stationarity.\n",
    "3. Several common ways to transform nonstationary time series data.\n",
    "\n",
    "# Imports"
   ]
  },
  {
   "cell_type": "code",
   "execution_count": 1,
   "metadata": {},
   "outputs": [],
   "source": [
    "%matplotlib inline\n",
    "\n",
    "import sys\n",
    "import statsmodels as ss\n",
    "import numpy as np\n",
    "import matplotlib\n",
    "import matplotlib.pyplot as plt\n",
    "import pandas as pd"
   ]
  },
  {
   "cell_type": "markdown",
   "metadata": {},
   "source": [
    "# Python & Library Versions"
   ]
  },
  {
   "cell_type": "code",
   "execution_count": 2,
   "metadata": {},
   "outputs": [
    {
     "name": "stdout",
     "output_type": "stream",
     "text": [
      "('2.7.15 |Anaconda, Inc.| (default, May  1 2018, 18:37:05) \\n[GCC 4.2.1 Compatible Clang 4.0.1 (tags/RELEASE_401/final)]', '\\n')\n",
      "library    version\n",
      "------------------\n",
      "matplotlib  2.2.2\n",
      "numpy       1.14.3\n",
      "pandas      0.23.0\n",
      "statsmodels 0.9.0\n"
     ]
    }
   ],
   "source": [
    "versions = ( (\"matplotlib\", matplotlib.__version__),\n",
    "            (\"numpy\", np.__version__),\n",
    "            (\"pandas\", pd.__version__),\n",
    "            (\"statsmodels\", ss.__version__) )\n",
    "\n",
    "print(sys.version, \"\\n\")\n",
    "print(\"library\" + \" \" * 4 + \"version\")\n",
    "print(\"-\" * 18)\n",
    "\n",
    "for tup1, tup2 in versions:\n",
    "    print(\"{:11} {}\".format(tup1, tup2))"
   ]
  },
  {
   "cell_type": "markdown",
   "metadata": {},
   "source": [
    "---"
   ]
  },
  {
   "cell_type": "markdown",
   "metadata": {},
   "source": [
    "# Section 1: Stationary Time Series\n",
    "\n",
    "In this lesson, we will explore stationary time series. Specifically, we'll discuss what it means for time series to be stationary and show examples of a few time series that are not stationary.\n",
    "\n",
    "As before, we'll generate datasets from scratch to help you establish a deeper understanding of what it means for time series data to be stationary or nonstationary. "
   ]
  },
  {
   "cell_type": "markdown",
   "metadata": {},
   "source": [
    "### What is Stationarity?\n",
    "In order for time series data to be stationary, the data must exhibit four properties over time:\n",
    "1. constant mean\n",
    "2. constant variance\n",
    "3. constant autocorrelation structure\n",
    "4. no periodic component\n",
    "\n",
    "Mean, variance, and periodic component (aka seasonality) should be familiar to you. Autocorrelation may not be. Autocorrelation simply means that the current time series measurement is correlated with a past measurement. For example, today's stock price is often highly correlated with yesterday's price. \n",
    "\n",
    "To discuss these things simply we must introduce the idea of a **lag**. Lag is a fancy term for delay. Say you wanted to know if today's stock price correlated better with yesterday's price or the price from two days ago. You could test this by computing the correlation between the original time series and the same series delayed one time interval. Therefore, the second value of the original time series would be compared with the first of the delayed. The third original value would be compared with the second of the delayed. And so on. Performing this process for a lag of 1 and a lag of 2, respectively, would yield two correlation outputs. This output would tell you which lag is more correlated. That is **autocorrelation** in a nutshell. \n",
    "\n",
    "Let's apply what we've learned now that we nailed down terminology.\n",
    "\n",
    "We'll begin by creating a variable called **time** that will define equally-spaced time intervals. Then we'll sample values from a Normal distribution with mean 0 and a standard deviation of 1. Essentially we're creating noise, which is a stationary time series. In other words, the series of data exhibits all four proporties required of a stationary time series."
   ]
  },
  {
   "cell_type": "code",
   "execution_count": 3,
   "metadata": {},
   "outputs": [],
   "source": [
    "# reproducibility\n",
    "np.random.seed(42)\n",
    "\n",
    "# data\n",
    "time = np.arange(100)\n",
    "stationary = np.random.normal(loc=0, scale=1.0, size=len(time))"
   ]
  },
  {
   "cell_type": "markdown",
   "metadata": {},
   "source": [
    "It makes sense to generate a run-sequence plot to visually confirm stationarity. \n",
    "> We'll create a *run_sequence_plot* function to make plotting throughout this tutorial less cumbersome."
   ]
  },
  {
   "cell_type": "code",
   "execution_count": 4,
   "metadata": {},
   "outputs": [],
   "source": [
    "def run_sequence_plot(x, y, title, xlabel=\"time\", ylabel=\"series\"):\n",
    "    plt.plot(x, y, 'k-')\n",
    "    plt.title(title)\n",
    "    plt.xlabel(xlabel)\n",
    "    plt.ylabel(ylabel)\n",
    "    plt.grid(alpha=0.3);"
   ]
  },
  {
   "cell_type": "code",
   "execution_count": 5,
   "metadata": {},
   "outputs": [
    {
     "data": {
      "image/png": "[encoded data removed]",
      "text/plain": [
       "<Figure size 432x288 with 1 Axes>"
      ]
     },
     "metadata": {},
     "output_type": "display_data"
    }
   ],
   "source": [
    "run_sequence_plot(time, stationary, \n",
    "                  title=\"Stationary TS\")"
   ]
  },
  {
   "cell_type": "markdown",
   "metadata": {},
   "source": [
    "Notice in the plot above how there's no clear trend or seasonality. This time series data appears to be meet the four conditions of stationarity: constant mean, constant variance, constant autocorrelation, and no periodic component. \n",
    "\n",
    "Let's look at one more example, a concrete example of data with a lag of one that has constant autocorrelation."
   ]
  },
  {
   "cell_type": "markdown",
   "metadata": {},
   "source": [
    "### Autocorrelation Structure"
   ]
  },
  {
   "cell_type": "code",
   "execution_count": null,
   "metadata": {
    "collapsed": true
   },
   "outputs": [],
   "source": [
    "# seed to start series\n",
    "seed = 3.14\n",
    "\n",
    "# create autocorrelated data\n",
    "lagged = np.empty_like(time, dtype='float')\n",
    "for t in time:\n",
    "    lagged[t] = seed + np.random.normal(loc=0, scale=2.5, size=1)\n",
    "    seed = lagged[t]"
   ]
  },
  {
   "cell_type": "code",
   "execution_count": null,
   "metadata": {},
   "outputs": [],
   "source": [
    "run_sequence_plot(time, lagged,\n",
    "                  title=\"Nonstationary Data w/Lagged Structure\")"
   ]
  },
  {
   "cell_type": "markdown",
   "metadata": {},
   "source": [
    "Notice how the current value is highly correlated with the past value?\n",
    "\n",
    "At this point you're probably wondering how to check if a time series in fact meets the four conditions of stationarity. We'll learn in Section #2 how to check that. However, starting your analysis with a run-sequence plot is an effective way to get a handle on whether your data has the appearance of being stationary. \n",
    "\n",
    "To drive that point home, let's discuss some ways to generate nonstationary time series:\n",
    "1. **Trend** (changing mean)\n",
    "2. **Heteroscedasticity** (changing variance)\n",
    "3. **Seasonality** (periodic component)\n",
    "4. **Trend + Seasonality**\n",
    "\n",
    "Naturally, we'll plot the results of each so we can compare nonstationary to stationary data. "
   ]
  },
  {
   "cell_type": "markdown",
   "metadata": {},
   "source": [
    "---"
   ]
  },
  {
   "cell_type": "markdown",
   "metadata": {},
   "source": [
    "#### Trend"
   ]
  },
  {
   "cell_type": "code",
   "execution_count": null,
   "metadata": {
    "collapsed": true
   },
   "outputs": [],
   "source": [
    "trend = (time * 2.75) + stationary"
   ]
  },
  {
   "cell_type": "code",
   "execution_count": null,
   "metadata": {},
   "outputs": [],
   "source": [
    "run_sequence_plot(time, trend,\n",
    "                  title=\"Nonstationary Data w/Trend\")"
   ]
  },
  {
   "cell_type": "markdown",
   "metadata": {},
   "source": [
    "**Question:** Why is this data not stationary?"
   ]
  },
  {
   "cell_type": "markdown",
   "metadata": {},
   "source": [
    "**Answer:** The mean changes over time."
   ]
  },
  {
   "cell_type": "markdown",
   "metadata": {},
   "source": [
    "---"
   ]
  },
  {
   "cell_type": "markdown",
   "metadata": {},
   "source": [
    "#### Heteroscedasticity"
   ]
  },
  {
   "cell_type": "code",
   "execution_count": null,
   "metadata": {
    "collapsed": true
   },
   "outputs": [],
   "source": [
    "# reproducibility\n",
    "np.random.seed(1234)\n",
    "\n",
    "# data\n",
    "level_1 = np.random.normal(loc=0, scale=1.0, size = 50)\n",
    "level_2 = np.random.normal(loc=0, scale=10.0, size = 50)\n",
    "heteroscedasticity = np.append(level_1, level_2)"
   ]
  },
  {
   "cell_type": "code",
   "execution_count": null,
   "metadata": {},
   "outputs": [],
   "source": [
    "run_sequence_plot(time, heteroscedasticity,\n",
    "                  title=\"Nonstationary Data w/Heteroscedasticity\")"
   ]
  },
  {
   "cell_type": "markdown",
   "metadata": {},
   "source": [
    "**Question:** Why is this data not stationary?"
   ]
  },
  {
   "cell_type": "markdown",
   "metadata": {},
   "source": [
    "**Answer:** The variance changes over time."
   ]
  },
  {
   "cell_type": "markdown",
   "metadata": {},
   "source": [
    "---"
   ]
  },
  {
   "cell_type": "markdown",
   "metadata": {},
   "source": [
    "#### Seasonality"
   ]
  },
  {
   "cell_type": "code",
   "execution_count": null,
   "metadata": {
    "collapsed": true
   },
   "outputs": [],
   "source": [
    "seasonality = 10 + np.sin(time) * 10"
   ]
  },
  {
   "cell_type": "code",
   "execution_count": null,
   "metadata": {},
   "outputs": [],
   "source": [
    "run_sequence_plot(time, seasonality,\n",
    "                  title=\"Nonstationary Data w/Seasonality\")"
   ]
  },
  {
   "cell_type": "markdown",
   "metadata": {},
   "source": [
    "**Question:** Why is this data not stationary?"
   ]
  },
  {
   "cell_type": "markdown",
   "metadata": {},
   "source": [
    "**Answer:** There is a periodic component."
   ]
  },
  {
   "cell_type": "markdown",
   "metadata": {},
   "source": [
    "---"
   ]
  },
  {
   "cell_type": "markdown",
   "metadata": {},
   "source": [
    "#### Trend + Seasonality"
   ]
  },
  {
   "cell_type": "code",
   "execution_count": null,
   "metadata": {
    "collapsed": true
   },
   "outputs": [],
   "source": [
    "trend_seasonality = trend + seasonality + stationary"
   ]
  },
  {
   "cell_type": "code",
   "execution_count": null,
   "metadata": {},
   "outputs": [],
   "source": [
    "run_sequence_plot(time, trend_seasonality,\n",
    "                  title=\"Nonstationary Data w/Trend + Seasonality\")"
   ]
  },
  {
   "cell_type": "markdown",
   "metadata": {},
   "source": [
    "**Question:** Why is this data not stationary?"
   ]
  },
  {
   "cell_type": "markdown",
   "metadata": {},
   "source": [
    "**Answer:** The mean changes over time AND there is a periodic component."
   ]
  },
  {
   "cell_type": "markdown",
   "metadata": {},
   "source": [
    "---"
   ]
  },
  {
   "cell_type": "markdown",
   "metadata": {},
   "source": [
    "### Exercise #1\n",
    "In this exercise, your task is to:\n",
    "1. Create a time variable called **mytime** that is composed of the integers from 0 to 99 inclusive.  \n",
    "2. Read in **dataset_SNS_1.npy** and **dataset_SNS_2.npy** as **dataset_SNS_1** and **dataset_SNS_2**, respectively. \n",
    "3. Plot each time series dataset.\n",
    "4. Start thinking about whether each is stationary or nonstationary. "
   ]
  },
  {
   "cell_type": "code",
   "execution_count": null,
   "metadata": {
    "collapsed": true
   },
   "outputs": [],
   "source": [
    "# create time variable\n"
   ]
  },
  {
   "cell_type": "code",
   "execution_count": null,
   "metadata": {
    "collapsed": true
   },
   "outputs": [],
   "source": [
    "# get data\n",
    "path_to_file = \"../Data/\"\n",
    "dataset_SNS_1 = np.load(path_to_file + \"dataset_SNS_1.npy\")\n",
    "dataset_SNS_2 = np.load(path_to_file + \"dataset_SNS_2.npy\")"
   ]
  },
  {
   "cell_type": "code",
   "execution_count": null,
   "metadata": {
    "collapsed": true
   },
   "outputs": [],
   "source": [
    "# plot dataset_SNS_1\n"
   ]
  },
  {
   "cell_type": "code",
   "execution_count": null,
   "metadata": {
    "collapsed": true
   },
   "outputs": [],
   "source": [
    "# plot dataset_SNS_2\n"
   ]
  },
  {
   "cell_type": "markdown",
   "metadata": {},
   "source": [
    "#### Your Preliminary Thoughts\n",
    "Are both datasets stationary or is one stationary and one nonstationary or are both nonstationary? "
   ]
  },
  {
   "cell_type": "code",
   "execution_count": null,
   "metadata": {
    "collapsed": true
   },
   "outputs": [],
   "source": []
  },
  {
   "cell_type": "markdown",
   "metadata": {},
   "source": [
    "---"
   ]
  },
  {
   "cell_type": "markdown",
   "metadata": {},
   "source": [
    "---"
   ]
  },
  {
   "cell_type": "markdown",
   "metadata": {},
   "source": [
    "# Section 2: Identifying Stationarity\n",
    "\n",
    "In this lesson, we will identify common techniques used to identify if a time series is stationary or not. \n",
    "\n",
    "Specifically, we will cover:\n",
    "1. Run-sequence plots\n",
    "2. Summary statistics & histogram plots\n",
    "3. Augmented Dickey-Fuller test"
   ]
  },
  {
   "cell_type": "markdown",
   "metadata": {},
   "source": [
    "### Run-Sequence Plots\n",
    "Run-sequence plots should be old hat by now. They are the go-to technique to visualize what's happening with your data. You should always start here. Don't bother building a model until you've done this.\n",
    "\n",
    "In order to be thorough, let's plot the nonstationary data from above that has trend and seasonality components."
   ]
  },
  {
   "cell_type": "code",
   "execution_count": null,
   "metadata": {},
   "outputs": [],
   "source": [
    "run_sequence_plot(time, trend_seasonality,\n",
    "                  title=\"Example of Nonstationary Data\")"
   ]
  },
  {
   "cell_type": "markdown",
   "metadata": {},
   "source": [
    "### Summary Statistics & Plots"
   ]
  },
  {
   "cell_type": "markdown",
   "metadata": {},
   "source": [
    "Perhaps the easiest way to check for constant mean and variance is to chop up the data into separate chunks, calculate statistics for each chunk, and compare. It's not the most rigorous method but it gives you a good sense of whether your data is approximately stationary.\n",
    "\n",
    "Let's look at an example using the *trend* data we created in the last section."
   ]
  },
  {
   "cell_type": "code",
   "execution_count": null,
   "metadata": {
    "collapsed": true
   },
   "outputs": [],
   "source": [
    "# split data into 10 chunks\n",
    "chunks = np.split(trend, indices_or_sections=10)"
   ]
  },
  {
   "cell_type": "markdown",
   "metadata": {},
   "source": [
    "#### Summary Stats"
   ]
  },
  {
   "cell_type": "code",
   "execution_count": null,
   "metadata": {},
   "outputs": [],
   "source": [
    "# compare means and variances\n",
    "print(\"{} | {:7} | {}\".format(\"Chunk\", \"Mean\", \"Variance\"))\n",
    "print(\"-\" * 26)\n",
    "for i, chunk in enumerate(chunks, 1):\n",
    "    print(\"{:5} | {:.6} | {:.6}\".format(i, np.mean(chunk), np.var(chunk)))"
   ]
  },
  {
   "cell_type": "markdown",
   "metadata": {},
   "source": [
    "#### Tangent\n",
    "There's a nice shortcut method in NumPy to get the same results without having to run through a for loop. "
   ]
  },
  {
   "cell_type": "code",
   "execution_count": null,
   "metadata": {},
   "outputs": [],
   "source": [
    "np.mean(chunks, axis=1)"
   ]
  },
  {
   "cell_type": "code",
   "execution_count": null,
   "metadata": {},
   "outputs": [],
   "source": [
    "np.var(chunks, axis=1)"
   ]
  },
  {
   "cell_type": "markdown",
   "metadata": {},
   "source": [
    "Notice how the values in each array perfectly matches the values in the for loop above? "
   ]
  },
  {
   "cell_type": "markdown",
   "metadata": {},
   "source": [
    "#### Explanation"
   ]
  },
  {
   "cell_type": "markdown",
   "metadata": {},
   "source": [
    "While the variance is relatively constant over time, the mean is clearly changing which means this data is not stationary. \n",
    "\n",
    "> Note: We do expect some fluctuation in values. It's highly unlikely that the either the mean or variace will be exactly the same from chunk to chunk, but it should be close. \n",
    "\n",
    "If you wanted to get even more sophisticated, you could run a statistical test to determine if the difference in means or the difference in variances is statistically significant. That is beyond the scope of this tutorial, however.\n",
    "\n",
    "Another useful tool is to plot the means and variances."
   ]
  },
  {
   "cell_type": "markdown",
   "metadata": {},
   "source": [
    "#### Histogram Plot"
   ]
  },
  {
   "cell_type": "code",
   "execution_count": null,
   "metadata": {},
   "outputs": [],
   "source": [
    "pd.Series(trend).hist();"
   ]
  },
  {
   "cell_type": "markdown",
   "metadata": {},
   "source": [
    "Plotting a histogram of the time series gives important clues into its underlying structure. A Normal distribution gives confidence that mean and variance are constant. It's certainly not definitive but gives you a good indication. \n",
    "\n",
    "Here we see what appears to be a uniform distribution. As we would expect for time series with trend, this data is not stationary and the histogram plot provides insight into that fact.\n",
    "\n",
    "Let's try the same thing on the *stationary* data we created way back at the beginning. "
   ]
  },
  {
   "cell_type": "code",
   "execution_count": null,
   "metadata": {},
   "outputs": [],
   "source": [
    "pd.Series(stationary).hist();"
   ]
  },
  {
   "cell_type": "markdown",
   "metadata": {},
   "source": [
    "That definitely looks more approximately Normal. \n",
    "\n",
    "While again out of scope, we could use SciPy's [normaltest](https://docs.scipy.org/doc/scipy-0.14.0/reference/generated/scipy.stats.mstats.normaltest.html) to check whether this sample differs from a Normal distribution."
   ]
  },
  {
   "cell_type": "markdown",
   "metadata": {},
   "source": [
    "### Augmented Dickey-Fuller Test\n",
    "This is a statistical procedure to suss out whether a time series is stationary or not. We won't go into all the nitty gritty details but here's what you need to know:\n",
    "1. **Null hypothesis:** the series is nonstationary.\n",
    "2. **Alternative hypothesis:** the series is stationary.\n",
    "\n",
    "Like any statistical test you should set a significance level or threshold that determines whether you should accept or reject the null. \n",
    "> The value 0.05 is common but depends upons numerous factors.\n",
    "\n",
    "Let's see how to run this test in Python.\n",
    "\n",
    "#### Stationary Data & ADF"
   ]
  },
  {
   "cell_type": "code",
   "execution_count": null,
   "metadata": {},
   "outputs": [],
   "source": [
    "from statsmodels.tsa.stattools import adfuller\n",
    "\n",
    "adf, pvalue, usedlag, nobs, critical_values, icbest = adfuller(stationary)"
   ]
  },
  {
   "cell_type": "markdown",
   "metadata": {},
   "source": [
    "A brief discussion about the important outputs from the ADF test is in order. "
   ]
  },
  {
   "cell_type": "code",
   "execution_count": null,
   "metadata": {},
   "outputs": [],
   "source": [
    "print(adf)"
   ]
  },
  {
   "cell_type": "markdown",
   "metadata": {},
   "source": [
    "First, **adf** is the value of the test statistic. The more negative the value, the more confident we can be that the series is stationary. Here we see a value of -10. That may not mean anything to you just yet but the **pvalue** should."
   ]
  },
  {
   "cell_type": "code",
   "execution_count": null,
   "metadata": {},
   "outputs": [],
   "source": [
    "print(pvalue)"
   ]
  },
  {
   "cell_type": "markdown",
   "metadata": {},
   "source": [
    "Next, **pvalue** is interpreted like any p-value. Once we set a threshold, we can compare this p-value to that threshold. Either we reject or fail to reject the null. Here **pvalue** is very close to zero (~$10^{-17}$) so we reject the null that this data is nonstationary."
   ]
  },
  {
   "cell_type": "code",
   "execution_count": null,
   "metadata": {},
   "outputs": [],
   "source": [
    "print(nobs)"
   ]
  },
  {
   "cell_type": "markdown",
   "metadata": {},
   "source": [
    "The variable **nobs** is simply the number of observations in the time series, in this case 99."
   ]
  },
  {
   "cell_type": "code",
   "execution_count": null,
   "metadata": {},
   "outputs": [],
   "source": [
    "print(critical_values)"
   ]
  },
  {
   "cell_type": "markdown",
   "metadata": {},
   "source": [
    "Finally, the **critical_values** variable provides test statistic threholds for common significant levels. Here we see a test statistic of roughly -2.89 and lower is sufficient to reject the null using a significance level of 5%."
   ]
  },
  {
   "cell_type": "markdown",
   "metadata": {},
   "source": [
    "> You may have noticed two outputs we didn't discuss. See [statsmodels docs](http://www.statsmodels.org/stable/generated/statsmodels.tsa.stattools.adfuller.html) for a description of **usedlag** and **icbest**."
   ]
  },
  {
   "cell_type": "markdown",
   "metadata": {},
   "source": [
    "#### Trend Data & ADF\n",
    "Now to run the ADF test on the *trend* data. "
   ]
  },
  {
   "cell_type": "code",
   "execution_count": null,
   "metadata": {},
   "outputs": [],
   "source": [
    "adf, pvalue, usedlag, nobs, critical_values, icbest = adfuller(trend, regression='c')\n",
    "print(\"ADF: \", adf)\n",
    "print(\"p-value:\", pvalue)"
   ]
  },
  {
   "cell_type": "markdown",
   "metadata": {},
   "source": [
    "#### Lagged Data & ADF\n",
    "As expected, we fail to reject the null that the trend data is in fact nonstationary. Success!\n",
    "\n",
    "Let's run the same test on the *lagged* data."
   ]
  },
  {
   "cell_type": "code",
   "execution_count": null,
   "metadata": {},
   "outputs": [],
   "source": [
    "adf, pvalue, usedlag, nobs, critical_values, icbest = adfuller(lagged, regression='c')\n",
    "print(\"ADF: \", adf)\n",
    "print(\"p-value:\", pvalue)"
   ]
  },
  {
   "cell_type": "markdown",
   "metadata": {},
   "source": [
    "You may find this a surprising result as ADF says the series is nonstationary. Even though the series does have constant autocorrelation, it is not yet in a form that is techincally statinoary. Therefore, we'll learn in the next section how to apply said transformation to accomplish just that.\n",
    "\n",
    "#### The Good News \n",
    "You now have several tools in your toolkit to help you figure out if a given time series is stationary or not."
   ]
  },
  {
   "cell_type": "markdown",
   "metadata": {},
   "source": [
    "---"
   ]
  },
  {
   "cell_type": "markdown",
   "metadata": {},
   "source": [
    "### Exercise #2\n",
    "Think back to the two datasets from Exercise #1. You should have the tools to answer whether each is stationary or not. Provide your answers and explanations below."
   ]
  },
  {
   "cell_type": "code",
   "execution_count": null,
   "metadata": {
    "collapsed": true
   },
   "outputs": [],
   "source": [
    "# run-sequence plots\n"
   ]
  },
  {
   "cell_type": "markdown",
   "metadata": {},
   "source": [
    "**Explanation:** "
   ]
  },
  {
   "cell_type": "code",
   "execution_count": null,
   "metadata": {
    "collapsed": true
   },
   "outputs": [],
   "source": [
    "# chunked stats\n"
   ]
  },
  {
   "cell_type": "markdown",
   "metadata": {},
   "source": [
    "**Explanation:** "
   ]
  },
  {
   "cell_type": "code",
   "execution_count": null,
   "metadata": {
    "collapsed": true
   },
   "outputs": [],
   "source": [
    "# histograms\n"
   ]
  },
  {
   "cell_type": "markdown",
   "metadata": {},
   "source": [
    "**Explanation:** "
   ]
  },
  {
   "cell_type": "code",
   "execution_count": null,
   "metadata": {
    "collapsed": true
   },
   "outputs": [],
   "source": [
    "# ADF tests\n"
   ]
  },
  {
   "cell_type": "markdown",
   "metadata": {},
   "source": [
    "**Explanation:** "
   ]
  },
  {
   "cell_type": "markdown",
   "metadata": {},
   "source": [
    "---"
   ]
  },
  {
   "cell_type": "markdown",
   "metadata": {},
   "source": [
    "---"
   ]
  },
  {
   "cell_type": "markdown",
   "metadata": {},
   "source": [
    "# Section 3: Common Nonstationary-to-Stationary Transformations\n",
    "\n",
    "In this lesson, we will showcase several common ways to transform nonstationary time series data to stationary time series data. \n",
    ">Please note that this is but a small subset of the total possible ways to transform nonstationary time series. However, these methods will provide a strong foundation upon which to build in the future."
   ]
  },
  {
   "cell_type": "markdown",
   "metadata": {},
   "source": [
    "### Example #1: Remove Trend & Seasonality with Statsmodels"
   ]
  },
  {
   "cell_type": "markdown",
   "metadata": {},
   "source": [
    "Let's run the ADF test before transforming."
   ]
  },
  {
   "cell_type": "code",
   "execution_count": null,
   "metadata": {},
   "outputs": [],
   "source": [
    "adf_b4, pvalue_b4, usedlag_, nobs_, critical_values_, icbest_ = adfuller(trend_seasonality)\n",
    "print(\"ADF: \", adf_b4)\n",
    "print(\"p-value: \", pvalue_b4)"
   ]
  },
  {
   "cell_type": "markdown",
   "metadata": {},
   "source": [
    "Nonstationary as we expect. Time for a transformation."
   ]
  },
  {
   "cell_type": "code",
   "execution_count": null,
   "metadata": {
    "collapsed": true
   },
   "outputs": [],
   "source": [
    "from statsmodels.tsa.seasonal import seasonal_decompose\n",
    "\n",
    "ss_decomposition = seasonal_decompose(x=trend_seasonality, model='additive', freq=6)\n",
    "est_trend = ss_decomposition.trend\n",
    "est_seasonal = ss_decomposition.seasonal\n",
    "est_residual = ss_decomposition.resid"
   ]
  },
  {
   "cell_type": "code",
   "execution_count": null,
   "metadata": {},
   "outputs": [],
   "source": [
    "run_sequence_plot(time, est_trend, title=\"Trend\", ylabel=\"series\")\n",
    "plt.show()\n",
    "run_sequence_plot(time, est_seasonal, title=\"Seasonality\", ylabel=\"series\")\n",
    "plt.show()\n",
    "run_sequence_plot(time, est_residual, title=\"Residuals\", ylabel=\"series\")"
   ]
  },
  {
   "cell_type": "markdown",
   "metadata": {},
   "source": [
    "Let's take a quick peek at the residual values."
   ]
  },
  {
   "cell_type": "code",
   "execution_count": null,
   "metadata": {},
   "outputs": [],
   "source": [
    "print(est_residual)"
   ]
  },
  {
   "cell_type": "markdown",
   "metadata": {},
   "source": [
    "We'll have to remove the first and last three values to run an ADF test since those values are all **nan**. Here's how to do that and run the test all in one call."
   ]
  },
  {
   "cell_type": "code",
   "execution_count": null,
   "metadata": {},
   "outputs": [],
   "source": [
    "adf_after, pvalue_after, usedlag_, nobs_, critical_values_, icbest_ = adfuller(est_residual[3:-3])\n",
    "print(\"ADF: \", adf_after)\n",
    "print(\"p-value: \", pvalue_after)"
   ]
  },
  {
   "cell_type": "markdown",
   "metadata": {},
   "source": [
    "Now it's stationary!"
   ]
  },
  {
   "cell_type": "markdown",
   "metadata": {},
   "source": [
    "### Example 2: Remove Changing Variance w/Log Transformation\n",
    "This trick works well when you're dealing with heteroscedastic data. Let's plot that again to remind you what that looks like."
   ]
  },
  {
   "cell_type": "code",
   "execution_count": null,
   "metadata": {},
   "outputs": [],
   "source": [
    "run_sequence_plot(time, heteroscedasticity,\n",
    "                  title=\"Nonstationary Data w/Heteroscedasticity\")"
   ]
  },
  {
   "cell_type": "markdown",
   "metadata": {},
   "source": [
    "Notice how the plot shows two clearly different variance levels, one with small variance at the left and another with larger variance to the right?\n",
    "\n",
    "Let's run the ADF test."
   ]
  },
  {
   "cell_type": "code",
   "execution_count": null,
   "metadata": {},
   "outputs": [],
   "source": [
    "adf_b4, pvalue_b4, usedlag_, nobs_, critical_values_, icbest_ = adfuller(heteroscedasticity)\n",
    "print(\"ADF: \", adf_b4)\n",
    "print(\"p-value: \", pvalue_b4)\n",
    "print(\"Critical Values: \", critical_values_)"
   ]
  },
  {
   "cell_type": "markdown",
   "metadata": {},
   "source": [
    "Hmm, ADF is saying we reject the null that this series is nonstationary. However, the plot clearly shows that the variance is not constant with time. \n",
    "\n",
    "This is an important lesson: Plotting is a useful tool because some statistical tests like ADF have low power, meaning they either need lots and lots of data or they may incorrecly reject the null hypothesis when in fact the null is true. \n",
    "\n",
    "#### Log Transformation\n",
    "\n",
    "We can apply a log transformation. However, we cannot take the log of nonpositive values. The way we can get around this is by adding a constant to all values to make them positive. \n",
    "\n",
    "Let's take a look. "
   ]
  },
  {
   "cell_type": "code",
   "execution_count": null,
   "metadata": {
    "collapsed": true
   },
   "outputs": [],
   "source": [
    "new_hetero = heteroscedasticity + 38"
   ]
  },
  {
   "cell_type": "code",
   "execution_count": null,
   "metadata": {},
   "outputs": [],
   "source": [
    "run_sequence_plot(time, new_hetero,\n",
    "                  title=\"Nonstationary Data w/Heteroscedasticity\")"
   ]
  },
  {
   "cell_type": "markdown",
   "metadata": {},
   "source": [
    "Now every value is positive and we can apply the log transformation."
   ]
  },
  {
   "cell_type": "code",
   "execution_count": null,
   "metadata": {
    "collapsed": true
   },
   "outputs": [],
   "source": [
    "log_new_hetero = np.log(new_hetero)"
   ]
  },
  {
   "cell_type": "code",
   "execution_count": null,
   "metadata": {},
   "outputs": [],
   "source": [
    "run_sequence_plot(time, log_new_hetero,\n",
    "                  title=\"Nonstationary Data w/Heteroscedasticity\")"
   ]
  },
  {
   "cell_type": "markdown",
   "metadata": {},
   "source": [
    "Notice how the variance has collapsed to a large extent. \n",
    "\n",
    "Let's view the ADF test statistics again."
   ]
  },
  {
   "cell_type": "code",
   "execution_count": null,
   "metadata": {},
   "outputs": [],
   "source": [
    "adf_after, pvalue_after, usedlag_, nobs_, critical_values_, icbest_ = adfuller(log_new_hetero)\n",
    "print(\"ADF: \", adf_after)\n",
    "print(\"p-value: \", pvalue_after)"
   ]
  },
  {
   "cell_type": "markdown",
   "metadata": {},
   "source": [
    "The big takeaway here is that the test confirms a greater confidence in the log transformed time series being stationary."
   ]
  },
  {
   "cell_type": "markdown",
   "metadata": {},
   "source": [
    "### Example 3: Removing Autocorrelation with Differencing\n",
    "Remember the *lagged* data? Turns out we can transform this series into stationary by applying what's called a differece. It's a fancy term that simply means you're going to subtract a past value from a current value. An example will make this clear.\n",
    "\n",
    "We know *lagged* was created with a lag of one. So let's subtract $O_{t-1}$ from $O_{t}$ where $O_{t}$ is the observed data at time *t* and $O_{t-1}$ is the observed data at *t-1*."
   ]
  },
  {
   "cell_type": "code",
   "execution_count": null,
   "metadata": {
    "collapsed": true
   },
   "outputs": [],
   "source": [
    "difference = lagged[:-1] - lagged[1:]"
   ]
  },
  {
   "cell_type": "code",
   "execution_count": null,
   "metadata": {},
   "outputs": [],
   "source": [
    "run_sequence_plot(time[:-1], difference,\n",
    "                  title=\"Stationary Data After Differencing\")"
   ]
  },
  {
   "cell_type": "markdown",
   "metadata": {},
   "source": [
    "Let's run ADF one more time, this time on the differenced data."
   ]
  },
  {
   "cell_type": "code",
   "execution_count": null,
   "metadata": {},
   "outputs": [],
   "source": [
    "adf_after, pvalue_after, usedlag_, nobs_, critical_values_, icbest_ = adfuller(difference)\n",
    "print(\"ADF: \", adf_after)\n",
    "print(\"p-value: \", pvalue_after)"
   ]
  },
  {
   "cell_type": "markdown",
   "metadata": {},
   "source": [
    "It's stationary!\n",
    "\n",
    "A key question that should be on the top of your mind right now is how do you know if your data has autocorrelation and how do you decide what lag to use when differencing? Have no fear. We will discuss all the gory details in the the next lesson."
   ]
  },
  {
   "cell_type": "markdown",
   "metadata": {},
   "source": [
    "---"
   ]
  },
  {
   "cell_type": "markdown",
   "metadata": {},
   "source": [
    "### Exercise #3\n",
    "If either or both datasets from exercises one and two are nonstationary, apply the transformations you learned in this section to make them so. Then apply the methods you learned in Section 2 to ensure stationarity."
   ]
  },
  {
   "cell_type": "code",
   "execution_count": null,
   "metadata": {
    "collapsed": true
   },
   "outputs": [],
   "source": []
  },
  {
   "cell_type": "markdown",
   "metadata": {},
   "source": [
    "---"
   ]
  },
  {
   "cell_type": "markdown",
   "metadata": {},
   "source": [
    "---"
   ]
  },
  {
   "cell_type": "markdown",
   "metadata": {},
   "source": [
    "# Summary\n",
    "\n",
    "In this assignment you should have learned: \n",
    "1. What it means for time series to be stationary.\n",
    "2. Common ways to identify stationarity.\n",
    "3. Useful nonstationary-to-stationary transformations.\n",
    "\n",
    "Congratulations, that concludes this lesson."
   ]
  }
 ],
 "metadata": {
  "kernelspec": {
   "display_name": "Py3 OpenCV3 (Forge)",
   "language": "python",
   "name": "opencv-forge"
  },
  "language_info": {
   "codemirror_mode": {
    "name": "ipython",
    "version": 2
   },
   "file_extension": ".py",
   "mimetype": "text/x-python",
   "name": "python",
   "nbconvert_exporter": "python",
   "pygments_lexer": "ipython2",
   "version": "2.7.15"
  }
 },
 "nbformat": 4,
 "nbformat_minor": 2
}
