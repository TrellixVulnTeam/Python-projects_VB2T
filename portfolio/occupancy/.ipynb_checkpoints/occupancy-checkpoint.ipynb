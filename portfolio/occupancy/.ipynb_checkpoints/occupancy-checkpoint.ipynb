{
 "cells": [
  {
   "cell_type": "code",
   "execution_count": null,
   "metadata": {},
   "outputs": [],
   "source": [
    "#objective: Detect Occupancy through Light, Temperature, Humidity and CO2 sensors"
   ]
  },
  {
   "cell_type": "code",
   "execution_count": 1,
   "metadata": {},
   "outputs": [],
   "source": [
    "#load libraries\n",
    "import pandas as pd\n",
    "import numpy as np\n",
    "import sklearn\n",
    "import seaborn as sns\n",
    "from sklearn import preprocessing\n",
    "from sklearn.metrics import accuracy_score\n",
    "from sklearn.metrics import roc_curve, auc, recall_score, precision_score, f1_score, confusion_matrix, recall_score\n",
    "from sklearn.model_selection import train_test_split\n",
    "import matplotlib.pyplot as plt\n",
    "%matplotlib inline\n",
    "from sklearn import model_selection\n",
    "from sklearn.tree import DecisionTreeClassifier\n",
    "from sklearn.neighbors import KNeighborsClassifier\n",
    "from sklearn.svm import SVC\n",
    "from sklearn.ensemble import RandomForestClassifier"
   ]
  },
  {
   "cell_type": "code",
   "execution_count": 5,
   "metadata": {},
   "outputs": [],
   "source": [
    "df1 = pd.read_csv('../datasets/datatraining.csv', sep=\",\")\n",
    "df2 = pd.read_csv('../datasets/datatest2.csv', sep=\",\")\n",
    "#df1.columns = ['date','temp','humidity','light','co2','humidity_ratio','class']\n",
    "#df2.columns = df1.columns"
   ]
  },
  {
   "cell_type": "code",
   "execution_count": 6,
   "metadata": {},
   "outputs": [
    {
     "data": {
      "text/html": [
       "<div>\n",
       "<style scoped>\n",
       "    .dataframe tbody tr th:only-of-type {\n",
       "        vertical-align: middle;\n",
       "    }\n",
       "\n",
       "    .dataframe tbody tr th {\n",
       "        vertical-align: top;\n",
       "    }\n",
       "\n",
       "    .dataframe thead th {\n",
       "        text-align: right;\n",
       "    }\n",
       "</style>\n",
       "<table border=\"1\" class=\"dataframe\">\n",
       "  <thead>\n",
       "    <tr style=\"text-align: right;\">\n",
       "      <th></th>\n",
       "      <th>date</th>\n",
       "      <th>Temperature</th>\n",
       "      <th>Humidity</th>\n",
       "      <th>Light</th>\n",
       "      <th>CO2</th>\n",
       "      <th>HumidityRatio</th>\n",
       "      <th>Occupancy</th>\n",
       "    </tr>\n",
       "  </thead>\n",
       "  <tbody>\n",
       "    <tr>\n",
       "      <th>0</th>\n",
       "      <td>2/4/2015 17:51</td>\n",
       "      <td>23.18</td>\n",
       "      <td>27.2720</td>\n",
       "      <td>426.0</td>\n",
       "      <td>721.25</td>\n",
       "      <td>0.004793</td>\n",
       "      <td>1</td>\n",
       "    </tr>\n",
       "    <tr>\n",
       "      <th>1</th>\n",
       "      <td>2/4/2015 17:51</td>\n",
       "      <td>23.15</td>\n",
       "      <td>27.2675</td>\n",
       "      <td>429.5</td>\n",
       "      <td>714.00</td>\n",
       "      <td>0.004783</td>\n",
       "      <td>1</td>\n",
       "    </tr>\n",
       "    <tr>\n",
       "      <th>2</th>\n",
       "      <td>2/4/2015 17:53</td>\n",
       "      <td>23.15</td>\n",
       "      <td>27.2450</td>\n",
       "      <td>426.0</td>\n",
       "      <td>713.50</td>\n",
       "      <td>0.004779</td>\n",
       "      <td>1</td>\n",
       "    </tr>\n",
       "    <tr>\n",
       "      <th>3</th>\n",
       "      <td>2/4/2015 17:54</td>\n",
       "      <td>23.15</td>\n",
       "      <td>27.2000</td>\n",
       "      <td>426.0</td>\n",
       "      <td>708.25</td>\n",
       "      <td>0.004772</td>\n",
       "      <td>1</td>\n",
       "    </tr>\n",
       "    <tr>\n",
       "      <th>4</th>\n",
       "      <td>2/4/2015 17:55</td>\n",
       "      <td>23.10</td>\n",
       "      <td>27.2000</td>\n",
       "      <td>426.0</td>\n",
       "      <td>704.50</td>\n",
       "      <td>0.004757</td>\n",
       "      <td>1</td>\n",
       "    </tr>\n",
       "  </tbody>\n",
       "</table>\n",
       "</div>"
      ],
      "text/plain": [
       "             date  Temperature  Humidity  Light     CO2  HumidityRatio  \\\n",
       "0  2/4/2015 17:51        23.18   27.2720  426.0  721.25       0.004793   \n",
       "1  2/4/2015 17:51        23.15   27.2675  429.5  714.00       0.004783   \n",
       "2  2/4/2015 17:53        23.15   27.2450  426.0  713.50       0.004779   \n",
       "3  2/4/2015 17:54        23.15   27.2000  426.0  708.25       0.004772   \n",
       "4  2/4/2015 17:55        23.10   27.2000  426.0  704.50       0.004757   \n",
       "\n",
       "   Occupancy  \n",
       "0          1  \n",
       "1          1  \n",
       "2          1  \n",
       "3          1  \n",
       "4          1  "
      ]
     },
     "execution_count": 6,
     "metadata": {},
     "output_type": "execute_result"
    }
   ],
   "source": [
    "df1.head()"
   ]
  },
  {
   "cell_type": "code",
   "execution_count": 38,
   "metadata": {},
   "outputs": [],
   "source": [
    "from datetime import datetime\n",
    "\n",
    "minute = lambda x: datetime.strptime(x, \"%m/%d/%Y %H:%M\").minute\n",
    "hour = lambda x: datetime.strptime(x, \"%m/%d/%Y %H:%M\").hour"
   ]
  },
  {
   "cell_type": "code",
   "execution_count": 39,
   "metadata": {},
   "outputs": [],
   "source": [
    "df1['minute'] = df1['date'].map(minute)\n",
    "df1['hour'] = df1['date'].map(hour)"
   ]
  },
  {
   "cell_type": "code",
   "execution_count": 40,
   "metadata": {},
   "outputs": [],
   "source": [
    "df2['minute'] = df2['date'].map(minute)\n",
    "df2['hour'] = df2['date'].map(hour)"
   ]
  },
  {
   "cell_type": "code",
   "execution_count": 31,
   "metadata": {},
   "outputs": [
    {
     "data": {
      "text/plain": [
       "0       2/4/2015 17:51\n",
       "1       2/4/2015 17:51\n",
       "2       2/4/2015 17:53\n",
       "3       2/4/2015 17:54\n",
       "4       2/4/2015 17:55\n",
       "5       2/4/2015 17:55\n",
       "6       2/4/2015 17:57\n",
       "7       2/4/2015 17:57\n",
       "8       2/4/2015 17:58\n",
       "9       2/4/2015 18:00\n",
       "10      2/4/2015 18:01\n",
       "11      2/4/2015 18:02\n",
       "12      2/4/2015 18:03\n",
       "13      2/4/2015 18:04\n",
       "14      2/4/2015 18:04\n",
       "15      2/4/2015 18:06\n",
       "16      2/4/2015 18:07\n",
       "17      2/4/2015 18:08\n",
       "18      2/4/2015 18:08\n",
       "19      2/4/2015 18:10\n",
       "20      2/4/2015 18:10\n",
       "21      2/4/2015 18:11\n",
       "22      2/4/2015 18:13\n",
       "23      2/4/2015 18:14\n",
       "24      2/4/2015 18:15\n",
       "25      2/4/2015 18:16\n",
       "26      2/4/2015 18:16\n",
       "27      2/4/2015 18:17\n",
       "28      2/4/2015 18:19\n",
       "29      2/4/2015 18:20\n",
       "             ...      \n",
       "8113    2/10/2015 9:04\n",
       "8114    2/10/2015 9:04\n",
       "8115    2/10/2015 9:06\n",
       "8116    2/10/2015 9:07\n",
       "8117    2/10/2015 9:08\n",
       "8118    2/10/2015 9:08\n",
       "8119    2/10/2015 9:10\n",
       "8120    2/10/2015 9:10\n",
       "8121    2/10/2015 9:11\n",
       "8122    2/10/2015 9:13\n",
       "8123    2/10/2015 9:14\n",
       "8124    2/10/2015 9:15\n",
       "8125    2/10/2015 9:16\n",
       "8126    2/10/2015 9:16\n",
       "8127    2/10/2015 9:17\n",
       "8128    2/10/2015 9:19\n",
       "8129    2/10/2015 9:20\n",
       "8130    2/10/2015 9:21\n",
       "8131    2/10/2015 9:22\n",
       "8132    2/10/2015 9:23\n",
       "8133    2/10/2015 9:23\n",
       "8134    2/10/2015 9:24\n",
       "8135    2/10/2015 9:26\n",
       "8136    2/10/2015 9:27\n",
       "8137    2/10/2015 9:28\n",
       "8138    2/10/2015 9:29\n",
       "8139    2/10/2015 9:29\n",
       "8140    2/10/2015 9:30\n",
       "8141    2/10/2015 9:32\n",
       "8142    2/10/2015 9:33\n",
       "Name: date, Length: 8143, dtype: object"
      ]
     },
     "execution_count": 31,
     "metadata": {},
     "output_type": "execute_result"
    }
   ],
   "source": []
  },
  {
   "cell_type": "code",
   "execution_count": null,
   "metadata": {},
   "outputs": [],
   "source": []
  }
 ],
 "metadata": {
  "kernelspec": {
   "display_name": "Python 3",
   "language": "python",
   "name": "python3"
  },
  "language_info": {
   "codemirror_mode": {
    "name": "ipython",
    "version": 3
   },
   "file_extension": ".py",
   "mimetype": "text/x-python",
   "name": "python",
   "nbconvert_exporter": "python",
   "pygments_lexer": "ipython3",
   "version": "3.7.1"
  }
 },
 "nbformat": 4,
 "nbformat_minor": 2
}
