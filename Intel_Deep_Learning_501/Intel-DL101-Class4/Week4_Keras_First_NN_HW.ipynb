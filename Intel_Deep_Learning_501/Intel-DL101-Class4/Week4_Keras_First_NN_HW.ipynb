{
 "cells": [
  {
   "cell_type": "markdown",
   "metadata": {},
   "source": [
    "## Using Keras to Build and Train Neural Networks"
   ]
  },
  {
   "cell_type": "markdown",
   "metadata": {},
   "source": [
    "In this exercise we will use a neural network to predict diabetes using the Pima Diabetes Dataset.  We will start by training a Random Forest to get a performance baseline.  Then we will use the Keras package to quickly build and train a neural network and compare the performance.  We will see how different network structures affect the performance, training time, and level of overfitting (or underfitting).\n",
    "\n",
    "## UCI Pima Diabetes Dataset\n",
    "\n",
    "* UCI ML Repositiory (http://archive.ics.uci.edu/ml/datasets/Pima+Indians+Diabetes)\n",
    "\n",
    "\n",
    "### Attributes: (all numeric-valued)\n",
    "   1. Number of times pregnant\n",
    "   2. Plasma glucose concentration a 2 hours in an oral glucose tolerance test\n",
    "   3. Diastolic blood pressure (mm Hg)\n",
    "   4. Triceps skin fold thickness (mm)\n",
    "   5. 2-Hour serum insulin (mu U/ml)\n",
    "   6. Body mass index (weight in kg/(height in m)^2)\n",
    "   7. Diabetes pedigree function\n",
    "   8. Age (years)\n",
    "   9. Class variable (0 or 1)"
   ]
  },
  {
   "cell_type": "markdown",
   "metadata": {},
   "source": [
    "The UCI Pima Diabetes Dataset which has 8 numerical predictors and a binary outcome."
   ]
  },
  {
   "cell_type": "code",
   "execution_count": 1,
   "metadata": {},
   "outputs": [],
   "source": [
    "#Preliminaries\n",
    "\n",
    "from __future__ import absolute_import, division, print_function  # Python 2/3 compatibility\n",
    "\n",
    "import warnings\n",
    "warnings.filterwarnings(\"ignore\")\n",
    "\n",
    "\n",
    "import numpy as np\n",
    "import pandas as pd\n",
    "import matplotlib.pyplot as plt\n",
    "\n",
    "from sklearn.model_selection import train_test_split\n",
    "from sklearn.preprocessing import StandardScaler\n",
    "from sklearn.metrics import confusion_matrix, precision_recall_curve, roc_auc_score, roc_curve, accuracy_score\n",
    "from sklearn.ensemble import RandomForestClassifier\n",
    "\n",
    "import seaborn as sns\n",
    "\n",
    "%matplotlib inline"
   ]
  },
  {
   "cell_type": "code",
   "execution_count": 2,
   "metadata": {},
   "outputs": [
    {
     "name": "stderr",
     "output_type": "stream",
     "text": [
      "Using TensorFlow backend.\n"
     ]
    }
   ],
   "source": [
    "## Import Keras objects for Deep Learning\n",
    "\n",
    "from keras.models  import Sequential, K\n",
    "from keras.layers import Input, Dense, Flatten, Dropout, BatchNormalization\n",
    "from keras.optimizers import Adam, SGD, RMSprop"
   ]
  },
  {
   "cell_type": "code",
   "execution_count": 10,
   "metadata": {},
   "outputs": [],
   "source": [
    "## Load in the data set (Internet Access needed)\n",
    "\n",
    "#url not working\n",
    "#url = \"http://archive.ics.uci.edu/ml/machine-learning-databases/pima-indians-diabetes/pima-indians-diabetes.data\"\n",
    "names = [\"times_pregnant\", \"glucose_tolerance_test\", \"blood_pressure\", \"skin_thickness\", \"insulin\", \n",
    "         \"bmi\", \"pedigree_function\", \"age\", \"has_diabetes\"]\n",
    "#diabetes_df = pd.read_csv(url, names=names)\n",
    "\n",
    "diabetes_df = pd.read_csv(\"pima-indians-diabetes.csv\",names=names)"
   ]
  },
  {
   "cell_type": "code",
   "execution_count": 12,
   "metadata": {},
   "outputs": [
    {
     "name": "stdout",
     "output_type": "stream",
     "text": [
      "(768, 9)\n"
     ]
    },
    {
     "data": {
      "text/html": [
       "<div>\n",
       "<style scoped>\n",
       "    .dataframe tbody tr th:only-of-type {\n",
       "        vertical-align: middle;\n",
       "    }\n",
       "\n",
       "    .dataframe tbody tr th {\n",
       "        vertical-align: top;\n",
       "    }\n",
       "\n",
       "    .dataframe thead th {\n",
       "        text-align: right;\n",
       "    }\n",
       "</style>\n",
       "<table border=\"1\" class=\"dataframe\">\n",
       "  <thead>\n",
       "    <tr style=\"text-align: right;\">\n",
       "      <th></th>\n",
       "      <th>times_pregnant</th>\n",
       "      <th>glucose_tolerance_test</th>\n",
       "      <th>blood_pressure</th>\n",
       "      <th>skin_thickness</th>\n",
       "      <th>insulin</th>\n",
       "      <th>bmi</th>\n",
       "      <th>pedigree_function</th>\n",
       "      <th>age</th>\n",
       "      <th>has_diabetes</th>\n",
       "    </tr>\n",
       "  </thead>\n",
       "  <tbody>\n",
       "    <tr>\n",
       "      <th>188</th>\n",
       "      <td>8</td>\n",
       "      <td>109</td>\n",
       "      <td>76</td>\n",
       "      <td>39</td>\n",
       "      <td>114</td>\n",
       "      <td>27.9</td>\n",
       "      <td>0.640</td>\n",
       "      <td>31</td>\n",
       "      <td>1</td>\n",
       "    </tr>\n",
       "    <tr>\n",
       "      <th>586</th>\n",
       "      <td>8</td>\n",
       "      <td>143</td>\n",
       "      <td>66</td>\n",
       "      <td>0</td>\n",
       "      <td>0</td>\n",
       "      <td>34.9</td>\n",
       "      <td>0.129</td>\n",
       "      <td>41</td>\n",
       "      <td>1</td>\n",
       "    </tr>\n",
       "    <tr>\n",
       "      <th>683</th>\n",
       "      <td>4</td>\n",
       "      <td>125</td>\n",
       "      <td>80</td>\n",
       "      <td>0</td>\n",
       "      <td>0</td>\n",
       "      <td>32.3</td>\n",
       "      <td>0.536</td>\n",
       "      <td>27</td>\n",
       "      <td>1</td>\n",
       "    </tr>\n",
       "    <tr>\n",
       "      <th>249</th>\n",
       "      <td>1</td>\n",
       "      <td>111</td>\n",
       "      <td>86</td>\n",
       "      <td>19</td>\n",
       "      <td>0</td>\n",
       "      <td>30.1</td>\n",
       "      <td>0.143</td>\n",
       "      <td>23</td>\n",
       "      <td>0</td>\n",
       "    </tr>\n",
       "    <tr>\n",
       "      <th>693</th>\n",
       "      <td>7</td>\n",
       "      <td>129</td>\n",
       "      <td>68</td>\n",
       "      <td>49</td>\n",
       "      <td>125</td>\n",
       "      <td>38.5</td>\n",
       "      <td>0.439</td>\n",
       "      <td>43</td>\n",
       "      <td>1</td>\n",
       "    </tr>\n",
       "  </tbody>\n",
       "</table>\n",
       "</div>"
      ],
      "text/plain": [
       "     times_pregnant  glucose_tolerance_test  blood_pressure  skin_thickness  \\\n",
       "188               8                     109              76              39   \n",
       "586               8                     143              66               0   \n",
       "683               4                     125              80               0   \n",
       "249               1                     111              86              19   \n",
       "693               7                     129              68              49   \n",
       "\n",
       "     insulin   bmi  pedigree_function  age  has_diabetes  \n",
       "188      114  27.9              0.640   31             1  \n",
       "586        0  34.9              0.129   41             1  \n",
       "683        0  32.3              0.536   27             1  \n",
       "249        0  30.1              0.143   23             0  \n",
       "693      125  38.5              0.439   43             1  "
      ]
     },
     "execution_count": 12,
     "metadata": {},
     "output_type": "execute_result"
    }
   ],
   "source": [
    "# Take a peek at the data -- if there are lots of \"NaN\" you may have internet connectivity issues\n",
    "print(diabetes_df.shape)\n",
    "diabetes_df.sample(5)"
   ]
  },
  {
   "cell_type": "code",
   "execution_count": 13,
   "metadata": {},
   "outputs": [],
   "source": [
    "X = diabetes_df.iloc[:, :-1].values\n",
    "y = diabetes_df[\"has_diabetes\"].values"
   ]
  },
  {
   "cell_type": "code",
   "execution_count": 14,
   "metadata": {},
   "outputs": [],
   "source": [
    "# Split the data to Train, and Test (75%, 25%)\n",
    "\n",
    "X_train, X_test, y_train, y_test = train_test_split(X, y, test_size=0.25, random_state=11111)"
   ]
  },
  {
   "cell_type": "code",
   "execution_count": 15,
   "metadata": {},
   "outputs": [
    {
     "data": {
      "text/plain": [
       "(0.3489583333333333, 0.6510416666666666)"
      ]
     },
     "execution_count": 15,
     "metadata": {},
     "output_type": "execute_result"
    }
   ],
   "source": [
    "np.mean(y), np.mean(1-y)"
   ]
  },
  {
   "cell_type": "markdown",
   "metadata": {},
   "source": [
    "Above, we see that about 35% of the patients in this dataset have diabetes, while 65% do not.  This means we can get an accuracy of 65% without any model - just declare that no one has diabetes. We will calculate the ROC-AUC score to evaluate performance of our model, and also look at the accuracy as well to see if we improved upon the 65% accuracy.\n",
    "## Exercise: Get a baseline performance using Random Forest\n",
    "To begin, and get a baseline for classifier performance:\n",
    "1. Train a Random Forest model with 200 trees on the training data.\n",
    "2. Calculate the accuracy and roc_auc_score of the predictions."
   ]
  },
  {
   "cell_type": "code",
   "execution_count": 16,
   "metadata": {},
   "outputs": [
    {
     "data": {
      "text/plain": [
       "RandomForestClassifier(bootstrap=True, class_weight=None, criterion='gini',\n",
       "            max_depth=None, max_features='auto', max_leaf_nodes=None,\n",
       "            min_impurity_decrease=0.0, min_impurity_split=None,\n",
       "            min_samples_leaf=1, min_samples_split=2,\n",
       "            min_weight_fraction_leaf=0.0, n_estimators=200, n_jobs=None,\n",
       "            oob_score=False, random_state=None, verbose=0,\n",
       "            warm_start=False)"
      ]
     },
     "execution_count": 16,
     "metadata": {},
     "output_type": "execute_result"
    }
   ],
   "source": [
    "## Train the RF Model\n",
    "rf_model = RandomForestClassifier(n_estimators=200)\n",
    "rf_model.fit(X_train, y_train)"
   ]
  },
  {
   "cell_type": "code",
   "execution_count": 17,
   "metadata": {},
   "outputs": [
    {
     "name": "stdout",
     "output_type": "stream",
     "text": [
      "accuracy is 0.771\n",
      "roc-auc is 0.833\n"
     ]
    }
   ],
   "source": [
    "# Make predictions on the test set - both \"hard\" predictions, and the scores (percent of trees voting yes)\n",
    "y_pred_class_rf = rf_model.predict(X_test)\n",
    "y_pred_prob_rf = rf_model.predict_proba(X_test)\n",
    "\n",
    "\n",
    "print('accuracy is {:.3f}'.format(accuracy_score(y_test,y_pred_class_rf)))\n",
    "print('roc-auc is {:.3f}'.format(roc_auc_score(y_test,y_pred_prob_rf[:,1])))"
   ]
  },
  {
   "cell_type": "code",
   "execution_count": 18,
   "metadata": {},
   "outputs": [
    {
     "data": {
      "image/png": "[encoded data removed]",
      "text/plain": [
       "<Figure size 576x576 with 1 Axes>"
      ]
     },
     "metadata": {},
     "output_type": "display_data"
    }
   ],
   "source": [
    "def plot_roc(y_test, y_pred, model_name):\n",
    "    fpr, tpr, thr = roc_curve(y_test, y_pred)\n",
    "    fig, ax = plt.subplots(figsize=(8, 8))\n",
    "    ax.plot(fpr, tpr, 'k-')\n",
    "    ax.plot([0, 1], [0, 1], 'k--', linewidth=.5)  # roc curve for random model\n",
    "    ax.grid(True)\n",
    "    ax.set(title='ROC Curve for {} on PIMA diabetes problem'.format(model_name),\n",
    "           xlim=[-0.01, 1.01], ylim=[-0.01, 1.01])\n",
    "\n",
    "\n",
    "plot_roc(y_test, y_pred_prob_rf[:, 1], 'RF')"
   ]
  },
  {
   "cell_type": "markdown",
   "metadata": {},
   "source": [
    "## Build a Single Hidden Layer Neural Network\n",
    "\n",
    "We will use the Sequential model to quickly build a neural network.  Our first network will be a single layer network.  We have 8 variables, so we set the input shape to 8.  Let's start by having a single hidden layer with 12 nodes."
   ]
  },
  {
   "cell_type": "code",
   "execution_count": 19,
   "metadata": {},
   "outputs": [],
   "source": [
    "## First let's normalize the data\n",
    "## This aids the training of neural nets by providing numerical stability\n",
    "## Random Forest does not need this as it finds a split only, as opposed to performing matrix multiplications\n",
    "\n",
    "\n",
    "normalizer = StandardScaler()\n",
    "X_train_norm = normalizer.fit_transform(X_train)\n",
    "X_test_norm = normalizer.transform(X_test)"
   ]
  },
  {
   "cell_type": "code",
   "execution_count": 20,
   "metadata": {},
   "outputs": [],
   "source": [
    "# Define the Model \n",
    "# Input size is 8-dimensional\n",
    "# 1 hidden layer, 12 hidden nodes, sigmoid activation\n",
    "# Final layer has just one node with a sigmoid activation (standard for binary classification)\n",
    "\n",
    "model_1 = Sequential([\n",
    "    Dense(12, input_shape=(8,), activation=\"relu\"),\n",
    "    Dense(1, activation=\"sigmoid\")\n",
    "])"
   ]
  },
  {
   "cell_type": "code",
   "execution_count": 21,
   "metadata": {},
   "outputs": [
    {
     "name": "stdout",
     "output_type": "stream",
     "text": [
      "_________________________________________________________________\n",
      "Layer (type)                 Output Shape              Param #   \n",
      "=================================================================\n",
      "dense_1 (Dense)              (None, 12)                108       \n",
      "_________________________________________________________________\n",
      "dense_2 (Dense)              (None, 1)                 13        \n",
      "=================================================================\n",
      "Total params: 121\n",
      "Trainable params: 121\n",
      "Non-trainable params: 0\n",
      "_________________________________________________________________\n"
     ]
    }
   ],
   "source": [
    "#  This is a nice tool to view the model you have created and count the parameters\n",
    "\n",
    "model_1.summary()"
   ]
  },
  {
   "cell_type": "markdown",
   "metadata": {},
   "source": [
    "### Comprehension question:\n",
    "Why do we have 121 parameters?  Does that make sense?\n",
    "\n",
    "\n",
    "Let's fit our model for 200 epochs."
   ]
  },
  {
   "cell_type": "code",
   "execution_count": 22,
   "metadata": {},
   "outputs": [
    {
     "name": "stdout",
     "output_type": "stream",
     "text": [
      "Train on 576 samples, validate on 192 samples\n",
      "Epoch 1/200\n",
      "576/576 [==============================] - 0s 702us/step - loss: 1.0712 - acc: 0.3576 - val_loss: 1.1019 - val_acc: 0.3750\n",
      "Epoch 2/200\n",
      "576/576 [==============================] - 0s 91us/step - loss: 1.0335 - acc: 0.3594 - val_loss: 1.0630 - val_acc: 0.3750\n",
      "Epoch 3/200\n",
      "576/576 [==============================] - 0s 84us/step - loss: 0.9988 - acc: 0.3663 - val_loss: 1.0272 - val_acc: 0.3750\n",
      "Epoch 4/200\n",
      "576/576 [==============================] - 0s 71us/step - loss: 0.9668 - acc: 0.3646 - val_loss: 0.9941 - val_acc: 0.3750\n",
      "Epoch 5/200\n",
      "576/576 [==============================] - 0s 79us/step - loss: 0.9373 - acc: 0.3698 - val_loss: 0.9637 - val_acc: 0.3802\n",
      "Epoch 6/200\n",
      "576/576 [==============================] - 0s 76us/step - loss: 0.9102 - acc: 0.3802 - val_loss: 0.9357 - val_acc: 0.3854\n",
      "Epoch 7/200\n",
      "576/576 [==============================] - 0s 71us/step - loss: 0.8853 - acc: 0.3889 - val_loss: 0.9099 - val_acc: 0.3906\n",
      "Epoch 8/200\n",
      "576/576 [==============================] - 0s 88us/step - loss: 0.8624 - acc: 0.3906 - val_loss: 0.8861 - val_acc: 0.3906\n",
      "Epoch 9/200\n",
      "576/576 [==============================] - 0s 81us/step - loss: 0.8414 - acc: 0.3941 - val_loss: 0.8642 - val_acc: 0.4062\n",
      "Epoch 10/200\n",
      "576/576 [==============================] - 0s 82us/step - loss: 0.8220 - acc: 0.4028 - val_loss: 0.8440 - val_acc: 0.4115\n",
      "Epoch 11/200\n",
      "576/576 [==============================] - 0s 85us/step - loss: 0.8041 - acc: 0.4097 - val_loss: 0.8253 - val_acc: 0.4115\n",
      "Epoch 12/200\n",
      "576/576 [==============================] - 0s 71us/step - loss: 0.7877 - acc: 0.4219 - val_loss: 0.8082 - val_acc: 0.4219\n",
      "Epoch 13/200\n",
      "576/576 [==============================] - 0s 70us/step - loss: 0.7725 - acc: 0.4375 - val_loss: 0.7923 - val_acc: 0.4531\n",
      "Epoch 14/200\n",
      "576/576 [==============================] - 0s 68us/step - loss: 0.7585 - acc: 0.4566 - val_loss: 0.7777 - val_acc: 0.4688\n",
      "Epoch 15/200\n",
      "576/576 [==============================] - 0s 65us/step - loss: 0.7457 - acc: 0.4705 - val_loss: 0.7641 - val_acc: 0.4792\n",
      "Epoch 16/200\n",
      "576/576 [==============================] - 0s 70us/step - loss: 0.7338 - acc: 0.4826 - val_loss: 0.7516 - val_acc: 0.4896\n",
      "Epoch 17/200\n",
      "576/576 [==============================] - 0s 69us/step - loss: 0.7228 - acc: 0.5174 - val_loss: 0.7400 - val_acc: 0.5000\n",
      "Epoch 18/200\n",
      "576/576 [==============================] - 0s 75us/step - loss: 0.7127 - acc: 0.5434 - val_loss: 0.7293 - val_acc: 0.4948\n",
      "Epoch 19/200\n",
      "576/576 [==============================] - 0s 78us/step - loss: 0.7033 - acc: 0.5625 - val_loss: 0.7193 - val_acc: 0.5052\n",
      "Epoch 20/200\n",
      "576/576 [==============================] - 0s 80us/step - loss: 0.6946 - acc: 0.5799 - val_loss: 0.7101 - val_acc: 0.5417\n",
      "Epoch 21/200\n",
      "576/576 [==============================] - 0s 77us/step - loss: 0.6866 - acc: 0.5885 - val_loss: 0.7016 - val_acc: 0.5417\n",
      "Epoch 22/200\n",
      "576/576 [==============================] - 0s 78us/step - loss: 0.6792 - acc: 0.6076 - val_loss: 0.6936 - val_acc: 0.5312\n",
      "Epoch 23/200\n",
      "576/576 [==============================] - 0s 68us/step - loss: 0.6724 - acc: 0.6181 - val_loss: 0.6862 - val_acc: 0.5417\n",
      "Epoch 24/200\n",
      "576/576 [==============================] - 0s 83us/step - loss: 0.6659 - acc: 0.6250 - val_loss: 0.6794 - val_acc: 0.5469\n",
      "Epoch 25/200\n",
      "576/576 [==============================] - 0s 73us/step - loss: 0.6599 - acc: 0.6372 - val_loss: 0.6729 - val_acc: 0.5521\n",
      "Epoch 26/200\n",
      "576/576 [==============================] - 0s 73us/step - loss: 0.6544 - acc: 0.6545 - val_loss: 0.6669 - val_acc: 0.5625\n",
      "Epoch 27/200\n",
      "576/576 [==============================] - 0s 78us/step - loss: 0.6491 - acc: 0.6597 - val_loss: 0.6613 - val_acc: 0.5625\n",
      "Epoch 28/200\n",
      "576/576 [==============================] - 0s 71us/step - loss: 0.6442 - acc: 0.6719 - val_loss: 0.6560 - val_acc: 0.5521\n",
      "Epoch 29/200\n",
      "576/576 [==============================] - 0s 77us/step - loss: 0.6397 - acc: 0.6771 - val_loss: 0.6511 - val_acc: 0.5677\n",
      "Epoch 30/200\n",
      "576/576 [==============================] - 0s 69us/step - loss: 0.6353 - acc: 0.6788 - val_loss: 0.6465 - val_acc: 0.5729\n",
      "Epoch 31/200\n",
      "576/576 [==============================] - 0s 78us/step - loss: 0.6313 - acc: 0.6858 - val_loss: 0.6421 - val_acc: 0.5885\n",
      "Epoch 32/200\n",
      "576/576 [==============================] - 0s 69us/step - loss: 0.6275 - acc: 0.6910 - val_loss: 0.6380 - val_acc: 0.6042\n",
      "Epoch 33/200\n",
      "576/576 [==============================] - 0s 81us/step - loss: 0.6239 - acc: 0.6962 - val_loss: 0.6341 - val_acc: 0.6198\n",
      "Epoch 34/200\n",
      "576/576 [==============================] - 0s 74us/step - loss: 0.6205 - acc: 0.6997 - val_loss: 0.6304 - val_acc: 0.6354\n",
      "Epoch 35/200\n",
      "576/576 [==============================] - 0s 67us/step - loss: 0.6172 - acc: 0.7031 - val_loss: 0.6269 - val_acc: 0.6458\n",
      "Epoch 36/200\n",
      "576/576 [==============================] - 0s 74us/step - loss: 0.6142 - acc: 0.7118 - val_loss: 0.6236 - val_acc: 0.6510\n",
      "Epoch 37/200\n",
      "576/576 [==============================] - 0s 72us/step - loss: 0.6113 - acc: 0.7135 - val_loss: 0.6205 - val_acc: 0.6510\n",
      "Epoch 38/200\n",
      "576/576 [==============================] - 0s 68us/step - loss: 0.6085 - acc: 0.7118 - val_loss: 0.6175 - val_acc: 0.6615\n",
      "Epoch 39/200\n",
      "576/576 [==============================] - 0s 69us/step - loss: 0.6059 - acc: 0.7222 - val_loss: 0.6147 - val_acc: 0.6719\n",
      "Epoch 40/200\n",
      "576/576 [==============================] - 0s 70us/step - loss: 0.6033 - acc: 0.7274 - val_loss: 0.6120 - val_acc: 0.6719\n",
      "Epoch 41/200\n",
      "576/576 [==============================] - 0s 67us/step - loss: 0.6010 - acc: 0.7274 - val_loss: 0.6094 - val_acc: 0.6823\n",
      "Epoch 42/200\n",
      "576/576 [==============================] - 0s 72us/step - loss: 0.5987 - acc: 0.7396 - val_loss: 0.6070 - val_acc: 0.6823\n",
      "Epoch 43/200\n",
      "576/576 [==============================] - 0s 76us/step - loss: 0.5966 - acc: 0.7431 - val_loss: 0.6047 - val_acc: 0.6875\n",
      "Epoch 44/200\n",
      "576/576 [==============================] - 0s 60us/step - loss: 0.5945 - acc: 0.7396 - val_loss: 0.6025 - val_acc: 0.6875\n",
      "Epoch 45/200\n",
      "576/576 [==============================] - 0s 77us/step - loss: 0.5925 - acc: 0.7344 - val_loss: 0.6003 - val_acc: 0.6875\n",
      "Epoch 46/200\n",
      "576/576 [==============================] - 0s 72us/step - loss: 0.5905 - acc: 0.7361 - val_loss: 0.5983 - val_acc: 0.7031\n",
      "Epoch 47/200\n",
      "576/576 [==============================] - 0s 64us/step - loss: 0.5887 - acc: 0.7344 - val_loss: 0.5963 - val_acc: 0.7031\n",
      "Epoch 48/200\n",
      "576/576 [==============================] - 0s 60us/step - loss: 0.5869 - acc: 0.7361 - val_loss: 0.5944 - val_acc: 0.7083\n",
      "Epoch 49/200\n",
      "576/576 [==============================] - 0s 58us/step - loss: 0.5852 - acc: 0.7361 - val_loss: 0.5926 - val_acc: 0.7083\n",
      "Epoch 50/200\n",
      "576/576 [==============================] - 0s 60us/step - loss: 0.5835 - acc: 0.7396 - val_loss: 0.5908 - val_acc: 0.7031\n",
      "Epoch 51/200\n",
      "576/576 [==============================] - 0s 60us/step - loss: 0.5819 - acc: 0.7413 - val_loss: 0.5891 - val_acc: 0.7031\n",
      "Epoch 52/200\n",
      "576/576 [==============================] - 0s 60us/step - loss: 0.5803 - acc: 0.7431 - val_loss: 0.5874 - val_acc: 0.7031\n",
      "Epoch 53/200\n",
      "576/576 [==============================] - 0s 60us/step - loss: 0.5788 - acc: 0.7431 - val_loss: 0.5858 - val_acc: 0.7031\n",
      "Epoch 54/200\n",
      "576/576 [==============================] - 0s 56us/step - loss: 0.5773 - acc: 0.7413 - val_loss: 0.5843 - val_acc: 0.7031\n",
      "Epoch 55/200\n",
      "576/576 [==============================] - 0s 62us/step - loss: 0.5760 - acc: 0.7413 - val_loss: 0.5827 - val_acc: 0.7083\n",
      "Epoch 56/200\n",
      "576/576 [==============================] - 0s 61us/step - loss: 0.5746 - acc: 0.7413 - val_loss: 0.5813 - val_acc: 0.7083\n",
      "Epoch 57/200\n",
      "576/576 [==============================] - 0s 62us/step - loss: 0.5733 - acc: 0.7431 - val_loss: 0.5799 - val_acc: 0.7031\n",
      "Epoch 58/200\n",
      "576/576 [==============================] - 0s 67us/step - loss: 0.5719 - acc: 0.7431 - val_loss: 0.5785 - val_acc: 0.6979\n",
      "Epoch 59/200\n",
      "576/576 [==============================] - 0s 63us/step - loss: 0.5707 - acc: 0.7413 - val_loss: 0.5771 - val_acc: 0.6979\n",
      "Epoch 60/200\n",
      "576/576 [==============================] - 0s 73us/step - loss: 0.5694 - acc: 0.7396 - val_loss: 0.5758 - val_acc: 0.6979\n",
      "Epoch 61/200\n"
     ]
    },
    {
     "name": "stdout",
     "output_type": "stream",
     "text": [
      "576/576 [==============================] - 0s 63us/step - loss: 0.5682 - acc: 0.7396 - val_loss: 0.5746 - val_acc: 0.7083\n",
      "Epoch 62/200\n",
      "576/576 [==============================] - 0s 61us/step - loss: 0.5670 - acc: 0.7413 - val_loss: 0.5733 - val_acc: 0.7083\n",
      "Epoch 63/200\n",
      "576/576 [==============================] - 0s 70us/step - loss: 0.5659 - acc: 0.7431 - val_loss: 0.5721 - val_acc: 0.7135\n",
      "Epoch 64/200\n",
      "576/576 [==============================] - 0s 71us/step - loss: 0.5648 - acc: 0.7431 - val_loss: 0.5709 - val_acc: 0.7135\n",
      "Epoch 65/200\n",
      "576/576 [==============================] - 0s 67us/step - loss: 0.5636 - acc: 0.7431 - val_loss: 0.5698 - val_acc: 0.7135\n",
      "Epoch 66/200\n",
      "576/576 [==============================] - 0s 92us/step - loss: 0.5626 - acc: 0.7431 - val_loss: 0.5686 - val_acc: 0.7188\n",
      "Epoch 67/200\n",
      "576/576 [==============================] - 0s 107us/step - loss: 0.5615 - acc: 0.7431 - val_loss: 0.5675 - val_acc: 0.7188\n",
      "Epoch 68/200\n",
      "576/576 [==============================] - 0s 89us/step - loss: 0.5604 - acc: 0.7448 - val_loss: 0.5664 - val_acc: 0.7240\n",
      "Epoch 69/200\n",
      "576/576 [==============================] - 0s 80us/step - loss: 0.5594 - acc: 0.7448 - val_loss: 0.5654 - val_acc: 0.7240\n",
      "Epoch 70/200\n",
      "576/576 [==============================] - 0s 76us/step - loss: 0.5584 - acc: 0.7448 - val_loss: 0.5643 - val_acc: 0.7240\n",
      "Epoch 71/200\n",
      "576/576 [==============================] - 0s 74us/step - loss: 0.5574 - acc: 0.7448 - val_loss: 0.5633 - val_acc: 0.7240\n",
      "Epoch 72/200\n",
      "576/576 [==============================] - 0s 76us/step - loss: 0.5565 - acc: 0.7483 - val_loss: 0.5623 - val_acc: 0.7240\n",
      "Epoch 73/200\n",
      "576/576 [==============================] - 0s 96us/step - loss: 0.5555 - acc: 0.7483 - val_loss: 0.5613 - val_acc: 0.7240\n",
      "Epoch 74/200\n",
      "576/576 [==============================] - 0s 94us/step - loss: 0.5546 - acc: 0.7465 - val_loss: 0.5604 - val_acc: 0.7240\n",
      "Epoch 75/200\n",
      "576/576 [==============================] - 0s 87us/step - loss: 0.5536 - acc: 0.7483 - val_loss: 0.5594 - val_acc: 0.7240\n",
      "Epoch 76/200\n",
      "576/576 [==============================] - 0s 84us/step - loss: 0.5527 - acc: 0.7448 - val_loss: 0.5585 - val_acc: 0.7240\n",
      "Epoch 77/200\n",
      "576/576 [==============================] - 0s 93us/step - loss: 0.5518 - acc: 0.7483 - val_loss: 0.5575 - val_acc: 0.7240\n",
      "Epoch 78/200\n",
      "576/576 [==============================] - 0s 81us/step - loss: 0.5509 - acc: 0.7500 - val_loss: 0.5566 - val_acc: 0.7240\n",
      "Epoch 79/200\n",
      "576/576 [==============================] - 0s 85us/step - loss: 0.5500 - acc: 0.7535 - val_loss: 0.5557 - val_acc: 0.7240\n",
      "Epoch 80/200\n",
      "576/576 [==============================] - 0s 90us/step - loss: 0.5492 - acc: 0.7535 - val_loss: 0.5548 - val_acc: 0.7292\n",
      "Epoch 81/200\n",
      "576/576 [==============================] - 0s 79us/step - loss: 0.5483 - acc: 0.7517 - val_loss: 0.5539 - val_acc: 0.7292\n",
      "Epoch 82/200\n",
      "576/576 [==============================] - ETA: 0s - loss: 0.6214 - acc: 0.625 - 0s 79us/step - loss: 0.5474 - acc: 0.7517 - val_loss: 0.5531 - val_acc: 0.7292\n",
      "Epoch 83/200\n",
      "576/576 [==============================] - 0s 94us/step - loss: 0.5466 - acc: 0.7517 - val_loss: 0.5522 - val_acc: 0.7292\n",
      "Epoch 84/200\n",
      "576/576 [==============================] - 0s 92us/step - loss: 0.5458 - acc: 0.7500 - val_loss: 0.5514 - val_acc: 0.7240\n",
      "Epoch 85/200\n",
      "576/576 [==============================] - 0s 72us/step - loss: 0.5450 - acc: 0.7483 - val_loss: 0.5506 - val_acc: 0.7240\n",
      "Epoch 86/200\n",
      "576/576 [==============================] - 0s 72us/step - loss: 0.5442 - acc: 0.7483 - val_loss: 0.5497 - val_acc: 0.7240\n",
      "Epoch 87/200\n",
      "576/576 [==============================] - 0s 69us/step - loss: 0.5434 - acc: 0.7465 - val_loss: 0.5489 - val_acc: 0.7240\n",
      "Epoch 88/200\n",
      "576/576 [==============================] - 0s 90us/step - loss: 0.5425 - acc: 0.7448 - val_loss: 0.5482 - val_acc: 0.7292\n",
      "Epoch 89/200\n",
      "576/576 [==============================] - 0s 90us/step - loss: 0.5417 - acc: 0.7448 - val_loss: 0.5474 - val_acc: 0.7292\n",
      "Epoch 90/200\n",
      "576/576 [==============================] - 0s 86us/step - loss: 0.5410 - acc: 0.7465 - val_loss: 0.5466 - val_acc: 0.7292\n",
      "Epoch 91/200\n",
      "576/576 [==============================] - 0s 93us/step - loss: 0.5402 - acc: 0.7465 - val_loss: 0.5459 - val_acc: 0.7292\n",
      "Epoch 92/200\n",
      "576/576 [==============================] - 0s 71us/step - loss: 0.5394 - acc: 0.7500 - val_loss: 0.5451 - val_acc: 0.7292\n",
      "Epoch 93/200\n",
      "576/576 [==============================] - 0s 77us/step - loss: 0.5387 - acc: 0.7517 - val_loss: 0.5444 - val_acc: 0.7344\n",
      "Epoch 94/200\n",
      "576/576 [==============================] - 0s 78us/step - loss: 0.5379 - acc: 0.7535 - val_loss: 0.5436 - val_acc: 0.7344\n",
      "Epoch 95/200\n",
      "576/576 [==============================] - 0s 82us/step - loss: 0.5371 - acc: 0.7535 - val_loss: 0.5429 - val_acc: 0.7344\n",
      "Epoch 96/200\n",
      "576/576 [==============================] - 0s 82us/step - loss: 0.5364 - acc: 0.7535 - val_loss: 0.5422 - val_acc: 0.7344\n",
      "Epoch 97/200\n",
      "576/576 [==============================] - 0s 82us/step - loss: 0.5357 - acc: 0.7535 - val_loss: 0.5415 - val_acc: 0.7396\n",
      "Epoch 98/200\n",
      "576/576 [==============================] - 0s 73us/step - loss: 0.5350 - acc: 0.7535 - val_loss: 0.5408 - val_acc: 0.7396\n",
      "Epoch 99/200\n",
      "576/576 [==============================] - 0s 74us/step - loss: 0.5343 - acc: 0.7517 - val_loss: 0.5401 - val_acc: 0.7396\n",
      "Epoch 100/200\n",
      "576/576 [==============================] - 0s 85us/step - loss: 0.5336 - acc: 0.7535 - val_loss: 0.5394 - val_acc: 0.7396\n",
      "Epoch 101/200\n",
      "576/576 [==============================] - 0s 98us/step - loss: 0.5329 - acc: 0.7552 - val_loss: 0.5387 - val_acc: 0.7396\n",
      "Epoch 102/200\n",
      "576/576 [==============================] - 0s 85us/step - loss: 0.5322 - acc: 0.7535 - val_loss: 0.5381 - val_acc: 0.7396\n",
      "Epoch 103/200\n",
      "576/576 [==============================] - 0s 79us/step - loss: 0.5315 - acc: 0.7569 - val_loss: 0.5374 - val_acc: 0.7396\n",
      "Epoch 104/200\n",
      "576/576 [==============================] - 0s 68us/step - loss: 0.5309 - acc: 0.7552 - val_loss: 0.5368 - val_acc: 0.7396\n",
      "Epoch 105/200\n",
      "576/576 [==============================] - 0s 63us/step - loss: 0.5302 - acc: 0.7569 - val_loss: 0.5362 - val_acc: 0.7396\n",
      "Epoch 106/200\n",
      "576/576 [==============================] - 0s 61us/step - loss: 0.5295 - acc: 0.7587 - val_loss: 0.5356 - val_acc: 0.7448\n",
      "Epoch 107/200\n",
      "576/576 [==============================] - 0s 68us/step - loss: 0.5289 - acc: 0.7569 - val_loss: 0.5350 - val_acc: 0.7448\n",
      "Epoch 108/200\n",
      "576/576 [==============================] - 0s 71us/step - loss: 0.5283 - acc: 0.7569 - val_loss: 0.5344 - val_acc: 0.7448\n",
      "Epoch 109/200\n",
      "576/576 [==============================] - 0s 74us/step - loss: 0.5277 - acc: 0.7569 - val_loss: 0.5338 - val_acc: 0.7448\n",
      "Epoch 110/200\n",
      "576/576 [==============================] - 0s 74us/step - loss: 0.5271 - acc: 0.7569 - val_loss: 0.5333 - val_acc: 0.7448\n",
      "Epoch 111/200\n",
      "576/576 [==============================] - 0s 69us/step - loss: 0.5265 - acc: 0.7569 - val_loss: 0.5327 - val_acc: 0.7448\n",
      "Epoch 112/200\n",
      "576/576 [==============================] - 0s 69us/step - loss: 0.5259 - acc: 0.7552 - val_loss: 0.5321 - val_acc: 0.7448\n",
      "Epoch 113/200\n",
      "576/576 [==============================] - 0s 67us/step - loss: 0.5253 - acc: 0.7569 - val_loss: 0.5316 - val_acc: 0.7448\n",
      "Epoch 114/200\n",
      "576/576 [==============================] - 0s 70us/step - loss: 0.5247 - acc: 0.7552 - val_loss: 0.5311 - val_acc: 0.7448\n",
      "Epoch 115/200\n",
      "576/576 [==============================] - 0s 64us/step - loss: 0.5241 - acc: 0.7535 - val_loss: 0.5305 - val_acc: 0.7448\n",
      "Epoch 116/200\n",
      "576/576 [==============================] - 0s 75us/step - loss: 0.5236 - acc: 0.7517 - val_loss: 0.5300 - val_acc: 0.7448\n",
      "Epoch 117/200\n",
      "576/576 [==============================] - 0s 77us/step - loss: 0.5230 - acc: 0.7517 - val_loss: 0.5295 - val_acc: 0.7396\n",
      "Epoch 118/200\n",
      "576/576 [==============================] - 0s 72us/step - loss: 0.5224 - acc: 0.7535 - val_loss: 0.5290 - val_acc: 0.7396\n",
      "Epoch 119/200\n",
      "576/576 [==============================] - 0s 67us/step - loss: 0.5219 - acc: 0.7535 - val_loss: 0.5284 - val_acc: 0.7344\n",
      "Epoch 120/200\n",
      "576/576 [==============================] - 0s 69us/step - loss: 0.5214 - acc: 0.7535 - val_loss: 0.5279 - val_acc: 0.7344\n",
      "Epoch 121/200\n"
     ]
    },
    {
     "name": "stdout",
     "output_type": "stream",
     "text": [
      "576/576 [==============================] - 0s 67us/step - loss: 0.5208 - acc: 0.7535 - val_loss: 0.5274 - val_acc: 0.7344\n",
      "Epoch 122/200\n",
      "576/576 [==============================] - 0s 67us/step - loss: 0.5203 - acc: 0.7535 - val_loss: 0.5269 - val_acc: 0.7344\n",
      "Epoch 123/200\n",
      "576/576 [==============================] - 0s 71us/step - loss: 0.5197 - acc: 0.7517 - val_loss: 0.5265 - val_acc: 0.7344\n",
      "Epoch 124/200\n",
      "576/576 [==============================] - 0s 72us/step - loss: 0.5192 - acc: 0.7552 - val_loss: 0.5260 - val_acc: 0.7396\n",
      "Epoch 125/200\n",
      "576/576 [==============================] - 0s 63us/step - loss: 0.5187 - acc: 0.7517 - val_loss: 0.5255 - val_acc: 0.7396\n",
      "Epoch 126/200\n",
      "576/576 [==============================] - 0s 70us/step - loss: 0.5182 - acc: 0.7500 - val_loss: 0.5250 - val_acc: 0.7396\n",
      "Epoch 127/200\n",
      "576/576 [==============================] - 0s 65us/step - loss: 0.5177 - acc: 0.7517 - val_loss: 0.5246 - val_acc: 0.7396\n",
      "Epoch 128/200\n",
      "576/576 [==============================] - 0s 71us/step - loss: 0.5173 - acc: 0.7500 - val_loss: 0.5241 - val_acc: 0.7396\n",
      "Epoch 129/200\n",
      "576/576 [==============================] - 0s 61us/step - loss: 0.5167 - acc: 0.7500 - val_loss: 0.5237 - val_acc: 0.7396\n",
      "Epoch 130/200\n",
      "576/576 [==============================] - 0s 73us/step - loss: 0.5162 - acc: 0.7483 - val_loss: 0.5232 - val_acc: 0.7396\n",
      "Epoch 131/200\n",
      "576/576 [==============================] - 0s 69us/step - loss: 0.5158 - acc: 0.7483 - val_loss: 0.5228 - val_acc: 0.7396\n",
      "Epoch 132/200\n",
      "576/576 [==============================] - 0s 71us/step - loss: 0.5153 - acc: 0.7500 - val_loss: 0.5224 - val_acc: 0.7396\n",
      "Epoch 133/200\n",
      "576/576 [==============================] - 0s 67us/step - loss: 0.5148 - acc: 0.7517 - val_loss: 0.5219 - val_acc: 0.7396\n",
      "Epoch 134/200\n",
      "576/576 [==============================] - 0s 74us/step - loss: 0.5144 - acc: 0.7500 - val_loss: 0.5215 - val_acc: 0.7396\n",
      "Epoch 135/200\n",
      "576/576 [==============================] - 0s 68us/step - loss: 0.5139 - acc: 0.7517 - val_loss: 0.5211 - val_acc: 0.7396\n",
      "Epoch 136/200\n",
      "576/576 [==============================] - 0s 67us/step - loss: 0.5135 - acc: 0.7535 - val_loss: 0.5207 - val_acc: 0.7396\n",
      "Epoch 137/200\n",
      "576/576 [==============================] - 0s 69us/step - loss: 0.5130 - acc: 0.7517 - val_loss: 0.5203 - val_acc: 0.7396\n",
      "Epoch 138/200\n",
      "576/576 [==============================] - 0s 63us/step - loss: 0.5126 - acc: 0.7517 - val_loss: 0.5199 - val_acc: 0.7396\n",
      "Epoch 139/200\n",
      "576/576 [==============================] - 0s 71us/step - loss: 0.5122 - acc: 0.7500 - val_loss: 0.5195 - val_acc: 0.7396\n",
      "Epoch 140/200\n",
      "576/576 [==============================] - 0s 61us/step - loss: 0.5118 - acc: 0.7500 - val_loss: 0.5191 - val_acc: 0.7396\n",
      "Epoch 141/200\n",
      "576/576 [==============================] - 0s 77us/step - loss: 0.5113 - acc: 0.7517 - val_loss: 0.5187 - val_acc: 0.7396\n",
      "Epoch 142/200\n",
      "576/576 [==============================] - 0s 75us/step - loss: 0.5109 - acc: 0.7535 - val_loss: 0.5184 - val_acc: 0.7396\n",
      "Epoch 143/200\n",
      "576/576 [==============================] - 0s 72us/step - loss: 0.5104 - acc: 0.7535 - val_loss: 0.5180 - val_acc: 0.7396\n",
      "Epoch 144/200\n",
      "576/576 [==============================] - 0s 74us/step - loss: 0.5100 - acc: 0.7535 - val_loss: 0.5176 - val_acc: 0.7396\n",
      "Epoch 145/200\n",
      "576/576 [==============================] - 0s 68us/step - loss: 0.5096 - acc: 0.7535 - val_loss: 0.5172 - val_acc: 0.7396\n",
      "Epoch 146/200\n",
      "576/576 [==============================] - 0s 73us/step - loss: 0.5092 - acc: 0.7535 - val_loss: 0.5169 - val_acc: 0.7396\n",
      "Epoch 147/200\n",
      "576/576 [==============================] - 0s 67us/step - loss: 0.5088 - acc: 0.7535 - val_loss: 0.5165 - val_acc: 0.7396\n",
      "Epoch 148/200\n",
      "576/576 [==============================] - 0s 67us/step - loss: 0.5085 - acc: 0.7535 - val_loss: 0.5162 - val_acc: 0.7396\n",
      "Epoch 149/200\n",
      "576/576 [==============================] - 0s 82us/step - loss: 0.5081 - acc: 0.7535 - val_loss: 0.5158 - val_acc: 0.7396\n",
      "Epoch 150/200\n",
      "576/576 [==============================] - 0s 84us/step - loss: 0.5077 - acc: 0.7552 - val_loss: 0.5155 - val_acc: 0.7396\n",
      "Epoch 151/200\n",
      "576/576 [==============================] - 0s 93us/step - loss: 0.5073 - acc: 0.7569 - val_loss: 0.5152 - val_acc: 0.7396\n",
      "Epoch 152/200\n",
      "576/576 [==============================] - 0s 82us/step - loss: 0.5069 - acc: 0.7569 - val_loss: 0.5148 - val_acc: 0.7396\n",
      "Epoch 153/200\n",
      "576/576 [==============================] - 0s 74us/step - loss: 0.5066 - acc: 0.7587 - val_loss: 0.5145 - val_acc: 0.7396\n",
      "Epoch 154/200\n",
      "576/576 [==============================] - 0s 72us/step - loss: 0.5062 - acc: 0.7587 - val_loss: 0.5142 - val_acc: 0.7396\n",
      "Epoch 155/200\n",
      "576/576 [==============================] - 0s 77us/step - loss: 0.5058 - acc: 0.7587 - val_loss: 0.5138 - val_acc: 0.7396\n",
      "Epoch 156/200\n",
      "576/576 [==============================] - 0s 69us/step - loss: 0.5054 - acc: 0.7587 - val_loss: 0.5135 - val_acc: 0.7448\n",
      "Epoch 157/200\n",
      "576/576 [==============================] - 0s 71us/step - loss: 0.5051 - acc: 0.7587 - val_loss: 0.5132 - val_acc: 0.7448\n",
      "Epoch 158/200\n",
      "576/576 [==============================] - 0s 85us/step - loss: 0.5047 - acc: 0.7587 - val_loss: 0.5129 - val_acc: 0.7448\n",
      "Epoch 159/200\n",
      "576/576 [==============================] - 0s 91us/step - loss: 0.5043 - acc: 0.7587 - val_loss: 0.5125 - val_acc: 0.7448\n",
      "Epoch 160/200\n",
      "576/576 [==============================] - 0s 87us/step - loss: 0.5040 - acc: 0.7587 - val_loss: 0.5122 - val_acc: 0.7448\n",
      "Epoch 161/200\n",
      "576/576 [==============================] - 0s 74us/step - loss: 0.5037 - acc: 0.7587 - val_loss: 0.5119 - val_acc: 0.7448\n",
      "Epoch 162/200\n",
      "576/576 [==============================] - 0s 72us/step - loss: 0.5033 - acc: 0.7587 - val_loss: 0.5116 - val_acc: 0.7448\n",
      "Epoch 163/200\n",
      "576/576 [==============================] - 0s 71us/step - loss: 0.5029 - acc: 0.7587 - val_loss: 0.5113 - val_acc: 0.7500\n",
      "Epoch 164/200\n",
      "576/576 [==============================] - 0s 71us/step - loss: 0.5026 - acc: 0.7604 - val_loss: 0.5110 - val_acc: 0.7500\n",
      "Epoch 165/200\n",
      "576/576 [==============================] - 0s 69us/step - loss: 0.5023 - acc: 0.7604 - val_loss: 0.5107 - val_acc: 0.7500\n",
      "Epoch 166/200\n",
      "576/576 [==============================] - 0s 61us/step - loss: 0.5019 - acc: 0.7604 - val_loss: 0.5105 - val_acc: 0.7500\n",
      "Epoch 167/200\n",
      "576/576 [==============================] - 0s 64us/step - loss: 0.5015 - acc: 0.7604 - val_loss: 0.5102 - val_acc: 0.7500\n",
      "Epoch 168/200\n",
      "576/576 [==============================] - 0s 59us/step - loss: 0.5012 - acc: 0.7604 - val_loss: 0.5099 - val_acc: 0.7500\n",
      "Epoch 169/200\n",
      "576/576 [==============================] - 0s 64us/step - loss: 0.5008 - acc: 0.7604 - val_loss: 0.5096 - val_acc: 0.7500\n",
      "Epoch 170/200\n",
      "576/576 [==============================] - 0s 65us/step - loss: 0.5005 - acc: 0.7604 - val_loss: 0.5093 - val_acc: 0.7500\n",
      "Epoch 171/200\n",
      "576/576 [==============================] - 0s 66us/step - loss: 0.5002 - acc: 0.7587 - val_loss: 0.5091 - val_acc: 0.7500\n",
      "Epoch 172/200\n",
      "576/576 [==============================] - 0s 63us/step - loss: 0.4999 - acc: 0.7604 - val_loss: 0.5088 - val_acc: 0.7552\n",
      "Epoch 173/200\n",
      "576/576 [==============================] - 0s 67us/step - loss: 0.4995 - acc: 0.7587 - val_loss: 0.5085 - val_acc: 0.7552\n",
      "Epoch 174/200\n",
      "576/576 [==============================] - 0s 63us/step - loss: 0.4992 - acc: 0.7587 - val_loss: 0.5082 - val_acc: 0.7552\n",
      "Epoch 175/200\n",
      "576/576 [==============================] - 0s 66us/step - loss: 0.4989 - acc: 0.7587 - val_loss: 0.5080 - val_acc: 0.7552\n",
      "Epoch 176/200\n",
      "576/576 [==============================] - 0s 87us/step - loss: 0.4986 - acc: 0.7604 - val_loss: 0.5077 - val_acc: 0.7552\n",
      "Epoch 177/200\n",
      "576/576 [==============================] - 0s 81us/step - loss: 0.4983 - acc: 0.7622 - val_loss: 0.5074 - val_acc: 0.7552\n",
      "Epoch 178/200\n",
      "576/576 [==============================] - 0s 77us/step - loss: 0.4979 - acc: 0.7587 - val_loss: 0.5072 - val_acc: 0.7604\n",
      "Epoch 179/200\n",
      "576/576 [==============================] - 0s 72us/step - loss: 0.4976 - acc: 0.7604 - val_loss: 0.5069 - val_acc: 0.7604\n",
      "Epoch 180/200\n",
      "576/576 [==============================] - 0s 72us/step - loss: 0.4973 - acc: 0.7604 - val_loss: 0.5066 - val_acc: 0.7604\n",
      "Epoch 181/200\n"
     ]
    },
    {
     "name": "stdout",
     "output_type": "stream",
     "text": [
      "576/576 [==============================] - 0s 70us/step - loss: 0.4970 - acc: 0.7622 - val_loss: 0.5064 - val_acc: 0.7604\n",
      "Epoch 182/200\n",
      "576/576 [==============================] - 0s 70us/step - loss: 0.4967 - acc: 0.7622 - val_loss: 0.5061 - val_acc: 0.7604\n",
      "Epoch 183/200\n",
      "576/576 [==============================] - 0s 68us/step - loss: 0.4964 - acc: 0.7622 - val_loss: 0.5058 - val_acc: 0.7604\n",
      "Epoch 184/200\n",
      "576/576 [==============================] - 0s 79us/step - loss: 0.4961 - acc: 0.7622 - val_loss: 0.5056 - val_acc: 0.7604\n",
      "Epoch 185/200\n",
      "576/576 [==============================] - 0s 74us/step - loss: 0.4958 - acc: 0.7622 - val_loss: 0.5053 - val_acc: 0.7604\n",
      "Epoch 186/200\n",
      "576/576 [==============================] - 0s 88us/step - loss: 0.4955 - acc: 0.7622 - val_loss: 0.5051 - val_acc: 0.7656\n",
      "Epoch 187/200\n",
      "576/576 [==============================] - ETA: 0s - loss: 0.4479 - acc: 0.812 - 0s 84us/step - loss: 0.4952 - acc: 0.7622 - val_loss: 0.5048 - val_acc: 0.7656\n",
      "Epoch 188/200\n",
      "576/576 [==============================] - 0s 81us/step - loss: 0.4949 - acc: 0.7622 - val_loss: 0.5046 - val_acc: 0.7656\n",
      "Epoch 189/200\n",
      "576/576 [==============================] - 0s 70us/step - loss: 0.4946 - acc: 0.7622 - val_loss: 0.5043 - val_acc: 0.7656\n",
      "Epoch 190/200\n",
      "576/576 [==============================] - 0s 70us/step - loss: 0.4943 - acc: 0.7639 - val_loss: 0.5041 - val_acc: 0.7656\n",
      "Epoch 191/200\n",
      "576/576 [==============================] - 0s 63us/step - loss: 0.4940 - acc: 0.7622 - val_loss: 0.5038 - val_acc: 0.7656\n",
      "Epoch 192/200\n",
      "576/576 [==============================] - 0s 70us/step - loss: 0.4937 - acc: 0.7622 - val_loss: 0.5036 - val_acc: 0.7656\n",
      "Epoch 193/200\n",
      "576/576 [==============================] - 0s 73us/step - loss: 0.4935 - acc: 0.7656 - val_loss: 0.5033 - val_acc: 0.7656\n",
      "Epoch 194/200\n",
      "576/576 [==============================] - 0s 96us/step - loss: 0.4932 - acc: 0.7656 - val_loss: 0.5031 - val_acc: 0.7656\n",
      "Epoch 195/200\n",
      "576/576 [==============================] - 0s 95us/step - loss: 0.4929 - acc: 0.7639 - val_loss: 0.5029 - val_acc: 0.7656\n",
      "Epoch 196/200\n",
      "576/576 [==============================] - 0s 83us/step - loss: 0.4926 - acc: 0.7639 - val_loss: 0.5026 - val_acc: 0.7656\n",
      "Epoch 197/200\n",
      "576/576 [==============================] - 0s 106us/step - loss: 0.4923 - acc: 0.7656 - val_loss: 0.5024 - val_acc: 0.7656\n",
      "Epoch 198/200\n",
      "576/576 [==============================] - 0s 76us/step - loss: 0.4921 - acc: 0.7674 - val_loss: 0.5022 - val_acc: 0.7656\n",
      "Epoch 199/200\n",
      "576/576 [==============================] - 0s 79us/step - loss: 0.4918 - acc: 0.7674 - val_loss: 0.5020 - val_acc: 0.7656\n",
      "Epoch 200/200\n",
      "576/576 [==============================] - 0s 88us/step - loss: 0.4915 - acc: 0.7674 - val_loss: 0.5018 - val_acc: 0.7656\n"
     ]
    }
   ],
   "source": [
    "# Fit(Train) the Model\n",
    "\n",
    "# Compile the model with Optimizer, Loss Function and Metrics\n",
    "# Roc-Auc is not available in Keras as an off the shelf metric yet, so we will skip it here.\n",
    "\n",
    "model_1.compile(SGD(lr = .003), \"binary_crossentropy\", metrics=[\"accuracy\"])\n",
    "run_hist_1 = model_1.fit(X_train_norm, y_train, validation_data=(X_test_norm, y_test), epochs=200)\n",
    "# the fit function returns the run history. \n",
    "# It is very convenient, as it contains information about the model fit, iterations etc."
   ]
  },
  {
   "cell_type": "code",
   "execution_count": null,
   "metadata": {},
   "outputs": [],
   "source": [
    "## Like we did for the Random Forest, we generate two kinds of predictions\n",
    "#  One is a hard decision, the other is a probabilitistic score.\n",
    "\n",
    "y_pred_class_nn_1 = model_1.predict_classes(X_test_norm)\n",
    "y_pred_prob_nn_1 = model_1.predict(X_test_norm)"
   ]
  },
  {
   "cell_type": "code",
   "execution_count": null,
   "metadata": {},
   "outputs": [],
   "source": [
    "# Let's check out the outputs to get a feel for how keras apis work.\n",
    "y_pred_class_nn_1[:10]"
   ]
  },
  {
   "cell_type": "code",
   "execution_count": null,
   "metadata": {},
   "outputs": [],
   "source": [
    "y_pred_prob_nn_1[:10]"
   ]
  },
  {
   "cell_type": "code",
   "execution_count": null,
   "metadata": {},
   "outputs": [],
   "source": [
    "# Print model performance and plot the roc curve\n",
    "print('accuracy is {:.3f}'.format(accuracy_score(y_test,y_pred_class_nn_1)))\n",
    "print('roc-auc is {:.3f}'.format(roc_auc_score(y_test,y_pred_prob_nn_1)))\n",
    "\n",
    "plot_roc(y_test, y_pred_prob_nn_1, 'NN')"
   ]
  },
  {
   "cell_type": "markdown",
   "metadata": {},
   "source": [
    "There may be some variation in exact numbers due to randomness, but you should get results in the same ballpark as the Random Forest - between 75% and 85% accuracy, between .8 and .9 for AUC."
   ]
  },
  {
   "cell_type": "markdown",
   "metadata": {},
   "source": [
    "Let's look at the `run_hist_1` object that was created, specifically its `history` attribute."
   ]
  },
  {
   "cell_type": "code",
   "execution_count": null,
   "metadata": {},
   "outputs": [],
   "source": [
    "run_hist_1.history.keys()"
   ]
  },
  {
   "cell_type": "markdown",
   "metadata": {},
   "source": [
    "Let's plot the training loss and the validation loss over the different epochs and see how it looks."
   ]
  },
  {
   "cell_type": "code",
   "execution_count": null,
   "metadata": {},
   "outputs": [],
   "source": [
    "fig, ax = plt.subplots()\n",
    "ax.plot(run_hist_1.history[\"loss\"],'r', marker='.', label=\"Train Loss\")\n",
    "ax.plot(run_hist_1.history[\"val_loss\"],'b', marker='.', label=\"Validation Loss\")\n",
    "ax.legend()"
   ]
  },
  {
   "cell_type": "markdown",
   "metadata": {},
   "source": [
    "Looks like the losses are still going down on both the training set and the validation set.  This suggests that the model might benefit from further training.  Let's train the model a little more and see what happens. Note that it will pick up from where it left off. Train for 1000 more epochs."
   ]
  },
  {
   "cell_type": "code",
   "execution_count": null,
   "metadata": {
    "scrolled": true
   },
   "outputs": [],
   "source": [
    "## Note that when we call \"fit\" again, it picks up where it left off\n",
    "run_hist_1b = model_1.fit(X_train_norm, y_train, validation_data=(X_test_norm, y_test), epochs=1000)"
   ]
  },
  {
   "cell_type": "code",
   "execution_count": null,
   "metadata": {},
   "outputs": [],
   "source": [
    "n = len(run_hist_1.history[\"loss\"])\n",
    "m = len(run_hist_1b.history['loss'])\n",
    "fig, ax = plt.subplots(figsize=(16, 8))\n",
    "\n",
    "ax.plot(range(n), run_hist_1.history[\"loss\"],'r', marker='.', label=\"Train Loss - Run 1\")\n",
    "ax.plot(range(n, n+m), run_hist_1b.history[\"loss\"], 'hotpink', marker='.', label=\"Train Loss - Run 2\")\n",
    "\n",
    "ax.plot(range(n), run_hist_1.history[\"val_loss\"],'b', marker='.', label=\"Validation Loss - Run 1\")\n",
    "ax.plot(range(n, n+m), run_hist_1b.history[\"val_loss\"], 'LightSkyBlue', marker='.',  label=\"Validation Loss - Run 2\")\n",
    "\n",
    "ax.legend()"
   ]
  },
  {
   "cell_type": "markdown",
   "metadata": {},
   "source": [
    "Note that this graph begins where the other left off.  While the training loss is still going down, it looks like the validation loss has stabilized (or even gotten worse!).  This suggests that our network will not benefit from further training.  What is the appropriate number of epochs?"
   ]
  },
  {
   "cell_type": "code",
   "execution_count": null,
   "metadata": {
    "collapsed": true
   },
   "outputs": [],
   "source": []
  },
  {
   "cell_type": "code",
   "execution_count": null,
   "metadata": {
    "collapsed": true
   },
   "outputs": [],
   "source": []
  },
  {
   "cell_type": "markdown",
   "metadata": {},
   "source": [
    "## Exercise\n",
    "Now it's your turn.  Do the following in the cells below:\n",
    "- Build a model with two hidden layers, each with 6 nodes\n",
    "- Use the \"relu\" activation function for the hidden layers, and \"sigmoid\" for the final layer\n",
    "- Use a learning rate of .003 and train for 1500 epochs\n",
    "- Graph the trajectory of the loss functions, accuracy on both train and test set\n",
    "- Plot the roc curve for the predictions\n",
    "\n",
    "Experiment with different learning rates, numbers of epochs, and network structures"
   ]
  },
  {
   "cell_type": "code",
   "execution_count": null,
   "metadata": {
    "collapsed": true
   },
   "outputs": [],
   "source": [
    "# Type your code here to with layer 1,2 having activation relu and layer 3 with activation sigmoid"
   ]
  },
  {
   "cell_type": "code",
   "execution_count": null,
   "metadata": {
    "collapsed": true
   },
   "outputs": [],
   "source": [
    "# Type your code here to plot the loss accuracy and ROC curve"
   ]
  }
 ],
 "metadata": {
  "kernelspec": {
   "display_name": "Py3 OpenCV3 (Forge)",
   "language": "python",
   "name": "opencv-forge"
  },
  "language_info": {
   "codemirror_mode": {
    "name": "ipython",
    "version": 2
   },
   "file_extension": ".py",
   "mimetype": "text/x-python",
   "name": "python",
   "nbconvert_exporter": "python",
   "pygments_lexer": "ipython2",
   "version": "2.7.15"
  }
 },
 "nbformat": 4,
 "nbformat_minor": 2
}
