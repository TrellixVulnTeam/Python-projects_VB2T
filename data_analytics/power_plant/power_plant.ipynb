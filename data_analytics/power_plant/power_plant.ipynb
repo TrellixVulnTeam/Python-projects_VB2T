{
 "cells": [
  {
   "cell_type": "code",
   "execution_count": 1,
   "metadata": {
    "collapsed": false
   },
   "outputs": [
    {
     "name": "stderr",
     "output_type": "stream",
     "text": [
      "/Users/edima/anaconda/lib/python2.7/site-packages/matplotlib/__init__.py:878: UserWarning: axes.color_cycle is deprecated and replaced with axes.prop_cycle; please use the latter.\n",
      "  warnings.warn(self.msg_depr % (key, alt_key))\n"
     ]
    }
   ],
   "source": [
    "import pandas as pd\n",
    "import seaborn as sns\n",
    "import statsmodels.api as sm\n",
    "import matplotlib.pyplot as plt"
   ]
  },
  {
   "cell_type": "code",
   "execution_count": 2,
   "metadata": {
    "collapsed": true
   },
   "outputs": [],
   "source": [
    "#load data\n",
    "power_plant = pd.read_excel(\"Folds5x2_pp.xlsx\")"
   ]
  },
  {
   "cell_type": "code",
   "execution_count": 3,
   "metadata": {
    "collapsed": false
   },
   "outputs": [
    {
     "data": {
      "text/html": [
       "<div>\n",
       "<table border=\"1\" class=\"dataframe\">\n",
       "  <thead>\n",
       "    <tr style=\"text-align: right;\">\n",
       "      <th></th>\n",
       "      <th>AT</th>\n",
       "      <th>V</th>\n",
       "      <th>AP</th>\n",
       "      <th>RH</th>\n",
       "      <th>PE</th>\n",
       "    </tr>\n",
       "  </thead>\n",
       "  <tbody>\n",
       "    <tr>\n",
       "      <th>0</th>\n",
       "      <td>14.96</td>\n",
       "      <td>41.76</td>\n",
       "      <td>1024.07</td>\n",
       "      <td>73.17</td>\n",
       "      <td>463.26</td>\n",
       "    </tr>\n",
       "    <tr>\n",
       "      <th>1</th>\n",
       "      <td>25.18</td>\n",
       "      <td>62.96</td>\n",
       "      <td>1020.04</td>\n",
       "      <td>59.08</td>\n",
       "      <td>444.37</td>\n",
       "    </tr>\n",
       "    <tr>\n",
       "      <th>2</th>\n",
       "      <td>5.11</td>\n",
       "      <td>39.40</td>\n",
       "      <td>1012.16</td>\n",
       "      <td>92.14</td>\n",
       "      <td>488.56</td>\n",
       "    </tr>\n",
       "    <tr>\n",
       "      <th>3</th>\n",
       "      <td>20.86</td>\n",
       "      <td>57.32</td>\n",
       "      <td>1010.24</td>\n",
       "      <td>76.64</td>\n",
       "      <td>446.48</td>\n",
       "    </tr>\n",
       "    <tr>\n",
       "      <th>4</th>\n",
       "      <td>10.82</td>\n",
       "      <td>37.50</td>\n",
       "      <td>1009.23</td>\n",
       "      <td>96.62</td>\n",
       "      <td>473.90</td>\n",
       "    </tr>\n",
       "  </tbody>\n",
       "</table>\n",
       "</div>"
      ],
      "text/plain": [
       "      AT      V       AP     RH      PE\n",
       "0  14.96  41.76  1024.07  73.17  463.26\n",
       "1  25.18  62.96  1020.04  59.08  444.37\n",
       "2   5.11  39.40  1012.16  92.14  488.56\n",
       "3  20.86  57.32  1010.24  76.64  446.48\n",
       "4  10.82  37.50  1009.23  96.62  473.90"
      ]
     },
     "execution_count": 3,
     "metadata": {},
     "output_type": "execute_result"
    }
   ],
   "source": [
    "#look at some of the data\n",
    "power_plant.head()"
   ]
  },
  {
   "cell_type": "code",
   "execution_count": 4,
   "metadata": {
    "collapsed": false
   },
   "outputs": [
    {
     "data": {
      "text/plain": [
       "(9568, 5)"
      ]
     },
     "execution_count": 4,
     "metadata": {},
     "output_type": "execute_result"
    }
   ],
   "source": [
    "#data shape\n",
    "power_plant.shape"
   ]
  },
  {
   "cell_type": "code",
   "execution_count": 5,
   "metadata": {
    "collapsed": false
   },
   "outputs": [
    {
     "data": {
      "text/plain": [
       "AT    float64\n",
       "V     float64\n",
       "AP    float64\n",
       "RH    float64\n",
       "PE    float64\n",
       "dtype: object"
      ]
     },
     "execution_count": 5,
     "metadata": {},
     "output_type": "execute_result"
    }
   ],
   "source": [
    "# data types\n",
    "power_plant.dtypes    # all columns are numeric"
   ]
  },
  {
   "cell_type": "code",
   "execution_count": 6,
   "metadata": {
    "collapsed": false
   },
   "outputs": [
    {
     "name": "stdout",
     "output_type": "stream",
     "text": [
      "<class 'pandas.core.frame.DataFrame'>\n",
      "RangeIndex: 9568 entries, 0 to 9567\n",
      "Data columns (total 5 columns):\n",
      "AT    9568 non-null float64\n",
      "V     9568 non-null float64\n",
      "AP    9568 non-null float64\n",
      "RH    9568 non-null float64\n",
      "PE    9568 non-null float64\n",
      "dtypes: float64(5)\n",
      "memory usage: 373.8 KB\n"
     ]
    }
   ],
   "source": [
    "#check for missing data\n",
    "power_plant.info()  # There is no missing data in all of the columns"
   ]
  },
  {
   "cell_type": "code",
   "execution_count": null,
   "metadata": {
    "collapsed": true
   },
   "outputs": [],
   "source": [
    "#visualize output and temperature\n",
    "power_plant.plot(x ='AT', y = 'PE', kind =\"scatter\", \n",
    "                 figsize = [10,10],\n",
    "                 color =\"b\", alpha = 0.3, \n",
    "                fontsize = 14)\n",
    "plt.title(\"Temperature vs Power Output\", \n",
    "          fontsize = 24, color=\"darkred\")\n",
    "plt.xlabel(\"Atmospheric Temperature\", fontsize = 18) \n",
    "plt.ylabel(\"Power Output\", fontsize = 18)\n",
    "plt.show()"
   ]
  },
  {
   "cell_type": "code",
   "execution_count": null,
   "metadata": {
    "collapsed": true
   },
   "outputs": [],
   "source": [
    "#visualize power and vaccumm speed\n",
    "power_plant.plot(x ='V', y = 'PE',kind =\"scatter\", \n",
    "                 figsize = [10,10],\n",
    "                 color =\"g\", alpha = 0.3, \n",
    "                fontsize = 14)\n",
    "plt.title(\"Exhaust Vacuum Speed vs Power Output\", fontsize = 24, color=\"darkred\")\n",
    "plt.xlabel(\"Atmospheric Temperature\", fontsize = 18) \n",
    "plt.ylabel(\"Power Output\", fontsize = 18)\n",
    "plt.show()"
   ]
  },
  {
   "cell_type": "code",
   "execution_count": null,
   "metadata": {
    "collapsed": true
   },
   "outputs": [],
   "source": [
    "#correlation between pressure and output\n",
    "power_plant.plot(x ='AP', y = 'PE',kind =\"scatter\", \n",
    "                 figsize = [10,10],\n",
    "                 color =\"r\", alpha = 0.3,\n",
    "                fontsize = 14)\n",
    "plt.title(\"Atmospheric Pressure vs Power Output\", fontsize = 24, color=\"darkred\")\n",
    "plt.xlabel(\"Atmospheric Temperature\", fontsize = 18) \n",
    "plt.ylabel(\"Power Output\", fontsize = 18)\n",
    "plt.show()"
   ]
  },
  {
   "cell_type": "code",
   "execution_count": null,
   "metadata": {
    "collapsed": true
   },
   "outputs": [],
   "source": [
    "#correlation between humidity and power\n",
    "power_plant.plot(x ='RH', y = 'PE',kind =\"scatter\", \n",
    "                 figsize = [10,10],\n",
    "                 color =\"m\", alpha = 0.3)\n",
    "plt.title(\"Relative Humidity vs Power Output\", fontsize = 24, color=\"darkred\")\n",
    "plt.xlabel(\"Relative Humidity\", fontsize = 18) \n",
    "plt.ylabel(\"Power Output\", fontsize = 18)\n",
    "plt.show()"
   ]
  },
  {
   "cell_type": "code",
   "execution_count": null,
   "metadata": {
    "collapsed": true
   },
   "outputs": [],
   "source": [
    "#correlation heatmap\n",
    "corr = power_plant.corr()\n",
    "plt.figure(figsize = (9, 7))\n",
    "sns.heatmap(corr, cmap=\"RdBu\",\n",
    "            xticklabels=corr.columns.values,\n",
    "            yticklabels=corr.columns.values)\n",
    "plt.show()"
   ]
  },
  {
   "cell_type": "code",
   "execution_count": null,
   "metadata": {
    "collapsed": true
   },
   "outputs": [],
   "source": [
    "#data modelling\n",
    "from sklearn.model_selection import train_test_split\n",
    "from sklearn.model_selection import cross_val_score\n",
    "from sklearn.model_selection import GridSearchCV\n",
    "from sklearn.preprocessing import StandardScaler\n",
    "from sklearn.pipeline import Pipeline\n",
    "from sklearn.linear_model import LinearRegression\n",
    "from sklearn.linear_model import Ridge\n",
    "from sklearn.linear_model import Lasso\n",
    "from sklearn.linear_model import ElasticNet\n",
    "from sklearn.tree import DecisionTreeRegressor\n",
    "from sklearn.ensemble import RandomForestRegressor\n",
    "from sklearn.ensemble import GradientBoostingRegressor\n",
    "from sklearn.svm import SVR\n",
    "from sklearn.metrics import mean_squared_error\n",
    "import numpy as np"
   ]
  },
  {
   "cell_type": "code",
   "execution_count": null,
   "metadata": {
    "collapsed": true
   },
   "outputs": [],
   "source": [
    "#split data\n",
    "X = power_plant.drop(\"PE\", axis = 1).values\n",
    "y = power_plant['PE'].values\n",
    "y = y.reshape(-1, 1)\n",
    "\n",
    "# Split into training and test set\n",
    "# 80% of the input for training and 20% for testing\n",
    "\n",
    "X_train, X_test, y_train, y_test = train_test_split(X, y,\n",
    "                                               test_size = 0.2, \n",
    "                                               random_state=42)\n",
    "\n",
    "Training_to_original_ratio = round(X_train.shape[0]/(power_plant.shape[0]), 2) * 100\n",
    "\n",
    "Testing_to_original_ratio = round(X_test.shape[0]/(power_plant.shape[0]), 2) * 100\n",
    "\n",
    "print ('As shown below {}% of the data is for training and the rest {}% is for testing.'.format(Training_to_original_ratio, \n",
    "                                                                                               Testing_to_original_ratio))\n",
    "list(zip([\"Training set\", \"Testing set\"],\n",
    "   [Training_to_original_ratio, Testing_to_original_ratio]))"
   ]
  },
  {
   "cell_type": "code",
   "execution_count": null,
   "metadata": {
    "collapsed": true
   },
   "outputs": [],
   "source": [
    "#linear regression\n",
    "# Instantiate linear regression: reg\n",
    "# Standardize features by removing the mean \n",
    "# and scaling to unit variance using the\n",
    "# StandardScaler() function\n",
    "\n",
    "# Apply Scaling to X_train and X_test\n",
    "std_scale = StandardScaler().fit(X_train)\n",
    "X_train_scaled = std_scale.transform(X_train)\n",
    "X_test_scaled = std_scale.transform(X_test)\n",
    "linear_reg = LinearRegression()\n",
    "reg_scaled = linear_reg.fit(X_train_scaled, y_train)\n",
    "y_train_scaled_fit = reg_scaled.predict(X_train_scaled)\n",
    "print(\"R-squared for training dataset:{}\".\n",
    "      format(np.round(reg_scaled.score(X_train_scaled, y_train),\n",
    "                      2)))\n",
    "print(\"Root mean square error: {}\".\n",
    "      format(np.round(np.sqrt(mean_squared_error(y_train, \n",
    "                                        y_train_scaled_fit)), 2)))\n",
    "coefficients = reg_scaled.coef_\n",
    "features = list(power_plant.drop(\"PE\", axis = 1).columns)\n",
    "print(\" \")\n",
    "print('The coefficients of the features from the linear model:')\n",
    "print(dict(zip(features, coefficients[0])))\n",
    "print(\"\")\n",
    "print(\"The intercept is {}\".format(np.round(reg_scaled.intercept_[0],3)))"
   ]
  },
  {
   "cell_type": "code",
   "execution_count": null,
   "metadata": {
    "collapsed": true
   },
   "outputs": [],
   "source": [
    "#r-square\n",
    "pred = reg_scaled.predict(X_test_scaled)\n",
    "print(\"R-squared for test dataset:{}\".\n",
    "      format(np.round(reg_scaled.score(X_test_scaled, \n",
    "                                       y_test),  2)))\n",
    "print(\"Root mean square error for test dataset: {}\".\n",
    "      format(np.round(np.sqrt(mean_squared_error(y_test, \n",
    "                                        pred)), 2)))\n",
    "data =  {\"prediction\": pred, \"observed\": y_test}\n",
    "test = pd.DataFrame(pred, columns = [\"Prediction\"])\n",
    "test[\"Observed\"] = y_test\n",
    "lowess = sm.nonparametric.lowess\n",
    "z = lowess(pred.flatten(), y_test.flatten())\n",
    "test.plot(figsize = [10,10],\n",
    "          x =\"Prediction\", y = \"Observed\", kind = \"scatter\", color = 'darkred')\n",
    "plt.title(\"Linear Regression: Prediction Vs Test Data\", fontsize = 24, color = \"darkgreen\")\n",
    "plt.xlabel(\"Predicted Power Output\", fontsize = 18) \n",
    "plt.ylabel(\"Observed Power Output\", fontsize = 18)\n",
    "plt.plot(z[:,0], z[:,1], color = \"blue\", lw= 3)\n",
    "plt.show()"
   ]
  },
  {
   "cell_type": "code",
   "execution_count": null,
   "metadata": {
    "collapsed": true
   },
   "outputs": [],
   "source": []
  }
 ],
 "metadata": {
  "kernelspec": {
   "display_name": "Python 2",
   "language": "python",
   "name": "python2"
  },
  "language_info": {
   "codemirror_mode": {
    "name": "ipython",
    "version": 2
   },
   "file_extension": ".py",
   "mimetype": "text/x-python",
   "name": "python",
   "nbconvert_exporter": "python",
   "pygments_lexer": "ipython2",
   "version": "2.7.11"
  }
 },
 "nbformat": 4,
 "nbformat_minor": 0
}
