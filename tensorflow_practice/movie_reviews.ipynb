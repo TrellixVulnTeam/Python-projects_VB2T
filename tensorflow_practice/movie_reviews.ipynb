{
 "cells": [
  {
   "cell_type": "code",
   "execution_count": 1,
   "metadata": {},
   "outputs": [
    {
     "name": "stdout",
     "output_type": "stream",
     "text": [
      "1.13.1\n"
     ]
    }
   ],
   "source": [
    "from __future__ import absolute_import, division, print_function, unicode_literals\n",
    "\n",
    "import tensorflow as tf\n",
    "from tensorflow import keras\n",
    "\n",
    "import numpy as np\n",
    "\n",
    "print(tf.__version__)"
   ]
  },
  {
   "cell_type": "code",
   "execution_count": 2,
   "metadata": {},
   "outputs": [],
   "source": [
    "imdb = keras.datasets.imdb\n",
    "\n",
    "(train_data, train_labels), (test_data, test_labels) = imdb.load_data(num_words=10000)"
   ]
  },
  {
   "cell_type": "code",
   "execution_count": 3,
   "metadata": {},
   "outputs": [
    {
     "name": "stdout",
     "output_type": "stream",
     "text": [
      "Training entries: 25000, labels: 25000\n"
     ]
    }
   ],
   "source": [
    "print(\"Training entries: {}, labels: {}\".format(len(train_data), len(train_labels)))"
   ]
  },
  {
   "cell_type": "code",
   "execution_count": 4,
   "metadata": {},
   "outputs": [
    {
     "name": "stdout",
     "output_type": "stream",
     "text": [
      "Downloading data from https://storage.googleapis.com/tensorflow/tf-keras-datasets/imdb_word_index.json\n",
      "1646592/1641221 [==============================] - 0s 0us/step\n"
     ]
    }
   ],
   "source": [
    "# A dictionary mapping words to an integer index\n",
    "word_index = imdb.get_word_index()\n",
    "\n",
    "# The first indices are reserved\n",
    "word_index = {k:(v+3) for k,v in word_index.items()}\n",
    "word_index[\"<PAD>\"] = 0\n",
    "word_index[\"<START>\"] = 1\n",
    "word_index[\"<UNK>\"] = 2  # unknown\n",
    "word_index[\"<UNUSED>\"] = 3\n",
    "\n",
    "reverse_word_index = dict([(value, key) for (key, value) in word_index.items()])\n",
    "\n",
    "def decode_review(text):\n",
    "    return ' '.join([reverse_word_index.get(i, '?') for i in text])"
   ]
  },
  {
   "cell_type": "code",
   "execution_count": 5,
   "metadata": {},
   "outputs": [
    {
     "data": {
      "text/plain": [
       "\"<START> this film was just brilliant casting location scenery story direction everyone's really suited the part they played and you could just imagine being there robert <UNK> is an amazing actor and now the same being director <UNK> father came from the same scottish island as myself so i loved the fact there was a real connection with this film the witty remarks throughout the film were great it was just brilliant so much that i bought the film as soon as it was released for <UNK> and would recommend it to everyone to watch and the fly fishing was amazing really cried at the end it was so sad and you know what they say if you cry at a film it must have been good and this definitely was also <UNK> to the two little boy's that played the <UNK> of norman and paul they were just brilliant children are often left out of the <UNK> list i think because the stars that play them all grown up are such a big profile for the whole film but these children are amazing and should be praised for what they have done don't you think the whole story was so lovely because it was true and was someone's life after all that was shared with us all\""
      ]
     },
     "execution_count": 5,
     "metadata": {},
     "output_type": "execute_result"
    }
   ],
   "source": [
    "\"<START> this film was just brilliant casting location scenery story direction everyone's really suited the part they played and you could just imagine being there robert <UNK> is an amazing actor and now the same being director <UNK> father came from the same scottish island as myself so i loved the fact there was a real connection with this film the witty remarks throughout the film were great it was just brilliant so much that i bought the film as soon as it was released for <UNK> and would recommend it to everyone to watch and the fly fishing was amazing really cried at the end it was so sad and you know what they say if you cry at a film it must have been good and this definitely was also <UNK> to the two little boy's that played the <UNK> of norman and paul they were just brilliant children are often left out of the <UNK> list i think because the stars that play them all grown up are such a big profile for the whole film but these children are amazing and should be praised for what they have done don't you think the whole story was so lovely because it was true and was someone's life after all that was shared with us all\""
   ]
  },
  {
   "cell_type": "code",
   "execution_count": 6,
   "metadata": {},
   "outputs": [
    {
     "data": {
      "text/plain": [
       "\"<START> this film was just brilliant casting location scenery story direction everyone's really suited the part they played and you could just imagine being there robert <UNK> is an amazing actor and now the same being director <UNK> father came from the same scottish island as myself so i loved the fact there was a real connection with this film the witty remarks throughout the film were great it was just brilliant so much that i bought the film as soon as it was released for <UNK> and would recommend it to everyone to watch and the fly fishing was amazing really cried at the end it was so sad and you know what they say if you cry at a film it must have been good and this definitely was also <UNK> to the two little boy's that played the <UNK> of norman and paul they were just brilliant children are often left out of the <UNK> list i think because the stars that play them all grown up are such a big profile for the whole film but these children are amazing and should be praised for what they have done don't you think the whole story was so lovely because it was true and was someone's life after all that was shared with us all\""
      ]
     },
     "execution_count": 6,
     "metadata": {},
     "output_type": "execute_result"
    }
   ],
   "source": [
    "decode_review(train_data[0])"
   ]
  },
  {
   "cell_type": "code",
   "execution_count": 7,
   "metadata": {},
   "outputs": [],
   "source": [
    "train_data = keras.preprocessing.sequence.pad_sequences(train_data,\n",
    "                                                        value=word_index[\"<PAD>\"],\n",
    "                                                        padding='post',\n",
    "                                                        maxlen=256)\n",
    "\n",
    "test_data = keras.preprocessing.sequence.pad_sequences(test_data,\n",
    "                                                       value=word_index[\"<PAD>\"],\n",
    "                                                       padding='post',\n",
    "                                                       maxlen=256)"
   ]
  },
  {
   "cell_type": "code",
   "execution_count": 8,
   "metadata": {},
   "outputs": [
    {
     "name": "stdout",
     "output_type": "stream",
     "text": [
      "WARNING:tensorflow:From /anaconda3/lib/python3.7/site-packages/tensorflow/python/ops/resource_variable_ops.py:435: colocate_with (from tensorflow.python.framework.ops) is deprecated and will be removed in a future version.\n",
      "Instructions for updating:\n",
      "Colocations handled automatically by placer.\n",
      "_________________________________________________________________\n",
      "Layer (type)                 Output Shape              Param #   \n",
      "=================================================================\n",
      "embedding (Embedding)        (None, None, 16)          160000    \n",
      "_________________________________________________________________\n",
      "global_average_pooling1d (Gl (None, 16)                0         \n",
      "_________________________________________________________________\n",
      "dense (Dense)                (None, 16)                272       \n",
      "_________________________________________________________________\n",
      "dense_1 (Dense)              (None, 1)                 17        \n",
      "=================================================================\n",
      "Total params: 160,289\n",
      "Trainable params: 160,289\n",
      "Non-trainable params: 0\n",
      "_________________________________________________________________\n"
     ]
    }
   ],
   "source": [
    "# input shape is the vocabulary count used for the movie reviews (10,000 words)\n",
    "vocab_size = 10000\n",
    "\n",
    "model = keras.Sequential()\n",
    "model.add(keras.layers.Embedding(vocab_size, 16))\n",
    "model.add(keras.layers.GlobalAveragePooling1D())\n",
    "model.add(keras.layers.Dense(16, activation=tf.nn.relu))\n",
    "model.add(keras.layers.Dense(1, activation=tf.nn.sigmoid))\n",
    "\n",
    "model.summary()"
   ]
  },
  {
   "cell_type": "code",
   "execution_count": 9,
   "metadata": {},
   "outputs": [],
   "source": [
    "model.compile(optimizer='adam',\n",
    "              loss='binary_crossentropy',\n",
    "              metrics=['acc'])"
   ]
  },
  {
   "cell_type": "code",
   "execution_count": 10,
   "metadata": {},
   "outputs": [],
   "source": [
    "x_val = train_data[:10000]\n",
    "partial_x_train = train_data[10000:]\n",
    "\n",
    "y_val = train_labels[:10000]\n",
    "partial_y_train = train_labels[10000:]"
   ]
  },
  {
   "cell_type": "code",
   "execution_count": 11,
   "metadata": {},
   "outputs": [
    {
     "name": "stdout",
     "output_type": "stream",
     "text": [
      "Train on 15000 samples, validate on 10000 samples\n",
      "WARNING:tensorflow:From /anaconda3/lib/python3.7/site-packages/tensorflow/python/ops/math_ops.py:3066: to_int32 (from tensorflow.python.ops.math_ops) is deprecated and will be removed in a future version.\n",
      "Instructions for updating:\n",
      "Use tf.cast instead.\n",
      "Epoch 1/40\n",
      "15000/15000 [==============================] - 11s 716us/sample - loss: 0.6925 - acc: 0.5852 - val_loss: 0.6915 - val_acc: 0.5837\n",
      "Epoch 2/40\n",
      "15000/15000 [==============================] - 4s 285us/sample - loss: 0.6892 - acc: 0.6674 - val_loss: 0.6862 - val_acc: 0.7162\n",
      "Epoch 3/40\n",
      "15000/15000 [==============================] - 4s 290us/sample - loss: 0.6793 - acc: 0.7343 - val_loss: 0.6725 - val_acc: 0.7394\n",
      "Epoch 4/40\n",
      "15000/15000 [==============================] - 5s 326us/sample - loss: 0.6601 - acc: 0.7535 - val_loss: 0.6498 - val_acc: 0.7423\n",
      "Epoch 5/40\n",
      "15000/15000 [==============================] - 5s 311us/sample - loss: 0.6302 - acc: 0.7793 - val_loss: 0.6178 - val_acc: 0.7672\n",
      "Epoch 6/40\n",
      "15000/15000 [==============================] - 5s 335us/sample - loss: 0.5911 - acc: 0.8002 - val_loss: 0.5793 - val_acc: 0.7946\n",
      "Epoch 7/40\n",
      "15000/15000 [==============================] - 5s 306us/sample - loss: 0.5461 - acc: 0.8181 - val_loss: 0.5365 - val_acc: 0.8103\n",
      "Epoch 8/40\n",
      "15000/15000 [==============================] - 4s 299us/sample - loss: 0.4998 - acc: 0.8375 - val_loss: 0.4958 - val_acc: 0.8250\n",
      "Epoch 9/40\n",
      "15000/15000 [==============================] - 6s 375us/sample - loss: 0.4556 - acc: 0.8521 - val_loss: 0.4579 - val_acc: 0.8371\n",
      "Epoch 10/40\n",
      "15000/15000 [==============================] - 5s 310us/sample - loss: 0.4158 - acc: 0.8664 - val_loss: 0.4259 - val_acc: 0.8461\n",
      "Epoch 11/40\n",
      "15000/15000 [==============================] - 6s 433us/sample - loss: 0.3816 - acc: 0.8759 - val_loss: 0.3991 - val_acc: 0.8549\n",
      "Epoch 12/40\n",
      "15000/15000 [==============================] - 7s 494us/sample - loss: 0.3525 - acc: 0.8846 - val_loss: 0.3782 - val_acc: 0.8572\n",
      "Epoch 13/40\n",
      "15000/15000 [==============================] - 4s 296us/sample - loss: 0.3288 - acc: 0.8903 - val_loss: 0.3595 - val_acc: 0.8654\n",
      "Epoch 14/40\n",
      "15000/15000 [==============================] - 5s 313us/sample - loss: 0.3074 - acc: 0.8965 - val_loss: 0.3459 - val_acc: 0.8688\n",
      "Epoch 15/40\n",
      "15000/15000 [==============================] - 4s 294us/sample - loss: 0.2897 - acc: 0.9003 - val_loss: 0.3345 - val_acc: 0.8710\n",
      "Epoch 16/40\n",
      "15000/15000 [==============================] - 4s 289us/sample - loss: 0.2738 - acc: 0.9063 - val_loss: 0.3250 - val_acc: 0.8731\n",
      "Epoch 17/40\n",
      "15000/15000 [==============================] - 4s 291us/sample - loss: 0.2592 - acc: 0.9105 - val_loss: 0.3171 - val_acc: 0.8756\n",
      "Epoch 18/40\n",
      "15000/15000 [==============================] - 4s 286us/sample - loss: 0.2464 - acc: 0.9147 - val_loss: 0.3101 - val_acc: 0.8786\n",
      "Epoch 19/40\n",
      "15000/15000 [==============================] - 4s 284us/sample - loss: 0.2348 - acc: 0.9186 - val_loss: 0.3043 - val_acc: 0.8796\n",
      "Epoch 20/40\n",
      "15000/15000 [==============================] - 4s 272us/sample - loss: 0.2243 - acc: 0.9227 - val_loss: 0.3002 - val_acc: 0.8798\n",
      "Epoch 21/40\n",
      "15000/15000 [==============================] - 4s 273us/sample - loss: 0.2139 - acc: 0.9271 - val_loss: 0.2965 - val_acc: 0.8801\n",
      "Epoch 22/40\n",
      "15000/15000 [==============================] - 4s 272us/sample - loss: 0.2050 - acc: 0.9293 - val_loss: 0.2933 - val_acc: 0.8832\n",
      "Epoch 23/40\n",
      "15000/15000 [==============================] - 4s 275us/sample - loss: 0.1961 - acc: 0.9328 - val_loss: 0.2915 - val_acc: 0.8831\n",
      "Epoch 24/40\n",
      "15000/15000 [==============================] - 4s 272us/sample - loss: 0.1884 - acc: 0.9368 - val_loss: 0.2890 - val_acc: 0.8831\n",
      "Epoch 25/40\n",
      "15000/15000 [==============================] - 4s 276us/sample - loss: 0.1804 - acc: 0.9409 - val_loss: 0.2871 - val_acc: 0.8843\n",
      "Epoch 26/40\n",
      "15000/15000 [==============================] - 5s 302us/sample - loss: 0.1734 - acc: 0.9435 - val_loss: 0.2869 - val_acc: 0.8834\n",
      "Epoch 27/40\n",
      "15000/15000 [==============================] - 5s 331us/sample - loss: 0.1667 - acc: 0.9465 - val_loss: 0.2860 - val_acc: 0.8844\n",
      "Epoch 28/40\n",
      "15000/15000 [==============================] - 5s 316us/sample - loss: 0.1603 - acc: 0.9500 - val_loss: 0.2854 - val_acc: 0.8843\n",
      "Epoch 29/40\n",
      "15000/15000 [==============================] - 4s 291us/sample - loss: 0.1548 - acc: 0.9520 - val_loss: 0.2868 - val_acc: 0.8835\n",
      "Epoch 30/40\n",
      "15000/15000 [==============================] - 5s 306us/sample - loss: 0.1490 - acc: 0.9541 - val_loss: 0.2857 - val_acc: 0.8848\n",
      "Epoch 31/40\n",
      "15000/15000 [==============================] - 5s 348us/sample - loss: 0.1431 - acc: 0.9570 - val_loss: 0.2862 - val_acc: 0.8852\n",
      "Epoch 32/40\n",
      "15000/15000 [==============================] - 4s 280us/sample - loss: 0.1377 - acc: 0.9587 - val_loss: 0.2871 - val_acc: 0.8858\n",
      "Epoch 33/40\n",
      "15000/15000 [==============================] - 4s 291us/sample - loss: 0.1326 - acc: 0.9603 - val_loss: 0.2889 - val_acc: 0.8846\n",
      "Epoch 34/40\n",
      "15000/15000 [==============================] - 5s 309us/sample - loss: 0.1281 - acc: 0.9629 - val_loss: 0.2900 - val_acc: 0.8854\n",
      "Epoch 35/40\n",
      "15000/15000 [==============================] - 5s 327us/sample - loss: 0.1239 - acc: 0.9637 - val_loss: 0.2922 - val_acc: 0.8852\n",
      "Epoch 36/40\n",
      "15000/15000 [==============================] - 5s 324us/sample - loss: 0.1193 - acc: 0.9661 - val_loss: 0.2936 - val_acc: 0.8859\n",
      "Epoch 37/40\n",
      "15000/15000 [==============================] - 5s 344us/sample - loss: 0.1149 - acc: 0.9679 - val_loss: 0.2955 - val_acc: 0.8852\n",
      "Epoch 38/40\n",
      "15000/15000 [==============================] - 5s 301us/sample - loss: 0.1108 - acc: 0.9691 - val_loss: 0.2984 - val_acc: 0.8833\n",
      "Epoch 39/40\n",
      "15000/15000 [==============================] - 4s 281us/sample - loss: 0.1075 - acc: 0.9704 - val_loss: 0.3009 - val_acc: 0.8829\n",
      "Epoch 40/40\n",
      "15000/15000 [==============================] - 5s 305us/sample - loss: 0.1035 - acc: 0.9721 - val_loss: 0.3028 - val_acc: 0.8828\n"
     ]
    }
   ],
   "source": [
    "#train model\n",
    "history = model.fit(partial_x_train,\n",
    "                    partial_y_train,\n",
    "                    epochs=40,\n",
    "                    batch_size=512,\n",
    "                    validation_data=(x_val, y_val),\n",
    "                    verbose=1)"
   ]
  },
  {
   "cell_type": "code",
   "execution_count": 12,
   "metadata": {},
   "outputs": [
    {
     "name": "stdout",
     "output_type": "stream",
     "text": [
      "25000/25000 [==============================] - 2s 95us/sample - loss: 0.3221 - acc: 0.8735\n",
      "[0.32207578671455384, 0.87352]\n"
     ]
    }
   ],
   "source": [
    "#evaluate model\n",
    "results = model.evaluate(test_data, test_labels)\n",
    "\n",
    "print(results)"
   ]
  },
  {
   "cell_type": "code",
   "execution_count": 14,
   "metadata": {},
   "outputs": [
    {
     "data": {
      "text/plain": [
       "dict_keys(['loss', 'acc', 'val_loss', 'val_acc'])"
      ]
     },
     "execution_count": 14,
     "metadata": {},
     "output_type": "execute_result"
    }
   ],
   "source": [
    "history_dict = history.history\n",
    "history_dict.keys()"
   ]
  },
  {
   "cell_type": "code",
   "execution_count": 15,
   "metadata": {},
   "outputs": [
    {
     "data": {
      "image/png": "[encoded data removed]",
      "text/plain": [
       "<Figure size 432x288 with 1 Axes>"
      ]
     },
     "metadata": {
      "needs_background": "light"
     },
     "output_type": "display_data"
    }
   ],
   "source": [
    "import matplotlib.pyplot as plt\n",
    "\n",
    "acc = history_dict['acc']\n",
    "val_acc = history_dict['val_acc']\n",
    "loss = history_dict['loss']\n",
    "val_loss = history_dict['val_loss']\n",
    "\n",
    "epochs = range(1, len(acc) + 1)\n",
    "\n",
    "# \"bo\" is for \"blue dot\"\n",
    "plt.plot(epochs, loss, 'bo', label='Training loss')\n",
    "# b is for \"solid blue line\"\n",
    "plt.plot(epochs, val_loss, 'b', label='Validation loss')\n",
    "plt.title('Training and validation loss')\n",
    "plt.xlabel('Epochs')\n",
    "plt.ylabel('Loss')\n",
    "plt.legend()\n",
    "\n",
    "plt.show()"
   ]
  },
  {
   "cell_type": "code",
   "execution_count": 16,
   "metadata": {},
   "outputs": [
    {
     "data": {
      "image/png": "[encoded data removed]",
      "text/plain": [
       "<Figure size 432x288 with 1 Axes>"
      ]
     },
     "metadata": {
      "needs_background": "light"
     },
     "output_type": "display_data"
    }
   ],
   "source": [
    "plt.clf()   # clear figure\n",
    "\n",
    "plt.plot(epochs, acc, 'bo', label='Training acc')\n",
    "plt.plot(epochs, val_acc, 'b', label='Validation acc')\n",
    "plt.title('Training and validation accuracy')\n",
    "plt.xlabel('Epochs')\n",
    "plt.ylabel('Accuracy')\n",
    "plt.legend()\n",
    "\n",
    "plt.show()"
   ]
  },
  {
   "cell_type": "code",
   "execution_count": 17,
   "metadata": {},
   "outputs": [],
   "source": [
    "#reducing overfitting\n",
    "NUM_WORDS = 10000\n",
    "\n",
    "(train_data, train_labels), (test_data, test_labels) = keras.datasets.imdb.load_data(num_words=NUM_WORDS)\n",
    "\n",
    "def multi_hot_sequences(sequences, dimension):\n",
    "    # Create an all-zero matrix of shape (len(sequences), dimension)\n",
    "    results = np.zeros((len(sequences), dimension))\n",
    "    for i, word_indices in enumerate(sequences):\n",
    "        results[i, word_indices] = 1.0  # set specific indices of results[i] to 1s\n",
    "    return results\n",
    "\n",
    "\n",
    "train_data = multi_hot_sequences(train_data, dimension=NUM_WORDS)\n",
    "test_data = multi_hot_sequences(test_data, dimension=NUM_WORDS)"
   ]
  },
  {
   "cell_type": "code",
   "execution_count": 18,
   "metadata": {},
   "outputs": [
    {
     "name": "stdout",
     "output_type": "stream",
     "text": [
      "_________________________________________________________________\n",
      "Layer (type)                 Output Shape              Param #   \n",
      "=================================================================\n",
      "dense_2 (Dense)              (None, 16)                160016    \n",
      "_________________________________________________________________\n",
      "dense_3 (Dense)              (None, 16)                272       \n",
      "_________________________________________________________________\n",
      "dense_4 (Dense)              (None, 1)                 17        \n",
      "=================================================================\n",
      "Total params: 160,305\n",
      "Trainable params: 160,305\n",
      "Non-trainable params: 0\n",
      "_________________________________________________________________\n"
     ]
    }
   ],
   "source": [
    "baseline_model = keras.Sequential([\n",
    "    # `input_shape` is only required here so that `.summary` works.\n",
    "    keras.layers.Dense(16, activation=tf.nn.relu, input_shape=(NUM_WORDS,)),\n",
    "    keras.layers.Dense(16, activation=tf.nn.relu),\n",
    "    keras.layers.Dense(1, activation=tf.nn.sigmoid)\n",
    "])\n",
    "\n",
    "baseline_model.compile(optimizer='adam',\n",
    "                       loss='binary_crossentropy',\n",
    "                       metrics=['accuracy', 'binary_crossentropy'])\n",
    "\n",
    "baseline_model.summary()"
   ]
  },
  {
   "cell_type": "code",
   "execution_count": 19,
   "metadata": {},
   "outputs": [
    {
     "name": "stdout",
     "output_type": "stream",
     "text": [
      "Train on 25000 samples, validate on 25000 samples\n",
      "Epoch 1/20\n",
      " - 12s - loss: 0.4969 - acc: 0.7915 - binary_crossentropy: 0.4969 - val_loss: 0.3501 - val_acc: 0.8732 - val_binary_crossentropy: 0.3501\n",
      "Epoch 2/20\n",
      " - 10s - loss: 0.2600 - acc: 0.9104 - binary_crossentropy: 0.2600 - val_loss: 0.2887 - val_acc: 0.8880 - val_binary_crossentropy: 0.2887\n",
      "Epoch 3/20\n",
      " - 9s - loss: 0.1886 - acc: 0.9356 - binary_crossentropy: 0.1886 - val_loss: 0.2885 - val_acc: 0.8834 - val_binary_crossentropy: 0.2885\n",
      "Epoch 4/20\n",
      " - 10s - loss: 0.1498 - acc: 0.9500 - binary_crossentropy: 0.1498 - val_loss: 0.3143 - val_acc: 0.8755 - val_binary_crossentropy: 0.3143\n",
      "Epoch 5/20\n",
      " - 10s - loss: 0.1213 - acc: 0.9616 - binary_crossentropy: 0.1213 - val_loss: 0.3280 - val_acc: 0.8750 - val_binary_crossentropy: 0.3280\n",
      "Epoch 6/20\n",
      " - 10s - loss: 0.0979 - acc: 0.9718 - binary_crossentropy: 0.0979 - val_loss: 0.3550 - val_acc: 0.8722 - val_binary_crossentropy: 0.3550\n",
      "Epoch 7/20\n",
      " - 10s - loss: 0.0790 - acc: 0.9788 - binary_crossentropy: 0.0790 - val_loss: 0.3869 - val_acc: 0.8691 - val_binary_crossentropy: 0.3869\n",
      "Epoch 8/20\n",
      " - 10s - loss: 0.0651 - acc: 0.9843 - binary_crossentropy: 0.0651 - val_loss: 0.4189 - val_acc: 0.8676 - val_binary_crossentropy: 0.4189\n",
      "Epoch 9/20\n",
      " - 9s - loss: 0.0512 - acc: 0.9898 - binary_crossentropy: 0.0512 - val_loss: 0.4475 - val_acc: 0.8646 - val_binary_crossentropy: 0.4475\n",
      "Epoch 10/20\n",
      " - 8s - loss: 0.0419 - acc: 0.9926 - binary_crossentropy: 0.0419 - val_loss: 0.4857 - val_acc: 0.8625 - val_binary_crossentropy: 0.4857\n",
      "Epoch 11/20\n",
      " - 9s - loss: 0.0329 - acc: 0.9951 - binary_crossentropy: 0.0329 - val_loss: 0.5162 - val_acc: 0.8608 - val_binary_crossentropy: 0.5162\n",
      "Epoch 12/20\n",
      " - 10s - loss: 0.0257 - acc: 0.9968 - binary_crossentropy: 0.0257 - val_loss: 0.5502 - val_acc: 0.8600 - val_binary_crossentropy: 0.5502\n",
      "Epoch 13/20\n",
      " - 9s - loss: 0.0204 - acc: 0.9981 - binary_crossentropy: 0.0204 - val_loss: 0.5808 - val_acc: 0.8594 - val_binary_crossentropy: 0.5808\n",
      "Epoch 14/20\n",
      " - 9s - loss: 0.0159 - acc: 0.9988 - binary_crossentropy: 0.0159 - val_loss: 0.6169 - val_acc: 0.8572 - val_binary_crossentropy: 0.6169\n",
      "Epoch 15/20\n",
      " - 8s - loss: 0.0128 - acc: 0.9992 - binary_crossentropy: 0.0128 - val_loss: 0.6308 - val_acc: 0.8577 - val_binary_crossentropy: 0.6308\n",
      "Epoch 16/20\n",
      " - 9s - loss: 0.0105 - acc: 0.9994 - binary_crossentropy: 0.0105 - val_loss: 0.6600 - val_acc: 0.8570 - val_binary_crossentropy: 0.6600\n",
      "Epoch 17/20\n",
      " - 8s - loss: 0.0087 - acc: 0.9994 - binary_crossentropy: 0.0087 - val_loss: 0.6768 - val_acc: 0.8568 - val_binary_crossentropy: 0.6768\n",
      "Epoch 18/20\n",
      " - 7s - loss: 0.0071 - acc: 0.9994 - binary_crossentropy: 0.0071 - val_loss: 0.7033 - val_acc: 0.8557 - val_binary_crossentropy: 0.7033\n",
      "Epoch 19/20\n",
      " - 7s - loss: 0.0058 - acc: 0.9996 - binary_crossentropy: 0.0058 - val_loss: 0.7199 - val_acc: 0.8554 - val_binary_crossentropy: 0.7199\n",
      "Epoch 20/20\n",
      " - 7s - loss: 0.0047 - acc: 0.9997 - binary_crossentropy: 0.0047 - val_loss: 0.7385 - val_acc: 0.8551 - val_binary_crossentropy: 0.7385\n"
     ]
    }
   ],
   "source": [
    "baseline_history = baseline_model.fit(train_data,\n",
    "                                      train_labels,\n",
    "                                      epochs=20,\n",
    "                                      batch_size=512,\n",
    "                                      validation_data=(test_data, test_labels),\n",
    "                                      verbose=2)"
   ]
  },
  {
   "cell_type": "code",
   "execution_count": 20,
   "metadata": {},
   "outputs": [
    {
     "name": "stdout",
     "output_type": "stream",
     "text": [
      "_________________________________________________________________\n",
      "Layer (type)                 Output Shape              Param #   \n",
      "=================================================================\n",
      "dense_5 (Dense)              (None, 4)                 40004     \n",
      "_________________________________________________________________\n",
      "dense_6 (Dense)              (None, 4)                 20        \n",
      "_________________________________________________________________\n",
      "dense_7 (Dense)              (None, 1)                 5         \n",
      "=================================================================\n",
      "Total params: 40,029\n",
      "Trainable params: 40,029\n",
      "Non-trainable params: 0\n",
      "_________________________________________________________________\n"
     ]
    }
   ],
   "source": [
    "#smaller model\n",
    "smaller_model = keras.Sequential([\n",
    "    keras.layers.Dense(4, activation=tf.nn.relu, input_shape=(NUM_WORDS,)),\n",
    "    keras.layers.Dense(4, activation=tf.nn.relu),\n",
    "    keras.layers.Dense(1, activation=tf.nn.sigmoid)\n",
    "])\n",
    "\n",
    "smaller_model.compile(optimizer='adam',\n",
    "                loss='binary_crossentropy',\n",
    "                metrics=['accuracy', 'binary_crossentropy'])\n",
    "\n",
    "smaller_model.summary()"
   ]
  },
  {
   "cell_type": "code",
   "execution_count": 21,
   "metadata": {},
   "outputs": [
    {
     "name": "stdout",
     "output_type": "stream",
     "text": [
      "Train on 25000 samples, validate on 25000 samples\n",
      "Epoch 1/20\n",
      " - 13s - loss: 0.5809 - acc: 0.7416 - binary_crossentropy: 0.5809 - val_loss: 0.4640 - val_acc: 0.8406 - val_binary_crossentropy: 0.4640\n",
      "Epoch 2/20\n",
      " - 10s - loss: 0.3675 - acc: 0.8844 - binary_crossentropy: 0.3675 - val_loss: 0.3491 - val_acc: 0.8756 - val_binary_crossentropy: 0.3491\n",
      "Epoch 3/20\n",
      " - 9s - loss: 0.2745 - acc: 0.9093 - binary_crossentropy: 0.2745 - val_loss: 0.3084 - val_acc: 0.8822 - val_binary_crossentropy: 0.3084\n",
      "Epoch 4/20\n",
      " - 9s - loss: 0.2264 - acc: 0.9246 - binary_crossentropy: 0.2264 - val_loss: 0.2903 - val_acc: 0.8851 - val_binary_crossentropy: 0.2903\n",
      "Epoch 5/20\n",
      " - 9s - loss: 0.1950 - acc: 0.9350 - binary_crossentropy: 0.1950 - val_loss: 0.2844 - val_acc: 0.8872 - val_binary_crossentropy: 0.2844\n",
      "Epoch 6/20\n",
      " - 8s - loss: 0.1727 - acc: 0.9431 - binary_crossentropy: 0.1727 - val_loss: 0.2850 - val_acc: 0.8859 - val_binary_crossentropy: 0.2850\n",
      "Epoch 7/20\n",
      " - 9s - loss: 0.1543 - acc: 0.9499 - binary_crossentropy: 0.1543 - val_loss: 0.2905 - val_acc: 0.8842 - val_binary_crossentropy: 0.2905\n",
      "Epoch 8/20\n",
      " - 9s - loss: 0.1394 - acc: 0.9555 - binary_crossentropy: 0.1394 - val_loss: 0.2988 - val_acc: 0.8816 - val_binary_crossentropy: 0.2988\n",
      "Epoch 9/20\n",
      " - 8s - loss: 0.1268 - acc: 0.9600 - binary_crossentropy: 0.1268 - val_loss: 0.3165 - val_acc: 0.8768 - val_binary_crossentropy: 0.3165\n",
      "Epoch 10/20\n",
      " - 7s - loss: 0.1162 - acc: 0.9638 - binary_crossentropy: 0.1162 - val_loss: 0.3234 - val_acc: 0.8761 - val_binary_crossentropy: 0.3234\n",
      "Epoch 11/20\n",
      " - 7s - loss: 0.1059 - acc: 0.9674 - binary_crossentropy: 0.1059 - val_loss: 0.3359 - val_acc: 0.8744 - val_binary_crossentropy: 0.3359\n",
      "Epoch 12/20\n",
      " - 7s - loss: 0.0972 - acc: 0.9708 - binary_crossentropy: 0.0972 - val_loss: 0.3511 - val_acc: 0.8724 - val_binary_crossentropy: 0.3511\n",
      "Epoch 13/20\n",
      " - 6s - loss: 0.0891 - acc: 0.9746 - binary_crossentropy: 0.0891 - val_loss: 0.3664 - val_acc: 0.8706 - val_binary_crossentropy: 0.3664\n",
      "Epoch 14/20\n",
      " - 7s - loss: 0.0818 - acc: 0.9774 - binary_crossentropy: 0.0818 - val_loss: 0.3832 - val_acc: 0.8694 - val_binary_crossentropy: 0.3832\n",
      "Epoch 15/20\n",
      " - 7s - loss: 0.0754 - acc: 0.9797 - binary_crossentropy: 0.0754 - val_loss: 0.3998 - val_acc: 0.8672 - val_binary_crossentropy: 0.3998\n",
      "Epoch 16/20\n",
      " - 6s - loss: 0.0699 - acc: 0.9819 - binary_crossentropy: 0.0699 - val_loss: 0.4172 - val_acc: 0.8664 - val_binary_crossentropy: 0.4172\n",
      "Epoch 17/20\n",
      " - 7s - loss: 0.0631 - acc: 0.9852 - binary_crossentropy: 0.0631 - val_loss: 0.4343 - val_acc: 0.8643 - val_binary_crossentropy: 0.4343\n",
      "Epoch 18/20\n",
      " - 6s - loss: 0.0578 - acc: 0.9876 - binary_crossentropy: 0.0578 - val_loss: 0.4557 - val_acc: 0.8624 - val_binary_crossentropy: 0.4557\n",
      "Epoch 19/20\n",
      " - 6s - loss: 0.0530 - acc: 0.9892 - binary_crossentropy: 0.0530 - val_loss: 0.4718 - val_acc: 0.8622 - val_binary_crossentropy: 0.4718\n",
      "Epoch 20/20\n",
      " - 6s - loss: 0.0484 - acc: 0.9907 - binary_crossentropy: 0.0484 - val_loss: 0.4929 - val_acc: 0.8610 - val_binary_crossentropy: 0.4929\n"
     ]
    }
   ],
   "source": [
    "smaller_history = smaller_model.fit(train_data,\n",
    "                                    train_labels,\n",
    "                                    epochs=20,\n",
    "                                    batch_size=512,\n",
    "                                    validation_data=(test_data, test_labels),\n",
    "                                    verbose=2)"
   ]
  },
  {
   "cell_type": "code",
   "execution_count": 22,
   "metadata": {},
   "outputs": [
    {
     "name": "stdout",
     "output_type": "stream",
     "text": [
      "_________________________________________________________________\n",
      "Layer (type)                 Output Shape              Param #   \n",
      "=================================================================\n",
      "dense_8 (Dense)              (None, 512)               5120512   \n",
      "_________________________________________________________________\n",
      "dense_9 (Dense)              (None, 512)               262656    \n",
      "_________________________________________________________________\n",
      "dense_10 (Dense)             (None, 1)                 513       \n",
      "=================================================================\n",
      "Total params: 5,383,681\n",
      "Trainable params: 5,383,681\n",
      "Non-trainable params: 0\n",
      "_________________________________________________________________\n"
     ]
    }
   ],
   "source": [
    "#bigger model\n",
    "bigger_model = keras.models.Sequential([\n",
    "    keras.layers.Dense(512, activation=tf.nn.relu, input_shape=(NUM_WORDS,)),\n",
    "    keras.layers.Dense(512, activation=tf.nn.relu),\n",
    "    keras.layers.Dense(1, activation=tf.nn.sigmoid)\n",
    "])\n",
    "\n",
    "bigger_model.compile(optimizer='adam',\n",
    "                     loss='binary_crossentropy',\n",
    "                     metrics=['accuracy','binary_crossentropy'])\n",
    "\n",
    "bigger_model.summary()"
   ]
  },
  {
   "cell_type": "code",
   "execution_count": 23,
   "metadata": {},
   "outputs": [
    {
     "name": "stdout",
     "output_type": "stream",
     "text": [
      "Train on 25000 samples, validate on 25000 samples\n",
      "Epoch 1/20\n",
      " - 40s - loss: 0.3481 - acc: 0.8483 - binary_crossentropy: 0.3481 - val_loss: 0.3026 - val_acc: 0.8755 - val_binary_crossentropy: 0.3026\n",
      "Epoch 2/20\n",
      " - 31s - loss: 0.1476 - acc: 0.9468 - binary_crossentropy: 0.1476 - val_loss: 0.3295 - val_acc: 0.8728 - val_binary_crossentropy: 0.3295\n",
      "Epoch 3/20\n",
      " - 26s - loss: 0.0479 - acc: 0.9854 - binary_crossentropy: 0.0479 - val_loss: 0.4496 - val_acc: 0.8667 - val_binary_crossentropy: 0.4496\n",
      "Epoch 4/20\n",
      " - 26s - loss: 0.0073 - acc: 0.9988 - binary_crossentropy: 0.0073 - val_loss: 0.5926 - val_acc: 0.8662 - val_binary_crossentropy: 0.5926\n",
      "Epoch 5/20\n",
      " - 26s - loss: 0.0014 - acc: 0.9999 - binary_crossentropy: 0.0014 - val_loss: 0.6790 - val_acc: 0.8694 - val_binary_crossentropy: 0.6790\n",
      "Epoch 6/20\n",
      " - 25s - loss: 3.0276e-04 - acc: 1.0000 - binary_crossentropy: 3.0276e-04 - val_loss: 0.7170 - val_acc: 0.8701 - val_binary_crossentropy: 0.7170\n",
      "Epoch 7/20\n",
      " - 26s - loss: 1.4051e-04 - acc: 1.0000 - binary_crossentropy: 1.4051e-04 - val_loss: 0.7454 - val_acc: 0.8696 - val_binary_crossentropy: 0.7454\n",
      "Epoch 8/20\n",
      " - 26s - loss: 9.5534e-05 - acc: 1.0000 - binary_crossentropy: 9.5534e-05 - val_loss: 0.7653 - val_acc: 0.8698 - val_binary_crossentropy: 0.7653\n",
      "Epoch 9/20\n",
      " - 25s - loss: 7.2632e-05 - acc: 1.0000 - binary_crossentropy: 7.2632e-05 - val_loss: 0.7807 - val_acc: 0.8700 - val_binary_crossentropy: 0.7807\n",
      "Epoch 10/20\n",
      " - 25s - loss: 5.8187e-05 - acc: 1.0000 - binary_crossentropy: 5.8187e-05 - val_loss: 0.7937 - val_acc: 0.8702 - val_binary_crossentropy: 0.7937\n",
      "Epoch 11/20\n",
      " - 25s - loss: 4.7783e-05 - acc: 1.0000 - binary_crossentropy: 4.7783e-05 - val_loss: 0.8047 - val_acc: 0.8703 - val_binary_crossentropy: 0.8047\n",
      "Epoch 12/20\n",
      " - 25s - loss: 4.0165e-05 - acc: 1.0000 - binary_crossentropy: 4.0165e-05 - val_loss: 0.8143 - val_acc: 0.8703 - val_binary_crossentropy: 0.8143\n",
      "Epoch 13/20\n",
      " - 26s - loss: 3.4170e-05 - acc: 1.0000 - binary_crossentropy: 3.4170e-05 - val_loss: 0.8224 - val_acc: 0.8704 - val_binary_crossentropy: 0.8224\n",
      "Epoch 14/20\n",
      " - 26s - loss: 2.9510e-05 - acc: 1.0000 - binary_crossentropy: 2.9510e-05 - val_loss: 0.8306 - val_acc: 0.8703 - val_binary_crossentropy: 0.8306\n",
      "Epoch 15/20\n",
      " - 26s - loss: 2.5714e-05 - acc: 1.0000 - binary_crossentropy: 2.5714e-05 - val_loss: 0.8377 - val_acc: 0.8705 - val_binary_crossentropy: 0.8377\n",
      "Epoch 16/20\n",
      " - 25s - loss: 2.2665e-05 - acc: 1.0000 - binary_crossentropy: 2.2665e-05 - val_loss: 0.8446 - val_acc: 0.8704 - val_binary_crossentropy: 0.8446\n",
      "Epoch 17/20\n",
      " - 26s - loss: 2.0087e-05 - acc: 1.0000 - binary_crossentropy: 2.0087e-05 - val_loss: 0.8508 - val_acc: 0.8705 - val_binary_crossentropy: 0.8508\n",
      "Epoch 18/20\n",
      " - 25s - loss: 1.7914e-05 - acc: 1.0000 - binary_crossentropy: 1.7914e-05 - val_loss: 0.8567 - val_acc: 0.8704 - val_binary_crossentropy: 0.8567\n",
      "Epoch 19/20\n",
      " - 27s - loss: 1.6072e-05 - acc: 1.0000 - binary_crossentropy: 1.6072e-05 - val_loss: 0.8617 - val_acc: 0.8704 - val_binary_crossentropy: 0.8617\n",
      "Epoch 20/20\n",
      " - 23s - loss: 1.4513e-05 - acc: 1.0000 - binary_crossentropy: 1.4513e-05 - val_loss: 0.8669 - val_acc: 0.8704 - val_binary_crossentropy: 0.8669\n"
     ]
    }
   ],
   "source": [
    "bigger_history = bigger_model.fit(train_data, train_labels,\n",
    "                                  epochs=20,\n",
    "                                  batch_size=512,\n",
    "                                  validation_data=(test_data, test_labels),\n",
    "                                  verbose=2)"
   ]
  },
  {
   "cell_type": "code",
   "execution_count": null,
   "metadata": {},
   "outputs": [],
   "source": [
    "#plot training validation\n",
    "def plot_history(histories, key='binary_crossentropy'):\n",
    "  plt.figure(figsize=(16,10))\n",
    "\n",
    "  for name, history in histories:\n",
    "    val = plt.plot(history.epoch, history.history['val_'+key],\n",
    "                   '--', label=name.title()+' Val')\n",
    "    plt.plot(history.epoch, history.history[key], color=val[0].get_color(),\n",
    "             label=name.title()+' Train')\n",
    "\n",
    "  plt.xlabel('Epochs')\n",
    "  plt.ylabel(key.replace('_',' ').title())\n",
    "  plt.legend()\n",
    "\n",
    "  plt.xlim([0,max(history.epoch)])\n",
    "\n",
    "\n",
    "plot_history([('baseline', baseline_history),\n",
    "              ('smaller', smaller_history),\n",
    "              ('bigger', bigger_history)])"
   ]
  },
  {
   "cell_type": "code",
   "execution_count": null,
   "metadata": {},
   "outputs": [],
   "source": [
    "#fixing overfitting\n",
    "l2_model = keras.models.Sequential([\n",
    "    keras.layers.Dense(16, kernel_regularizer=keras.regularizers.l2(0.001),\n",
    "                       activation=tf.nn.relu, input_shape=(NUM_WORDS,)),\n",
    "    keras.layers.Dense(16, kernel_regularizer=keras.regularizers.l2(0.001),\n",
    "                       activation=tf.nn.relu),\n",
    "    keras.layers.Dense(1, activation=tf.nn.sigmoid)\n",
    "])\n",
    "\n",
    "l2_model.compile(optimizer='adam',\n",
    "                 loss='binary_crossentropy',\n",
    "                 metrics=['accuracy', 'binary_crossentropy'])\n",
    "\n",
    "l2_model_history = l2_model.fit(train_data, train_labels,\n",
    "                                epochs=20,\n",
    "                                batch_size=512,\n",
    "                                validation_data=(test_data, test_labels),\n",
    "                                verbose=2)"
   ]
  },
  {
   "cell_type": "code",
   "execution_count": null,
   "metadata": {},
   "outputs": [],
   "source": [
    "plot_history([('baseline', baseline_history),\n",
    "              ('l2', l2_model_history)])"
   ]
  },
  {
   "cell_type": "code",
   "execution_count": null,
   "metadata": {},
   "outputs": [],
   "source": [
    "#add dropout\n",
    "dpt_model = keras.models.Sequential([\n",
    "    keras.layers.Dense(16, activation=tf.nn.relu, input_shape=(NUM_WORDS,)),\n",
    "    keras.layers.Dropout(0.5),\n",
    "    keras.layers.Dense(16, activation=tf.nn.relu),\n",
    "    keras.layers.Dropout(0.5),\n",
    "    keras.layers.Dense(1, activation=tf.nn.sigmoid)\n",
    "])\n",
    "\n",
    "dpt_model.compile(optimizer='adam',\n",
    "                  loss='binary_crossentropy',\n",
    "                  metrics=['accuracy','binary_crossentropy'])\n",
    "\n",
    "dpt_model_history = dpt_model.fit(train_data, train_labels,\n",
    "                                  epochs=20,\n",
    "                                  batch_size=512,\n",
    "                                  validation_data=(test_data, test_labels),\n",
    "                                  verbose=2)"
   ]
  },
  {
   "cell_type": "code",
   "execution_count": null,
   "metadata": {},
   "outputs": [],
   "source": [
    "plot_history([('baseline', baseline_history),\n",
    "              ('dropout', dpt_model_history)])"
   ]
  },
  {
   "cell_type": "code",
   "execution_count": null,
   "metadata": {},
   "outputs": [],
   "source": []
  }
 ],
 "metadata": {
  "kernelspec": {
   "display_name": "Python 3",
   "language": "python",
   "name": "python3"
  },
  "language_info": {
   "codemirror_mode": {
    "name": "ipython",
    "version": 3
   },
   "file_extension": ".py",
   "mimetype": "text/x-python",
   "name": "python",
   "nbconvert_exporter": "python",
   "pygments_lexer": "ipython3",
   "version": "3.7.1"
  }
 },
 "nbformat": 4,
 "nbformat_minor": 2
}
