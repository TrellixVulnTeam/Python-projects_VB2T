{
 "cells": [
  {
   "cell_type": "code",
   "execution_count": 12,
   "metadata": {
    "collapsed": false
   },
   "outputs": [
    {
     "name": "stdout",
     "output_type": "stream",
     "text": [
      "[u'\\n', u' Snippet snippets/search_result_text.html start ', u'\\n\\n\\n  \\n  \\n  \\n  \\n\\n184,234 datasets found\\n', u' Snippet snippets/search_result_text.html end ', u'\\n']\n"
     ]
    }
   ],
   "source": [
    "# 101 web scraping exercises based on https://github.com/compjour/search-script-scrape\n",
    "# exercise 1\n",
    "#Number of datasets currently listed on data.gov \n",
    "\n",
    "import requests\n",
    "from bs4 import BeautifulSoup\n",
    "from urllib import urlopen \n",
    "import re\n",
    "\n",
    "BASE_URL = \"http://catalog.data.gov/dataset\"\n",
    "html = urlopen(BASE_URL).read()\n",
    "soup = BeautifulSoup(html,\"lxml\")\n",
    "output = soup.find(\"div\",\"new-results\")\n",
    "outputList = []\n",
    "for value in output:\n",
    "    outputList.append(value.string)\n",
    "print(outputList)\n",
    "\n"
   ]
  },
  {
   "cell_type": "code",
   "execution_count": null,
   "metadata": {
    "collapsed": true
   },
   "outputs": [],
   "source": []
  }
 ],
 "metadata": {
  "kernelspec": {
   "display_name": "Python 2",
   "language": "python",
   "name": "python2"
  },
  "language_info": {
   "codemirror_mode": {
    "name": "ipython",
    "version": 2
   },
   "file_extension": ".py",
   "mimetype": "text/x-python",
   "name": "python",
   "nbconvert_exporter": "python",
   "pygments_lexer": "ipython2",
   "version": "2.7.11"
  }
 },
 "nbformat": 4,
 "nbformat_minor": 0
}
