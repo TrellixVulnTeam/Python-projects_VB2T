{
 "cells": [
  {
   "cell_type": "code",
   "execution_count": 5,
   "metadata": {
    "collapsed": false
   },
   "outputs": [
    {
     "name": "stdout",
     "output_type": "stream",
     "text": [
      "{u'DES MOINES, IA': 7, u', IA': 1, u'WEST DES MOINES, IA': 1, u'MANNING, IA': 1}\n",
      "{u'White': 5, u'Black': 5}\n"
     ]
    }
   ],
   "source": [
    "# web scraping 102 using criminal justice data fro polk county\n",
    "from bs4 import BeautifulSoup\n",
    "import requests\n",
    "\n",
    "url_to_scrape = 'http://apps2.polkcountyiowa.gov/inmatesontheweb/'\n",
    " \n",
    "r = requests.get(url_to_scrape)\n",
    " \n",
    "soup = BeautifulSoup(r.text,\"lxml\")\n",
    " \n",
    "inmates_links = []\n",
    " \n",
    "for table_row in soup.select(\".inmatesList tr\"):\n",
    "\ttable_cells = table_row.findAll('td')\n",
    "\n",
    "\tif len(table_cells) > 0:\n",
    "\t\trelative_link_to_inmate_details = table_cells[0].find('a')['href']\n",
    "\t\tabsolute_link_to_inmate_details = url_to_scrape + relative_link_to_inmate_details\n",
    "\t\tinmates_links.append(absolute_link_to_inmate_details)\n",
    "        \n",
    "\n",
    "## get inmate details\n",
    "inmates = []\n",
    " \n",
    "for inmate_link in inmates_links[:10]:\n",
    "    r = requests.get(inmate_link)\n",
    "    soup = BeautifulSoup(r.text)\n",
    "\t\n",
    "    inmate_details = {}\n",
    "\t\n",
    "    inmate_profile_rows = soup.select(\"#inmateProfile tr\")\n",
    "    inmate_details['age'] = inmate_profile_rows[0].findAll('td')[0].text.strip()\n",
    "    inmate_details['race'] =  inmate_profile_rows[3].findAll('td')[0].text.strip()\n",
    "\t\n",
    "    inmate_details['sex'] =  inmate_profile_rows[4].findAll('td')[0].text.strip()\n",
    "    inmate_name_date_rows = soup.select(\"#inmateNameDate tr\")\n",
    "\t\n",
    "    inmate_details['name'] =  inmate_name_date_rows[1].findAll('td')[0].text.strip()\n",
    "    inmate_details['booked_at'] = inmate_name_date_rows[2].findAll('td')[0].text.strip()\n",
    "    inmate_address_container = soup.select(\"#inmateAddress\")\n",
    "\t\n",
    "    inmate_details['city'] =  inmate_address_container[0].text.split('\\n')[2].strip()\n",
    "\t\n",
    "    inmates.append(inmate_details)\n",
    "\t\n",
    "    time.sleep(1)\n",
    "\n",
    "#print output based on inmate info\n",
    "inmate_cities =  {}\n",
    " \n",
    "for inmate in inmates:\n",
    "    if inmate['city'] in inmate_cities:\t\n",
    "        inmate_cities[inmate['city']] += 1\n",
    "    else:\n",
    "        inmate_cities[inmate['city']] = 1\n",
    "\n",
    "print(inmate_cities)\n",
    "\n",
    "\n",
    "inmate_races =  {}\n",
    " \n",
    "for inmate in inmates:\n",
    "    if inmate['race'] in inmate_races:\n",
    "        inmate_races[inmate['race']] += 1\n",
    "    else:\n",
    "        inmate_races[inmate['race']] = 1\n",
    "        \n",
    "print inmate_races"
   ]
  },
  {
   "cell_type": "code",
   "execution_count": null,
   "metadata": {
    "collapsed": true
   },
   "outputs": [],
   "source": []
  }
 ],
 "metadata": {
  "kernelspec": {
   "display_name": "Python 2",
   "language": "python",
   "name": "python2"
  },
  "language_info": {
   "codemirror_mode": {
    "name": "ipython",
    "version": 2
   },
   "file_extension": ".py",
   "mimetype": "text/x-python",
   "name": "python",
   "nbconvert_exporter": "python",
   "pygments_lexer": "ipython2",
   "version": "2.7.11"
  }
 },
 "nbformat": 4,
 "nbformat_minor": 0
}
