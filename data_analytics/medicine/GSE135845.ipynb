{
 "cells": [
  {
   "cell_type": "code",
   "execution_count": null,
   "metadata": {},
   "outputs": [],
   "source": [
    "1- Pre-processing of the data, if necessary ( Normalisation, Rebalancing) Note: data has no missing values\n",
    "2-Data Visualisation (correlation evidence from visual analysis of attributes) \n",
    "3- Feature selection/extraction (PCA, LDA). Show at least two and plot the features in 2D/3D space. \n",
    "4- Classification (Use three classification algorithms and describe them in brief. Perform parameter tuning. Reasons for selecting the algorithms). \n",
    "• Performance Metrics used for Data Analysis and Knowledge Discovery. \n",
    "• What new knowledge you were able to discover from the data? How you can develop the results further? (Hint: Fuzzy Rules, Rule Extraction)\n",
    "\n",
    "\n",
    "\n",
    "I have a dataset in .txt form (GSE135845_series_matrix.txt) .It has 12 samples .\n",
    "I have converted this original txt file to CSV file \"965.csv\".\n",
    "I have divided these samples in 2 classes  i.e With madicine and Without Medicine and added a new column called \"classes\" and used 0 for \"No medicine\" class and 1 for \"Medicine class\".Also I have transposed the data\n",
    "This file is \"NNew.csv\""
   ]
  },
  {
   "cell_type": "code",
   "execution_count": null,
   "metadata": {},
   "outputs": [],
   "source": []
  }
 ],
 "metadata": {
  "kernelspec": {
   "display_name": "Python 3",
   "language": "python",
   "name": "python3"
  },
  "language_info": {
   "codemirror_mode": {
    "name": "ipython",
    "version": 3
   },
   "file_extension": ".py",
   "mimetype": "text/x-python",
   "name": "python",
   "nbconvert_exporter": "python",
   "pygments_lexer": "ipython3",
   "version": "3.7.1"
  }
 },
 "nbformat": 4,
 "nbformat_minor": 2
}
