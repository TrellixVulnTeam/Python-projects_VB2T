{
 "cells": [
  {
   "cell_type": "code",
   "execution_count": 1,
   "metadata": {},
   "outputs": [],
   "source": [
    "#load libraries\n",
    "import pandas as pd\n",
    "import numpy as np\n",
    "import seaborn as sns\n",
    "import warnings\n",
    "warnings.filterwarnings(\"ignore\")"
   ]
  },
  {
   "cell_type": "code",
   "execution_count": 49,
   "metadata": {},
   "outputs": [],
   "source": [
    "df = pd.read_csv('product.csv')"
   ]
  },
  {
   "cell_type": "code",
   "execution_count": 50,
   "metadata": {},
   "outputs": [
    {
     "data": {
      "text/html": [
       "<div>\n",
       "<style scoped>\n",
       "    .dataframe tbody tr th:only-of-type {\n",
       "        vertical-align: middle;\n",
       "    }\n",
       "\n",
       "    .dataframe tbody tr th {\n",
       "        vertical-align: top;\n",
       "    }\n",
       "\n",
       "    .dataframe thead th {\n",
       "        text-align: right;\n",
       "    }\n",
       "</style>\n",
       "<table border=\"1\" class=\"dataframe\">\n",
       "  <thead>\n",
       "    <tr style=\"text-align: right;\">\n",
       "      <th></th>\n",
       "      <th>UTM_Source</th>\n",
       "      <th>UTM_Medium</th>\n",
       "      <th>Trans_ID</th>\n",
       "      <th>Loan_id</th>\n",
       "      <th>uuid</th>\n",
       "      <th>Opened_date</th>\n",
       "      <th>Closed_date</th>\n",
       "      <th>Product</th>\n",
       "      <th>$43,484.00</th>\n",
       "      <th>$43,515.00</th>\n",
       "      <th>...</th>\n",
       "      <th>$43,604.00</th>\n",
       "      <th>$43,635.00</th>\n",
       "      <th>$43,665.00</th>\n",
       "      <th>$43,696.00</th>\n",
       "      <th>$43,727.00</th>\n",
       "      <th>$43,757.00</th>\n",
       "      <th>$43,788.00</th>\n",
       "      <th>$43,818.00</th>\n",
       "      <th>$43,485.00</th>\n",
       "      <th>TotalRevenueTodate</th>\n",
       "    </tr>\n",
       "  </thead>\n",
       "  <tbody>\n",
       "    <tr>\n",
       "      <th>0</th>\n",
       "      <td>NaN</td>\n",
       "      <td>NaN</td>\n",
       "      <td>NaN</td>\n",
       "      <td>26</td>\n",
       "      <td>704ddfea-ba01-4560-8aef-1550932d04d7</td>\n",
       "      <td>1/3/19</td>\n",
       "      <td>NaN</td>\n",
       "      <td>Prime12</td>\n",
       "      <td>$8.95</td>\n",
       "      <td>$10.46</td>\n",
       "      <td>...</td>\n",
       "      <td>$7.73</td>\n",
       "      <td>$7.14</td>\n",
       "      <td>$2.87</td>\n",
       "      <td>$5.42</td>\n",
       "      <td>$4.54</td>\n",
       "      <td>$4.01</td>\n",
       "      <td>$0</td>\n",
       "      <td>$9.16</td>\n",
       "      <td>NaN</td>\n",
       "      <td>$72.11</td>\n",
       "    </tr>\n",
       "    <tr>\n",
       "      <th>1</th>\n",
       "      <td>NaN</td>\n",
       "      <td>NaN</td>\n",
       "      <td>NaN</td>\n",
       "      <td>27</td>\n",
       "      <td>df007477-d209-445a-80e3-649cd1e301d0</td>\n",
       "      <td>1/8/19</td>\n",
       "      <td>NaN</td>\n",
       "      <td>Basic12</td>\n",
       "      <td>$8.95</td>\n",
       "      <td>$5.25</td>\n",
       "      <td>...</td>\n",
       "      <td>$3.76</td>\n",
       "      <td>$7.46</td>\n",
       "      <td>$6.96</td>\n",
       "      <td>$3.07</td>\n",
       "      <td>$2.10</td>\n",
       "      <td>$0</td>\n",
       "      <td>$4.91</td>\n",
       "      <td>$2.89</td>\n",
       "      <td>NaN</td>\n",
       "      <td>$39.89</td>\n",
       "    </tr>\n",
       "    <tr>\n",
       "      <th>2</th>\n",
       "      <td>NaN</td>\n",
       "      <td>NaN</td>\n",
       "      <td>NaN</td>\n",
       "      <td>28</td>\n",
       "      <td>3066d9e8-9575-4fac-88b9-aa0ce2cafc3e</td>\n",
       "      <td>1/10/19</td>\n",
       "      <td>3/26/19</td>\n",
       "      <td>Prime12</td>\n",
       "      <td>$8.95</td>\n",
       "      <td>$15.19</td>\n",
       "      <td>...</td>\n",
       "      <td>$0</td>\n",
       "      <td>$0</td>\n",
       "      <td>$8.95</td>\n",
       "      <td>NaN</td>\n",
       "      <td>NaN</td>\n",
       "      <td>NaN</td>\n",
       "      <td>NaN</td>\n",
       "      <td>NaN</td>\n",
       "      <td>NaN</td>\n",
       "      <td>$27.84</td>\n",
       "    </tr>\n",
       "    <tr>\n",
       "      <th>3</th>\n",
       "      <td>NaN</td>\n",
       "      <td>NaN</td>\n",
       "      <td>NaN</td>\n",
       "      <td>29</td>\n",
       "      <td>9ef9086b-d671-48f6-a490-9f98152c4ea5</td>\n",
       "      <td>1/11/19</td>\n",
       "      <td>NaN</td>\n",
       "      <td>Prime24</td>\n",
       "      <td>$8.95</td>\n",
       "      <td>$11.86</td>\n",
       "      <td>...</td>\n",
       "      <td>$10.22</td>\n",
       "      <td>$10.12</td>\n",
       "      <td>$0.41</td>\n",
       "      <td>$9.21</td>\n",
       "      <td>$8.75</td>\n",
       "      <td>$9.62</td>\n",
       "      <td>$7.83</td>\n",
       "      <td>$7.11</td>\n",
       "      <td>NaN</td>\n",
       "      <td>$105.43</td>\n",
       "    </tr>\n",
       "    <tr>\n",
       "      <th>4</th>\n",
       "      <td>NaN</td>\n",
       "      <td>NaN</td>\n",
       "      <td>NaN</td>\n",
       "      <td>30</td>\n",
       "      <td>551f0be6-6264-4636-a864-2da25babe77d</td>\n",
       "      <td>1/14/19</td>\n",
       "      <td>2/12/19</td>\n",
       "      <td>Basic24</td>\n",
       "      <td>$0</td>\n",
       "      <td>$0</td>\n",
       "      <td>...</td>\n",
       "      <td>$0</td>\n",
       "      <td>$0</td>\n",
       "      <td>NaN</td>\n",
       "      <td>NaN</td>\n",
       "      <td>NaN</td>\n",
       "      <td>NaN</td>\n",
       "      <td>NaN</td>\n",
       "      <td>NaN</td>\n",
       "      <td>NaN</td>\n",
       "      <td>$0</td>\n",
       "    </tr>\n",
       "  </tbody>\n",
       "</table>\n",
       "<p>5 rows × 22 columns</p>\n",
       "</div>"
      ],
      "text/plain": [
       "  UTM_Source UTM_Medium Trans_ID  Loan_id  \\\n",
       "0        NaN        NaN      NaN       26   \n",
       "1        NaN        NaN      NaN       27   \n",
       "2        NaN        NaN      NaN       28   \n",
       "3        NaN        NaN      NaN       29   \n",
       "4        NaN        NaN      NaN       30   \n",
       "\n",
       "                                   uuid Opened_date Closed_date  Product  \\\n",
       "0  704ddfea-ba01-4560-8aef-1550932d04d7      1/3/19         NaN  Prime12   \n",
       "1  df007477-d209-445a-80e3-649cd1e301d0      1/8/19         NaN  Basic12   \n",
       "2  3066d9e8-9575-4fac-88b9-aa0ce2cafc3e     1/10/19     3/26/19  Prime12   \n",
       "3  9ef9086b-d671-48f6-a490-9f98152c4ea5     1/11/19         NaN  Prime24   \n",
       "4  551f0be6-6264-4636-a864-2da25babe77d     1/14/19     2/12/19  Basic24   \n",
       "\n",
       "  $43,484.00 $43,515.00  ... $43,604.00 $43,635.00 $43,665.00 $43,696.00  \\\n",
       "0      $8.95     $10.46  ...      $7.73      $7.14      $2.87      $5.42   \n",
       "1      $8.95      $5.25  ...      $3.76      $7.46      $6.96      $3.07   \n",
       "2      $8.95     $15.19  ...         $0         $0      $8.95        NaN   \n",
       "3      $8.95     $11.86  ...     $10.22     $10.12      $0.41      $9.21   \n",
       "4         $0         $0  ...         $0         $0        NaN        NaN   \n",
       "\n",
       "  $43,727.00 $43,757.00 $43,788.00 $43,818.00 $43,485.00 TotalRevenueTodate  \n",
       "0      $4.54      $4.01         $0      $9.16        NaN             $72.11  \n",
       "1      $2.10         $0      $4.91      $2.89        NaN             $39.89  \n",
       "2        NaN        NaN        NaN        NaN        NaN             $27.84  \n",
       "3      $8.75      $9.62      $7.83      $7.11        NaN            $105.43  \n",
       "4        NaN        NaN        NaN        NaN        NaN                 $0  \n",
       "\n",
       "[5 rows x 22 columns]"
      ]
     },
     "execution_count": 50,
     "metadata": {},
     "output_type": "execute_result"
    }
   ],
   "source": [
    "df.head()"
   ]
  },
  {
   "cell_type": "code",
   "execution_count": null,
   "metadata": {},
   "outputs": [],
   "source": [
    " "
   ]
  },
  {
   "cell_type": "code",
   "execution_count": 54,
   "metadata": {},
   "outputs": [],
   "source": [
    "#reduce columns\n",
    "df = df[['uuid','Opened_date','Product','TotalRevenueTodate']]"
   ]
  },
  {
   "cell_type": "code",
   "execution_count": 55,
   "metadata": {},
   "outputs": [],
   "source": [
    "#rename columns\n",
    "df.columns = ['uuid','Opened_date','Product','Revenue']"
   ]
  },
  {
   "cell_type": "code",
   "execution_count": 56,
   "metadata": {},
   "outputs": [],
   "source": [
    "#change opened date\n",
    "df['Opened_date'] = pd.to_datetime(df['Opened_date'])"
   ]
  },
  {
   "cell_type": "code",
   "execution_count": 57,
   "metadata": {},
   "outputs": [
    {
     "data": {
      "text/plain": [
       "uuid           0\n",
       "Opened_date    0\n",
       "Product        0\n",
       "Revenue        0\n",
       "dtype: int64"
      ]
     },
     "execution_count": 57,
     "metadata": {},
     "output_type": "execute_result"
    }
   ],
   "source": [
    "#check for missing data\n",
    "df.isnull().sum()"
   ]
  },
  {
   "cell_type": "code",
   "execution_count": 46,
   "metadata": {},
   "outputs": [],
   "source": [
    "df['Revenue'] = df['Revenue'].replace({'\\$': '', ',': ''}, regex=True).astype(float)"
   ]
  },
  {
   "cell_type": "code",
   "execution_count": 59,
   "metadata": {},
   "outputs": [
    {
     "data": {
      "text/html": [
       "<div>\n",
       "<style scoped>\n",
       "    .dataframe tbody tr th:only-of-type {\n",
       "        vertical-align: middle;\n",
       "    }\n",
       "\n",
       "    .dataframe tbody tr th {\n",
       "        vertical-align: top;\n",
       "    }\n",
       "\n",
       "    .dataframe thead th {\n",
       "        text-align: right;\n",
       "    }\n",
       "</style>\n",
       "<table border=\"1\" class=\"dataframe\">\n",
       "  <thead>\n",
       "    <tr style=\"text-align: right;\">\n",
       "      <th></th>\n",
       "      <th>uuid</th>\n",
       "      <th>Opened_date</th>\n",
       "      <th>Product</th>\n",
       "      <th>Revenue</th>\n",
       "    </tr>\n",
       "  </thead>\n",
       "  <tbody>\n",
       "    <tr>\n",
       "      <th>0</th>\n",
       "      <td>704ddfea-ba01-4560-8aef-1550932d04d7</td>\n",
       "      <td>2019-01-03</td>\n",
       "      <td>Prime12</td>\n",
       "      <td>72.11</td>\n",
       "    </tr>\n",
       "    <tr>\n",
       "      <th>1</th>\n",
       "      <td>df007477-d209-445a-80e3-649cd1e301d0</td>\n",
       "      <td>2019-01-08</td>\n",
       "      <td>Basic12</td>\n",
       "      <td>39.89</td>\n",
       "    </tr>\n",
       "    <tr>\n",
       "      <th>2</th>\n",
       "      <td>3066d9e8-9575-4fac-88b9-aa0ce2cafc3e</td>\n",
       "      <td>2019-01-10</td>\n",
       "      <td>Prime12</td>\n",
       "      <td>27.84</td>\n",
       "    </tr>\n",
       "    <tr>\n",
       "      <th>3</th>\n",
       "      <td>9ef9086b-d671-48f6-a490-9f98152c4ea5</td>\n",
       "      <td>2019-01-11</td>\n",
       "      <td>Prime24</td>\n",
       "      <td>105.43</td>\n",
       "    </tr>\n",
       "    <tr>\n",
       "      <th>4</th>\n",
       "      <td>551f0be6-6264-4636-a864-2da25babe77d</td>\n",
       "      <td>2019-01-14</td>\n",
       "      <td>Basic24</td>\n",
       "      <td>0.00</td>\n",
       "    </tr>\n",
       "  </tbody>\n",
       "</table>\n",
       "</div>"
      ],
      "text/plain": [
       "                                   uuid Opened_date  Product  Revenue\n",
       "0  704ddfea-ba01-4560-8aef-1550932d04d7  2019-01-03  Prime12    72.11\n",
       "1  df007477-d209-445a-80e3-649cd1e301d0  2019-01-08  Basic12    39.89\n",
       "2  3066d9e8-9575-4fac-88b9-aa0ce2cafc3e  2019-01-10  Prime12    27.84\n",
       "3  9ef9086b-d671-48f6-a490-9f98152c4ea5  2019-01-11  Prime24   105.43\n",
       "4  551f0be6-6264-4636-a864-2da25babe77d  2019-01-14  Basic24     0.00"
      ]
     },
     "execution_count": 59,
     "metadata": {},
     "output_type": "execute_result"
    }
   ],
   "source": [
    "df.head()"
   ]
  },
  {
   "cell_type": "code",
   "execution_count": null,
   "metadata": {},
   "outputs": [],
   "source": []
  },
  {
   "cell_type": "code",
   "execution_count": null,
   "metadata": {},
   "outputs": [],
   "source": []
  },
  {
   "cell_type": "code",
   "execution_count": null,
   "metadata": {},
   "outputs": [],
   "source": []
  },
  {
   "cell_type": "code",
   "execution_count": null,
   "metadata": {},
   "outputs": [],
   "source": []
  },
  {
   "cell_type": "markdown",
   "metadata": {},
   "source": [
    "# RFM Model"
   ]
  },
  {
   "cell_type": "code",
   "execution_count": null,
   "metadata": {},
   "outputs": [],
   "source": []
  },
  {
   "cell_type": "code",
   "execution_count": null,
   "metadata": {},
   "outputs": [],
   "source": [
    "import datetime as dt\n",
    "NOW = dt.datetime(2019,12,20)"
   ]
  }
 ],
 "metadata": {
  "kernelspec": {
   "display_name": "Python 3",
   "language": "python",
   "name": "python3"
  },
  "language_info": {
   "codemirror_mode": {
    "name": "ipython",
    "version": 3
   },
   "file_extension": ".py",
   "mimetype": "text/x-python",
   "name": "python",
   "nbconvert_exporter": "python",
   "pygments_lexer": "ipython3",
   "version": "3.7.3"
  }
 },
 "nbformat": 4,
 "nbformat_minor": 2
}
