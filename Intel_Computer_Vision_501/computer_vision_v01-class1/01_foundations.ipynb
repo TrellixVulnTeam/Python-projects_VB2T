{
 "cells": [
  {
   "cell_type": "markdown",
   "metadata": {},
   "source": [
    "# Installing OpenCV"
   ]
  },
  {
   "cell_type": "markdown",
   "metadata": {},
   "source": [
    "The following is setup to get a running opencv-3 environment.  We will be using conda-forge because the opencv in stock conda is older.\n",
    "\n",
    "We will follow a process similar to:\n",
    "\n",
    "  * [Kernels for different environments](https://ipython.readthedocs.io/en/latest/install/kernel_install.html#kernels-for-different-environments) and\n",
    "  * [Installing Different Kernels](https://ipython.readthedocs.io/en/latest/install/kernel_install.html#kernels-for-python-2-and-3)\n",
    "\n",
    "except we will also be pulling in dependencies from a non-stock conda repository called `conda-forge`.  `conda-forge` is a community-driven resource for package recipes."
   ]
  },
  {
   "cell_type": "markdown",
   "metadata": {},
   "source": [
    "On Mac/Linux enter the following in a terminal window:\n",
    "```\n",
    "    conda update conda\n",
    "    conda create --name opencv-forge --clone root\n",
    "    source activate opencv-forge\n",
    "    conda install -c conda-forge opencv\n",
    "    conda install ipykernel\n",
    "    python -m ipykernel install --user --name opencv-forge --display-name \"Py3 OpenCV3 (Forge)\"\n",
    "```\n",
    "\n",
    "[FIXME VERIFY] \n",
    "On Windows, open an Anaconda Command Prompt\"Start Menu -> Anaconda 64-bit -> Anaconda Prompt\" and enter:\n",
    "\n",
    "```\n",
    "    conda update conda\n",
    "    conda create --name opencv-forge --clone root\n",
    "    source activate opencv-forge\n",
    "    conda install -c conda-forge opencv\n",
    "    conda install ipykernel\n",
    "    python -m ipykernel install --user --name opencv-forge --display-name \"Py3 OpenCV3 (Forge)\"\n",
    "```"
   ]
  },
  {
   "cell_type": "markdown",
   "metadata": {},
   "source": [
    "If you haven't worked with alternative conda environments and jupyter/ipython kernels before, you'll want to check out this:\n",
    "  * [Getting started with Conda](https://conda.io/docs/user-guide/getting-started.html)\n",
    "  \n",
    "Now, when you create a new Jupyter notebook, you can choose **Py3 OpenCV3 (Forge)** from a drop-down.  \n",
    "\n",
    "<img src=\"../common/images/jupyter-kernel-select.png\">\n",
    "\n",
    "You will also see **Py3 OpenCV3 (Forge)** in Jupyter under **File --> New Notebook** and **Kernel --> Change kernel**.  Selecting these really does something bigger than \"just\" changing the kernel:  it also enables *all* the packages in that environment.  So, in effect, it is really more similar to changing the entire environement.  One way of viewing a kernel is as an entry point to an environment."
   ]
  },
  {
   "cell_type": "markdown",
   "metadata": {},
   "source": [
    "# Foundational Friends"
   ]
  },
  {
   "cell_type": "markdown",
   "metadata": {},
   "source": [
    "## NumPy"
   ]
  },
  {
   "cell_type": "markdown",
   "metadata": {},
   "source": [
    "[NumPy](http://www.numpy.org/) is the foundation of (almost?) all numerical computing - number crunching - in Python.  Everything from numerical methods to statistical analysis to linear algebra to, yes, computer vision is built on NumPy.  We won't be doing a full course worth of material on NumPy, but if you want to dive deeper, check out:\n",
    "  * [NumPy User Guide](https://docs.scipy.org/doc/numpy-1.13.0/user/index.html)\n",
    "  * [Scipy Lectures NumPy](http://www.scipy-lectures.org/intro/numpy/index.html)"
   ]
  },
  {
   "cell_type": "code",
   "execution_count": 3,
   "metadata": {},
   "outputs": [
    {
     "name": "stdout",
     "output_type": "stream",
     "text": [
      "Solving environment: done\n",
      "\n",
      "# All requested packages already installed.\n",
      "\n",
      "Source:      /anaconda2\n",
      "Destination: /anaconda2/envs/opencv-forge\n",
      "The following packages cannot be cloned out of the root environment:\n",
      " - conda-4.5.11-py27_0\n",
      " - conda-build-3.10.5-py27_0\n",
      " - conda-env-2.6.0-h36134e3_0\n",
      "Packages: 253\n",
      "Files: 12756\n",
      "\n",
      "Downloading and Extracting Packages\n",
      "bzip2-1.0.6          | ################################################# | 100% \n",
      "ca-certificates-2018 | ################################################# | 100% \n",
      "intel-openmp-2018.0. | ################################################# | 100% \n",
      "jbig-2.1             | ################################################# | 100% \n",
      "jpeg-9b              | ################################################# | 100% \n",
      "libcxxabi-4.0.1      | ################################################# | 100% \n",
      "libgfortran-3.0.1    | ################################################# | 100% \n",
      "libiconv-1.15        | ################################################# | 100% \n",
      "libsodium-1.0.16     | ################################################# | 100% \n",
      "lzo-2.10             | ################################################# | 100% \n",
      "pandoc-1.19.2.1      | ################################################# | 100% \n",
      "tk-8.6.7             | ################################################# | 100% \n",
      "unixodbc-2.3.6       | ################################################# | 100% \n",
      "xz-5.2.4             | ################################################# | 100% \n",
      "yaml-0.1.7           | ################################################# | 100% \n",
      "zlib-1.2.11          | ################################################# | 100% \n",
      "libcxx-4.0.1         | ################################################# | 100% \n",
      "libopenblas-0.2.20   | ################################################# | 100% \n",
      "libpng-1.6.34        | ################################################# | 100% \n",
      "mkl-2018.0.2         | ################################################# | 100% \n",
      "openssl-1.0.2p       | ################################################# | 100% \n",
      "expat-2.2.5          | ################################################# | 100% \n",
      "freetype-2.8         | ################################################# | 100% \n",
      "gmp-6.1.2            | ################################################# | 100% \n",
      "hdf5-1.10.2          | ################################################# | 100% \n",
      "icu-58.2             | ################################################# | 100% \n",
      "libffi-3.2.1         | ################################################# | 100% \n",
      "libssh2-1.8.0        | ################################################# | 100% \n",
      "libtiff-4.0.9        | ################################################# | 100% \n",
      "ncurses-6.1          | ################################################# | 100% \n",
      "pcre-8.42            | ################################################# | 100% \n",
      "snappy-1.1.7         | ################################################# | 100% \n",
      "zeromq-4.2.5         | ################################################# | 100% \n",
      "blosc-1.14.3         | ################################################# | 100% \n",
      "gettext-0.19.8.1     | ################################################# | 100% \n",
      "libcurl-7.60.0       | ################################################# | 100% \n",
      "libedit-3.1.20170329 | ################################################# | 100% \n",
      "libxml2-2.9.8        | ################################################# | 100% \n",
      "mpfr-3.1.5           | ################################################# | 100% \n",
      "readline-7.0         | ################################################# | 100% \n",
      "curl-7.60.0          | ################################################# | 100% \n",
      "glib-2.56.1          | ################################################# | 100% \n",
      "libxslt-1.1.32       | ################################################# | 100% \n",
      "mpc-1.0.3            | ################################################# | 100% \n",
      "sqlite-3.23.1        | ################################################# | 100% \n",
      "dbus-1.13.2          | ################################################# | 100% \n",
      "python-2.7.15        | ################################################# | 100% \n",
      "qt-5.9.5             | ################################################# | 100% \n",
      "alabaster-0.7.10     | ################################################# | 100% \n",
      "appnope-0.1.0        | ################################################# | 100% \n",
      "appscript-1.0.1      | ################################################# | 100% \n",
      "asn1crypto-0.24.0    | ################################################# | 100% \n",
      "attrs-18.1.0         | ################################################# | 100% \n",
      "backports-1.0        | ################################################# | 100% \n",
      "backports_abc-0.5    | ################################################# | 100% \n",
      "beautifulsoup4-4.6.0 | ################################################# | 100% \n",
      "bitarray-0.8.1       | ################################################# | 100% \n",
      "boto-2.48.0          | ################################################# | 100% \n",
      "cdecimal-2.3         | ################################################# | 100% \n",
      "certifi-2018.10.15   | ################################################# | 100% \n",
      "chardet-3.0.4        | ################################################# | 100% \n",
      "click-6.7            | ################################################# | 100% \n",
      "cloudpickle-0.5.3    | ################################################# | 100% \n",
      "colorama-0.3.9       | ################################################# | 100% \n",
      "configparser-3.5.0   | ################################################# | 100% \n",
      "contextlib2-0.5.5    | ################################################# | 100% \n",
      "dask-core-0.17.5     | ################################################# | 100% \n",
      "decorator-4.3.0      | ################################################# | 100% \n",
      "docutils-0.14        | ################################################# | 100% \n",
      "enum34-1.1.6         | ################################################# | 100% \n",
      "et_xmlfile-1.0.1     | ################################################# | 100% \n",
      "fastcache-1.0.2      | ################################################# | 100% \n",
      "filelock-3.0.4       | ################################################# | 100% \n",
      "funcsigs-1.0.2       | ################################################# | 100% \n",
      "functools32-3.2.3.2  | ################################################# | 100% \n",
      "futures-3.2.0        | ################################################# | 100% \n",
      "glob2-0.6            | ################################################# | 100% \n",
      "gmpy2-2.0.8          | ################################################# | 100% \n",
      "greenlet-0.4.13      | ################################################# | 100% \n",
      "grin-1.2.1           | ################################################# | 100% \n",
      "heapdict-1.0.0       | ################################################# | 100% \n",
      "idna-2.6             | ################################################# | 100% \n",
      "imagesize-1.0.0      | ################################################# | 100% \n",
      "ipaddress-1.0.22     | ################################################# | 100% \n",
      "ipython_genutils-0.2 | ################################################# | 100% \n",
      "itsdangerous-0.24    | ################################################# | 100% \n",
      "jdcal-1.4            | ################################################# | 100% \n",
      "kiwisolver-1.0.1     | ################################################# | 100% \n",
      "lazy-object-proxy-1. | ################################################# | 100% \n",
      "locket-0.2.0         | ################################################# | 100% \n",
      "lxml-4.2.1           | ################################################# | 100% \n",
      "markupsafe-1.0       | ################################################# | 100% \n",
      "mccabe-0.6.1         | ################################################# | 100% \n",
      "mistune-0.8.3        | ################################################# | 100% \n",
      "mkl-service-1.1.2    | ################################################# | 100% \n",
      "mpmath-1.0.0         | ################################################# | 100% \n",
      "msgpack-python-0.5.6 | ################################################# | 100% \n",
      "multipledispatch-0.5 | ################################################# | 100% \n",
      "numpy-base-1.14.3    | ################################################# | 100% \n",
      "olefile-0.45.1       | ################################################# | 100% \n",
      "pandocfilters-1.4.2  | ################################################# | 100% \n",
      "parso-0.2.0          | ################################################# | 100% \n",
      "path.py-11.0.1       | ################################################# | 100% \n",
      "pep8-1.7.1           | ################################################# | 100% \n",
      "pkginfo-1.4.2        | ################################################# | 100% \n",
      "pluggy-0.6.0         | ################################################# | 100% \n",
      "ply-3.11             | ################################################# | 100% \n",
      "psutil-5.4.5         | ################################################# | 100% \n",
      "ptyprocess-0.5.2     | ################################################# | 100% \n",
      "py-1.5.3             | ################################################# | 100% \n",
      "pyaudio-0.2.7        | ################################################# | 100% \n",
      "pycodestyle-2.4.0    | ################################################# | 100% \n",
      "pycosat-0.6.3        | ################################################# | 100% \n",
      "pycparser-2.18       | ################################################# | 100% \n",
      "pycrypto-2.6.1       | ################################################# | 100% \n",
      "pycurl-7.43.0.1      | ################################################# | 100% \n",
      "pyodbc-4.0.23        | ################################################# | 100% \n",
      "pyparsing-2.2.0      | ################################################# | 100% \n",
      "pysocks-1.6.8        | ################################################# | 100% \n",
      "python.app-2         | ################################################# | 100% \n",
      "pytz-2018.4          | ################################################# | 100% \n",
      "pyyaml-3.12          | ################################################# | 100% \n",
      "pyzmq-17.0.0         | ################################################# | 100% \n",
      "qtpy-1.4.1           | ################################################# | 100% \n",
      "rope-0.10.7          | ################################################# | 100% \n",
      "ruamel_yaml-0.15.35  | ################################################# | 100% \n",
      "scandir-1.7          | ################################################# | 100% \n",
      "send2trash-1.5.0     | ################################################# | 100% \n",
      "simplegeneric-0.8.1  | ################################################# | 100% \n",
      "sip-4.19.8           | ################################################# | 100% \n",
      "six-1.11.0           | ################################################# | 100% \n",
      "snowballstemmer-1.2. | ################################################# | 100% \n",
      "sortedcontainers-1.5 | ################################################# | 100% \n",
      "sphinxcontrib-1.0    | ################################################# | 100% \n",
      "sqlalchemy-1.2.7     | ################################################# | 100% \n",
      "subprocess32-3.5.0   | ################################################# | 100% \n",
      "tblib-1.3.2          | ################################################# | 100% \n",
      "toolz-0.9.0          | ################################################# | 100% \n",
      "typing-3.6.4         | ################################################# | 100% \n",
      "unicodecsv-0.14.1    | ################################################# | 100% \n",
      "wcwidth-0.1.7        | ################################################# | 100% \n",
      "webencodings-0.5.1   | ################################################# | 100% \n",
      "werkzeug-0.14.1      | ################################################# | 100% \n",
      "wrapt-1.10.11        | ################################################# | 100% \n",
      "xlrd-1.1.0           | ################################################# | 100% \n",
      "xlsxwriter-1.0.4     | ################################################# | 100% \n",
      "xlwt-1.2.0           | ################################################# | 100% \n",
      "babel-2.5.3          | ################################################# | 100% \n",
      "backports.shutil_get | ################################################# | 100% \n",
      "cffi-1.11.5          | ################################################# | 100% \n",
      "conda-verify-2.0.0   | ################################################# | 100% \n",
      "cycler-0.10.0        | ################################################# | 100% \n",
      "cytoolz-0.9.0.1      | ################################################# | 100% \n",
      "entrypoints-0.2.3    | ################################################# | 100% \n",
      "html5lib-1.0.1       | ################################################# | 100% \n",
      "jedi-0.12.0          | ################################################# | 100% \n",
      "llvmlite-0.23.1      | ################################################# | 100% \n",
      "more-itertools-4.1.0 | ################################################# | 100% \n",
      "networkx-2.1         | ################################################# | 100% \n",
      "nltk-3.3.0           | ################################################# | 100% \n",
      "numpy-1.14.3         | ################################################# | 100% \n",
      "openpyxl-2.5.3       | ################################################# | 100% \n",
      "packaging-17.1       | ################################################# | 100% \n",
      "partd-0.3.8          | ################################################# | 100% \n",
      "pathlib2-2.3.2       | ################################################# | 100% \n",
      "pexpect-4.5.0        | ################################################# | 100% \n",
      "pillow-5.1.0         | ################################################# | 100% \n",
      "pyqt-5.9.2           | ################################################# | 100% \n",
      "python-dateutil-2.7. | ################################################# | 100% \n",
      "qtawesome-0.4.4      | ################################################# | 100% \n",
      "setuptools-39.1.0    | ################################################# | 100% \n",
      "singledispatch-3.4.0 | ################################################# | 100% \n",
      "sortedcollections-0. | ################################################# | 100% \n",
      "sphinxcontrib-websup | ################################################# | 100% \n",
      "ssl_match_hostname-3 | ################################################# | 100% \n",
      "sympy-1.1.1          | ################################################# | 100% \n",
      "traitlets-4.3.2      | ################################################# | 100% \n",
      "xlwings-0.11.8       | ################################################# | 100% \n",
      "zict-0.1.3           | ################################################# | 100% \n",
      "backports.functools_ | ################################################# | 100% \n",
      "bleach-2.1.3         | ################################################# | 100% \n",
      "bottleneck-1.2.1     | ################################################# | 100% \n",
      "clyent-1.2.2         | ################################################# | 100% \n",
      "cryptography-2.2.2   | ################################################# | 100% \n",
      "cython-0.28.2        | ################################################# | 100% \n",
      "datashape-0.5.4      | ################################################# | 100% \n",
      "get_terminal_size-1. | ################################################# | 100% \n",
      "gevent-1.3.0         | ################################################# | 100% \n",
      "h5py-2.7.1           | ################################################# | 100% \n",
      "imageio-2.3.0        | ################################################# | 100% \n",
      "isort-4.3.4          | ################################################# | 100% \n",
      "jinja2-2.10          | ################################################# | 100% \n",
      "jsonschema-2.6.0     | ################################################# | 100% \n",
      "jupyter_core-4.4.0   | ################################################# | 100% \n",
      "navigator-updater-0. | ################################################# | 100% \n",
      "nose-1.3.7           | ################################################# | 100% \n",
      "numba-0.38.0         | ################################################# | 100% \n"
     ]
    },
    {
     "name": "stdout",
     "output_type": "stream",
     "text": [
      "numexpr-2.6.5        | ################################################# | 100% \n",
      "pandas-0.23.0        | ################################################# | 100% \n",
      "pickleshare-0.7.4    | ################################################# | 100% \n",
      "pyflakes-1.6.0       | ################################################# | 100% \n",
      "pygments-2.2.0       | ################################################# | 100% \n",
      "pytest-3.5.1         | ################################################# | 100% \n",
      "pywavelets-0.5.2     | ################################################# | 100% \n",
      "scipy-1.1.0          | ################################################# | 100% \n",
      "testpath-0.3.1       | ################################################# | 100% \n",
      "tornado-5.0.2        | ################################################# | 100% \n",
      "wheel-0.31.1         | ################################################# | 100% \n",
      "astroid-1.6.3        | ################################################# | 100% \n",
      "astropy-2.0.6        | ################################################# | 100% \n",
      "bkcharts-0.2         | ################################################# | 100% \n",
      "bokeh-0.12.16        | ################################################# | 100% \n",
      "distributed-1.21.8   | ################################################# | 100% \n",
      "flask-1.0.2          | ################################################# | 100% \n",
      "jupyter_client-5.2.3 | ################################################# | 100% \n",
      "matplotlib-2.2.2     | ################################################# | 100% \n",
      "nbformat-4.4.0       | ################################################# | 100% \n",
      "patsy-0.5.0          | ################################################# | 100% \n",
      "pip-10.0.1           | ################################################# | 100% \n",
      "prompt_toolkit-1.0.1 | ################################################# | 100% \n",
      "pyopenssl-18.0.0     | ################################################# | 100% \n",
      "pytables-3.4.3       | ################################################# | 100% \n",
      "scikit-learn-0.19.1  | ################################################# | 100% \n",
      "terminado-0.8.1      | ################################################# | 100% \n",
      "dask-0.17.5          | ################################################# | 100% \n",
      "flask-cors-3.0.4     | ################################################# | 100% \n",
      "ipython-5.7.0        | ################################################# | 100% \n",
      "nbconvert-5.3.1      | ################################################# | 100% \n",
      "pylint-1.8.4         | ################################################# | 100% \n",
      "statsmodels-0.9.0    | ################################################# | 100% \n",
      "urllib3-1.22         | ################################################# | 100% \n",
      "ipykernel-4.8.2      | ################################################# | 100% \n",
      "odo-0.5.1            | ################################################# | 100% \n",
      "requests-2.18.4      | ################################################# | 100% \n",
      "scikit-image-0.13.1  | ################################################# | 100% \n",
      "seaborn-0.8.1        | ################################################# | 100% \n",
      "anaconda-client-1.6. | ################################################# | 100% \n",
      "blaze-0.11.3         | ################################################# | 100% \n",
      "jupyter_console-5.2. | ################################################# | 100% \n",
      "notebook-5.5.0       | ################################################# | 100% \n",
      "qtconsole-4.3.1      | ################################################# | 100% \n",
      "sphinx-1.7.4         | ################################################# | 100% \n",
      "anaconda-navigator-1 | ################################################# | 100% \n",
      "anaconda-project-0.8 | ################################################# | 100% \n",
      "jupyterlab_launcher- | ################################################# | 100% \n",
      "numpydoc-0.8.0       | ################################################# | 100% \n",
      "widgetsnbextension-3 | ################################################# | 100% \n",
      "ipywidgets-7.2.1     | ################################################# | 100% \n",
      "jupyterlab-0.32.1    | ################################################# | 100% \n",
      "spyder-3.2.8         | ################################################# | 100% \n",
      "_ipyw_jlab_nb_ext_co | ################################################# | 100% \n",
      "jupyter-1.0.0        | ################################################# | 100% \n",
      "anaconda-5.2.0       | ################################################# | 100% \n",
      "Preparing transaction: done\n",
      "Verifying transaction: done\n",
      "Executing transaction: done\n",
      "#\n",
      "# To activate this environment, use:\n",
      "# > source activate opencv-forge\n",
      "#\n",
      "# To deactivate an active environment, use:\n",
      "# > source deactivate\n",
      "#\n",
      "\n",
      "Solving environment: failed\n",
      "\n",
      "CondaHTTPError: HTTP 000 CONNECTION FAILED for url <https://conda.anaconda.org/conda-forge/noarch/repodata.json>\n",
      "Elapsed: -\n",
      "\n",
      "An HTTP error occurred when trying to retrieve this URL.\n",
      "HTTP errors are often intermittent, and a simple retry will get you on your way.\n",
      "ConnectionError(MaxRetryError(\"HTTPSConnectionPool(host='conda.anaconda.org', port=443): Max retries exceeded with url: /conda-forge/noarch/repodata.json (Caused by NewConnectionError('<urllib3.connection.VerifiedHTTPSConnection object at 0x110998690>: Failed to establish a new connection: [Errno 8] nodename nor servname provided, or not known',))\",),)\n",
      "\n",
      "\n",
      "Solving environment: failed\n",
      "\n",
      "CondaHTTPError: HTTP 000 CONNECTION FAILED for url <https://repo.anaconda.com/pkgs/pro/osx-64/repodata.json.bz2>\n",
      "Elapsed: -\n",
      "\n",
      "An HTTP error occurred when trying to retrieve this URL.\n",
      "HTTP errors are often intermittent, and a simple retry will get you on your way.\n",
      "\n",
      "If your current network has https://www.anaconda.com blocked, please file\n",
      "a support request with your network engineering team.\n",
      "\n",
      "ConnectionError(MaxRetryError(\"HTTPSConnectionPool(host='repo.anaconda.com', port=443): Max retries exceeded with url: /pkgs/pro/osx-64/repodata.json.bz2 (Caused by NewConnectionError('<urllib3.connection.VerifiedHTTPSConnection object at 0x10fe53a10>: Failed to establish a new connection: [Errno 8] nodename nor servname provided, or not known',))\",),)\n",
      "\n",
      "\n",
      "Installed kernelspec opencv-forge in /Users/edima/Library/Jupyter/kernels/opencv-forge\n"
     ]
    }
   ],
   "source": [
    "!conda update conda\n",
    "!conda create --name opencv-forge --clone root\n",
    "!source activate opencv-forge\n",
    "!conda install -c conda-forge opencv\n",
    "!conda install ipykernel\n",
    "!python -m ipykernel install --user --name opencv-forge --display-name \"Py3 OpenCV3 (Forge)\""
   ]
  },
  {
   "cell_type": "code",
   "execution_count": 4,
   "metadata": {},
   "outputs": [],
   "source": [
    "import numpy as np # common abbreviation"
   ]
  },
  {
   "cell_type": "markdown",
   "metadata": {},
   "source": [
    "Arrays are low-level data structures (very similar to a C array).  They have a fixed block of memory and a fixed datatype for the elements.  We also keep track of the array's shape, but shapes can be malleable.  Why?  The big block of memory is really just a 1-D thing (think of a ticker tape).  Any structure we put on it (say, 4 rows and 6 columns) will have some other ways of regularly chunking it (24 elements, 6x4, 8x3, 3x8, etc.)."
   ]
  },
  {
   "cell_type": "code",
   "execution_count": 5,
   "metadata": {},
   "outputs": [
    {
     "name": "stdout",
     "output_type": "stream",
     "text": [
      "[1 2 3]\n",
      "(3, (3,), dtype('int64'))\n"
     ]
    }
   ],
   "source": [
    "arr_int = np.array([1,2,3]) # create array from a list\n",
    "\n",
    "# feel free to uncomment:\n",
    "#for attr in [\"\", \"size\", \"shape\", \"dtype\"]:\n",
    "#    print(\"array {:5s} {}\".format(attr, getattr(arr_int, attr, arr_int)))\n",
    "print(arr_int)\n",
    "print(arr_int.size, arr_int.shape, arr_int.dtype)"
   ]
  },
  {
   "cell_type": "code",
   "execution_count": 6,
   "metadata": {},
   "outputs": [
    {
     "name": "stdout",
     "output_type": "stream",
     "text": [
      "[[ 0.  1.  2.  3.]\n",
      " [ 4.  5.  6.  7.]\n",
      " [ 8.  9. 10. 11.]]\n",
      " size 12\n",
      "shape (3, 4)\n",
      "dtype float64\n"
     ]
    }
   ],
   "source": [
    "def show_array(arr):\n",
    "    print(arr)\n",
    "    for attr in [\"size\", \"shape\", \"dtype\"]:\n",
    "        print(\"{:>5s} {}\".format(attr, getattr(arr, attr)))  # getattr(obj, \"attr\") --> obj.attr\n",
    "\n",
    "# create array from range of values ... and shape it with 3 rows, 4 cols\n",
    "arr_range = np.arange(12.0).reshape(3,4)\n",
    "show_array(arr_range)"
   ]
  },
  {
   "cell_type": "code",
   "execution_count": 7,
   "metadata": {},
   "outputs": [
    {
     "data": {
      "text/plain": [
       "array([2, 2, 2])"
      ]
     },
     "execution_count": 7,
     "metadata": {},
     "output_type": "execute_result"
    }
   ],
   "source": [
    "# some other forms along with our most useful dtypes for computer vision:\n",
    "np.array([2,2], dtype=np.uint8)\n",
    "np.array([2,2], dtype=np.float64)\n",
    "np.array([2,2], dtype=np.int64)\n",
    "\n",
    "np.array([2,2]).astype(np.float64) # note:  temp array (int64) created\n",
    "np.array([2,2]).astype(np.uint8)   # note:  temp array and might lose info (64 bit -> 8 bit)\n",
    "\n",
    "np.uint8((2,2))\n",
    "np.float64([[2,2]])\n",
    "np.int64([2,2,2])"
   ]
  },
  {
   "cell_type": "code",
   "execution_count": 8,
   "metadata": {},
   "outputs": [
    {
     "name": "stdout",
     "output_type": "stream",
     "text": [
      "[[118 154 167 169 233]\n",
      " [ 93  15   4 145 150]\n",
      " [ 28  30 193 114 203]\n",
      " [143  28 172 131 102]\n",
      " [160  99 226 130 122]]\n",
      " size 25\n",
      "shape (5, 5)\n",
      "dtype int64\n"
     ]
    }
   ],
   "source": [
    "npr = np.random # not public radio\n",
    "arr_rnd = npr.randint(0, 256, size=(5,5))\n",
    "show_array(arr_rnd)"
   ]
  },
  {
   "cell_type": "code",
   "execution_count": 9,
   "metadata": {},
   "outputs": [
    {
     "name": "stdout",
     "output_type": "stream",
     "text": [
      "(-99, array([-99, 154, 167, 169, 233]))\n"
     ]
    }
   ],
   "source": [
    "# changing shapes *does not* copy the array\n",
    "alias = arr_rnd.reshape(25)\n",
    "alias[0] = -99\n",
    "print(alias[0], arr_rnd[0])"
   ]
  },
  {
   "cell_type": "code",
   "execution_count": 10,
   "metadata": {},
   "outputs": [
    {
     "name": "stdout",
     "output_type": "stream",
     "text": [
      "(array([-99, 154, 167, 169, 233]), array([ -0.99, 154.  , 167.  , 169.  , 233.  ]))\n"
     ]
    }
   ],
   "source": [
    "# changing dtype DOES (must) copy the array\n",
    "arr_rnd_float = arr_rnd.astype(np.float64) # aka np.float np.float_\n",
    "arr_rnd_float[0,0] = -0.99                 # it's a 2D thing\n",
    "print(arr_rnd[0], arr_rnd_float[0])"
   ]
  },
  {
   "cell_type": "code",
   "execution_count": 14,
   "metadata": {},
   "outputs": [
    {
     "data": {
      "text/plain": [
       "array([[  1,   1, 167, 169, 233],\n",
       "       [  1,   1,   4, 145, 150],\n",
       "       [ 28,  30, 193, 114, 203],\n",
       "       [143,  28, 172, 131, 102],\n",
       "       [160,  99, 226, 130, 122]])"
      ]
     },
     "execution_count": 14,
     "metadata": {},
     "output_type": "execute_result"
    }
   ],
   "source": [
    "# we can select out rows and columns\n",
    "arr_rnd[:2, 1]  # first two rows, column 1\n",
    "\n",
    "# we can apply operations to blocks of elements in one-shot\n",
    "arr_rnd[:2, :2] * 2\n",
    "\n",
    "# we can assign to block of elements\n",
    "arr_rnd[:2, :2] = 1\n",
    "arr_rnd"
   ]
  },
  {
   "cell_type": "markdown",
   "metadata": {},
   "source": [
    "One of the more important, and sometimes confusing, aspects of NumPy is the idea of *axes*.  The reason it is confusing is because a common phrase `axis=0` looks like it means different things at different times.  However, the fundamental definition is always the same.  Summing over `axis=0` means summing over the *outer-most* dimension of the array.  Phrased another way, it means we sum over the first of whatever dimensions (1, 5, 100) our array has."
   ]
  },
  {
   "cell_type": "code",
   "execution_count": 17,
   "metadata": {},
   "outputs": [
    {
     "ename": "SyntaxError",
     "evalue": "invalid syntax (<ipython-input-17-e8d9a2075778>, line 3)",
     "output_type": "error",
     "traceback": [
      "\u001b[0;36m  File \u001b[0;32m\"<ipython-input-17-e8d9a2075778>\"\u001b[0;36m, line \u001b[0;32m3\u001b[0m\n\u001b[0;31m    print(arr, arr.shape, column_sums, sep='\\n')\u001b[0m\n\u001b[0m                                          ^\u001b[0m\n\u001b[0;31mSyntaxError\u001b[0m\u001b[0;31m:\u001b[0m invalid syntax\n"
     ]
    }
   ],
   "source": [
    "arr = np.arange(10).reshape(5,2)\n",
    "column_sums = arr.sum(axis=0)\n",
    "print(arr, arr.shape, column_sums, sep='\\n')"
   ]
  },
  {
   "cell_type": "markdown",
   "metadata": {},
   "source": [
    "In this case, summing over the outer-most dimension means we loop over the outer-most dimension.  This means we add up over the \"visual rows\" (but be careful of relying on the visual cue!).  So, we end up with a result that \"looks like\" (careful!) a row:  it has two elements ... *which are the column sums*.  See the weirdness?  If we have *c* columns, to get our *c* column-sums, we *loop over the rows*.  You can think of this as accumulating a new \"row\"."
   ]
  },
  {
   "cell_type": "code",
   "execution_count": 16,
   "metadata": {},
   "outputs": [
    {
     "ename": "SyntaxError",
     "evalue": "invalid syntax (<ipython-input-16-8cfe0367db7b>, line 2)",
     "output_type": "error",
     "traceback": [
      "\u001b[0;36m  File \u001b[0;32m\"<ipython-input-16-8cfe0367db7b>\"\u001b[0;36m, line \u001b[0;32m2\u001b[0m\n\u001b[0;31m    print(arr, arr.shape, arr.sum(axis=1), sep='\\n')\u001b[0m\n\u001b[0m                                              ^\u001b[0m\n\u001b[0;31mSyntaxError\u001b[0m\u001b[0;31m:\u001b[0m invalid syntax\n"
     ]
    }
   ],
   "source": [
    "row_sums = arr.sum(axis=1)\n",
    "print(arr, arr.shape, arr.sum(axis=1), sep='\\n')"
   ]
  },
  {
   "cell_type": "markdown",
   "metadata": {},
   "source": [
    "Here, we loop over the `axis=1` leads to `arr.shape[1]` gives 2 columns and add them up to produce a new \"pseudo-column\".  This pseudo-column holds *the row sums*.  Two other tid-bits:  \n",
    "  1.  The output looks like a \"row\".  Don't be fooled.  It is really a 1-D thing.  This is because we have \"summed out\" and hence, reduced, one dimension of the array.\n",
    "  2.  If you want a 2-D result, you can use an argument `keepdims=True`.  This keeps the dimension that we summed over (with a shape of 1).  This can simplify mathematics that combine the original array with the aggregated result."
   ]
  },
  {
   "cell_type": "code",
   "execution_count": 18,
   "metadata": {},
   "outputs": [
    {
     "ename": "SyntaxError",
     "evalue": "invalid syntax (<ipython-input-18-23f6c95612a9>, line 1)",
     "output_type": "error",
     "traceback": [
      "\u001b[0;36m  File \u001b[0;32m\"<ipython-input-18-23f6c95612a9>\"\u001b[0;36m, line \u001b[0;32m1\u001b[0m\n\u001b[0;31m    print(arr, arr.shape, arr.sum(axis=1, keepdims=True), sep='\\n')\u001b[0m\n\u001b[0m                                                             ^\u001b[0m\n\u001b[0;31mSyntaxError\u001b[0m\u001b[0;31m:\u001b[0m invalid syntax\n"
     ]
    }
   ],
   "source": [
    "print(arr, arr.shape, arr.sum(axis=1, keepdims=True), sep='\\n')"
   ]
  },
  {
   "cell_type": "markdown",
   "metadata": {},
   "source": [
    "We can build new arrays by \"pasting together\" sources arrays in a few ways.  The most general is `np.concatenate`:"
   ]
  },
  {
   "cell_type": "code",
   "execution_count": 19,
   "metadata": {},
   "outputs": [
    {
     "ename": "NameError",
     "evalue": "name 'arr' is not defined",
     "output_type": "error",
     "traceback": [
      "\u001b[0;31m---------------------------------------------------------------------------\u001b[0m",
      "\u001b[0;31mNameError\u001b[0m                                 Traceback (most recent call last)",
      "\u001b[0;32m<ipython-input-19-eb87370e9b2f>\u001b[0m in \u001b[0;36m<module>\u001b[0;34m()\u001b[0m\n\u001b[1;32m      3\u001b[0m \u001b[0;31m# but really:  looping over the outermost dimension to get a new pseudo-outermost dimension\u001b[0m\u001b[0;34m\u001b[0m\u001b[0;34m\u001b[0m\u001b[0m\n\u001b[1;32m      4\u001b[0m \u001b[0;31m#              think concatentate (join-together) these arrays by taking on to the outermost dimension\u001b[0m\u001b[0;34m\u001b[0m\u001b[0;34m\u001b[0m\u001b[0m\n\u001b[0;32m----> 5\u001b[0;31m \u001b[0mcolumn_sums\u001b[0m \u001b[0;34m=\u001b[0m \u001b[0marr\u001b[0m\u001b[0;34m.\u001b[0m\u001b[0msum\u001b[0m\u001b[0;34m(\u001b[0m\u001b[0maxis\u001b[0m\u001b[0;34m=\u001b[0m\u001b[0;36m0\u001b[0m\u001b[0;34m,\u001b[0m \u001b[0mkeepdims\u001b[0m\u001b[0;34m=\u001b[0m\u001b[0mTrue\u001b[0m\u001b[0;34m)\u001b[0m\u001b[0;34m\u001b[0m\u001b[0m\n\u001b[0m\u001b[1;32m      6\u001b[0m \u001b[0mnp\u001b[0m\u001b[0;34m.\u001b[0m\u001b[0mconcatenate\u001b[0m\u001b[0;34m(\u001b[0m\u001b[0;34m[\u001b[0m\u001b[0marr\u001b[0m\u001b[0;34m,\u001b[0m \u001b[0mcolumn_sums\u001b[0m\u001b[0;34m]\u001b[0m\u001b[0;34m,\u001b[0m \u001b[0maxis\u001b[0m\u001b[0;34m=\u001b[0m\u001b[0;36m0\u001b[0m\u001b[0;34m)\u001b[0m\u001b[0;34m\u001b[0m\u001b[0m\n",
      "\u001b[0;31mNameError\u001b[0m: name 'arr' is not defined"
     ]
    }
   ],
   "source": [
    "# think sum by looping over the rows to get new pseudo-row\n",
    "# think concatentate (join-together) these arrays by adding them row-wise\n",
    "# but really:  looping over the outermost dimension to get a new pseudo-outermost dimension\n",
    "#              think concatentate (join-together) these arrays by taking on to the outermost dimension\n",
    "column_sums = arr.sum(axis=0, keepdims=True)\n",
    "np.concatenate([arr, column_sums], axis=0)"
   ]
  },
  {
   "cell_type": "code",
   "execution_count": 20,
   "metadata": {},
   "outputs": [
    {
     "ename": "NameError",
     "evalue": "name 'arr' is not defined",
     "output_type": "error",
     "traceback": [
      "\u001b[0;31m---------------------------------------------------------------------------\u001b[0m",
      "\u001b[0;31mNameError\u001b[0m                                 Traceback (most recent call last)",
      "\u001b[0;32m<ipython-input-20-33ed02af4f26>\u001b[0m in \u001b[0;36m<module>\u001b[0;34m()\u001b[0m\n\u001b[1;32m      1\u001b[0m \u001b[0;31m# looping over the second outermost dimension to get a new pseudo-secondmost dimension\u001b[0m\u001b[0;34m\u001b[0m\u001b[0;34m\u001b[0m\u001b[0m\n\u001b[1;32m      2\u001b[0m \u001b[0;31m# think concatentate (join-together) these arrays by taking on to the second-outermost dimension\u001b[0m\u001b[0;34m\u001b[0m\u001b[0;34m\u001b[0m\u001b[0m\n\u001b[0;32m----> 3\u001b[0;31m \u001b[0mcolumn_sums\u001b[0m \u001b[0;34m=\u001b[0m \u001b[0marr\u001b[0m\u001b[0;34m.\u001b[0m\u001b[0msum\u001b[0m\u001b[0;34m(\u001b[0m\u001b[0maxis\u001b[0m\u001b[0;34m=\u001b[0m\u001b[0;36m1\u001b[0m\u001b[0;34m,\u001b[0m \u001b[0mkeepdims\u001b[0m\u001b[0;34m=\u001b[0m\u001b[0mTrue\u001b[0m\u001b[0;34m)\u001b[0m\u001b[0;34m\u001b[0m\u001b[0m\n\u001b[0m\u001b[1;32m      4\u001b[0m \u001b[0mnp\u001b[0m\u001b[0;34m.\u001b[0m\u001b[0mconcatenate\u001b[0m\u001b[0;34m(\u001b[0m\u001b[0;34m[\u001b[0m\u001b[0marr\u001b[0m\u001b[0;34m,\u001b[0m \u001b[0mcolumn_sums\u001b[0m\u001b[0;34m]\u001b[0m\u001b[0;34m,\u001b[0m \u001b[0maxis\u001b[0m\u001b[0;34m=\u001b[0m\u001b[0;36m1\u001b[0m\u001b[0;34m)\u001b[0m\u001b[0;34m\u001b[0m\u001b[0m\n",
      "\u001b[0;31mNameError\u001b[0m: name 'arr' is not defined"
     ]
    }
   ],
   "source": [
    "# looping over the second outermost dimension to get a new pseudo-secondmost dimension\n",
    "# think concatentate (join-together) these arrays by taking on to the second-outermost dimension\n",
    "column_sums = arr.sum(axis=1, keepdims=True)\n",
    "np.concatenate([arr, column_sums], axis=1)"
   ]
  },
  {
   "cell_type": "markdown",
   "metadata": {},
   "source": [
    "You'll may also see these:  \n",
    " * np.hstack, np.vstack, np.dstack (deprecated or at least discouraged)\n",
    " * np.stack (preferred to `np.[hvd]stack` above)\n",
    " * np.column_stack, np.row_stack (sometimes useful b/c they promote to 2-D)\n",
    " \n",
    "You can do everything they do with `np.concatenate`.  From a learning-efficiency perspective, get good with `np.concatenate` and let that be that."
   ]
  },
  {
   "cell_type": "code",
   "execution_count": 21,
   "metadata": {},
   "outputs": [
    {
     "data": {
      "text/plain": [
       "array([[1],\n",
       "       [2],\n",
       "       [3]])"
      ]
     },
     "execution_count": 21,
     "metadata": {},
     "output_type": "execute_result"
    }
   ],
   "source": [
    "# adding axes\n",
    "arr = np.array([1,2,3])\n",
    "\n",
    "arr.reshape(1,3) # \"row vector\"\n",
    "arr.reshape(3,1) # \"col vector\"\n",
    "\n",
    "arr[np.newaxis, :] # \"row vector\"\n",
    "arr[:, np.newaxis] # \"col vector\n"
   ]
  },
  {
   "cell_type": "markdown",
   "metadata": {},
   "source": [
    "# Matplotlib"
   ]
  },
  {
   "cell_type": "markdown",
   "metadata": {},
   "source": [
    "[Matplotlib](https://matplotlib.org/) is the foundation of the standard plotting and graphics display in the Python universe.  Seaborn and Pandas both use it under-the-hood.  Jupyter Notebooks have tight integration with it.  Generally, we'll only be using its most basic features.  So, if you need to know more, you'll want to check out:\n",
    "  * [Matplotlib User's Guide](https://matplotlib.org/users/index.html)\n",
    "  * [Scipy Lecture Notes](http://www.scipy-lectures.org/intro/matplotlib/index.html)"
   ]
  },
  {
   "cell_type": "code",
   "execution_count": 22,
   "metadata": {},
   "outputs": [],
   "source": [
    "# FIMME OUTLINE (remove when done)\n",
    "# OO versus matlab APIs\n",
    "# simple plots (plot x-y, scatter, histogram, imshow)\n",
    "# simple styling (removing spines, hiding axes, titles, labels, limits)\n",
    "# imshow ---> cmap"
   ]
  },
  {
   "cell_type": "markdown",
   "metadata": {},
   "source": [
    "To get going with matplotlib, we will \"always\" issue the following commands:"
   ]
  },
  {
   "cell_type": "code",
   "execution_count": 23,
   "metadata": {},
   "outputs": [],
   "source": [
    "# common abbreviation\n",
    "import matplotlib.pyplot as plt  \n",
    "\n",
    "# jupyter notebook specific to have plots appear in the notebook\n",
    "%matplotlib inline               "
   ]
  },
  {
   "cell_type": "markdown",
   "metadata": {},
   "source": [
    "Here is a simple example of a basic matplotlib graph.  One small note:  the \";\" (semi-colon) at the end of the last line is there to prevent Jupyter from printing out the evaluated value of the last line of the cell.  Feel free to remove it and see the difference (re-run the cell with it removed).  We simply add the semi-colon as a cosmetic touch."
   ]
  },
  {
   "cell_type": "code",
   "execution_count": 24,
   "metadata": {},
   "outputs": [
    {
     "data": {
      "text/plain": [
       "Text(0.5,0,'Time')"
      ]
     },
     "execution_count": 24,
     "metadata": {},
     "output_type": "execute_result"
    },
    {
     "data": {
      "image/png": "[encoded data removed]",
      "text/plain": [
       "<Figure size 432x288 with 1 Axes>"
      ]
     },
     "metadata": {},
     "output_type": "display_data"
    }
   ],
   "source": [
    "xs = np.linspace(0,10, 100) # 100 evenly spaced points from 0 to 10 inclusive\n",
    "ys = np.exp(xs)  # y = e^x\n",
    "\n",
    "# fig = plt.gcf() # explicitly get the default (current) figure (holder for \"full\" graphic) (rarely needed)\n",
    "ax = plt.gca()    # explicitly get the default (current) drawing axis\n",
    "\n",
    "ax.plot(xs, ys) # basic graph from two sequences:  x-points and y-points        \n",
    "ax.set_title(\"Example Graph\")\n",
    "ax.set_xlabel(\"Time\")\n",
    "# ax.axis('off');  # uncomment me to see the difference with/without spines and labels"
   ]
  },
  {
   "cell_type": "code",
   "execution_count": 25,
   "metadata": {},
   "outputs": [
    {
     "name": "stdout",
     "output_type": "stream",
     "text": [
      "Counter({8: 5, 1: 4, 7: 3, 0: 2, 3: 2, 4: 1, 5: 1, 6: 1, 9: 1})\n"
     ]
    },
    {
     "data": {
      "image/png": "[encoded data removed]",
      "text/plain": [
       "<Figure size 432x288 with 1 Axes>"
      ]
     },
     "metadata": {},
     "output_type": "display_data"
    }
   ],
   "source": [
    "ax = plt.gca()\n",
    "arr = npr.randint(0,10,20)\n",
    "ax.hist(arr, bins=10)\n",
    "\n",
    "ax.set_xlabel(\"Integer\")\n",
    "ax.set_ylabel(\"Count\")\n",
    "ax.set_title(\"Histogram of Integers\")\n",
    "\n",
    "import collections as co\n",
    "print(co.Counter(arr)) # pure python counts of occurances"
   ]
  },
  {
   "cell_type": "markdown",
   "metadata": {},
   "source": [
    "The most heavily used matplotlib command in this course is `imshow`.  We'll talk about more of the `imshow` details next week, but for now let's try it out:"
   ]
  },
  {
   "cell_type": "code",
   "execution_count": 26,
   "metadata": {},
   "outputs": [
    {
     "data": {
      "text/plain": [
       "<matplotlib.image.AxesImage at 0x1162da990>"
      ]
     },
     "execution_count": 26,
     "metadata": {},
     "output_type": "execute_result"
    },
    {
     "data": {
      "image/png": "[encoded data removed]",
      "text/plain": [
       "<Figure size 432x288 with 1 Axes>"
      ]
     },
     "metadata": {},
     "output_type": "display_data"
    }
   ],
   "source": [
    "# our idea here is grayscale image, black and white\n",
    "arr = np.array([[0,1],\n",
    "                [1,0]], dtype=np.float64)\n",
    "plt.gca().imshow(arr)"
   ]
  },
  {
   "cell_type": "code",
   "execution_count": 27,
   "metadata": {},
   "outputs": [
    {
     "data": {
      "image/png": "[encoded data removed]",
      "text/plain": [
       "<Figure size 432x288 with 1 Axes>"
      ]
     },
     "metadata": {},
     "output_type": "display_data"
    }
   ],
   "source": [
    "# not quite.  we need to tell it to use a grayscale color mapping\n",
    "# note:  by default the range [0,1] is expanded to fill the [0,255] intensity scale\n",
    "#        so:  0--->0 (black) and 1--->255 (white)\n",
    "\n",
    "# also:  remove the x/y grid points (matplotlib calls these \"spines\") and the frame\n",
    "ax = plt.gca()\n",
    "ax.imshow(arr, cmap='gray')\n",
    "ax.axis('off');"
   ]
  },
  {
   "cell_type": "markdown",
   "metadata": {},
   "source": [
    "Since we will be using this pattern so frequently, we'll give it a name and wrap it up in a function.  Note, we set interpolation to bicubic for a default so that \"real world\" images look better when we display them.  We'll have to remember that so that we can \"turn it off\" (pass `interpolation=None` ... which really does nearest neighbor interpolation but is close to showing the data as it is).  "
   ]
  },
  {
   "cell_type": "code",
   "execution_count": 28,
   "metadata": {},
   "outputs": [],
   "source": [
    "# FIXME CODE\n",
    "# consider my_show --> show\n",
    "#          my_gshow --> show_bw or show_gray"
   ]
  },
  {
   "cell_type": "code",
   "execution_count": 29,
   "metadata": {},
   "outputs": [],
   "source": [
    "# line 5:  def my_show(**kwargs) --> takes any \"extra\" keyword arguments and \n",
    "#                                    puts them in a dictionary named kwargs\n",
    "# line 7:  ax.imshow(**kwargs)   --> takes kwargs (a dictionary) and \n",
    "#                                    \"expands\" them into keyword arguments to imshow\n",
    "def my_show(ax, img, title=None, interpolation='bicubic', **kwargs):\n",
    "    ' helper to display an image on an axes without grid/spine '\n",
    "    ax.imshow(img, interpolation = interpolation, **kwargs)\n",
    "    ax.axis('off')\n",
    "    if title:\n",
    "        ax.set_title(title)\n",
    "\n",
    "def my_gshow(ax, img, title=None, cmap='gray', interpolation='bicubic', **kwargs):\n",
    "    ' helper to display an image, in grayscale, on an axes without grid/spine '\n",
    "    my_show(ax, img, title=title, cmap='gray', interpolation=interpolation, **kwargs)"
   ]
  },
  {
   "cell_type": "markdown",
   "metadata": {},
   "source": [
    "Often, we'll want to compare several images (before and after some processing step).  To do that, we'll want more than one matplotlib axis to draw on.  `subplots` gives us a convenient way to get the axes to work with.  Then, we can pass different axes on to our show functions.  A note on `figsize`:  you can look at `plt.rcParams['figure.figsize']` to see the default (and use `rcParams` as a dictionary to find other configuration options)."
   ]
  },
  {
   "cell_type": "code",
   "execution_count": 30,
   "metadata": {},
   "outputs": [
    {
     "data": {
      "image/png": "[encoded data removed]",
      "text/plain": [
       "<Figure size 648x216 with 3 Axes>"
      ]
     },
     "metadata": {},
     "output_type": "display_data"
    }
   ],
   "source": [
    "fig, axes = plt.subplots(1,3,figsize=(9,3))  # 1 row, 3 columns of figures\n",
    "\n",
    "# axes is a numpy array with nrows, ncols ... unless one of the values is 1 ... then it is a \n",
    "# 1-D thing (but see squeeze=True squeeze=False argument to subplots to keep dimensions)\n",
    "arr = np.array([[0,1],\n",
    "                [1,0]], dtype=np.float64)\n",
    "my_show(axes[0], arr)\n",
    "my_gshow(axes[1], arr)\n",
    "my_gshow(axes[2], arr, interpolation=None)"
   ]
  },
  {
   "cell_type": "code",
   "execution_count": 31,
   "metadata": {},
   "outputs": [
    {
     "data": {
      "image/png": "[encoded data removed]",
      "text/plain": [
       "<Figure size 216x648 with 3 Axes>"
      ]
     },
     "metadata": {},
     "output_type": "display_data"
    }
   ],
   "source": [
    "fig, axes = plt.subplots(1,3,figsize=(3,9))  # 1 row, 3 columns of figures\n",
    "axes = axes.flat # a 1-D iterable of the axes (row-major)\n",
    "\n",
    "# make three random tiny arrays\n",
    "rnd_arrays = [npr.randint(0,2,(2,2)) for i in range(3)]\n",
    "\n",
    "# we can use the axes.flat iterable in Python-fu\n",
    "# zip(seq1, seq2) gives (seq1[0], seq2[0]), (seq1[1], seq2[1]), ...\n",
    "# enumerate(seq, start) gives (start, seq[0]) (start+1,seq[1]) ...\n",
    "for idx, (ax, arr) in enumerate(zip(axes, rnd_arrays), 1):\n",
    "    my_gshow(ax, arr, interpolation=None, title=\"Array {}\".format(idx))"
   ]
  },
  {
   "cell_type": "markdown",
   "metadata": {},
   "source": [
    "Since you are now exposed to `Figure`s and `Axes`, let's take a second to look at them more closely.  In the following cell, we make the overall `Figure` gray and we place two axes on it.  You can control much of the styling of the components independently."
   ]
  },
  {
   "cell_type": "code",
   "execution_count": 32,
   "metadata": {},
   "outputs": [
    {
     "data": {
      "image/png": "[encoded data removed]",
      "text/plain": [
       "<Figure size 864x288 with 2 Axes>"
      ]
     },
     "metadata": {},
     "output_type": "display_data"
    }
   ],
   "source": [
    "fig, axes = plt.subplots(1,2,facecolor='gray', figsize=(12,4), sharey=True)\n",
    "axes[0].plot([1,2,3], [10,20,30])\n",
    "axes[1].plot([1,5], [3,10], 'ro');\n",
    "# fig.savefig('test.png', transparent=True) #"
   ]
  },
  {
   "cell_type": "markdown",
   "metadata": {},
   "source": [
    "One other quick note.  So far, we've completely used the \"object-oriented API\" for matplotlib.  We recommend getting figures and axes from `plt.` commands and then consistently using the OO-api.  We encourage you to use this for 99+% of your matplotlib code.  However, you might see code like the following that relies heavily on implicit figures/axes and uses many `plt.` functions directly.  Warning!  The `plt.` functions and the `ax.` methods *look very similar* but are used differently.  Mixing them will result in headaches and frustration."
   ]
  },
  {
   "cell_type": "code",
   "execution_count": 33,
   "metadata": {},
   "outputs": [
    {
     "data": {
      "image/png": "[encoded data removed]",
      "text/plain": [
       "<Figure size 144x144 with 1 Axes>"
      ]
     },
     "metadata": {},
     "output_type": "display_data"
    }
   ],
   "source": [
    "xs = np.linspace(0,10, 100) # 100 evenly spaced points from 0 to 10 inclusive\n",
    "ys = np.exp(xs)  # y = e^x\n",
    "\n",
    "# the following are examples of the (not recommended) MATLAB-like API\n",
    "plt.figure(figsize=(2,2)) # affects the implicit figure\n",
    "\n",
    "plt.plot(xs, ys)           # uses the implicit axis\n",
    "plt.title(\"Example Graph\") # compare with ax.set_title('Example Graph')\n",
    "plt.xlabel(\"Time\")         # compare with ax.set_xlabel('Time')\n",
    "plt.axis('off');           # compare with ax.axis('off')"
   ]
  },
  {
   "cell_type": "markdown",
   "metadata": {},
   "source": [
    "# First Steps with OpenCV"
   ]
  },
  {
   "cell_type": "code",
   "execution_count": 34,
   "metadata": {},
   "outputs": [],
   "source": [
    "# FIXME:  content"
   ]
  },
  {
   "cell_type": "markdown",
   "metadata": {},
   "source": [
    "[OpenCV](http://opencv.org/) is XXXXX.\n",
    "  * [FIXME VERIFY] Python API docs are [included here](http://docs.opencv.org/3.0-last-rst/)\n",
    "\n",
    "\n",
    "For example, for `cv2.imread`:\n",
    "  * [Docs for OpenCV3 shows Python API](http://docs.opencv.org/3.0-last-rst/modules/imgcodecs/doc/reading_and_writing_images.html#imread)\n",
    "  * [Newer Docs for OpenCV3 - Missing Python API](http://docs.opencv.org/3.3.0/d4/da8/group__imgcodecs.html#ga288b8b3da0892bd651fce07b3bbd3a56)\n",
    "  * [Older OpenCV2 Docs](http://docs.opencv.org/2.4.13.3/modules/highgui/doc/reading_and_writing_images_and_video.html#cv2.imread)  \n",
    "    * In some respects, the version 2.x docs seems more mature\n",
    "    * Not up-to-date\n",
    "    * There is some breakage (API differences) from 2.x -> 3.x"
   ]
  },
  {
   "cell_type": "code",
   "execution_count": 39,
   "metadata": {},
   "outputs": [
    {
     "name": "stdout",
     "output_type": "stream",
     "text": [
      "Solving environment: failed\n",
      "\n",
      "PackagesNotFoundError: The following packages are not available from current channels:\n",
      "\n",
      "  - cv2\n",
      "\n",
      "Current channels:\n",
      "\n",
      "  - https://repo.anaconda.com/pkgs/main/osx-64\n",
      "  - https://repo.anaconda.com/pkgs/main/noarch\n",
      "  - https://repo.anaconda.com/pkgs/free/osx-64\n",
      "  - https://repo.anaconda.com/pkgs/free/noarch\n",
      "  - https://repo.anaconda.com/pkgs/r/osx-64\n",
      "  - https://repo.anaconda.com/pkgs/r/noarch\n",
      "  - https://repo.anaconda.com/pkgs/pro/osx-64\n",
      "  - https://repo.anaconda.com/pkgs/pro/noarch\n",
      "\n",
      "To search for alternate channels that may provide the conda package you're\n",
      "looking for, navigate to\n",
      "\n",
      "    https://anaconda.org\n",
      "\n",
      "and use the search bar at the top of the page.\n",
      "\n",
      "\n"
     ]
    }
   ],
   "source": [
    "# vaguely looks like ~20 cells from the first vision notebook\n",
    "!conda install cv2\n",
    "#import cv2 # yes, we are using opencv version 3 :grumpyface:"
   ]
  },
  {
   "cell_type": "code",
   "execution_count": 38,
   "metadata": {},
   "outputs": [
    {
     "ename": "NameError",
     "evalue": "name 'cv2' is not defined",
     "output_type": "error",
     "traceback": [
      "\u001b[0;31m---------------------------------------------------------------------------\u001b[0m",
      "\u001b[0;31mNameError\u001b[0m                                 Traceback (most recent call last)",
      "\u001b[0;32m<ipython-input-38-ad81e2bf337b>\u001b[0m in \u001b[0;36m<module>\u001b[0;34m()\u001b[0m\n\u001b[1;32m      1\u001b[0m \u001b[0;31m# code to find version of opencv\u001b[0m\u001b[0;34m\u001b[0m\u001b[0;34m\u001b[0m\u001b[0m\n\u001b[0;32m----> 2\u001b[0;31m \u001b[0mcv2\u001b[0m\u001b[0;34m.\u001b[0m\u001b[0m__version__\u001b[0m\u001b[0;34m\u001b[0m\u001b[0m\n\u001b[0m",
      "\u001b[0;31mNameError\u001b[0m: name 'cv2' is not defined"
     ]
    }
   ],
   "source": [
    "# code to find version of opencv\n",
    "cv2.__version__"
   ]
  },
  {
   "cell_type": "code",
   "execution_count": null,
   "metadata": {},
   "outputs": [],
   "source": [
    "img_dir = '../common/'\n",
    "messi_gray = cv2.imread(img_dir+'data/messi.jpg', 0)\n",
    "my_gshow(plt.gca(), messi_gray) # use the default axes for quick-and-dirty"
   ]
  },
  {
   "cell_type": "code",
   "execution_count": null,
   "metadata": {},
   "outputs": [],
   "source": [
    "# we can also use scipy to read in images:\n",
    "from scipy import ndimage\n",
    "img = ndimage.imread(img_dir+'data/messi.jpg') # default here is RGB\n",
    "img.shape"
   ]
  },
  {
   "cell_type": "code",
   "execution_count": null,
   "metadata": {},
   "outputs": [],
   "source": [
    "messi_color = cv2.imread(img_dir+'data/messi.jpg') # default flag is 1 \"color\"\n",
    "\n",
    "print(type(messi_color), \n",
    "      messi_color.shape, \n",
    "      messi_color.dtype)\n",
    "\n",
    "my_show(plt.gca(), messi_color)\n",
    "# FAIL:  mishmash of colors"
   ]
  },
  {
   "cell_type": "code",
   "execution_count": null,
   "metadata": {},
   "outputs": [],
   "source": [
    "# opencv is GBR; matplotlib is RGB.  \n",
    "my_show(plt.gca(), messi_color[:,:,::-1]) # walk last axis in opposite order (we'll never do this again!)"
   ]
  },
  {
   "cell_type": "code",
   "execution_count": null,
   "metadata": {},
   "outputs": [],
   "source": [
    "# better: explicitly convert the image to RGB\n",
    "messi_rgb = cv2.cvtColor(messi_color, cv2.COLOR_BGR2RGB)\n",
    "my_show(plt.gca(), messi_rgb)"
   ]
  },
  {
   "cell_type": "code",
   "execution_count": null,
   "metadata": {
    "collapsed": true
   },
   "outputs": [],
   "source": [
    "# these come up frequently.  we'll always want rgb (instead of bgr)\n",
    "# and we often need both rgb and grayscale (grayscale starts many processing steps)\n",
    "def my_read(filename):\n",
    "    ' read from an image file to an rgb '\n",
    "    img = cv2.imread(filename)\n",
    "    return cv2.cvtColor(img, cv2.COLOR_BGR2RGB)\n",
    "\n",
    "def my_read_cg(filename):\n",
    "    ' read from an image file to an rgb and a grayscale image array '\n",
    "    rgb = my_read(filename)\n",
    "    gray = cv2.cvtColor(rgb, cv2.COLOR_RGB2GRAY)\n",
    "    return rgb, gray\n",
    "\n",
    "# now we can do this:\n",
    "messi_rgb = my_read(img_dir+'data/messi.jpg')\n",
    "\n",
    "# or if we need both\n",
    "messi_rgb, messi_gray = my_read_cg(img_dir+'data/messi.jpg')"
   ]
  },
  {
   "cell_type": "markdown",
   "metadata": {},
   "source": [
    "# OpenCV Images as NumPy Arrays"
   ]
  },
  {
   "cell_type": "code",
   "execution_count": null,
   "metadata": {
    "collapsed": true
   },
   "outputs": [],
   "source": [
    "messi_rgb = my_read(img_dir+'data/messi.jpg')"
   ]
  },
  {
   "cell_type": "markdown",
   "metadata": {},
   "source": [
    "Since messi_rgb is \"just\" a NumPy array, we can do NumPy array things:"
   ]
  },
  {
   "cell_type": "code",
   "execution_count": null,
   "metadata": {},
   "outputs": [],
   "source": [
    "print(messi_rgb[100,100],     # access a pixel\n",
    "      messi_rgb[300,:].shape) # sub-select a row; it's an array also.  take its shape"
   ]
  },
  {
   "cell_type": "code",
   "execution_count": null,
   "metadata": {},
   "outputs": [],
   "source": [
    "# pixels are people ... err ... arrays too\n",
    "pixel = messi_rgb[100,100]\n",
    "print(type(pixel),\n",
    "      pixel.shape,  # 1-D, scalar, array\n",
    "      pixel)"
   ]
  },
  {
   "cell_type": "code",
   "execution_count": null,
   "metadata": {},
   "outputs": [],
   "source": [
    "# massi's right wrist has a white spot!\n",
    "messi_rgb[100:105,100:105]=[255,255,255] # white (note, our target pixel also had 3 spots to fill)\n",
    "my_show(plt.gca(), messi_rgb)"
   ]
  },
  {
   "cell_type": "code",
   "execution_count": null,
   "metadata": {},
   "outputs": [],
   "source": [
    "ball_soi = messi_rgb[280:340, 330:390] # \"soi\" = square of interest :)\n",
    "messi_rgb[273:333, 100:160] = ball_soi  # copy to new area\n",
    "my_show(plt.gca(), messi_rgb)"
   ]
  },
  {
   "cell_type": "code",
   "execution_count": null,
   "metadata": {},
   "outputs": [],
   "source": [
    "# often we want to access color channels separately\n",
    "# split to separate arrays per color (costly, prefer to access by indexing)\n",
    "chans = r,g,b = cv2.split(messi_rgb)\n",
    "restored = cv2.merge((r,g,b))\n",
    "\n",
    "print(r.shape)"
   ]
  },
  {
   "cell_type": "code",
   "execution_count": null,
   "metadata": {},
   "outputs": [],
   "source": [
    "fig, axes = plt.subplots(1,4,figsize=(12,3))\n",
    "axes = axes.flat\n",
    "\n",
    "# handle first as special case\n",
    "first_axis = next(axes)\n",
    "my_show(first_axis, messi_rgb)\n",
    "first_axis.set_title(\"original\")\n",
    "\n",
    "# display per channel images\n",
    "for ax, ch, name in zip(axes, chans, [\"R\", \"G\", \"B\"]):\n",
    "    my_gshow(ax, g)\n",
    "    ax.set_title(\"{} channel\".format(name))"
   ]
  },
  {
   "cell_type": "code",
   "execution_count": null,
   "metadata": {},
   "outputs": [],
   "source": [
    "# cv2.split is a convenience wrapper around numpy's split command\n",
    "# aka, split on last axis into size(last axis) pieces\n",
    "r_np,_,_ = np.split(messi_rgb, messi_rgb.shape[-1], -1) \n",
    "print(r_np.shape,\n",
    "      np.allclose(r, r_np[:,:,0])) # only 1D in last axis, so index it out"
   ]
  },
  {
   "cell_type": "code",
   "execution_count": null,
   "metadata": {},
   "outputs": [],
   "source": [
    "# we can often just use indexing directly (see line 9)\n",
    "# also show off matplotlib histograms\n",
    "\n",
    "color_to_index = {\"R\":0, \"G\":1, \"B\":2}  # map strings to appropriate index in \n",
    "\n",
    "fig, axes = plt.subplots(1,3,figsize=(12,3), sharey=True)\n",
    "for ax, color in zip(axes, color_to_index):\n",
    "    c = color_to_index[color]\n",
    "    this_channel = messi_rgb[:,:,c].ravel() # 1D view without copying \n",
    "    \n",
    "    ax.hist(this_channel, 256, normed=True)\n",
    "    ax.set_title(\"Histogram for {}\".format(color))"
   ]
  },
  {
   "cell_type": "code",
   "execution_count": null,
   "metadata": {},
   "outputs": [],
   "source": [
    "fig, axes = plt.subplots(2,2,figsize=(6,6))\n",
    "axes = axes.flat\n",
    "\n",
    "messi = my_read(img_dir+'data/messi.jpg')\n",
    "my_show(next(axes), messi, title=\"Size:{}\".format(messi.shape[:2]))\n",
    "\n",
    "borders = [cv2.BORDER_REFLECT, cv2.BORDER_WRAP, cv2.BORDER_CONSTANT]\n",
    "for ax, border in zip(axes, borders):\n",
    "    with_border = cv2.copyMakeBorder(messi, 50,50,50,50,border)\n",
    "    my_show(ax, with_border, title=\"Size:{}\".format(with_border.shape[:2]))"
   ]
  },
  {
   "cell_type": "markdown",
   "metadata": {},
   "source": [
    "# Exercises"
   ]
  },
  {
   "cell_type": "code",
   "execution_count": null,
   "metadata": {
    "collapsed": true
   },
   "outputs": [],
   "source": [
    "# gathering the setup code.  \n",
    "# if you are doing the exercises in another notebook, make sure these are executed\n",
    "import matplotlib.pyplot as plt\n",
    "import cv2\n",
    "import numpy as np\n",
    "\n",
    "%matplotlib inline\n",
    "\n",
    "def show_array(arr):\n",
    "    print(arr)\n",
    "    for attr in [\"size\", \"shape\", \"dtype\"]:\n",
    "        print(\"{:>5s} {}\".format(attr, getattr(arr, attr)))  # getattr(obj, \"attr\") --> obj.attr"
   ]
  },
  {
   "cell_type": "markdown",
   "metadata": {},
   "source": [
    "## NumPy"
   ]
  },
  {
   "cell_type": "markdown",
   "metadata": {},
   "source": [
    "  1.  Read the documentation for `np.zeros`.\n",
    "    1.  The generic way:  google \"numpy zeros\"\n",
    "    2.  The python way:  `import numpy as np`, `help(np.zeros)`\n",
    "    3.  The jupyter way:  `import numpy as np`, `?np.zeros`\n",
    "    4.  The master way:   `import numpy as np`, `np.zeros( <after open-paren hit tab two or four times>`\n",
    "    \n",
    "  2.  We'll be interested in only a few `dtypes` in this class:  `np.float64`, `np.uint8`, `np.int64` [but there are more out there](https://docs.scipy.org/doc/numpy-1.13.0/user/basics.types.html).  Create a NumPy array using `np.zeros` that has:\n",
    "    1.  5 total elements in one dimension, floats\n",
    "    2.  12 total elements in two dimensions, small unsigned ints\n",
    "    3.  12 total elements in three dimensions, bigger signed ints\n",
    "    4.  display each of these using the `show_array` function from above\n",
    "  4.  `np.tile` is wonderfully useful to create \"grided\" patterns.  Let's explore it.\n",
    "    1.  Create a simple 2x2 array called `myarr`.\n",
    "    2.  Try the following versions of tile (execute the commands *and* check out the shape of the result):\n",
    "      1. `np.tile(myarr, 1)`\n",
    "      1. `np.tile(myarr, 2)`\n",
    "      1. `np.tile(myarr, (1,1))`, \n",
    "      1. `np.tile(myarr, (2,1))`\n",
    "      1. `np.tile(myarr, (1,2))`, \n",
    "      1. `np.tile(myarr, (2,2))`\n",
    "      1.  Now, try to predict what `crazy_tile = np.tile(myarr, (3,1,1))` will do.  Now do it yourself.\n",
    "    3.  With that final \"tiled\" array, trying to:\n",
    "      1.  Generate the sums over visual \"rows\", \"columns\", and what I like to \"panels\" (the outermost grouping of row-column 2-D looking things).  Be careful to remember that `axis=0` means \"outermost dimension\".   Visually, this means \"summing by looping over the panels of `crazy_tile`\".\n",
    "      2.  Take these sums (one at a time, not all together) and append them on to `crazy_tile` using `np.concatenate`.\n"
   ]
  },
  {
   "cell_type": "code",
   "execution_count": null,
   "metadata": {},
   "outputs": [],
   "source": [
    "# numpy 1:  \n",
    "# just follow along\n",
    "\n",
    "# numpy 2:\n",
    "arrays = [np.zeros(5, np.float64), \n",
    "          np.zeros((3,4), np.uint8),\n",
    "          np.zeros((2,2,3), np.int64)]\n",
    "for arr in arrays:\n",
    "    show_array(arr)\n",
    "    \n",
    "# numpy 3\n",
    "myarr = np.array([[1,2], [3,4]])\n",
    "for args in (1,2,(1,1),(2,1),(1,2),(2,2)):\n",
    "    show_array(np.tile(myarr, args))\n",
    "\n",
    "# numpy 3\n",
    "crazy_tile = np.tile(myarr, (3,1,1))\n",
    "crazy_tile.sum(axis=1) # visual rows\n",
    "crazy_tile.sum(axis=2) # visual cols   (innermost)\n",
    "crazy_tile.sum(axis=0) # visual panels (outermost)\n",
    "\n",
    "# numpy 3\n",
    "for axis in [0,1,2]:\n",
    "    ax_sum = crazy_tile.sum(axis=axis, keepdims=True)\n",
    "    show_array(np.concatenate([crazy_tile, ax_sum], axis=axis))"
   ]
  },
  {
   "cell_type": "markdown",
   "metadata": {},
   "source": [
    "## Matplotlib Exercises"
   ]
  },
  {
   "cell_type": "markdown",
   "metadata": {},
   "source": [
    "  1. Use `np.zeros` and `np.ones` to create a square NumPy array that represents an image with a black square centered inside an outer white square.  Let the sides of the inner black square be 1/2 the length of the sides of the outer white square. Display your result (remember to set `interpolation=None`).\n",
    "  2. Add noise to the square you just made and display the result.  One way to do that is (1) create a white-noise image and (2) select either the \"real\" image point or the \"white noise\" image point.\n",
    "  \n",
    "    You'll end up generating two random things:  the white-noise image and a selector.  To *use* the selector, break out `np.where(condition, take_if_true, take_if_false)`.  In a basic case, all three arguments have the same shape.  At a position in the result (which has the same shape as the inputs), if `condition` holds (it is true), result gets a value from the second argument.  Otherwise, a value from the third argument goes into the result.  Read the docs for `np.where` and try simple example or two to get a feel for how it works.  Building small, demonstrative examples is a monumentally important skill!\n",
    "  3.  To preview some important ideas that we will get to in week 3, let's spend a few minutes interpreting an image as a function with a numerical derivative.  Specifically, we'll take a slice of values (across a row or column) and look at the differences between values from one pixel to the next.  `np.diff` is tailor-made to do this.  With your centered square from the first matplotlib exercise, take the `np.diff` across the center row and center column.  Graph the row and its 1st-difference with `plt.plot`.  *GOTCHA WARNING: `np.diff` has two gotchas.  (1)  calling it on `arr` will result in an array with `dtype==arr.dtype`.  The square you made is (possibly) a `np.uint8` array.  But, you can fix it!  (2)  `np.diff` results in an array smaller than the input because there is no difference for the first element.  There are a few ways around that.  Pick one.*\n",
    "  3.  NumPy and Matplotlib Graduation Day.  Use `np.zeros`, `np.ones`, `np.tile`, and `imshow` to create and display a black-and-white chessboard.  Chessboards are an 8x8 grid of squares."
   ]
  },
  {
   "cell_type": "code",
   "execution_count": null,
   "metadata": {},
   "outputs": [],
   "source": [
    "# matplotlib exercise 1,2\n",
    "fig,axes = plt.subplots(1,2,figsize=(12,4))\n",
    "axes = axes.flat\n",
    "\n",
    "shape = (300,300)\n",
    "\n",
    "orig = np.zeros(shape, dtype=np.uint8)\n",
    "orig[75:225, 75:225] = 255\n",
    "my_gshow(next(axes), orig, interpolation=None)\n",
    "\n",
    "# not ultra efficient\n",
    "blur = np.random.randint(0,256,size=shape).astype(np.uint8)\n",
    "blurred = np.where(np.random.uniform(size=shape) > .3, orig, blur)\n",
    "my_gshow(next(axes), blurred, interpolation=None)"
   ]
  },
  {
   "cell_type": "code",
   "execution_count": null,
   "metadata": {},
   "outputs": [],
   "source": [
    "# exercise 3, warm up\n",
    "test = np.array([1,3,5,10])\n",
    "print(np.diff(test), \n",
    "      test[:-1] + np.diff(test)) # to recreate original (except first point)"
   ]
  },
  {
   "cell_type": "code",
   "execution_count": null,
   "metadata": {},
   "outputs": [],
   "source": [
    "# exercise 3\n",
    "row_slice = orig[150,:]\n",
    "print(row_slice.min(), row_slice.max())\n",
    "\n",
    "row_diff = np.diff(row_slice.astype(np.int16)) # otherwise diff loses sign\n",
    "print(row_diff.min(), row_diff.max())\n",
    "\n",
    "plt.plot(np.arange(299), row_slice[:-1], 'r') # could also use row_slice[1:] to align \"at\" jump\n",
    "plt.plot(np.arange(299), row_diff, 'b');      # no diff for first elt"
   ]
  },
  {
   "cell_type": "code",
   "execution_count": null,
   "metadata": {},
   "outputs": [],
   "source": [
    "# exercise 4\n",
    "\n",
    "# strategy:  create the top-left corner and then duplicate it with tile\n",
    "# base squares\n",
    "base_len = 100\n",
    "black = np.zeros((base_len, base_len), dtype=np.uint8)\n",
    "white = np.full_like(black, 255)\n",
    "\n",
    "# top-left corner\n",
    "# .c_ / .r_ create by specifying columns / rows using [] notation\n",
    "# can also use concatenate along axis=1 for np.c_ and axis=0 for np.r_\n",
    "top_left = np.c_[np.r_[white,black], np.r_[black,white]]\n",
    "\n",
    "# tiled out\n",
    "board = np.tile(top_left, (4,4))\n",
    "my_gshow(plt.gca(), board, interpolation=None)"
   ]
  },
  {
   "cell_type": "markdown",
   "metadata": {},
   "source": [
    "## Exercises with OpenCV and NumPy Together"
   ]
  },
  {
   "cell_type": "markdown",
   "metadata": {},
   "source": [
    "Now, let's get a first look at the OpenCV documentation and practice making an OpenCV call.  We'll do much more of this next week!  Find the online documentation for `copyMakeBorder` and read it.  Yes, it might be painful - but, you'll need to develop this skill - reading online documentation - to master all that OpenCV (and other open-source software) has to offer.  \n",
    "\n",
    "Experiment with different arguments to `copyMakeBorder` and compare histograms of the image before and after.  You might want to \"turn off\" `sharey` and `normed` from the code above to see the effect they have.\n",
    "\n",
    "Above, we made three histograms in one row of a `subplots` set of axes.  Can you place the original and modified histograms over-under each other in two rows of a `subplots`?\n",
    "\n",
    "Lastly, copy a region-of-interest from one part of the image to another, using NumPy array operations.  You'll need to deal with the fact that an assignment within NumPy arrays must be from a source and a destination with the same size (this isn't strictly true, but we'll use it as a simplification for this exercsise -- if you want to know more, look up broadcasting)."
   ]
  },
  {
   "cell_type": "code",
   "execution_count": null,
   "metadata": {},
   "outputs": [],
   "source": [
    "# Docs at:\n",
    "# https://docs.opencv.org/3.0-beta/modules/core/doc/operations_on_arrays.html#copymakeborder\n",
    "# make sure you find the opencv 3 docs\n",
    "\n",
    "outdoors = my_read(img_dir+'data/farm-drop.jpg')\n",
    "with_border = cv2.copyMakeBorder(outdoors, 20,20,20,20,cv2.BORDER_CONSTANT)\n",
    "my_show(plt.gca(), with_border)"
   ]
  },
  {
   "cell_type": "code",
   "execution_count": null,
   "metadata": {},
   "outputs": [],
   "source": [
    "color_to_index = {\"R\":0, \"G\":1, \"B\":2}\n",
    "\n",
    "fig, axes = plt.subplots(2,3,figsize=(12,3), sharey=True)\n",
    "for column, color in enumerate(color_to_index):\n",
    "    for row, img in enumerate([outdoors, with_border]): \n",
    "        c = color_to_index[color]\n",
    "        this_channel = img[:,:,c].ravel()\n",
    "\n",
    "        axes[row, column].hist(this_channel, 256, normed=True)\n",
    "        axes[0,column].set_title(\"Histogram for {}\".format(color))"
   ]
  },
  {
   "cell_type": "code",
   "execution_count": null,
   "metadata": {},
   "outputs": [],
   "source": [
    "# next lesson, we'll learn about drawing, this is another option to track down\n",
    "# your region of interest\n",
    "marked_up = cv2.rectangle(outdoors, (1000,80), (1500, 800), (255,255,255), 10)\n",
    "my_show(plt.gca(), marked_up)"
   ]
  },
  {
   "cell_type": "code",
   "execution_count": null,
   "metadata": {},
   "outputs": [],
   "source": [
    "# duplicate the ROI in another part of the image\n",
    "roi = marked_up[81:800, 1001:1500]\n",
    "shape = roi.shape\n",
    "marked_up[10:10+shape[0],10:10+shape[1]] = roi\n",
    "my_show(plt.gca(), marked_up)"
   ]
  }
 ],
 "metadata": {
  "kernelspec": {
   "display_name": "Python 2",
   "language": "python",
   "name": "python2"
  },
  "language_info": {
   "codemirror_mode": {
    "name": "ipython",
    "version": 2
   },
   "file_extension": ".py",
   "mimetype": "text/x-python",
   "name": "python",
   "nbconvert_exporter": "python",
   "pygments_lexer": "ipython2",
   "version": "2.7.15"
  }
 },
 "nbformat": 4,
 "nbformat_minor": 2
}
