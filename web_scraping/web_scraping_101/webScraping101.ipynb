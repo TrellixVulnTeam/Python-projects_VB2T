{
 "cells": [
  {
   "cell_type": "code",
   "execution_count": null,
   "metadata": {
    "collapsed": true
   },
   "outputs": [],
   "source": [
    "#Greg Reda's web scraping 101 tutorial using Chicago reader website (http://www.chicagoreader.com/chicago/best-of-chicago-2011-food-drink/BestOf?oid=4106228fr\n",
    "from bs4 import BeautifulSoup\n",
    "from urllib2 import urlopen\n",
    "from time import sleep\n",
    "\n",
    "BASE_URL = \"http://www.chicagoreader.com\"\n",
    "\n",
    "def make_soup(url):\n",
    "    html = urlopen(url).read()\n",
    "    return BeautifulSoup(html, \"lxml\")\n",
    "\n",
    "def get_category_links(linkinfo):\n",
    "    soup = make_soup(linkinfo)\n",
    "    boccat = soup.find(\"dl\", \"boccat\")\n",
    "    category_links = [BASE_URL + dd.a[\"href\"] for dd in boccat.findAll(\"dd\")]\n",
    "    return category_links\n",
    "\n",
    "\n",
    "def get_category_winner(linkinfo):\n",
    "    soup = make_soup(linkinfo)\n",
    "    category = soup.find(\"h1\",\"headline\").string\n",
    "    winner = [h2.string for h2 in soup.findAll(\"h2\",\"boc1\")]\n",
    "    runnersUp = [h2.string for h2 in soup.findAll(\"h2\",\"boc2\")]\n",
    "    return {\n",
    "        \"category\": category,\n",
    "        \"category_url\": linkinfo,\n",
    "        \"winner\": winner,\n",
    "        \"runners up\": runnersUp\n",
    "    }\n",
    "\n",
    "if __name__ == '__main__':\n",
    "    food_n_drink = (\"http://www.chicagoreader.com/chicago/\"\n",
    "                    \"best-of-chicago-2011-food-drink/BestOf?oid=4106228\")\n",
    "    \n",
    "    categories = get_category_links(food_n_drink)\n",
    "\n",
    "    data = [] # a list to store our dictionaries\n",
    "    for category in categories:\n",
    "        winner = get_category_winner(category)\n",
    "        data.append(winner)\n",
    "        sleep(1) # be nice\n",
    "\n",
    "    print (data)\n",
    "    \n",
    "    \n",
    "    \n",
    "\n",
    "\n",
    "\n",
    "\n",
    "\n",
    "\n",
    "\n",
    "\n",
    "\n",
    "\n",
    "\n",
    "\n"
   ]
  }
 ],
 "metadata": {
  "kernelspec": {
   "display_name": "Python 2",
   "language": "python",
   "name": "python2"
  },
  "language_info": {
   "codemirror_mode": {
    "name": "ipython",
    "version": 2
   },
   "file_extension": ".py",
   "mimetype": "text/x-python",
   "name": "python",
   "nbconvert_exporter": "python",
   "pygments_lexer": "ipython2",
   "version": "2.7.11"
  }
 },
 "nbformat": 4,
 "nbformat_minor": 0
}
