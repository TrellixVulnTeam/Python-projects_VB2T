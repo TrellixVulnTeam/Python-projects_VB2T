{
 "cells": [
  {
   "cell_type": "code",
   "execution_count": 1,
   "metadata": {
    "collapsed": false
   },
   "outputs": [
    {
     "name": "stderr",
     "output_type": "stream",
     "text": [
      "/Users/edima/anaconda/lib/python2.7/site-packages/matplotlib/__init__.py:878: UserWarning: axes.color_cycle is deprecated and replaced with axes.prop_cycle; please use the latter.\n",
      "  warnings.warn(self.msg_depr % (key, alt_key))\n"
     ]
    }
   ],
   "source": [
    "#load libraries\n",
    "import numpy as np\n",
    "import pandas as pd\n",
    "import seaborn as sns\n",
    "import statsmodels.api as sm\n",
    "import matplotlib.pyplot as plt\n",
    "\n"
   ]
  },
  {
   "cell_type": "code",
   "execution_count": 3,
   "metadata": {
    "collapsed": false
   },
   "outputs": [],
   "source": [
    "#load data\n",
    "df = pd.read_csv('weather.csv')"
   ]
  },
  {
   "cell_type": "code",
   "execution_count": 5,
   "metadata": {
    "collapsed": false
   },
   "outputs": [
    {
     "data": {
      "text/plain": [
       "(2716, 44)"
      ]
     },
     "execution_count": 5,
     "metadata": {},
     "output_type": "execute_result"
    }
   ],
   "source": [
    "#check size\n",
    "df.shape"
   ]
  },
  {
   "cell_type": "code",
   "execution_count": 7,
   "metadata": {
    "collapsed": false
   },
   "outputs": [
    {
     "data": {
      "text/plain": [
       "MinTemp_Low              int64\n",
       "MinTemp_Moderate         int64\n",
       "MinTemp_High             int64\n",
       "MaxTemp_Low              int64\n",
       "MaxTemp_Moderate         int64\n",
       "MaxTemp_High             int64\n",
       "Evaporation_Low          int64\n",
       "Evaporation_Moderate     int64\n",
       "Evaporation_High         int64\n",
       "Sunshine_Low             int64\n",
       "Sunshine_Moderate        int64\n",
       "Sunshine_High            int64\n",
       "WindSpeed9am_Low         int64\n",
       "WindSpeed9am_Moderate    int64\n",
       "WindSpeed9am_High        int64\n",
       "WindSpeed3pm_Low         int64\n",
       "WindSpeed3pm_Moderate    int64\n",
       "WindSpeed3pm_High        int64\n",
       "Humidity9am_Low          int64\n",
       "Humidity9am_Moderate     int64\n",
       "Humidity9am_High         int64\n",
       "Humidity3pm_Low          int64\n",
       "Humidity3pm_Moderate     int64\n",
       "Humidity3pm_High         int64\n",
       "Pressure9am_Low          int64\n",
       "Pressure9am_Moderate     int64\n",
       "Pressure9am_High         int64\n",
       "Pressure3pm_Low          int64\n",
       "Pressure3pm_Moderate     int64\n",
       "Pressure3pm_High         int64\n",
       "Cloud9am_Low             int64\n",
       "Cloud9am_Moderate        int64\n",
       "Cloud9am_High            int64\n",
       "Cloud3pm_Low             int64\n",
       "Cloud3pm_Moderate        int64\n",
       "Cloud3pm_High            int64\n",
       "Temp9am_Low              int64\n",
       "Temp9am_Moderate         int64\n",
       "Temp9am_High             int64\n",
       "Temp3pm_Low              int64\n",
       "Temp3pm_Moderate         int64\n",
       "Temp3pm_High             int64\n",
       "RainToday                int64\n",
       "RainTomorrow             int64\n",
       "dtype: object"
      ]
     },
     "execution_count": 7,
     "metadata": {},
     "output_type": "execute_result"
    }
   ],
   "source": [
    "#check datatypes\n",
    "df.dtypes"
   ]
  },
  {
   "cell_type": "code",
   "execution_count": null,
   "metadata": {
    "collapsed": true
   },
   "outputs": [],
   "source": []
  }
 ],
 "metadata": {
  "kernelspec": {
   "display_name": "Python 2",
   "language": "python",
   "name": "python2"
  },
  "language_info": {
   "codemirror_mode": {
    "name": "ipython",
    "version": 2
   },
   "file_extension": ".py",
   "mimetype": "text/x-python",
   "name": "python",
   "nbconvert_exporter": "python",
   "pygments_lexer": "ipython2",
   "version": "2.7.11"
  }
 },
 "nbformat": 4,
 "nbformat_minor": 0
}
