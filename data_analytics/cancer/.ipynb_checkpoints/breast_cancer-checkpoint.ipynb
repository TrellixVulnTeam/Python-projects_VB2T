{
 "cells": [
  {
   "cell_type": "markdown",
   "metadata": {},
   "source": [
    "# In Brief\\n\",\n",
    "    \"This dataset contains characteristics derived from digitized imaging of fine needle aspirates of a breast tumor cell mass.  The goal of this analysis is to train a machine leanring algorightms to accurately distinguish between a benign and malignant tumor to aid in clinical diagnosis.\\n\",\n",
    "    \"\\n\",\n",
    "    \"Ten real-valued features were computed for each cell nucleus: \\n\",\n",
    "    \"\\n\",\n",
    "    \"* a) radius (mean of distances from center to points on the perimeter) \\n\",\n",
    "    \"* b) texture (standard deviation of gray-scale values) \\n\",\n",
    "    \"* c) perimeter \\n\",\n",
    "    \"* d) area \\n\",\n",
    "    \"* e) smoothness (local variation in radius lengths) \\n\",\n",
    "    \"* f) compactness (perimeter^2 / area - 1.0) \\n\",\n",
    "    \"* g) concavity (severity of concave portions of the contour) \\n\",\n",
    "    \"* h) concave points (number of concave portions of the contour) \\n\",\n",
    "    \"* i) symmetry \\n\",\n",
    "    \"* j) fractal dimension (\\\"coastline approximation\\\" - 1)\\n\",\n",
    "    \"\\n\",\n",
    "    \"Original Dataset is available at the [UCA Machine Learning Repository](https://archive.ics.uci.edu/ml/datasets/Breast+Cancer+Wisconsin+(Diagnostic)\""
   ]
  }
 ],
 "metadata": {
  "kernelspec": {
   "display_name": "Python 3",
   "language": "python",
   "name": "python3"
  },
  "language_info": {
   "codemirror_mode": {
    "name": "ipython",
    "version": 3
   },
   "file_extension": ".py",
   "mimetype": "text/x-python",
   "name": "python",
   "nbconvert_exporter": "python",
   "pygments_lexer": "ipython3",
   "version": "3.7.1"
  }
 },
 "nbformat": 4,
 "nbformat_minor": 2
}
