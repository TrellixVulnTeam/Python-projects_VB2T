{
 "cells": [
  {
   "cell_type": "code",
   "execution_count": null,
   "metadata": {},
   "outputs": [],
   "source": [
    "https://realpython.com/build-recommendation-engine-collaborative-filtering/\n",
    "https://www.analyticsvidhya.com/blog/2018/06/comprehensive-guide-recommendation-engine-python/\n",
    "https://www.datacamp.com/community/tutorials/recommender-systems-python"
   ]
  },
  {
   "cell_type": "markdown",
   "metadata": {},
   "source": [
    "# Objective\n",
    "\n"
   ]
  },
  {
   "cell_type": "code",
   "execution_count": null,
   "metadata": {},
   "outputs": [],
   "source": [
    "# PROBLEM SETTING\n",
    "Commercial corn is processed into multiple food and industrial products. It is widely known as one of the world’s most important crops. Each year, plant breeders create new corn products, known as experimental hybrids, by crossing two “parents” together. The parents are known as inbreds and the development of the inbreds takes up the bulk of a corn breeding program. Most of that effort is spent evaluating the inbreds by crossing to another inbred, called a “tester.” \n",
    "\n",
    "It is a plant breeder’s job to identify the best parent combinations by creating experimental hybrids and assessing the hybrids’ performance by “testing” it in multiple environments to identify the hybrids that perform best. Historically, identifying the best hybrids has been by trial and error, with breeders testing their experimental hybrids in a diverse set of locations and measuring their performance, then selecting the highest yielding hybrids. The process of selecting the correct parent combinations and testing the experimental hybrids can take many years and is inefficient, simply due to the number of potential parent combinations to create and test.\n",
    "\n",
    "RESEARCH QUESTION\n",
    "Given historical hybrid (inbred by tester) performance data across years and locations, how can we create a model to predict/impute the performance of the crossing of any two inbred and tester parents? \n",
    "\n",
    "For example, given 5,000 inbreds (parents), the number of potential crosses is 12,497,500 —far more than can be created or tested. Due to limited testing resources, breeders are only able to select a small subset of all the possible inbred combinations, which can lead to lost opportunities. \n",
    "\n",
    "This issue is the basis for the 2020 Syngenta Crop Challenge in Analytics. Can an accurate model be constructed to predict the performance of crossing any two inbreds? Such a model would allow breeders to focus on the best possible combinations. \n",
    "\n",
    "In simpler terms, can we use hybrid data collected from crossing inbreds and testers together to predict the result of cross combinations that have not yet been created and tested? Namely, are we able to construct a recommender system to propose new parent combinations based on the hybrid performance from other parent combinations and attributes they have in common? \n",
    "\n",
    "The following Table 1 is an illustration of the challenge. Each “X” is the set of observed performance data points of hybrids from their corresponding inbred by tester combinations. With the information from the table, how can a model be built to predict/impute the mean yield of each missing combinations (“?”)?\n",
    "\n",
    "\n",
    "RESEARCH QUESTION\n",
    "Given historical hybrid (inbred by tester) performance data across years and locations, how can we create a model to predict/impute the performance of the crossing of any two inbred and tester parents? \n",
    "\n",
    "OBJECTIVE\n",
    "The objective is to estimate yield performance of the cross between inbred and tester combinations in a given holdout set. Specifically, we are asking for the mean yield performance of each inbred by tester combination in the holdout set. \n",
    "\n",
    "Notes\n",
    "Each response in the holdout must be completed\n",
    "Many approaches can be used such as statistical approaches, machine learning and collaborative filtering\n",
    "\n",
    "Deliverables\n",
    "Predicted yield values of the cross between inbred and tester combinations in the test set.\n",
    "Additionally, observing the standards for academic publication, entries should include a written report with the following:\n",
    "Quantitative results to justify your modeling and classification techniques\n",
    "A clear description of the methodology and theory used\n",
    "References or citations as appropriate\n",
    "\n",
    "Evaluation\n",
    "The entries will be evaluated based on:\n",
    "Accuracy of the predicted values in the test set based on root mean squared error\n",
    "Simplicity and intuitiveness of the solution\n",
    "Clarity in the explanation\n",
    "The quality and clarity of the finalist’s presentation at the 2020 INFORMS Conference on Business Analytics and Operations Research\n",
    "\n",
    "dataset\n",
    "Training Dataset: This dataset contains the observed yield (consistently scaled to an internal benchmark) for a large set of corn hybrids tested across multiple environments between 2016 and 2018. These hybrids are created through the crossing of 593 unique inbreds and 496 unique testers. Creating a two-way table of means with inbreds as rows and testers as columns results in a data table with approximately 96% missing values. Each row contains the year and location ID of the observation. Additionally, each row includes a cluster value for each inbred and tester. This represents the genetic grouping of the inbreds and testers and has been determined using internal methods. Inbreds and testers are not treated any differently when clustering, so a shared cluster value indicates genetic similarity regardless of whether a parent is defined as an inbred or a tester. Contestants may (or may not) find these columns useful.\n",
    "\n",
    "Test Dataset: This dataset contains a set of inbred and tester combinations that need to be predicted as part of the challenge. The mean yield is to be predicted for each listed combination of inbred by tester.\n",
    "\n",
    "\n",
    "Training Dataset\tYEAR\tYear grown\n",
    "LOCATION\tID for each location\n",
    "INBRED\tID for Inbred\n",
    "INBRED_CLUSTER\tCluster association for each inbred which denotes genetic grouping\n",
    "TESTER\tID for Tester\n",
    "TESTER_CLUSTER\tCluster association for each tester which denotes genetic grouping\n",
    "YIELD\tThe performance of the Line and Tester combination\n",
    "\n",
    "\n",
    "Testing Dataset\tINBRED\tID for INBRED\n",
    "INBRED_CLUSTER\tCluster association for each line which denotes genetic grouping\n",
    "TESTER\tID for Tester\n",
    "TESTER_CLUSTER\tCluster association for each tester which denotes genetic grouping\n",
    "YIELD\tThe performance of the Line and Tester combination – to be predicted\n",
    "\n",
    "timeline jan 15, 2020\n",
    "\n"
   ]
  },
  {
   "cell_type": "markdown",
   "metadata": {},
   "source": [
    "# Load libraries"
   ]
  },
  {
   "cell_type": "code",
   "execution_count": 4,
   "metadata": {},
   "outputs": [],
   "source": [
    "import pandas as pd\n",
    "import numpy as np\n",
    "import seaborn as sns\n",
    "import sklearn\n",
    "import matplotlib.pyplot as plt\n",
    "%matplotlib inline\n",
    "from sklearn import preprocessing\n",
    "from sklearn import model_selection\n",
    "from sklearn.metrics import accuracy_score\n",
    "from sklearn.metrics import roc_curve, auc, recall_score, precision_score, f1_score, confusion_matrix, recall_score\n",
    "from sklearn.model_selection import train_test_split\n",
    "from sklearn.linear_model import LogisticRegression\n",
    "from sklearn.tree import DecisionTreeClassifier\n",
    "from sklearn.neighbors import KNeighborsClassifier\n",
    "from sklearn.ensemble import RandomForestClassifier\n",
    "from sklearn.svm import SVC\n",
    "from sklearn.model_selection import cross_val_score\n",
    "from sklearn.naive_bayes import GaussianNB\n",
    "from sklearn.ensemble import GradientBoostingClassifier\n",
    "from sklearn.discriminant_analysis import LinearDiscriminantAnalysis\n",
    "from sklearn.ensemble import VotingClassifier\n",
    "from sklearn.ensemble import BaggingClassifier\n",
    "from sklearn.metrics import roc_auc_score\n",
    "from sklearn.preprocessing import OneHotEncoder  \n",
    "from sklearn.preprocessing import StandardScaler  \n",
    "from scipy import sparse\n"
   ]
  },
  {
   "cell_type": "markdown",
   "metadata": {},
   "source": [
    "# Load Data"
   ]
  },
  {
   "cell_type": "code",
   "execution_count": 5,
   "metadata": {},
   "outputs": [],
   "source": [
    "train = pd.read_csv('CC2020_train_final.csv')\n",
    "test = pd.read_csv('CC2020_test_final.csv')"
   ]
  },
  {
   "cell_type": "code",
   "execution_count": 4,
   "metadata": {},
   "outputs": [
    {
     "data": {
      "text/plain": [
       "(199476, 7)"
      ]
     },
     "execution_count": 4,
     "metadata": {},
     "output_type": "execute_result"
    }
   ],
   "source": [
    "train.shape"
   ]
  },
  {
   "cell_type": "code",
   "execution_count": 5,
   "metadata": {},
   "outputs": [
    {
     "data": {
      "text/html": [
       "<div>\n",
       "<style scoped>\n",
       "    .dataframe tbody tr th:only-of-type {\n",
       "        vertical-align: middle;\n",
       "    }\n",
       "\n",
       "    .dataframe tbody tr th {\n",
       "        vertical-align: top;\n",
       "    }\n",
       "\n",
       "    .dataframe thead th {\n",
       "        text-align: right;\n",
       "    }\n",
       "</style>\n",
       "<table border=\"1\" class=\"dataframe\">\n",
       "  <thead>\n",
       "    <tr style=\"text-align: right;\">\n",
       "      <th></th>\n",
       "      <th>YEAR</th>\n",
       "      <th>LOCATION</th>\n",
       "      <th>INBRED</th>\n",
       "      <th>INBRED_CLUSTER</th>\n",
       "      <th>TESTER</th>\n",
       "      <th>TESTER_CLUSTER</th>\n",
       "      <th>YIELD</th>\n",
       "    </tr>\n",
       "  </thead>\n",
       "  <tbody>\n",
       "    <tr>\n",
       "      <th>0</th>\n",
       "      <td>18</td>\n",
       "      <td>Loc 5608</td>\n",
       "      <td>Inbred_142</td>\n",
       "      <td>Cluster11</td>\n",
       "      <td>Tester_740</td>\n",
       "      <td>Cluster10</td>\n",
       "      <td>1.135462</td>\n",
       "    </tr>\n",
       "    <tr>\n",
       "      <th>1</th>\n",
       "      <td>18</td>\n",
       "      <td>Loc 4533</td>\n",
       "      <td>Inbred_142</td>\n",
       "      <td>Cluster11</td>\n",
       "      <td>Tester_740</td>\n",
       "      <td>Cluster10</td>\n",
       "      <td>1.139813</td>\n",
       "    </tr>\n",
       "    <tr>\n",
       "      <th>2</th>\n",
       "      <td>18</td>\n",
       "      <td>Loc 5620</td>\n",
       "      <td>Inbred_142</td>\n",
       "      <td>Cluster11</td>\n",
       "      <td>Tester_740</td>\n",
       "      <td>Cluster10</td>\n",
       "      <td>1.117778</td>\n",
       "    </tr>\n",
       "    <tr>\n",
       "      <th>3</th>\n",
       "      <td>18</td>\n",
       "      <td>Loc 4732</td>\n",
       "      <td>Inbred_142</td>\n",
       "      <td>Cluster11</td>\n",
       "      <td>Tester_740</td>\n",
       "      <td>Cluster10</td>\n",
       "      <td>1.171366</td>\n",
       "    </tr>\n",
       "    <tr>\n",
       "      <th>4</th>\n",
       "      <td>18</td>\n",
       "      <td>Loc 5500</td>\n",
       "      <td>Inbred_142</td>\n",
       "      <td>Cluster11</td>\n",
       "      <td>Tester_740</td>\n",
       "      <td>Cluster10</td>\n",
       "      <td>1.059364</td>\n",
       "    </tr>\n",
       "  </tbody>\n",
       "</table>\n",
       "</div>"
      ],
      "text/plain": [
       "   YEAR  LOCATION      INBRED INBRED_CLUSTER      TESTER TESTER_CLUSTER  \\\n",
       "0    18  Loc 5608  Inbred_142      Cluster11  Tester_740      Cluster10   \n",
       "1    18  Loc 4533  Inbred_142      Cluster11  Tester_740      Cluster10   \n",
       "2    18  Loc 5620  Inbred_142      Cluster11  Tester_740      Cluster10   \n",
       "3    18  Loc 4732  Inbred_142      Cluster11  Tester_740      Cluster10   \n",
       "4    18  Loc 5500  Inbred_142      Cluster11  Tester_740      Cluster10   \n",
       "\n",
       "      YIELD  \n",
       "0  1.135462  \n",
       "1  1.139813  \n",
       "2  1.117778  \n",
       "3  1.171366  \n",
       "4  1.059364  "
      ]
     },
     "execution_count": 5,
     "metadata": {},
     "output_type": "execute_result"
    }
   ],
   "source": [
    "train.head()"
   ]
  },
  {
   "cell_type": "code",
   "execution_count": 6,
   "metadata": {},
   "outputs": [
    {
     "data": {
      "text/html": [
       "<div>\n",
       "<style scoped>\n",
       "    .dataframe tbody tr th:only-of-type {\n",
       "        vertical-align: middle;\n",
       "    }\n",
       "\n",
       "    .dataframe tbody tr th {\n",
       "        vertical-align: top;\n",
       "    }\n",
       "\n",
       "    .dataframe thead th {\n",
       "        text-align: right;\n",
       "    }\n",
       "</style>\n",
       "<table border=\"1\" class=\"dataframe\">\n",
       "  <thead>\n",
       "    <tr style=\"text-align: right;\">\n",
       "      <th></th>\n",
       "      <th>YEAR</th>\n",
       "      <th>YIELD</th>\n",
       "    </tr>\n",
       "  </thead>\n",
       "  <tbody>\n",
       "    <tr>\n",
       "      <th>count</th>\n",
       "      <td>199476.000000</td>\n",
       "      <td>199476.000000</td>\n",
       "    </tr>\n",
       "    <tr>\n",
       "      <th>mean</th>\n",
       "      <td>17.160551</td>\n",
       "      <td>1.001731</td>\n",
       "    </tr>\n",
       "    <tr>\n",
       "      <th>std</th>\n",
       "      <td>0.741779</td>\n",
       "      <td>0.104722</td>\n",
       "    </tr>\n",
       "    <tr>\n",
       "      <th>min</th>\n",
       "      <td>16.000000</td>\n",
       "      <td>0.047236</td>\n",
       "    </tr>\n",
       "    <tr>\n",
       "      <th>25%</th>\n",
       "      <td>17.000000</td>\n",
       "      <td>0.941870</td>\n",
       "    </tr>\n",
       "    <tr>\n",
       "      <th>50%</th>\n",
       "      <td>17.000000</td>\n",
       "      <td>1.003277</td>\n",
       "    </tr>\n",
       "    <tr>\n",
       "      <th>75%</th>\n",
       "      <td>18.000000</td>\n",
       "      <td>1.064073</td>\n",
       "    </tr>\n",
       "    <tr>\n",
       "      <th>max</th>\n",
       "      <td>18.000000</td>\n",
       "      <td>1.800083</td>\n",
       "    </tr>\n",
       "  </tbody>\n",
       "</table>\n",
       "</div>"
      ],
      "text/plain": [
       "                YEAR          YIELD\n",
       "count  199476.000000  199476.000000\n",
       "mean       17.160551       1.001731\n",
       "std         0.741779       0.104722\n",
       "min        16.000000       0.047236\n",
       "25%        17.000000       0.941870\n",
       "50%        17.000000       1.003277\n",
       "75%        18.000000       1.064073\n",
       "max        18.000000       1.800083"
      ]
     },
     "execution_count": 6,
     "metadata": {},
     "output_type": "execute_result"
    }
   ],
   "source": [
    "train.describe()"
   ]
  },
  {
   "cell_type": "code",
   "execution_count": 7,
   "metadata": {},
   "outputs": [
    {
     "data": {
      "text/html": [
       "<div>\n",
       "<style scoped>\n",
       "    .dataframe tbody tr th:only-of-type {\n",
       "        vertical-align: middle;\n",
       "    }\n",
       "\n",
       "    .dataframe tbody tr th {\n",
       "        vertical-align: top;\n",
       "    }\n",
       "\n",
       "    .dataframe thead th {\n",
       "        text-align: right;\n",
       "    }\n",
       "</style>\n",
       "<table border=\"1\" class=\"dataframe\">\n",
       "  <thead>\n",
       "    <tr style=\"text-align: right;\">\n",
       "      <th></th>\n",
       "      <th>INBRED</th>\n",
       "      <th>INBRED_CLUSTER</th>\n",
       "      <th>TESTER</th>\n",
       "      <th>TESTER_CLUSTER</th>\n",
       "      <th>YIELD</th>\n",
       "    </tr>\n",
       "  </thead>\n",
       "  <tbody>\n",
       "    <tr>\n",
       "      <th>0</th>\n",
       "      <td>Inbred_1071</td>\n",
       "      <td>Cluster8</td>\n",
       "      <td>Tester_5450</td>\n",
       "      <td>Cluster5</td>\n",
       "      <td>NaN</td>\n",
       "    </tr>\n",
       "    <tr>\n",
       "      <th>1</th>\n",
       "      <td>Inbred_122</td>\n",
       "      <td>Cluster12</td>\n",
       "      <td>Tester_4336</td>\n",
       "      <td>Cluster6</td>\n",
       "      <td>NaN</td>\n",
       "    </tr>\n",
       "    <tr>\n",
       "      <th>2</th>\n",
       "      <td>Inbred_1337</td>\n",
       "      <td>Cluster17</td>\n",
       "      <td>Tester_2652</td>\n",
       "      <td>Cluster1</td>\n",
       "      <td>NaN</td>\n",
       "    </tr>\n",
       "    <tr>\n",
       "      <th>3</th>\n",
       "      <td>Inbred_1337</td>\n",
       "      <td>Cluster17</td>\n",
       "      <td>Tester_4373</td>\n",
       "      <td>Cluster3</td>\n",
       "      <td>NaN</td>\n",
       "    </tr>\n",
       "    <tr>\n",
       "      <th>4</th>\n",
       "      <td>Inbred_1339</td>\n",
       "      <td>Cluster17</td>\n",
       "      <td>Tester_4238</td>\n",
       "      <td>Cluster11</td>\n",
       "      <td>NaN</td>\n",
       "    </tr>\n",
       "  </tbody>\n",
       "</table>\n",
       "</div>"
      ],
      "text/plain": [
       "        INBRED INBRED_CLUSTER       TESTER TESTER_CLUSTER  YIELD\n",
       "0  Inbred_1071       Cluster8  Tester_5450       Cluster5    NaN\n",
       "1   Inbred_122      Cluster12  Tester_4336       Cluster6    NaN\n",
       "2  Inbred_1337      Cluster17  Tester_2652       Cluster1    NaN\n",
       "3  Inbred_1337      Cluster17  Tester_4373       Cluster3    NaN\n",
       "4  Inbred_1339      Cluster17  Tester_4238      Cluster11    NaN"
      ]
     },
     "execution_count": 7,
     "metadata": {},
     "output_type": "execute_result"
    }
   ],
   "source": [
    "test.head()"
   ]
  },
  {
   "cell_type": "code",
   "execution_count": 8,
   "metadata": {},
   "outputs": [
    {
     "data": {
      "text/html": [
       "<div>\n",
       "<style scoped>\n",
       "    .dataframe tbody tr th:only-of-type {\n",
       "        vertical-align: middle;\n",
       "    }\n",
       "\n",
       "    .dataframe tbody tr th {\n",
       "        vertical-align: top;\n",
       "    }\n",
       "\n",
       "    .dataframe thead th {\n",
       "        text-align: right;\n",
       "    }\n",
       "</style>\n",
       "<table border=\"1\" class=\"dataframe\">\n",
       "  <thead>\n",
       "    <tr style=\"text-align: right;\">\n",
       "      <th></th>\n",
       "      <th>YIELD</th>\n",
       "    </tr>\n",
       "  </thead>\n",
       "  <tbody>\n",
       "    <tr>\n",
       "      <th>count</th>\n",
       "      <td>0.0</td>\n",
       "    </tr>\n",
       "    <tr>\n",
       "      <th>mean</th>\n",
       "      <td>NaN</td>\n",
       "    </tr>\n",
       "    <tr>\n",
       "      <th>std</th>\n",
       "      <td>NaN</td>\n",
       "    </tr>\n",
       "    <tr>\n",
       "      <th>min</th>\n",
       "      <td>NaN</td>\n",
       "    </tr>\n",
       "    <tr>\n",
       "      <th>25%</th>\n",
       "      <td>NaN</td>\n",
       "    </tr>\n",
       "    <tr>\n",
       "      <th>50%</th>\n",
       "      <td>NaN</td>\n",
       "    </tr>\n",
       "    <tr>\n",
       "      <th>75%</th>\n",
       "      <td>NaN</td>\n",
       "    </tr>\n",
       "    <tr>\n",
       "      <th>max</th>\n",
       "      <td>NaN</td>\n",
       "    </tr>\n",
       "  </tbody>\n",
       "</table>\n",
       "</div>"
      ],
      "text/plain": [
       "       YIELD\n",
       "count    0.0\n",
       "mean     NaN\n",
       "std      NaN\n",
       "min      NaN\n",
       "25%      NaN\n",
       "50%      NaN\n",
       "75%      NaN\n",
       "max      NaN"
      ]
     },
     "execution_count": 8,
     "metadata": {},
     "output_type": "execute_result"
    }
   ],
   "source": [
    "test.describe()"
   ]
  },
  {
   "cell_type": "markdown",
   "metadata": {},
   "source": [
    "# EDA"
   ]
  },
  {
   "cell_type": "code",
   "execution_count": 9,
   "metadata": {},
   "outputs": [
    {
     "data": {
      "text/plain": [
       "YEAR                int64\n",
       "LOCATION           object\n",
       "INBRED             object\n",
       "INBRED_CLUSTER     object\n",
       "TESTER             object\n",
       "TESTER_CLUSTER     object\n",
       "YIELD             float64\n",
       "dtype: object"
      ]
     },
     "execution_count": 9,
     "metadata": {},
     "output_type": "execute_result"
    }
   ],
   "source": [
    "train.dtypes"
   ]
  },
  {
   "cell_type": "code",
   "execution_count": 11,
   "metadata": {},
   "outputs": [
    {
     "data": {
      "text/plain": [
       "array([18, 17, 16])"
      ]
     },
     "execution_count": 11,
     "metadata": {},
     "output_type": "execute_result"
    }
   ],
   "source": [
    "#check year column\n",
    "train.YEAR.unique()"
   ]
  },
  {
   "cell_type": "code",
   "execution_count": 12,
   "metadata": {},
   "outputs": [
    {
     "data": {
      "text/plain": [
       "array(['Loc 5608', 'Loc 4533', 'Loc 5620', 'Loc 4732', 'Loc 5500',\n",
       "       'Loc 5514', 'Loc 4742', 'Loc 4625', 'Loc 4620', 'Loc 4524',\n",
       "       'Loc 4442', 'Loc 4400', 'Loc 5420', 'Loc 4621', 'Loc 4601',\n",
       "       'Loc 4532', 'Loc 4424', 'Loc 4341', 'Loc 4515', 'Loc 6609',\n",
       "       'Loc 5424', 'Loc 5320', 'Loc 6415', 'Loc 4439', 'Loc 6730',\n",
       "       'Loc 5330', 'Loc 5610', 'Loc 6700', 'Loc 6532', 'Loc 5711',\n",
       "       'Loc 6634', 'Loc 6511', 'Loc 4623', 'Loc 4523', 'Loc 4Z23',\n",
       "       'Loc 3631', 'Loc 3601', 'Loc 6418', 'Loc 6601', 'Loc 6614',\n",
       "       'Loc 5511', 'Loc 4326', 'Loc 5324', 'Loc 4420', 'Loc 3437',\n",
       "       'Loc 4401', 'Loc 3439', 'Loc 5336', 'Loc 7345', 'Loc 5340',\n",
       "       'Loc 7319', 'Loc 6310', 'Loc 6421', 'Loc 7420', 'Loc 5240',\n",
       "       'Loc 6320', 'Loc 8405', 'Loc 8316', 'Loc 7311', 'Loc 7612',\n",
       "       'Loc 7332', 'Loc 7303', 'Loc 6734', 'Loc 7632', 'Loc 8320',\n",
       "       'Loc 7243', 'Loc 8234', 'Loc 7440', 'Loc 7520', 'Loc 6334',\n",
       "       'Loc 7727', 'Loc 7528', 'Loc 6719', 'Loc 7D06', 'Loc 7330',\n",
       "       'Loc 7234', 'Loc 8402', 'Loc 7603', 'Loc 6217', 'Loc 7411',\n",
       "       'Loc 6201', 'Loc 7307', 'Loc 4318', 'Loc 6811', 'Loc 4314',\n",
       "       'Loc 4319', 'Loc 5223', 'Loc 5222', 'Loc 4342', 'Loc 5221',\n",
       "       'Loc 4C16', 'Loc 5F32', 'Loc 8F33', 'Loc 7921', 'Loc 6F35',\n",
       "       'Loc 5F12', 'Loc 5213', 'Loc 5Z30', 'Loc 6741', 'Loc 8G15',\n",
       "       'Loc 8604', 'Loc 7F20', 'Loc 7D10', 'Loc 8Z16', 'Loc 8C05',\n",
       "       'Loc 4C10', 'Loc 7F28', 'Loc 8944', 'Loc 7G03', 'Loc 7F38',\n",
       "       'Loc 8J35', 'Loc 6H11', 'Loc 5C10', 'Loc 8943', 'Loc 6C02',\n",
       "       'Loc 5F07', 'Loc 7C35', 'Loc 7F06', 'Loc 8C04', 'Loc 6F38',\n",
       "       'Loc 7C39', 'Loc 8B09', 'Loc 7F05', 'Loc 6H03', 'Loc 8C03',\n",
       "       'Loc 6920', 'Loc 6Z01', 'Loc 6H22', 'Loc 8C02', 'Loc 7308',\n",
       "       'Loc 7C36', 'Loc 7G31', 'Loc 6H21', 'Loc 7201', 'Loc 6G25',\n",
       "       'Loc 5G22', 'Loc 4C38', 'Loc 5D24', 'Loc 7Z39', 'Loc 8Z17',\n",
       "       'Loc 8208', 'Loc 8C01', 'Loc 4F03', 'Loc 8C32', 'Loc 6C35',\n",
       "       'Loc 7623', 'Loc 7H10', 'Loc 7Z19', 'Loc 8Z18', 'Loc 5214',\n",
       "       'Loc 8235', 'Loc 8702', 'Loc 5D04', 'Loc 5328', 'Loc 7H05',\n",
       "       'Loc 6C03', 'Loc 7C37', 'Loc 8C40', 'Loc 9F31', 'Loc 7641',\n",
       "       'Loc 8C14', 'Loc 5J01', 'Loc 5J20', 'Loc 6Z38', 'Loc 8701',\n",
       "       'Loc 5G09', 'Loc 6218', 'Loc 8D30', 'Loc 5D30', 'Loc 8D04',\n",
       "       'Loc 7F01', 'Loc 7309', 'Loc 6D16', 'Loc 8F07', 'Loc 7C02',\n",
       "       'Loc 9F03', 'Loc 5D40', 'Loc 6C13', 'Loc 6C32', 'Loc 9943',\n",
       "       'Loc 8G08', 'Loc 6Z02', 'Loc 5G03', 'Loc 4F02', 'Loc 6D01',\n",
       "       'Loc 9F06', 'Loc 4C18', 'Loc 7B11', 'Loc 6H20', 'Loc 4322',\n",
       "       'Loc 7D22', 'Loc 8B18', 'Loc 6Z04', 'Loc 6226', 'Loc 7B08',\n",
       "       'Loc 7235', 'Loc 7Z33', 'Loc 8G01', 'Loc 7D08', 'Loc 8Z34',\n",
       "       'Loc 8C39', 'Loc 7G34', 'Loc 6H28', 'Loc 6C14', 'Loc 8F02',\n",
       "       'Loc 7636', 'Loc 7C03', 'Loc 8209', 'Loc 7F11', 'Loc 5B09',\n",
       "       'Loc 6D08', 'Loc 6F37', 'Loc 7B42', 'Loc 7236', 'Loc 7B40',\n",
       "       'Loc 8D02', 'Loc 8F35', 'Loc 8931', 'Loc 8B38', 'Loc 5B07',\n",
       "       'Loc 8F04', 'Loc 7G10', 'Loc 7C20', 'Loc 8B05', 'Loc 8236',\n",
       "       'Loc 8F30', 'Loc 7H14', 'Loc 4Z05', 'Loc 7C17', 'Loc 7B07',\n",
       "       'Loc 6Z33', 'Loc 9J03', 'Loc 7B09', 'Loc 7C01', 'Loc 5Z22',\n",
       "       'Loc 5215', 'Loc 6225', 'Loc 4103', 'Loc 8F06', 'Loc 8D26',\n",
       "       'Loc 5B10', 'Loc 7C12', 'Loc 7C27', 'Loc 8F44', 'Loc 6C30',\n",
       "       'Loc 4G10', 'Loc 8Z40', 'Loc 6H12', 'Loc 4Z01', 'Loc 4531',\n",
       "       'Loc 3332', 'Loc 4Z30', 'Loc 4F06', 'Loc 3D01', 'Loc 4F21',\n",
       "       'Loc 3D05', 'Loc 3D41', 'Loc 3D02', 'Loc 4G38', 'Loc 4D25',\n",
       "       'Loc 3633', 'Loc 4G34', 'Loc 3F25', 'Loc 3F38', 'Loc 4D18',\n",
       "       'Loc 3326', 'Loc 3C02', 'Loc 4G33', 'Loc 3402', 'Loc 3F10',\n",
       "       'Loc 4G20', 'Loc 4G28', 'Loc 4B04', 'Loc 4321', 'Loc 3404',\n",
       "       'Loc 3320', 'Loc 3343', 'Loc 7H04', 'Loc 8G22', 'Loc 7F41'],\n",
       "      dtype=object)"
      ]
     },
     "execution_count": 12,
     "metadata": {},
     "output_type": "execute_result"
    }
   ],
   "source": [
    "#check location\n",
    "train.LOCATION.unique()"
   ]
  },
  {
   "cell_type": "code",
   "execution_count": 13,
   "metadata": {},
   "outputs": [
    {
     "data": {
      "text/plain": [
       "array(['Inbred_142', 'Inbred_740', 'Inbred_743', 'Inbred_19',\n",
       "       'Inbred_755', 'Inbred_737', 'Inbred_733', 'Inbred_739',\n",
       "       'Inbred_754', 'Inbred_748', 'Inbred_750', 'Inbred_727',\n",
       "       'Inbred_753', 'Inbred_586', 'Inbred_752', 'Inbred_736',\n",
       "       'Inbred_749', 'Inbred_725', 'Inbred_761', 'Inbred_756',\n",
       "       'Inbred_760', 'Inbred_757', 'Inbred_768', 'Inbred_765',\n",
       "       'Inbred_764', 'Inbred_769', 'Inbred_759', 'Inbred_741',\n",
       "       'Inbred_747', 'Inbred_745', 'Inbred_731', 'Inbred_773',\n",
       "       'Inbred_738', 'Inbred_145', 'Inbred_777', 'Inbred_804',\n",
       "       'Inbred_724', 'Inbred_122', 'Inbred_799', 'Inbred_803',\n",
       "       'Inbred_732', 'Inbred_801', 'Inbred_800', 'Inbred_770',\n",
       "       'Inbred_805', 'Inbred_751', 'Inbred_771', 'Inbred_744',\n",
       "       'Inbred_790', 'Inbred_746', 'Inbred_1339', 'Inbred_789',\n",
       "       'Inbred_1071', 'Inbred_1342', 'Inbred_1345', 'Inbred_1341',\n",
       "       'Inbred_1346', 'Inbred_1340', 'Inbred_1349', 'Inbred_1360',\n",
       "       'Inbred_1358', 'Inbred_1354', 'Inbred_1351', 'Inbred_1361',\n",
       "       'Inbred_1347', 'Inbred_23', 'Inbred_1365', 'Inbred_1353',\n",
       "       'Inbred_1359', 'Inbred_1352', 'Inbred_1380', 'Inbred_2636',\n",
       "       'Inbred_1376', 'Inbred_1381', 'Inbred_1389', 'Inbred_2653',\n",
       "       'Inbred_2648', 'Inbred_2641', 'Inbred_2654', 'Inbred_2655',\n",
       "       'Inbred_2649', 'Inbred_2652', 'Inbred_2224', 'Inbred_2633',\n",
       "       'Inbred_2635', 'Inbred_2647', 'Inbred_2245', 'Inbred_2263',\n",
       "       'Inbred_2278', 'Inbred_2650', 'Inbred_2103', 'Inbred_2173',\n",
       "       'Inbred_1403', 'Inbred_2637', 'Inbred_2697', 'Inbred_2669',\n",
       "       'Inbred_2690', 'Inbred_2687', 'Inbred_2679', 'Inbred_2680',\n",
       "       'Inbred_2685', 'Inbred_2683', 'Inbred_1337', 'Inbred_2689',\n",
       "       'Inbred_2692', 'Inbred_2623', 'Inbred_2661', 'Inbred_2693',\n",
       "       'Inbred_2659', 'Inbred_2694', 'Inbred_2660', 'Inbred_2656',\n",
       "       'Inbred_2662', 'Inbred_2658', 'Inbred_2684', 'Inbred_2042',\n",
       "       'Inbred_2681', 'Inbred_1355', 'Inbred_2682', 'Inbred_1371',\n",
       "       'Inbred_722', 'Inbred_2081', 'Inbred_2688', 'Inbred_2076',\n",
       "       'Inbred_2078', 'Inbred_1350', 'Inbred_2088', 'Inbred_2671',\n",
       "       'Inbred_776', 'Inbred_781', 'Inbred_779', 'Inbred_3369',\n",
       "       'Inbred_828', 'Inbred_3386', 'Inbred_3401', 'Inbred_3390',\n",
       "       'Inbred_3404', 'Inbred_787', 'Inbred_783', 'Inbred_785',\n",
       "       'Inbred_3409', 'Inbred_3413', 'Inbred_2747', 'Inbred_1383',\n",
       "       'Inbred_2714', 'Inbred_2723', 'Inbred_2725', 'Inbred_2699',\n",
       "       'Inbred_2716', 'Inbred_2700', 'Inbred_2722', 'Inbred_1414',\n",
       "       'Inbred_1400', 'Inbred_1412', 'Inbred_2736', 'Inbred_1382',\n",
       "       'Inbred_2724', 'Inbred_2711', 'Inbred_2727', 'Inbred_2720',\n",
       "       'Inbred_2708', 'Inbred_2721', 'Inbred_2713', 'Inbred_2100',\n",
       "       'Inbred_2715', 'Inbred_2106', 'Inbred_2244', 'Inbred_1391',\n",
       "       'Inbred_1393', 'Inbred_1398', 'Inbred_1378', 'Inbred_1411',\n",
       "       'Inbred_1408', 'Inbred_1407', 'Inbred_1392', 'Inbred_1409',\n",
       "       'Inbred_1344', 'Inbred_1406', 'Inbred_1379', 'Inbred_3461',\n",
       "       'Inbred_3485', 'Inbred_2128', 'Inbred_1410', 'Inbred_1413',\n",
       "       'Inbred_1377', 'Inbred_2735', 'Inbred_821', 'Inbred_767',\n",
       "       'Inbred_2284', 'Inbred_2626', 'Inbred_2295', 'Inbred_2746',\n",
       "       'Inbred_2729', 'Inbred_1397', 'Inbred_2728', 'Inbred_2719',\n",
       "       'Inbred_1399', 'Inbred_1387', 'Inbred_2634', 'Inbred_2651',\n",
       "       'Inbred_791', 'Inbred_794', 'Inbred_734', 'Inbred_3517',\n",
       "       'Inbred_2066', 'Inbred_2742', 'Inbred_2300', 'Inbred_3400',\n",
       "       'Inbred_3521', 'Inbred_2091', 'Inbred_2018', 'Inbred_2741',\n",
       "       'Inbred_3576', 'Inbred_2327', 'Inbred_3495', 'Inbred_2064',\n",
       "       'Inbred_3402', 'Inbred_2739', 'Inbred_2301', 'Inbred_2738',\n",
       "       'Inbred_3381', 'Inbred_2080', 'Inbred_2031', 'Inbred_792',\n",
       "       'Inbred_2740', 'Inbred_2737', 'Inbred_774', 'Inbred_836',\n",
       "       'Inbred_2664', 'Inbred_3565', 'Inbred_3567', 'Inbred_3569',\n",
       "       'Inbred_3505', 'Inbred_2302', 'Inbred_3393', 'Inbred_2879',\n",
       "       'Inbred_3392', 'Inbred_3397', 'Inbred_3445', 'Inbred_3428',\n",
       "       'Inbred_3447', 'Inbred_3442', 'Inbred_3791', 'Inbred_3439',\n",
       "       'Inbred_3451', 'Inbred_3440', 'Inbred_3814', 'Inbred_2665',\n",
       "       'Inbred_3579', 'Inbred_3581', 'Inbred_3573', 'Inbred_782',\n",
       "       'Inbred_3525', 'Inbred_3577', 'Inbred_3582', 'Inbred_4050',\n",
       "       'Inbred_4045', 'Inbred_4052', 'Inbred_4047', 'Inbred_3382',\n",
       "       'Inbred_3403', 'Inbred_4051', 'Inbred_4044', 'Inbred_3496',\n",
       "       'Inbred_3398', 'Inbred_4048', 'Inbred_3389', 'Inbred_4025',\n",
       "       'Inbred_4029', 'Inbred_818', 'Inbred_3446', 'Inbred_2935',\n",
       "       'Inbred_4067', 'Inbred_3449', 'Inbred_4079', 'Inbred_4083',\n",
       "       'Inbred_149', 'Inbred_4077', 'Inbred_3387', 'Inbred_4082',\n",
       "       'Inbred_3911', 'Inbred_4046', 'Inbred_3504', 'Inbred_819',\n",
       "       'Inbred_4149', 'Inbred_4138', 'Inbred_4155', 'Inbred_4102',\n",
       "       'Inbred_4115', 'Inbred_4116', 'Inbred_3796', 'Inbred_4065',\n",
       "       'Inbred_4170', 'Inbred_2730', 'Inbred_4160', 'Inbred_4163',\n",
       "       'Inbred_4099', 'Inbred_2734', 'Inbred_4062', 'Inbred_4152',\n",
       "       'Inbred_810', 'Inbred_4165', 'Inbred_3416', 'Inbred_2710',\n",
       "       'Inbred_2707', 'Inbred_2709', 'Inbred_4210', 'Inbred_4207',\n",
       "       'Inbred_4211', 'Inbred_3593', 'Inbred_4200', 'Inbred_4217',\n",
       "       'Inbred_3580', 'Inbred_2023', 'Inbred_3524', 'Inbred_3879',\n",
       "       'Inbred_4215', 'Inbred_4209', 'Inbred_2040', 'Inbred_4194',\n",
       "       'Inbred_3494', 'Inbred_2097', 'Inbred_4201', 'Inbred_1357',\n",
       "       'Inbred_1364', 'Inbred_2686', 'Inbred_1348', 'Inbred_2143',\n",
       "       'Inbred_793', 'Inbred_3578', 'Inbred_796', 'Inbred_2691',\n",
       "       'Inbred_2096', 'Inbred_1368', 'Inbred_2049', 'Inbred_1366',\n",
       "       'Inbred_2677', 'Inbred_3585', 'Inbred_2098', 'Inbred_2376',\n",
       "       'Inbred_1369', 'Inbred_2036', 'Inbred_2624', 'Inbred_2657',\n",
       "       'Inbred_2676', 'Inbred_2130', 'Inbred_2099', 'Inbred_2668',\n",
       "       'Inbred_2675', 'Inbred_2134', 'Inbred_2695', 'Inbred_1370',\n",
       "       'Inbred_2083', 'Inbred_4072', 'Inbred_4269', 'Inbred_4251',\n",
       "       'Inbred_4260', 'Inbred_4250', 'Inbred_4264', 'Inbred_4252',\n",
       "       'Inbred_4074', 'Inbred_4118', 'Inbred_4131', 'Inbred_4266',\n",
       "       'Inbred_4238', 'Inbred_4262', 'Inbred_4247', 'Inbred_4246',\n",
       "       'Inbred_2762', 'Inbred_4270', 'Inbred_2773', 'Inbred_4063',\n",
       "       'Inbred_4221', 'Inbred_4220', 'Inbred_4302', 'Inbred_4278',\n",
       "       'Inbred_4283', 'Inbred_4320', 'Inbred_4304', 'Inbred_4301',\n",
       "       'Inbred_4280', 'Inbred_4281', 'Inbred_4313', 'Inbred_4294',\n",
       "       'Inbred_4318', 'Inbred_4288', 'Inbred_4306', 'Inbred_3995',\n",
       "       'Inbred_4321', 'Inbred_4307', 'Inbred_3501', 'Inbred_4329',\n",
       "       'Inbred_4327', 'Inbred_3589', 'Inbred_2663', 'Inbred_4305',\n",
       "       'Inbred_3492', 'Inbred_1367', 'Inbred_4276', 'Inbred_4312',\n",
       "       'Inbred_4354', 'Inbred_4361', 'Inbred_4353', 'Inbred_4383',\n",
       "       'Inbred_4360', 'Inbred_4370', 'Inbred_4473', 'Inbred_4384',\n",
       "       'Inbred_4372', 'Inbred_4373', 'Inbred_4348', 'Inbred_4393',\n",
       "       'Inbred_4392', 'Inbred_4358', 'Inbred_4376', 'Inbred_4364',\n",
       "       'Inbred_4359', 'Inbred_4357', 'Inbred_4356', 'Inbred_4509',\n",
       "       'Inbred_4005', 'Inbred_4505', 'Inbred_4496', 'Inbred_4500',\n",
       "       'Inbred_4530', 'Inbred_4494', 'Inbred_4499', 'Inbred_4495',\n",
       "       'Inbred_4538', 'Inbred_4532', 'Inbred_4518', 'Inbred_4311',\n",
       "       'Inbred_4540', 'Inbred_4558', 'Inbred_4577', 'Inbred_5195',\n",
       "       'Inbred_5211', 'Inbred_5199', 'Inbred_4561', 'Inbred_4541',\n",
       "       'Inbred_4380', 'Inbred_5202', 'Inbred_5207', 'Inbred_5198',\n",
       "       'Inbred_5204', 'Inbred_5208', 'Inbred_5197', 'Inbred_5203',\n",
       "       'Inbred_5205', 'Inbred_4387', 'Inbred_5192', 'Inbred_5206',\n",
       "       'Inbred_5209', 'Inbred_4572', 'Inbred_4386', 'Inbred_5214',\n",
       "       'Inbred_5219', 'Inbred_5227', 'Inbred_5233', 'Inbred_5220',\n",
       "       'Inbred_5240', 'Inbred_5218', 'Inbred_5248', 'Inbred_5249',\n",
       "       'Inbred_5232', 'Inbred_5262', 'Inbred_4553', 'Inbred_5264',\n",
       "       'Inbred_5281', 'Inbred_5231', 'Inbred_5237', 'Inbred_5223',\n",
       "       'Inbred_4533', 'Inbred_5305', 'Inbred_5301', 'Inbred_5265',\n",
       "       'Inbred_5287', 'Inbred_5285', 'Inbred_5311', 'Inbred_5307',\n",
       "       'Inbred_5318', 'Inbred_5289', 'Inbred_5290', 'Inbred_4555',\n",
       "       'Inbred_5284', 'Inbred_5277', 'Inbred_5278', 'Inbred_5279',\n",
       "       'Inbred_5300', 'Inbred_4175', 'Inbred_5268', 'Inbred_5283',\n",
       "       'Inbred_4388', 'Inbred_4554', 'Inbred_4573', 'Inbred_5364',\n",
       "       'Inbred_5357', 'Inbred_5323', 'Inbred_5377', 'Inbred_5368',\n",
       "       'Inbred_5366', 'Inbred_3491', 'Inbred_5374', 'Inbred_5376',\n",
       "       'Inbred_3574', 'Inbred_5389', 'Inbred_5361', 'Inbred_5372',\n",
       "       'Inbred_5351', 'Inbred_5375', 'Inbred_5325', 'Inbred_5381',\n",
       "       'Inbred_5344', 'Inbred_5382', 'Inbred_5345', 'Inbred_5322',\n",
       "       'Inbred_5369', 'Inbred_5335', 'Inbred_5336', 'Inbred_5386',\n",
       "       'Inbred_5360', 'Inbred_5370', 'Inbred_5392', 'Inbred_5380',\n",
       "       'Inbred_5330', 'Inbred_5406', 'Inbred_5433', 'Inbred_5440',\n",
       "       'Inbred_5420', 'Inbred_5419', 'Inbred_5409', 'Inbred_5412',\n",
       "       'Inbred_5404', 'Inbred_5431', 'Inbred_5402', 'Inbred_5435',\n",
       "       'Inbred_5436', 'Inbred_5451', 'Inbred_5441', 'Inbred_5403',\n",
       "       'Inbred_5468', 'Inbred_5450', 'Inbred_5483', 'Inbred_5482',\n",
       "       'Inbred_5475', 'Inbred_5456', 'Inbred_5421', 'Inbred_5415',\n",
       "       'Inbred_5495', 'Inbred_5481', 'Inbred_5442', 'Inbred_5422',\n",
       "       'Inbred_5524', 'Inbred_5523', 'Inbred_5506', 'Inbred_5466',\n",
       "       'Inbred_5526', 'Inbred_5511', 'Inbred_5510', 'Inbred_5573',\n",
       "       'Inbred_5593', 'Inbred_5562', 'Inbred_5601', 'Inbred_5578',\n",
       "       'Inbred_5604', 'Inbred_5574', 'Inbred_5580', 'Inbred_5592',\n",
       "       'Inbred_6206', 'Inbred_5542', 'Inbred_5535', 'Inbred_5476',\n",
       "       'Inbred_5429', 'Inbred_6336', 'Inbred_6314', 'Inbred_6357',\n",
       "       'Inbred_5342', 'Inbred_6338', 'Inbred_6287', 'Inbred_6355',\n",
       "       'Inbred_6348', 'Inbred_6328', 'Inbred_6309', 'Inbred_6388',\n",
       "       'Inbred_6381', 'Inbred_6391', 'Inbred_6375', 'Inbred_6313',\n",
       "       'Inbred_6902', 'Inbred_6293', 'Inbred_6259', 'Inbred_6262',\n",
       "       'Inbred_6387'], dtype=object)"
      ]
     },
     "execution_count": 13,
     "metadata": {},
     "output_type": "execute_result"
    }
   ],
   "source": [
    "#check INBRED\n",
    "train.INBRED.unique()"
   ]
  },
  {
   "cell_type": "code",
   "execution_count": 14,
   "metadata": {},
   "outputs": [
    {
     "data": {
      "text/plain": [
       "array(['Cluster11', 'Cluster10', 'Cluster12', 'Cluster8', 'Cluster17',\n",
       "       'Cluster5', 'Cluster1', 'Cluster4', 'Cluster7', 'Cluster3',\n",
       "       'Cluster14', 'Cluster6', 'Cluster9', 'Cluster2'], dtype=object)"
      ]
     },
     "execution_count": 14,
     "metadata": {},
     "output_type": "execute_result"
    }
   ],
   "source": [
    "#Inbred cluster\n",
    "train.INBRED_CLUSTER.unique()"
   ]
  },
  {
   "cell_type": "code",
   "execution_count": 15,
   "metadata": {},
   "outputs": [
    {
     "data": {
      "text/plain": [
       "array(['Tester_740', 'Tester_743', 'Tester_757', 'Tester_761',\n",
       "       'Tester_767', 'Tester_775', 'Tester_776', 'Tester_779',\n",
       "       'Tester_789', 'Tester_793', 'Tester_813', 'Tester_819',\n",
       "       'Tester_821', 'Tester_828', 'Tester_829', 'Tester_1345',\n",
       "       'Tester_1349', 'Tester_1397', 'Tester_2636', 'Tester_2652',\n",
       "       'Tester_2683', 'Tester_2689', 'Tester_2690', 'Tester_2721',\n",
       "       'Tester_2724', 'Tester_2736', 'Tester_2747', 'Tester_2773',\n",
       "       'Tester_3404', 'Tester_3440', 'Tester_3484', 'Tester_3485',\n",
       "       'Tester_3504', 'Tester_3507', 'Tester_3521', 'Tester_3565',\n",
       "       'Tester_3567', 'Tester_3573', 'Tester_3577', 'Tester_3582',\n",
       "       'Tester_3791', 'Tester_3796', 'Tester_4025', 'Tester_4048',\n",
       "       'Tester_4051', 'Tester_4059', 'Tester_4062', 'Tester_4063',\n",
       "       'Tester_4065', 'Tester_4067', 'Tester_4072', 'Tester_4082',\n",
       "       'Tester_4083', 'Tester_4097', 'Tester_4099', 'Tester_4102',\n",
       "       'Tester_4115', 'Tester_4119', 'Tester_4131', 'Tester_4135',\n",
       "       'Tester_4137', 'Tester_4146', 'Tester_4151', 'Tester_4152',\n",
       "       'Tester_4154', 'Tester_4155', 'Tester_4160', 'Tester_4163',\n",
       "       'Tester_4167', 'Tester_4170', 'Tester_4175', 'Tester_4200',\n",
       "       'Tester_4201', 'Tester_4204', 'Tester_4207', 'Tester_4209',\n",
       "       'Tester_4210', 'Tester_4213', 'Tester_4215', 'Tester_4217',\n",
       "       'Tester_4230', 'Tester_4231', 'Tester_4233', 'Tester_4238',\n",
       "       'Tester_4240', 'Tester_4246', 'Tester_4250', 'Tester_4251',\n",
       "       'Tester_4252', 'Tester_4261', 'Tester_4262', 'Tester_4264',\n",
       "       'Tester_4267', 'Tester_4269', 'Tester_4270', 'Tester_4271',\n",
       "       'Tester_4278', 'Tester_4279', 'Tester_4280', 'Tester_4281',\n",
       "       'Tester_4283', 'Tester_4288', 'Tester_4289', 'Tester_4291',\n",
       "       'Tester_4294', 'Tester_4300', 'Tester_4301', 'Tester_4302',\n",
       "       'Tester_4304', 'Tester_4306', 'Tester_4307', 'Tester_4308',\n",
       "       'Tester_4309', 'Tester_4311', 'Tester_4312', 'Tester_4313',\n",
       "       'Tester_4320', 'Tester_4321', 'Tester_4327', 'Tester_4329',\n",
       "       'Tester_4336', 'Tester_4339', 'Tester_4341', 'Tester_4348',\n",
       "       'Tester_4350', 'Tester_4353', 'Tester_4354', 'Tester_4356',\n",
       "       'Tester_4357', 'Tester_4358', 'Tester_4359', 'Tester_4360',\n",
       "       'Tester_4361', 'Tester_4364', 'Tester_4366', 'Tester_4367',\n",
       "       'Tester_4368', 'Tester_4369', 'Tester_4370', 'Tester_4372',\n",
       "       'Tester_4373', 'Tester_4374', 'Tester_4376', 'Tester_4383',\n",
       "       'Tester_4384', 'Tester_4385', 'Tester_4386', 'Tester_4387',\n",
       "       'Tester_4388', 'Tester_4392', 'Tester_4393', 'Tester_4473',\n",
       "       'Tester_4493', 'Tester_4494', 'Tester_4495', 'Tester_4496',\n",
       "       'Tester_4499', 'Tester_4500', 'Tester_4505', 'Tester_4509',\n",
       "       'Tester_4518', 'Tester_4530', 'Tester_4538', 'Tester_4540',\n",
       "       'Tester_4541', 'Tester_4553', 'Tester_4558', 'Tester_4572',\n",
       "       'Tester_4577', 'Tester_5195', 'Tester_5197', 'Tester_5198',\n",
       "       'Tester_5199', 'Tester_5202', 'Tester_5203', 'Tester_5204',\n",
       "       'Tester_5205', 'Tester_5211', 'Tester_5214', 'Tester_5219',\n",
       "       'Tester_5220', 'Tester_5225', 'Tester_5226', 'Tester_5227',\n",
       "       'Tester_5230', 'Tester_5231', 'Tester_5232', 'Tester_5233',\n",
       "       'Tester_5240', 'Tester_5245', 'Tester_5246', 'Tester_5249',\n",
       "       'Tester_5254', 'Tester_5255', 'Tester_5262', 'Tester_5263',\n",
       "       'Tester_5264', 'Tester_5265', 'Tester_5267', 'Tester_5268',\n",
       "       'Tester_5270', 'Tester_5271', 'Tester_5272', 'Tester_5273',\n",
       "       'Tester_5274', 'Tester_5276', 'Tester_5277', 'Tester_5278',\n",
       "       'Tester_5279', 'Tester_5281', 'Tester_5283', 'Tester_5284',\n",
       "       'Tester_5285', 'Tester_5287', 'Tester_5288', 'Tester_5289',\n",
       "       'Tester_5290', 'Tester_5291', 'Tester_5292', 'Tester_5293',\n",
       "       'Tester_5300', 'Tester_5301', 'Tester_5305', 'Tester_5307',\n",
       "       'Tester_5310', 'Tester_5311', 'Tester_5313', 'Tester_5316',\n",
       "       'Tester_5317', 'Tester_5318', 'Tester_5321', 'Tester_5322',\n",
       "       'Tester_5323', 'Tester_5325', 'Tester_5326', 'Tester_5335',\n",
       "       'Tester_5336', 'Tester_5337', 'Tester_5344', 'Tester_5345',\n",
       "       'Tester_5354', 'Tester_5355', 'Tester_5357', 'Tester_5360',\n",
       "       'Tester_5364', 'Tester_5366', 'Tester_5367', 'Tester_5368',\n",
       "       'Tester_5369', 'Tester_5370', 'Tester_5372', 'Tester_5374',\n",
       "       'Tester_5375', 'Tester_5376', 'Tester_5377', 'Tester_5378',\n",
       "       'Tester_5380', 'Tester_5381', 'Tester_5382', 'Tester_5386',\n",
       "       'Tester_5389', 'Tester_5392', 'Tester_5402', 'Tester_5403',\n",
       "       'Tester_5404', 'Tester_5405', 'Tester_5406', 'Tester_5408',\n",
       "       'Tester_5409', 'Tester_5412', 'Tester_5413', 'Tester_5414',\n",
       "       'Tester_5419', 'Tester_5420', 'Tester_5421', 'Tester_5422',\n",
       "       'Tester_5424', 'Tester_5426', 'Tester_5429', 'Tester_5431',\n",
       "       'Tester_5433', 'Tester_5435', 'Tester_5436', 'Tester_5439',\n",
       "       'Tester_5440', 'Tester_5441', 'Tester_5442', 'Tester_5444',\n",
       "       'Tester_5445', 'Tester_5447', 'Tester_5450', 'Tester_5451',\n",
       "       'Tester_5454', 'Tester_5465', 'Tester_5466', 'Tester_5467',\n",
       "       'Tester_5468', 'Tester_5475', 'Tester_5478', 'Tester_5481',\n",
       "       'Tester_5482', 'Tester_5483', 'Tester_5489', 'Tester_5490',\n",
       "       'Tester_5495', 'Tester_5503', 'Tester_5506', 'Tester_5508',\n",
       "       'Tester_5510', 'Tester_5511', 'Tester_5523', 'Tester_5524',\n",
       "       'Tester_5526', 'Tester_5527', 'Tester_5528', 'Tester_5530',\n",
       "       'Tester_5532', 'Tester_5535', 'Tester_5539', 'Tester_5542',\n",
       "       'Tester_5545', 'Tester_5552', 'Tester_5554', 'Tester_5558',\n",
       "       'Tester_5559', 'Tester_5560', 'Tester_5562', 'Tester_5563',\n",
       "       'Tester_5566', 'Tester_5568', 'Tester_5569', 'Tester_5573',\n",
       "       'Tester_5574', 'Tester_5578', 'Tester_5579', 'Tester_5580',\n",
       "       'Tester_5587', 'Tester_5592', 'Tester_5593', 'Tester_5595',\n",
       "       'Tester_5601', 'Tester_5604', 'Tester_6198', 'Tester_6200',\n",
       "       'Tester_6201', 'Tester_6202', 'Tester_6206', 'Tester_6209',\n",
       "       'Tester_6224', 'Tester_6226', 'Tester_6227', 'Tester_6234',\n",
       "       'Tester_6235', 'Tester_6236', 'Tester_6243', 'Tester_6245',\n",
       "       'Tester_6248', 'Tester_6251', 'Tester_6252', 'Tester_6253',\n",
       "       'Tester_6254', 'Tester_6257', 'Tester_6258', 'Tester_6287',\n",
       "       'Tester_6290', 'Tester_6293', 'Tester_6297', 'Tester_6298',\n",
       "       'Tester_6301', 'Tester_6302', 'Tester_6309', 'Tester_6314',\n",
       "       'Tester_6320', 'Tester_6328', 'Tester_6329', 'Tester_6332',\n",
       "       'Tester_6336', 'Tester_6337', 'Tester_6339', 'Tester_6345',\n",
       "       'Tester_6348', 'Tester_6355', 'Tester_6357', 'Tester_6362',\n",
       "       'Tester_6373', 'Tester_6375', 'Tester_6376', 'Tester_6381',\n",
       "       'Tester_6391', 'Tester_6393', 'Tester_6397', 'Tester_6398',\n",
       "       'Tester_6410', 'Tester_6417', 'Tester_6859', 'Tester_6866',\n",
       "       'Tester_6875', 'Tester_6883', 'Tester_6890', 'Tester_6891',\n",
       "       'Tester_6892', 'Tester_6897', 'Tester_6898', 'Tester_6899',\n",
       "       'Tester_6901', 'Tester_6902', 'Tester_6913', 'Tester_6919',\n",
       "       'Tester_6920', 'Tester_6929', 'Tester_6930', 'Tester_6937',\n",
       "       'Tester_6941', 'Tester_6942', 'Tester_6943', 'Tester_6957',\n",
       "       'Tester_6981', 'Tester_7004', 'Tester_7050', 'Tester_7115',\n",
       "       'Tester_7156', 'Tester_7173', 'Tester_7258', 'Tester_7270',\n",
       "       'Tester_7280', 'Tester_7293', 'Tester_7315', 'Tester_7319',\n",
       "       'Tester_7326', 'Tester_7437', 'Tester_7457', 'Tester_7615',\n",
       "       'Tester_7616', 'Tester_7633', 'Tester_7634', 'Tester_7636',\n",
       "       'Tester_7638', 'Tester_7641', 'Tester_7647', 'Tester_7652',\n",
       "       'Tester_7975', 'Tester_7978', 'Tester_7979', 'Tester_7984',\n",
       "       'Tester_7991', 'Tester_7992', 'Tester_7993', 'Tester_7994',\n",
       "       'Tester_8005', 'Tester_8006', 'Tester_8009', 'Tester_8014',\n",
       "       'Tester_8019', 'Tester_8021', 'Tester_8023', 'Tester_8027',\n",
       "       'Tester_8029', 'Tester_8031', 'Tester_8033', 'Tester_8035',\n",
       "       'Tester_8037', 'Tester_8038', 'Tester_8042', 'Tester_8043',\n",
       "       'Tester_8044', 'Tester_8046', 'Tester_8047', 'Tester_8050',\n",
       "       'Tester_8051', 'Tester_8052', 'Tester_8053', 'Tester_8055',\n",
       "       'Tester_8057', 'Tester_8059', 'Tester_8060', 'Tester_8063',\n",
       "       'Tester_8064', 'Tester_8070', 'Tester_8075', 'Tester_8078',\n",
       "       'Tester_8080', 'Tester_8084', 'Tester_8159', 'Tester_8198',\n",
       "       'Tester_8199', 'Tester_8202', 'Tester_8204', 'Tester_8205',\n",
       "       'Tester_8208', 'Tester_8218', 'Tester_8246', 'Tester_8248',\n",
       "       'Tester_8249', 'Tester_8250', 'Tester_8253', 'Tester_8254'],\n",
       "      dtype=object)"
      ]
     },
     "execution_count": 15,
     "metadata": {},
     "output_type": "execute_result"
    }
   ],
   "source": [
    "#Tester information\n",
    "train.TESTER.unique()"
   ]
  },
  {
   "cell_type": "code",
   "execution_count": 16,
   "metadata": {},
   "outputs": [
    {
     "data": {
      "text/plain": [
       "array(['Cluster10', 'Cluster5', 'Cluster4', 'Cluster8', 'Cluster17',\n",
       "       'Cluster11', 'Cluster1', 'Cluster3', 'Cluster7', 'Cluster12',\n",
       "       'Cluster6', 'Cluster14', 'Cluster2'], dtype=object)"
      ]
     },
     "execution_count": 16,
     "metadata": {},
     "output_type": "execute_result"
    }
   ],
   "source": [
    "#TESTER_CLUSTER\n",
    "train.TESTER_CLUSTER.unique()"
   ]
  },
  {
   "cell_type": "code",
   "execution_count": 17,
   "metadata": {},
   "outputs": [
    {
     "data": {
      "text/plain": [
       "array([1.13546205, 1.13981255, 1.1177782 , ..., 0.97258388, 0.90014022,\n",
       "       0.95307504])"
      ]
     },
     "execution_count": 17,
     "metadata": {},
     "output_type": "execute_result"
    }
   ],
   "source": [
    "#Yield information\n",
    "train.YIELD.unique()"
   ]
  },
  {
   "cell_type": "code",
   "execution_count": 7,
   "metadata": {},
   "outputs": [
    {
     "data": {
      "text/plain": [
       "INBRED             object\n",
       "INBRED_CLUSTER     object\n",
       "TESTER             object\n",
       "TESTER_CLUSTER     object\n",
       "YIELD             float64\n",
       "dtype: object"
      ]
     },
     "execution_count": 7,
     "metadata": {},
     "output_type": "execute_result"
    }
   ],
   "source": [
    "test.dtypes"
   ]
  },
  {
   "cell_type": "code",
   "execution_count": 8,
   "metadata": {},
   "outputs": [
    {
     "name": "stdout",
     "output_type": "stream",
     "text": [
      "INBRED             object\n",
      "INBRED_CLUSTER     object\n",
      "TESTER             object\n",
      "TESTER_CLUSTER     object\n",
      "YIELD             float64\n",
      "dtype: object\n",
      "YEAR                int64\n",
      "LOCATION           object\n",
      "INBRED             object\n",
      "INBRED_CLUSTER     object\n",
      "TESTER             object\n",
      "TESTER_CLUSTER     object\n",
      "YIELD             float64\n",
      "dtype: object\n"
     ]
    }
   ],
   "source": [
    "print(test.dtypes)\n",
    "print(train.dtypes)"
   ]
  },
  {
   "cell_type": "markdown",
   "metadata": {},
   "source": [
    "# Catboost Model"
   ]
  },
  {
   "cell_type": "code",
   "execution_count": 3,
   "metadata": {},
   "outputs": [],
   "source": [
    "from catboost import CatBoostRegressor"
   ]
  },
  {
   "cell_type": "code",
   "execution_count": 6,
   "metadata": {},
   "outputs": [
    {
     "data": {
      "text/plain": [
       "YEAR              0\n",
       "LOCATION          0\n",
       "INBRED            0\n",
       "INBRED_CLUSTER    0\n",
       "TESTER            0\n",
       "TESTER_CLUSTER    0\n",
       "YIELD             0\n",
       "dtype: int64"
      ]
     },
     "execution_count": 6,
     "metadata": {},
     "output_type": "execute_result"
    }
   ],
   "source": [
    "#check for missing data\n",
    "train.isnull().sum()"
   ]
  },
  {
   "cell_type": "code",
   "execution_count": null,
   "metadata": {},
   "outputs": [],
   "source": [
    "#create model\n",
    "model=CatBoostRegressor(iterations=50, depth=3, learning_rate=0.1, loss_function='RMSE')\n",
    "model.fit(X_train, y_train,cat_features=categorical_features_indices,eval_set=(X_validation, y_validation),plot=True)"
   ]
  },
  {
   "cell_type": "code",
   "execution_count": null,
   "metadata": {},
   "outputs": [],
   "source": [
    "#import lightgbm as lgb\n",
    "#import xgboost as xgb"
   ]
  },
  {
   "cell_type": "code",
   "execution_count": null,
   "metadata": {},
   "outputs": [],
   "source": [
    "#evaluation - root mean squared error"
   ]
  },
  {
   "cell_type": "code",
   "execution_count": null,
   "metadata": {},
   "outputs": [],
   "source": [
    "#other libararies\n",
    "#lightfm, recsys, turicreate, scipy, suprise, seaborn"
   ]
  },
  {
   "cell_type": "code",
   "execution_count": null,
   "metadata": {},
   "outputs": [],
   "source": [
    "#metrics\n",
    "#accuracy, recall, mean reciprocal rank, mean average precision at cutoff k, mean square error"
   ]
  },
  {
   "cell_type": "code",
   "execution_count": null,
   "metadata": {},
   "outputs": [],
   "source": []
  },
  {
   "cell_type": "code",
   "execution_count": null,
   "metadata": {},
   "outputs": [],
   "source": []
  },
  {
   "cell_type": "code",
   "execution_count": null,
   "metadata": {},
   "outputs": [],
   "source": [
    "#data cleaning"
   ]
  },
  {
   "cell_type": "code",
   "execution_count": null,
   "metadata": {},
   "outputs": [],
   "source": [
    "#feature engineering"
   ]
  },
  {
   "cell_type": "code",
   "execution_count": null,
   "metadata": {},
   "outputs": [],
   "source": [
    "#modeling"
   ]
  }
 ],
 "metadata": {
  "kernelspec": {
   "display_name": "Python 3",
   "language": "python",
   "name": "python3"
  },
  "language_info": {
   "codemirror_mode": {
    "name": "ipython",
    "version": 3
   },
   "file_extension": ".py",
   "mimetype": "text/x-python",
   "name": "python",
   "nbconvert_exporter": "python",
   "pygments_lexer": "ipython3",
   "version": "3.7.1"
  }
 },
 "nbformat": 4,
 "nbformat_minor": 2
}
