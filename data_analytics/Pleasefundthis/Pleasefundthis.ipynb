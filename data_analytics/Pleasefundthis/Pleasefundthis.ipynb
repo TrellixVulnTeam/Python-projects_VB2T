{
 "cells": [
  {
   "cell_type": "code",
   "execution_count": 1,
   "metadata": {},
   "outputs": [],
   "source": [
    "#load libraries\n",
    "import pandas as pd\n",
    "import numpy as np\n",
    "import seaborn as sns\n",
    "import matplotlib.pyplot as plt\n",
    "import random\n",
    "from math import sqrt\n",
    "\n",
    "%matplotlib inline\n",
    "import warnings\n",
    "warnings.filterwarnings(\"ignore\")\n",
    "\n",
    "from scipy import sparse\n",
    "from scipy.stats import uniform, randint\n",
    "import sklearn\n",
    "from sklearn import preprocessing\n",
    "from sklearn.preprocessing import LabelEncoder, MinMaxScaler, StandardScaler, OneHotEncoder  \n",
    "from sklearn import model_selection\n",
    "from sklearn.metrics import mean_squared_error\n",
    "from sklearn.metrics import accuracy_score\n",
    "from sklearn.metrics import roc_curve, auc, recall_score, precision_score, f1_score, confusion_matrix, recall_score\n",
    "from sklearn.model_selection import train_test_split\n",
    "from sklearn.model_selection import cross_val_score\n",
    "from sklearn.model_selection import TimeSeriesSplit, cross_val_score, GridSearchCV, RandomizedSearchCV\n",
    "from sklearn.linear_model import LogisticRegression\n",
    "from sklearn.tree import DecisionTreeClassifier\n",
    "from sklearn.neighbors import KNeighborsClassifier\n",
    "from sklearn.ensemble import RandomForestClassifier\n",
    "from sklearn.svm import SVC\n",
    "\n",
    "from sklearn.naive_bayes import GaussianNB\n",
    "from sklearn.ensemble import GradientBoostingClassifier\n",
    "from sklearn.discriminant_analysis import LinearDiscriminantAnalysis\n",
    "from sklearn.ensemble import VotingClassifier\n",
    "from sklearn.ensemble import BaggingClassifier\n",
    "from sklearn.naive_bayes import MultinomialNB\n",
    "\n",
    "import  lightgbm as lgbm \n",
    "import xgboost as xgb \n",
    "import catboost as cat "
   ]
  },
  {
   "cell_type": "code",
   "execution_count": 3,
   "metadata": {},
   "outputs": [],
   "source": [
    "#load data\n",
    "df = pd.read_csv(\"PleaseFundThis.csv\")"
   ]
  },
  {
   "cell_type": "code",
   "execution_count": 4,
   "metadata": {},
   "outputs": [
    {
     "data": {
      "text/html": [
       "<div>\n",
       "<style scoped>\n",
       "    .dataframe tbody tr th:only-of-type {\n",
       "        vertical-align: middle;\n",
       "    }\n",
       "\n",
       "    .dataframe tbody tr th {\n",
       "        vertical-align: top;\n",
       "    }\n",
       "\n",
       "    .dataframe thead th {\n",
       "        text-align: right;\n",
       "    }\n",
       "</style>\n",
       "<table border=\"1\" class=\"dataframe\">\n",
       "  <thead>\n",
       "    <tr style=\"text-align: right;\">\n",
       "      <th></th>\n",
       "      <th>project_id</th>\n",
       "      <th>project_name</th>\n",
       "      <th>date_launched</th>\n",
       "      <th>duration_days</th>\n",
       "      <th>goal_$</th>\n",
       "      <th>percent_raised</th>\n",
       "      <th>amt_pledged_$</th>\n",
       "      <th>major_category</th>\n",
       "      <th>minor_category</th>\n",
       "      <th>project_update_count</th>\n",
       "      <th>...</th>\n",
       "      <th>highest_pledge_reward_$</th>\n",
       "      <th>total_count_of_pledge_levels</th>\n",
       "      <th>project_success</th>\n",
       "      <th>Unnamed: 23</th>\n",
       "      <th>Unnamed: 24</th>\n",
       "      <th>Unnamed: 25</th>\n",
       "      <th>Unnamed: 26</th>\n",
       "      <th>Unnamed: 27</th>\n",
       "      <th>Unnamed: 28</th>\n",
       "      <th>Unnamed: 29</th>\n",
       "    </tr>\n",
       "  </thead>\n",
       "  <tbody>\n",
       "    <tr>\n",
       "      <td>0</td>\n",
       "      <td>805069526</td>\n",
       "      <td>Big Bully BBQ</td>\n",
       "      <td>19/04/2012</td>\n",
       "      <td>60</td>\n",
       "      <td>12000.0</td>\n",
       "      <td>29.67</td>\n",
       "      <td>3560.0</td>\n",
       "      <td>Food</td>\n",
       "      <td>Food</td>\n",
       "      <td>0</td>\n",
       "      <td>...</td>\n",
       "      <td>2,500</td>\n",
       "      <td>9</td>\n",
       "      <td>False</td>\n",
       "      <td>NaN</td>\n",
       "      <td>NaN</td>\n",
       "      <td>NaN</td>\n",
       "      <td>NaN</td>\n",
       "      <td>NaN</td>\n",
       "      <td>NaN</td>\n",
       "      <td>NaN</td>\n",
       "    </tr>\n",
       "    <tr>\n",
       "      <td>1</td>\n",
       "      <td>1046206236</td>\n",
       "      <td>Gary Graves New Recording</td>\n",
       "      <td>19/04/2012</td>\n",
       "      <td>60</td>\n",
       "      <td>2500.0</td>\n",
       "      <td>31.80</td>\n",
       "      <td>795.0</td>\n",
       "      <td>Music</td>\n",
       "      <td>Country &amp; Folk</td>\n",
       "      <td>0</td>\n",
       "      <td>...</td>\n",
       "      <td>500</td>\n",
       "      <td>7</td>\n",
       "      <td>False</td>\n",
       "      <td>NaN</td>\n",
       "      <td>NaN</td>\n",
       "      <td>NaN</td>\n",
       "      <td>NaN</td>\n",
       "      <td>NaN</td>\n",
       "      <td>NaN</td>\n",
       "      <td>NaN</td>\n",
       "    </tr>\n",
       "    <tr>\n",
       "      <td>2</td>\n",
       "      <td>7014665777</td>\n",
       "      <td>Newgrounds: The Forsaken City</td>\n",
       "      <td>20/04/2012</td>\n",
       "      <td>60</td>\n",
       "      <td>30000.0</td>\n",
       "      <td>61.26</td>\n",
       "      <td>18378.0</td>\n",
       "      <td>Film &amp; Video</td>\n",
       "      <td>Webseries</td>\n",
       "      <td>8</td>\n",
       "      <td>...</td>\n",
       "      <td>5,000</td>\n",
       "      <td>17</td>\n",
       "      <td>False</td>\n",
       "      <td>NaN</td>\n",
       "      <td>NaN</td>\n",
       "      <td>NaN</td>\n",
       "      <td>NaN</td>\n",
       "      <td>NaN</td>\n",
       "      <td>NaN</td>\n",
       "      <td>NaN</td>\n",
       "    </tr>\n",
       "    <tr>\n",
       "      <td>3</td>\n",
       "      <td>208975283</td>\n",
       "      <td>Children of the Elements - the Sustainability ...</td>\n",
       "      <td>20/04/2012</td>\n",
       "      <td>60</td>\n",
       "      <td>12500.0</td>\n",
       "      <td>48.18</td>\n",
       "      <td>6022.0</td>\n",
       "      <td>Publishing</td>\n",
       "      <td>Children's Book</td>\n",
       "      <td>12</td>\n",
       "      <td>...</td>\n",
       "      <td>2,000</td>\n",
       "      <td>13</td>\n",
       "      <td>False</td>\n",
       "      <td>NaN</td>\n",
       "      <td>NaN</td>\n",
       "      <td>NaN</td>\n",
       "      <td>NaN</td>\n",
       "      <td>NaN</td>\n",
       "      <td>NaN</td>\n",
       "      <td>NaN</td>\n",
       "    </tr>\n",
       "    <tr>\n",
       "      <td>4</td>\n",
       "      <td>307345220</td>\n",
       "      <td>Synchronized Chaos International Magazine's Ou...</td>\n",
       "      <td>20/04/2012</td>\n",
       "      <td>60</td>\n",
       "      <td>300.0</td>\n",
       "      <td>133.33</td>\n",
       "      <td>400.0</td>\n",
       "      <td>Publishing</td>\n",
       "      <td>Periodical</td>\n",
       "      <td>0</td>\n",
       "      <td>...</td>\n",
       "      <td>100</td>\n",
       "      <td>4</td>\n",
       "      <td>True</td>\n",
       "      <td>NaN</td>\n",
       "      <td>NaN</td>\n",
       "      <td>NaN</td>\n",
       "      <td>NaN</td>\n",
       "      <td>NaN</td>\n",
       "      <td>NaN</td>\n",
       "      <td>NaN</td>\n",
       "    </tr>\n",
       "  </tbody>\n",
       "</table>\n",
       "<p>5 rows × 30 columns</p>\n",
       "</div>"
      ],
      "text/plain": [
       "   project_id                                       project_name  \\\n",
       "0   805069526                                      Big Bully BBQ   \n",
       "1  1046206236                          Gary Graves New Recording   \n",
       "2  7014665777                      Newgrounds: The Forsaken City   \n",
       "3   208975283  Children of the Elements - the Sustainability ...   \n",
       "4   307345220  Synchronized Chaos International Magazine's Ou...   \n",
       "\n",
       "   date_launched   duration_days   goal_$  percent_raised  amt_pledged_$  \\\n",
       "0      19/04/2012             60  12000.0           29.67         3560.0   \n",
       "1      19/04/2012             60   2500.0           31.80          795.0   \n",
       "2      20/04/2012             60  30000.0           61.26        18378.0   \n",
       "3      20/04/2012             60  12500.0           48.18         6022.0   \n",
       "4      20/04/2012             60    300.0          133.33          400.0   \n",
       "\n",
       "  major_category   minor_category  project_update_count  ...  \\\n",
       "0           Food             Food                     0  ...   \n",
       "1          Music   Country & Folk                     0  ...   \n",
       "2   Film & Video        Webseries                     8  ...   \n",
       "3     Publishing  Children's Book                    12  ...   \n",
       "4     Publishing       Periodical                     0  ...   \n",
       "\n",
       "   highest_pledge_reward_$   total_count_of_pledge_levels   project_success  \\\n",
       "0                     2,500                              9            False   \n",
       "1                       500                              7            False   \n",
       "2                     5,000                             17            False   \n",
       "3                     2,000                             13            False   \n",
       "4                       100                              4             True   \n",
       "\n",
       "   Unnamed: 23 Unnamed: 24  Unnamed: 25 Unnamed: 26  Unnamed: 27 Unnamed: 28  \\\n",
       "0          NaN         NaN          NaN         NaN          NaN         NaN   \n",
       "1          NaN         NaN          NaN         NaN          NaN         NaN   \n",
       "2          NaN         NaN          NaN         NaN          NaN         NaN   \n",
       "3          NaN         NaN          NaN         NaN          NaN         NaN   \n",
       "4          NaN         NaN          NaN         NaN          NaN         NaN   \n",
       "\n",
       "  Unnamed: 29  \n",
       "0         NaN  \n",
       "1         NaN  \n",
       "2         NaN  \n",
       "3         NaN  \n",
       "4         NaN  \n",
       "\n",
       "[5 rows x 30 columns]"
      ]
     },
     "execution_count": 4,
     "metadata": {},
     "output_type": "execute_result"
    }
   ],
   "source": [
    "#check data\n",
    "df.head()"
   ]
  },
  {
   "cell_type": "code",
   "execution_count": 5,
   "metadata": {},
   "outputs": [
    {
     "data": {
      "text/html": [
       "<div>\n",
       "<style scoped>\n",
       "    .dataframe tbody tr th:only-of-type {\n",
       "        vertical-align: middle;\n",
       "    }\n",
       "\n",
       "    .dataframe tbody tr th {\n",
       "        vertical-align: top;\n",
       "    }\n",
       "\n",
       "    .dataframe thead th {\n",
       "        text-align: right;\n",
       "    }\n",
       "</style>\n",
       "<table border=\"1\" class=\"dataframe\">\n",
       "  <thead>\n",
       "    <tr style=\"text-align: right;\">\n",
       "      <th></th>\n",
       "      <th>project_id</th>\n",
       "      <th>duration_days</th>\n",
       "      <th>goal_$</th>\n",
       "      <th>percent_raised</th>\n",
       "      <th>amt_pledged_$</th>\n",
       "      <th>project_update_count</th>\n",
       "      <th>number_of_pledgers</th>\n",
       "      <th>comments_count</th>\n",
       "      <th>facebook_friends_count</th>\n",
       "      <th>total_count_of_pledge_levels</th>\n",
       "      <th>Unnamed: 23</th>\n",
       "      <th>Unnamed: 24</th>\n",
       "      <th>Unnamed: 25</th>\n",
       "      <th>Unnamed: 26</th>\n",
       "      <th>Unnamed: 27</th>\n",
       "      <th>Unnamed: 28</th>\n",
       "      <th>Unnamed: 29</th>\n",
       "    </tr>\n",
       "  </thead>\n",
       "  <tbody>\n",
       "    <tr>\n",
       "      <td>count</td>\n",
       "      <td>2.844700e+04</td>\n",
       "      <td>28447.000000</td>\n",
       "      <td>2.844700e+04</td>\n",
       "      <td>28447.000000</td>\n",
       "      <td>2.844700e+04</td>\n",
       "      <td>28447.000000</td>\n",
       "      <td>28447.00000</td>\n",
       "      <td>28447.000000</td>\n",
       "      <td>17886.000000</td>\n",
       "      <td>28447.000000</td>\n",
       "      <td>0.0</td>\n",
       "      <td>7.000000</td>\n",
       "      <td>6.000000</td>\n",
       "      <td>4.000000</td>\n",
       "      <td>3.000000</td>\n",
       "      <td>3.000000</td>\n",
       "      <td>3.000000</td>\n",
       "    </tr>\n",
       "    <tr>\n",
       "      <td>mean</td>\n",
       "      <td>4.126527e+09</td>\n",
       "      <td>32.749886</td>\n",
       "      <td>2.057456e+04</td>\n",
       "      <td>120.701537</td>\n",
       "      <td>1.019584e+04</td>\n",
       "      <td>3.218582</td>\n",
       "      <td>133.17559</td>\n",
       "      <td>30.299012</td>\n",
       "      <td>479.219445</td>\n",
       "      <td>9.203607</td>\n",
       "      <td>NaN</td>\n",
       "      <td>2024.000000</td>\n",
       "      <td>2445.833333</td>\n",
       "      <td>1306.250000</td>\n",
       "      <td>76.666667</td>\n",
       "      <td>78.333333</td>\n",
       "      <td>80.000000</td>\n",
       "    </tr>\n",
       "    <tr>\n",
       "      <td>std</td>\n",
       "      <td>2.935143e+09</td>\n",
       "      <td>10.979895</td>\n",
       "      <td>2.410157e+05</td>\n",
       "      <td>1757.962943</td>\n",
       "      <td>9.136661e+04</td>\n",
       "      <td>5.228219</td>\n",
       "      <td>1124.92532</td>\n",
       "      <td>740.131945</td>\n",
       "      <td>777.858283</td>\n",
       "      <td>5.229805</td>\n",
       "      <td>NaN</td>\n",
       "      <td>3341.584255</td>\n",
       "      <td>4008.199617</td>\n",
       "      <td>2462.604905</td>\n",
       "      <td>28.431204</td>\n",
       "      <td>25.658007</td>\n",
       "      <td>26.457513</td>\n",
       "    </tr>\n",
       "    <tr>\n",
       "      <td>min</td>\n",
       "      <td>6.022280e+05</td>\n",
       "      <td>1.000000</td>\n",
       "      <td>1.000000e+00</td>\n",
       "      <td>0.000000</td>\n",
       "      <td>0.000000e+00</td>\n",
       "      <td>0.000000</td>\n",
       "      <td>0.00000</td>\n",
       "      <td>0.000000</td>\n",
       "      <td>0.000000</td>\n",
       "      <td>1.000000</td>\n",
       "      <td>NaN</td>\n",
       "      <td>40.000000</td>\n",
       "      <td>45.000000</td>\n",
       "      <td>45.000000</td>\n",
       "      <td>45.000000</td>\n",
       "      <td>50.000000</td>\n",
       "      <td>50.000000</td>\n",
       "    </tr>\n",
       "    <tr>\n",
       "      <td>25%</td>\n",
       "      <td>1.065575e+09</td>\n",
       "      <td>30.000000</td>\n",
       "      <td>2.000000e+03</td>\n",
       "      <td>5.380000</td>\n",
       "      <td>2.900000e+02</td>\n",
       "      <td>0.000000</td>\n",
       "      <td>6.00000</td>\n",
       "      <td>0.000000</td>\n",
       "      <td>0.000000</td>\n",
       "      <td>6.000000</td>\n",
       "      <td>NaN</td>\n",
       "      <td>90.000000</td>\n",
       "      <td>85.000000</td>\n",
       "      <td>71.250000</td>\n",
       "      <td>65.000000</td>\n",
       "      <td>67.500000</td>\n",
       "      <td>70.000000</td>\n",
       "    </tr>\n",
       "    <tr>\n",
       "      <td>50%</td>\n",
       "      <td>4.043883e+09</td>\n",
       "      <td>30.000000</td>\n",
       "      <td>5.000000e+03</td>\n",
       "      <td>72.590000</td>\n",
       "      <td>1.710000e+03</td>\n",
       "      <td>1.000000</td>\n",
       "      <td>28.00000</td>\n",
       "      <td>0.000000</td>\n",
       "      <td>221.000000</td>\n",
       "      <td>8.000000</td>\n",
       "      <td>NaN</td>\n",
       "      <td>310.000000</td>\n",
       "      <td>275.000000</td>\n",
       "      <td>90.000000</td>\n",
       "      <td>85.000000</td>\n",
       "      <td>85.000000</td>\n",
       "      <td>90.000000</td>\n",
       "    </tr>\n",
       "    <tr>\n",
       "      <td>75%</td>\n",
       "      <td>7.022325e+09</td>\n",
       "      <td>35.000000</td>\n",
       "      <td>1.200000e+04</td>\n",
       "      <td>113.330000</td>\n",
       "      <td>5.675000e+03</td>\n",
       "      <td>4.000000</td>\n",
       "      <td>80.00000</td>\n",
       "      <td>3.000000</td>\n",
       "      <td>596.000000</td>\n",
       "      <td>11.000000</td>\n",
       "      <td>NaN</td>\n",
       "      <td>2375.000000</td>\n",
       "      <td>3112.500000</td>\n",
       "      <td>1325.000000</td>\n",
       "      <td>92.500000</td>\n",
       "      <td>92.500000</td>\n",
       "      <td>95.000000</td>\n",
       "    </tr>\n",
       "    <tr>\n",
       "      <td>max</td>\n",
       "      <td>9.099942e+09</td>\n",
       "      <td>60.000000</td>\n",
       "      <td>2.147484e+07</td>\n",
       "      <td>240716.000000</td>\n",
       "      <td>8.596475e+06</td>\n",
       "      <td>147.000000</td>\n",
       "      <td>91584.00000</td>\n",
       "      <td>59463.000000</td>\n",
       "      <td>5358.000000</td>\n",
       "      <td>31.000000</td>\n",
       "      <td>NaN</td>\n",
       "      <td>8888.000000</td>\n",
       "      <td>10000.000000</td>\n",
       "      <td>5000.000000</td>\n",
       "      <td>100.000000</td>\n",
       "      <td>100.000000</td>\n",
       "      <td>100.000000</td>\n",
       "    </tr>\n",
       "  </tbody>\n",
       "</table>\n",
       "</div>"
      ],
      "text/plain": [
       "         project_id  duration_days        goal_$  percent_raised  \\\n",
       "count  2.844700e+04   28447.000000  2.844700e+04    28447.000000   \n",
       "mean   4.126527e+09      32.749886  2.057456e+04      120.701537   \n",
       "std    2.935143e+09      10.979895  2.410157e+05     1757.962943   \n",
       "min    6.022280e+05       1.000000  1.000000e+00        0.000000   \n",
       "25%    1.065575e+09      30.000000  2.000000e+03        5.380000   \n",
       "50%    4.043883e+09      30.000000  5.000000e+03       72.590000   \n",
       "75%    7.022325e+09      35.000000  1.200000e+04      113.330000   \n",
       "max    9.099942e+09      60.000000  2.147484e+07   240716.000000   \n",
       "\n",
       "       amt_pledged_$  project_update_count  number_of_pledgers  \\\n",
       "count   2.844700e+04          28447.000000         28447.00000   \n",
       "mean    1.019584e+04              3.218582           133.17559   \n",
       "std     9.136661e+04              5.228219          1124.92532   \n",
       "min     0.000000e+00              0.000000             0.00000   \n",
       "25%     2.900000e+02              0.000000             6.00000   \n",
       "50%     1.710000e+03              1.000000            28.00000   \n",
       "75%     5.675000e+03              4.000000            80.00000   \n",
       "max     8.596475e+06            147.000000         91584.00000   \n",
       "\n",
       "       comments_count  facebook_friends_count   total_count_of_pledge_levels   \\\n",
       "count    28447.000000            17886.000000                    28447.000000   \n",
       "mean        30.299012              479.219445                        9.203607   \n",
       "std        740.131945              777.858283                        5.229805   \n",
       "min          0.000000                0.000000                        1.000000   \n",
       "25%          0.000000                0.000000                        6.000000   \n",
       "50%          0.000000              221.000000                        8.000000   \n",
       "75%          3.000000              596.000000                       11.000000   \n",
       "max      59463.000000             5358.000000                       31.000000   \n",
       "\n",
       "       Unnamed: 23  Unnamed: 24   Unnamed: 25  Unnamed: 26  Unnamed: 27  \\\n",
       "count          0.0     7.000000      6.000000     4.000000     3.000000   \n",
       "mean           NaN  2024.000000   2445.833333  1306.250000    76.666667   \n",
       "std            NaN  3341.584255   4008.199617  2462.604905    28.431204   \n",
       "min            NaN    40.000000     45.000000    45.000000    45.000000   \n",
       "25%            NaN    90.000000     85.000000    71.250000    65.000000   \n",
       "50%            NaN   310.000000    275.000000    90.000000    85.000000   \n",
       "75%            NaN  2375.000000   3112.500000  1325.000000    92.500000   \n",
       "max            NaN  8888.000000  10000.000000  5000.000000   100.000000   \n",
       "\n",
       "       Unnamed: 28  Unnamed: 29  \n",
       "count     3.000000     3.000000  \n",
       "mean     78.333333    80.000000  \n",
       "std      25.658007    26.457513  \n",
       "min      50.000000    50.000000  \n",
       "25%      67.500000    70.000000  \n",
       "50%      85.000000    90.000000  \n",
       "75%      92.500000    95.000000  \n",
       "max     100.000000   100.000000  "
      ]
     },
     "execution_count": 5,
     "metadata": {},
     "output_type": "execute_result"
    }
   ],
   "source": [
    "#summary\n",
    "df.describe()"
   ]
  },
  {
   "cell_type": "code",
   "execution_count": 6,
   "metadata": {},
   "outputs": [
    {
     "data": {
      "text/plain": [
       "['project_id',\n",
       " 'project_name',\n",
       " ' date_launched ',\n",
       " 'duration_days',\n",
       " 'goal_$',\n",
       " 'percent_raised',\n",
       " 'amt_pledged_$',\n",
       " 'major_category',\n",
       " 'minor_category',\n",
       " 'project_update_count',\n",
       " 'city',\n",
       " 'region',\n",
       " 'number_of_pledgers',\n",
       " 'comments_count',\n",
       " ' avg_amt$_per_pledger ',\n",
       " 'project_has_video',\n",
       " 'project_has_facebook_page',\n",
       " 'facebook_friends_count',\n",
       " 'project_has_pledge_rewards',\n",
       " ' lowest_pledge_reward_$ ',\n",
       " ' highest_pledge_reward_$ ',\n",
       " ' total_count_of_pledge_levels ',\n",
       " 'project_success',\n",
       " 'Unnamed: 23',\n",
       " 'Unnamed: 24',\n",
       " 'Unnamed: 25',\n",
       " 'Unnamed: 26',\n",
       " 'Unnamed: 27',\n",
       " 'Unnamed: 28',\n",
       " 'Unnamed: 29']"
      ]
     },
     "execution_count": 6,
     "metadata": {},
     "output_type": "execute_result"
    }
   ],
   "source": [
    "#get columns\n",
    "df.columns.tolist()  "
   ]
  },
  {
   "cell_type": "code",
   "execution_count": 7,
   "metadata": {},
   "outputs": [],
   "source": [
    "#drop unnamed columns\n",
    "df = df.drop(['Unnamed: 23','Unnamed: 24','Unnamed: 25','Unnamed: 26','Unnamed: 27','Unnamed: 28','Unnamed: 29'], axis=1)"
   ]
  },
  {
   "cell_type": "code",
   "execution_count": 8,
   "metadata": {},
   "outputs": [],
   "source": [
    "#drop descriptive metrics\n",
    "df = df.drop([' lowest_pledge_reward_$ ',' highest_pledge_reward_$ ',' total_count_of_pledge_levels ', \n",
    "              ' avg_amt$_per_pledger '],axis=1)"
   ]
  },
  {
   "cell_type": "code",
   "execution_count": 9,
   "metadata": {},
   "outputs": [
    {
     "data": {
      "text/plain": [
       "(28447, 19)"
      ]
     },
     "execution_count": 9,
     "metadata": {},
     "output_type": "execute_result"
    }
   ],
   "source": [
    "df.shape"
   ]
  },
  {
   "cell_type": "code",
   "execution_count": 10,
   "metadata": {},
   "outputs": [
    {
     "data": {
      "text/plain": [
       "project_id                        0\n",
       "project_name                      0\n",
       " date_launched                    0\n",
       "duration_days                     0\n",
       "goal_$                            0\n",
       "percent_raised                    0\n",
       "amt_pledged_$                     0\n",
       "major_category                    0\n",
       "minor_category                    0\n",
       "project_update_count              0\n",
       "city                              0\n",
       "region                            0\n",
       "number_of_pledgers                0\n",
       "comments_count                    0\n",
       "project_has_video                 0\n",
       "project_has_facebook_page         0\n",
       "facebook_friends_count        10561\n",
       "project_has_pledge_rewards        0\n",
       "project_success                   0\n",
       "dtype: int64"
      ]
     },
     "execution_count": 10,
     "metadata": {},
     "output_type": "execute_result"
    }
   ],
   "source": [
    "#check for missing data\n",
    "df.isnull().sum()"
   ]
  },
  {
   "cell_type": "code",
   "execution_count": 11,
   "metadata": {},
   "outputs": [],
   "source": [
    "#drop facebook friends count\n",
    "df = df.drop('facebook_friends_count',axis=1)"
   ]
  },
  {
   "cell_type": "code",
   "execution_count": 14,
   "metadata": {},
   "outputs": [],
   "source": [
    "#drop city, drop minor category, project id and name, percent raised,\n",
    "df = df.drop(['minor_category','project_id','project_name','percent_raised'],axis=1)"
   ]
  },
  {
   "cell_type": "code",
   "execution_count": 15,
   "metadata": {},
   "outputs": [
    {
     "data": {
      "text/plain": [
       "<matplotlib.axes._subplots.AxesSubplot at 0x7fe8303587d0>"
      ]
     },
     "execution_count": 15,
     "metadata": {},
     "output_type": "execute_result"
    },
    {
     "data": {
      "image/png": "[encoded data removed]",
      "text/plain": [
       "<Figure size 432x288 with 1 Axes>"
      ]
     },
     "metadata": {
      "needs_background": "light"
     },
     "output_type": "display_data"
    }
   ],
   "source": [
    "#check for target ratio\n",
    "pd.value_counts(df['project_success']).plot.bar()"
   ]
  },
  {
   "cell_type": "markdown",
   "metadata": {},
   "source": [
    "no need to rebalance classes"
   ]
  },
  {
   "cell_type": "code",
   "execution_count": 18,
   "metadata": {},
   "outputs": [
    {
     "data": {
      "text/plain": [
       "array([False,  True])"
      ]
     },
     "execution_count": 18,
     "metadata": {},
     "output_type": "execute_result"
    }
   ],
   "source": [
    "df[\"project_success\"].unique()"
   ]
  },
  {
   "cell_type": "code",
   "execution_count": 19,
   "metadata": {},
   "outputs": [],
   "source": [
    "#recode target variable\n",
    "df[\"project_success\"].replace({False: 0, True: 1}, inplace=True)"
   ]
  },
  {
   "cell_type": "code",
   "execution_count": 23,
   "metadata": {},
   "outputs": [],
   "source": [
    "df[' date_launched '] = pd.to_datetime(df[' date_launched '])"
   ]
  },
  {
   "cell_type": "code",
   "execution_count": 27,
   "metadata": {},
   "outputs": [],
   "source": [
    "#get year, month, day of week variable\n",
    "df['week_name'] = df[' date_launched '].dt.weekday_name\n",
    "df['year'] = df[' date_launched '].dt.year\n",
    "df['month'] = df[' date_launched '].dt.month"
   ]
  },
  {
   "cell_type": "code",
   "execution_count": 28,
   "metadata": {},
   "outputs": [],
   "source": [
    "#drop date launched column\n",
    "df = df.drop(' date_launched ',axis=1)"
   ]
  },
  {
   "cell_type": "code",
   "execution_count": 30,
   "metadata": {},
   "outputs": [],
   "source": [
    "#recode 'project_has_video','project_has_facebook_page','project_has_pledge_rewards'\n",
    "\n",
    "df['project_has_video'].replace({False: 0, True: 1}, inplace=True)\n",
    "df['project_has_facebook_page'].replace({\"No\": 0, \"Yes\": 1}, inplace=True)\n",
    "df['project_has_pledge_rewards'].replace({\"No\": 0, \"Yes\": 1}, inplace=True)"
   ]
  },
  {
   "cell_type": "code",
   "execution_count": 32,
   "metadata": {},
   "outputs": [],
   "source": [
    "#drop city\n",
    "df = df.drop('city',axis=1)"
   ]
  },
  {
   "cell_type": "markdown",
   "metadata": {},
   "source": [
    "## Modeling"
   ]
  },
  {
   "cell_type": "code",
   "execution_count": 33,
   "metadata": {},
   "outputs": [
    {
     "data": {
      "text/html": [
       "<div>\n",
       "<style scoped>\n",
       "    .dataframe tbody tr th:only-of-type {\n",
       "        vertical-align: middle;\n",
       "    }\n",
       "\n",
       "    .dataframe tbody tr th {\n",
       "        vertical-align: top;\n",
       "    }\n",
       "\n",
       "    .dataframe thead th {\n",
       "        text-align: right;\n",
       "    }\n",
       "</style>\n",
       "<table border=\"1\" class=\"dataframe\">\n",
       "  <thead>\n",
       "    <tr style=\"text-align: right;\">\n",
       "      <th></th>\n",
       "      <th>duration_days</th>\n",
       "      <th>goal_$</th>\n",
       "      <th>amt_pledged_$</th>\n",
       "      <th>major_category</th>\n",
       "      <th>project_update_count</th>\n",
       "      <th>region</th>\n",
       "      <th>number_of_pledgers</th>\n",
       "      <th>comments_count</th>\n",
       "      <th>project_has_video</th>\n",
       "      <th>project_has_facebook_page</th>\n",
       "      <th>project_has_pledge_rewards</th>\n",
       "      <th>project_success</th>\n",
       "      <th>week_name</th>\n",
       "      <th>year</th>\n",
       "      <th>month</th>\n",
       "    </tr>\n",
       "  </thead>\n",
       "  <tbody>\n",
       "    <tr>\n",
       "      <td>0</td>\n",
       "      <td>60</td>\n",
       "      <td>12000.0</td>\n",
       "      <td>3560.0</td>\n",
       "      <td>Food</td>\n",
       "      <td>0</td>\n",
       "      <td>United States</td>\n",
       "      <td>34</td>\n",
       "      <td>2</td>\n",
       "      <td>1</td>\n",
       "      <td>0</td>\n",
       "      <td>1</td>\n",
       "      <td>0</td>\n",
       "      <td>Thursday</td>\n",
       "      <td>2012</td>\n",
       "      <td>4</td>\n",
       "    </tr>\n",
       "    <tr>\n",
       "      <td>1</td>\n",
       "      <td>60</td>\n",
       "      <td>2500.0</td>\n",
       "      <td>795.0</td>\n",
       "      <td>Music</td>\n",
       "      <td>0</td>\n",
       "      <td>United States</td>\n",
       "      <td>17</td>\n",
       "      <td>0</td>\n",
       "      <td>1</td>\n",
       "      <td>0</td>\n",
       "      <td>1</td>\n",
       "      <td>0</td>\n",
       "      <td>Thursday</td>\n",
       "      <td>2012</td>\n",
       "      <td>4</td>\n",
       "    </tr>\n",
       "    <tr>\n",
       "      <td>2</td>\n",
       "      <td>60</td>\n",
       "      <td>30000.0</td>\n",
       "      <td>18378.0</td>\n",
       "      <td>Film &amp; Video</td>\n",
       "      <td>8</td>\n",
       "      <td>United States</td>\n",
       "      <td>355</td>\n",
       "      <td>56</td>\n",
       "      <td>0</td>\n",
       "      <td>0</td>\n",
       "      <td>1</td>\n",
       "      <td>0</td>\n",
       "      <td>Friday</td>\n",
       "      <td>2012</td>\n",
       "      <td>4</td>\n",
       "    </tr>\n",
       "    <tr>\n",
       "      <td>3</td>\n",
       "      <td>60</td>\n",
       "      <td>12500.0</td>\n",
       "      <td>6022.0</td>\n",
       "      <td>Publishing</td>\n",
       "      <td>12</td>\n",
       "      <td>Hungary</td>\n",
       "      <td>147</td>\n",
       "      <td>15</td>\n",
       "      <td>1</td>\n",
       "      <td>0</td>\n",
       "      <td>1</td>\n",
       "      <td>0</td>\n",
       "      <td>Friday</td>\n",
       "      <td>2012</td>\n",
       "      <td>4</td>\n",
       "    </tr>\n",
       "    <tr>\n",
       "      <td>4</td>\n",
       "      <td>60</td>\n",
       "      <td>300.0</td>\n",
       "      <td>400.0</td>\n",
       "      <td>Publishing</td>\n",
       "      <td>0</td>\n",
       "      <td>United States</td>\n",
       "      <td>11</td>\n",
       "      <td>0</td>\n",
       "      <td>0</td>\n",
       "      <td>0</td>\n",
       "      <td>1</td>\n",
       "      <td>1</td>\n",
       "      <td>Friday</td>\n",
       "      <td>2012</td>\n",
       "      <td>4</td>\n",
       "    </tr>\n",
       "  </tbody>\n",
       "</table>\n",
       "</div>"
      ],
      "text/plain": [
       "   duration_days   goal_$  amt_pledged_$ major_category  project_update_count  \\\n",
       "0             60  12000.0         3560.0           Food                     0   \n",
       "1             60   2500.0          795.0          Music                     0   \n",
       "2             60  30000.0        18378.0   Film & Video                     8   \n",
       "3             60  12500.0         6022.0     Publishing                    12   \n",
       "4             60    300.0          400.0     Publishing                     0   \n",
       "\n",
       "          region  number_of_pledgers  comments_count  project_has_video  \\\n",
       "0  United States                  34               2                  1   \n",
       "1  United States                  17               0                  1   \n",
       "2  United States                 355              56                  0   \n",
       "3        Hungary                 147              15                  1   \n",
       "4  United States                  11               0                  0   \n",
       "\n",
       "   project_has_facebook_page  project_has_pledge_rewards  project_success  \\\n",
       "0                          0                           1                0   \n",
       "1                          0                           1                0   \n",
       "2                          0                           1                0   \n",
       "3                          0                           1                0   \n",
       "4                          0                           1                1   \n",
       "\n",
       "  week_name  year  month  \n",
       "0  Thursday  2012      4  \n",
       "1  Thursday  2012      4  \n",
       "2    Friday  2012      4  \n",
       "3    Friday  2012      4  \n",
       "4    Friday  2012      4  "
      ]
     },
     "execution_count": 33,
     "metadata": {},
     "output_type": "execute_result"
    }
   ],
   "source": [
    "df.head()"
   ]
  },
  {
   "cell_type": "code",
   "execution_count": 35,
   "metadata": {},
   "outputs": [
    {
     "data": {
      "text/plain": [
       "(28447, 15)"
      ]
     },
     "execution_count": 35,
     "metadata": {},
     "output_type": "execute_result"
    }
   ],
   "source": [
    "df.shape"
   ]
  },
  {
   "cell_type": "code",
   "execution_count": 39,
   "metadata": {},
   "outputs": [],
   "source": [
    "#split categorical variables\n",
    "df_cat = df[['major_category','region','week_name']]\n",
    "df_cat = pd.get_dummies(df_cat, columns=['major_category','region','week_name'], drop_first=False)\n",
    "df_cat.reset_index(drop=True, inplace=True)"
   ]
  },
  {
   "cell_type": "code",
   "execution_count": null,
   "metadata": {},
   "outputs": [],
   "source": [
    " "
   ]
  },
  {
   "cell_type": "code",
   "execution_count": 37,
   "metadata": {},
   "outputs": [],
   "source": [
    "#cts\n",
    "scaler = preprocessing.MinMaxScaler()\n",
    "df_cts = df[['duration_days',\n",
    " 'goal_$',\n",
    " 'amt_pledged_$',\n",
    " 'project_update_count',\n",
    " 'number_of_pledgers',\n",
    " 'comments_count',\n",
    " 'project_has_video',\n",
    " 'project_has_facebook_page',\n",
    " 'project_has_pledge_rewards',\n",
    " 'year',\n",
    " 'month']] \n",
    "df_cts = scaler.fit_transform(df_cts)\n",
    "df_cts = pd.DataFrame(df_cts, columns=['duration_days',\n",
    " 'goal_$',\n",
    " 'amt_pledged_$',\n",
    " 'project_update_count',\n",
    " 'number_of_pledgers',\n",
    " 'comments_count',\n",
    " 'project_has_video',\n",
    " 'project_has_facebook_page',\n",
    " 'project_has_pledge_rewards',\n",
    " 'year',\n",
    " 'month'])\n",
    "df_cts.reset_index(drop=True, inplace=True)"
   ]
  },
  {
   "cell_type": "code",
   "execution_count": 38,
   "metadata": {},
   "outputs": [],
   "source": [
    "df['project_success'].reset_index(drop=True, inplace=True)"
   ]
  },
  {
   "cell_type": "code",
   "execution_count": 40,
   "metadata": {},
   "outputs": [],
   "source": [
    "#combine\n",
    "df = pd.concat([df_cts, df_cat,df['project_success']], axis=1)"
   ]
  },
  {
   "cell_type": "code",
   "execution_count": 41,
   "metadata": {},
   "outputs": [],
   "source": [
    "train=df.sample(frac=0.8,random_state=200) #random state is a seed value\n",
    "test=df.drop(train.index)"
   ]
  },
  {
   "cell_type": "code",
   "execution_count": 45,
   "metadata": {},
   "outputs": [
    {
     "data": {
      "text/plain": [
       "(28447, 167)"
      ]
     },
     "execution_count": 45,
     "metadata": {},
     "output_type": "execute_result"
    }
   ],
   "source": [
    "df.shape"
   ]
  },
  {
   "cell_type": "code",
   "execution_count": 47,
   "metadata": {},
   "outputs": [
    {
     "name": "stdout",
     "output_type": "stream",
     "text": [
      "Accuracy: 0.575094 of model Logistic Regression\n",
      "Accuracy: 0.530670 of model Naive Bayes\n",
      "Accuracy: 0.961640 of model Random Forest\n",
      "Accuracy: 0.993804 of model Gradient Boosting\n",
      "Accuracy: 0.610511 of model KNN\n",
      "Accuracy: 0.993365 of model Decision Tree\n",
      "Accuracy: 0.703884 of model LDA\n",
      "Accuracy: 0.995606 of model Bagging Classifier\n",
      "Accuracy: 0.892741 of model Ensemble\n"
     ]
    }
   ],
   "source": [
    "features=train.iloc[:,0:166]\n",
    "target = train['project_success']\n",
    "Name=[]\n",
    "Accuracy=[]\n",
    "model1=LogisticRegression(random_state=22,C=0.000000001,solver='liblinear',max_iter=200)\n",
    "model2=GaussianNB()\n",
    "model3=RandomForestClassifier(n_estimators=200,random_state=22)\n",
    "model4=GradientBoostingClassifier(n_estimators=200)\n",
    "model5=KNeighborsClassifier()\n",
    "model6=DecisionTreeClassifier()\n",
    "model7=LinearDiscriminantAnalysis()\n",
    "model8=BaggingClassifier()\n",
    "Ensembled_model=VotingClassifier(estimators=[('lr', model1), ('gn', model2), ('rf', model3),('gb',model4),('kn',model5),('dt',model6),('lda',model7), ('bc',model8)], voting='hard')\n",
    "for model, label in zip([model1, model2, model3, model4,model5,model6,model7,model8,Ensembled_model], ['Logistic Regression','Naive Bayes','Random Forest', 'Gradient Boosting','KNN','Decision Tree','LDA', 'Bagging Classifier', 'Ensemble']):\n",
    "    scores = cross_val_score(model, features, target, cv=5, scoring='accuracy')\n",
    "    Accuracy.append(scores.mean())\n",
    "    Name.append(model.__class__.__name__)\n",
    "    print(\"Accuracy: %f of model %s\" % (scores.mean(),label))"
   ]
  },
  {
   "cell_type": "code",
   "execution_count": 54,
   "metadata": {},
   "outputs": [],
   "source": [
    "#apply on test\n",
    "\n",
    "from sklearn.metrics import accuracy_score\n",
    "classifers=[model3,model4,model6,model8]\n",
    "out_sample_accuracy=[]\n",
    "Name_2=[]\n",
    "for each in classifers:\n",
    "    fit=each.fit(features,target)\n",
    "    pred=fit.predict(test.iloc[:,0:166])\n",
    "    accuracy=accuracy_score(test['project_success'],pred)\n",
    "    Name_2.append(each.__class__.__name__)\n",
    "    out_sample_accuracy.append(accuracy)"
   ]
  },
  {
   "cell_type": "code",
   "execution_count": 50,
   "metadata": {},
   "outputs": [
    {
     "data": {
      "text/plain": [
       "array([0, 1, 0, ..., 1, 1, 1])"
      ]
     },
     "execution_count": 50,
     "metadata": {},
     "output_type": "execute_result"
    }
   ],
   "source": []
  },
  {
   "cell_type": "code",
   "execution_count": 55,
   "metadata": {},
   "outputs": [
    {
     "data": {
      "text/plain": [
       "array([[2839,   11],\n",
       "       [   1, 2838]])"
      ]
     },
     "execution_count": 55,
     "metadata": {},
     "output_type": "execute_result"
    }
   ],
   "source": [
    "#Confusion Matrix\n",
    "from sklearn.metrics import confusion_matrix\n",
    "y_actu = test['project_success']\n",
    "confusion_matrix(y_actu, pred)"
   ]
  },
  {
   "cell_type": "code",
   "execution_count": 56,
   "metadata": {},
   "outputs": [
    {
     "data": {
      "text/plain": [
       "(array([0.49903322, 0.996139  , 1.        ]),\n",
       " array([1.        , 0.99964776, 0.        ]),\n",
       " array([0, 1]))"
      ]
     },
     "execution_count": 56,
     "metadata": {},
     "output_type": "execute_result"
    }
   ],
   "source": [
    "#Precision-Recall Curve\n",
    "sklearn.metrics.precision_recall_curve(y_actu, pred, pos_label=None, sample_weight=None)"
   ]
  },
  {
   "cell_type": "code",
   "execution_count": 57,
   "metadata": {},
   "outputs": [
    {
     "name": "stdout",
     "output_type": "stream",
     "text": [
      "Average precision-recall score: 1.00\n"
     ]
    }
   ],
   "source": [
    "#Precision-Recall Score\n",
    "from sklearn.metrics import average_precision_score\n",
    "average_precision = average_precision_score(y_actu, pred)\n",
    "\n",
    "print('Average precision-recall score: {0:0.2f}'.format(\n",
    "      average_precision))"
   ]
  },
  {
   "cell_type": "code",
   "execution_count": 58,
   "metadata": {},
   "outputs": [
    {
     "data": {
      "text/plain": [
       "Text(0.5, 1.0, '2-class Precision-Recall curve: AP=1.00')"
      ]
     },
     "execution_count": 58,
     "metadata": {},
     "output_type": "execute_result"
    },
    {
     "data": {
      "image/png": "[encoded data removed]",
      "text/plain": [
       "<Figure size 432x288 with 1 Axes>"
      ]
     },
     "metadata": {
      "needs_background": "light"
     },
     "output_type": "display_data"
    }
   ],
   "source": [
    "\n",
    "#Precision-Recall Curve Plot\n",
    "from sklearn.metrics import precision_recall_curve\n",
    "import matplotlib.pyplot as plt\n",
    "\n",
    "precision, recall, _ = precision_recall_curve(y_actu, pred)\n",
    "\n",
    "plt.step(recall, precision, color='b', alpha=0.2,\n",
    "         where='post')\n",
    "plt.fill_between(recall, precision, step='post', alpha=0.2,\n",
    "                 color='b')\n",
    "\n",
    "plt.xlabel('Recall')\n",
    "plt.ylabel('Precision')\n",
    "plt.ylim([0.0, 1.05])\n",
    "plt.xlim([0.0, 1.0])\n",
    "plt.title('2-class Precision-Recall curve: AP={0:0.2f}'.format(\n",
    "          average_precision))"
   ]
  },
  {
   "cell_type": "code",
   "execution_count": null,
   "metadata": {},
   "outputs": [],
   "source": []
  },
  {
   "cell_type": "code",
   "execution_count": null,
   "metadata": {},
   "outputs": [],
   "source": []
  },
  {
   "cell_type": "code",
   "execution_count": 59,
   "metadata": {},
   "outputs": [],
   "source": []
  },
  {
   "cell_type": "code",
   "execution_count": 60,
   "metadata": {},
   "outputs": [],
   "source": []
  },
  {
   "cell_type": "code",
   "execution_count": 63,
   "metadata": {},
   "outputs": [],
   "source": []
  },
  {
   "cell_type": "code",
   "execution_count": 64,
   "metadata": {},
   "outputs": [],
   "source": []
  },
  {
   "cell_type": "code",
   "execution_count": 66,
   "metadata": {},
   "outputs": [],
   "source": []
  },
  {
   "cell_type": "code",
   "execution_count": null,
   "metadata": {},
   "outputs": [],
   "source": []
  },
  {
   "cell_type": "code",
   "execution_count": null,
   "metadata": {},
   "outputs": [],
   "source": []
  },
  {
   "cell_type": "code",
   "execution_count": null,
   "metadata": {},
   "outputs": [],
   "source": []
  }
 ],
 "metadata": {
  "kernelspec": {
   "display_name": "Python 3",
   "language": "python",
   "name": "python3"
  },
  "language_info": {
   "codemirror_mode": {
    "name": "ipython",
    "version": 3
   },
   "file_extension": ".py",
   "mimetype": "text/x-python",
   "name": "python",
   "nbconvert_exporter": "python",
   "pygments_lexer": "ipython3",
   "version": "3.7.4"
  }
 },
 "nbformat": 4,
 "nbformat_minor": 2
}
