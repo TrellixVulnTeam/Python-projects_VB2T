{
 "cells": [
  {
   "cell_type": "raw",
   "metadata": {},
   "source": []
  },
  {
   "cell_type": "code",
   "execution_count": null,
   "metadata": {},
   "outputs": [],
   "source": []
  },
  {
   "cell_type": "code",
   "execution_count": 1,
   "metadata": {},
   "outputs": [],
   "source": [
    "#load libraries\n",
    "import pandas as pd\n",
    "import numpy as np\n",
    "import seaborn as sns\n",
    "import sklearn\n",
    "import matplotlib.pyplot as plt\n",
    "%matplotlib inline\n",
    "from sklearn import preprocessing\n",
    "from sklearn import model_selection\n",
    "from sklearn.metrics import accuracy_score\n",
    "from sklearn.metrics import roc_curve, auc, recall_score, precision_score, f1_score, confusion_matrix, recall_score\n",
    "from sklearn.model_selection import train_test_split\n",
    "from sklearn.linear_model import LogisticRegression\n",
    "from sklearn.tree import DecisionTreeClassifier\n",
    "from sklearn.neighbors import KNeighborsClassifier\n",
    "from sklearn.ensemble import RandomForestClassifier\n",
    "from sklearn.svm import SVC\n",
    "from sklearn.model_selection import cross_val_score\n",
    "from sklearn.naive_bayes import GaussianNB\n",
    "from sklearn.ensemble import GradientBoostingClassifier\n",
    "from sklearn.discriminant_analysis import LinearDiscriminantAnalysis\n",
    "from sklearn.ensemble import VotingClassifier\n",
    "from sklearn.ensemble import BaggingClassifier"
   ]
  },
  {
   "cell_type": "code",
   "execution_count": 3,
   "metadata": {},
   "outputs": [],
   "source": [
    "#load data\n",
    "train = pd.read_csv('train.csv', sep=\",\")\n",
    "test = pd.read_csv('test.csv', sep=\",\")\n",
    "item = pd.read_csv('item_data.csv', sep=\",\")\n",
    "view_log = pd.read_csv('view_log.csv', sep=\",\")"
   ]
  },
  {
   "cell_type": "code",
   "execution_count": 4,
   "metadata": {},
   "outputs": [
    {
     "data": {
      "text/plain": [
       "(237609, 7)"
      ]
     },
     "execution_count": 4,
     "metadata": {},
     "output_type": "execute_result"
    }
   ],
   "source": [
    "train.shape"
   ]
  },
  {
   "cell_type": "code",
   "execution_count": 5,
   "metadata": {},
   "outputs": [
    {
     "data": {
      "text/html": [
       "<div>\n",
       "<style scoped>\n",
       "    .dataframe tbody tr th:only-of-type {\n",
       "        vertical-align: middle;\n",
       "    }\n",
       "\n",
       "    .dataframe tbody tr th {\n",
       "        vertical-align: top;\n",
       "    }\n",
       "\n",
       "    .dataframe thead th {\n",
       "        text-align: right;\n",
       "    }\n",
       "</style>\n",
       "<table border=\"1\" class=\"dataframe\">\n",
       "  <thead>\n",
       "    <tr style=\"text-align: right;\">\n",
       "      <th></th>\n",
       "      <th>user_id</th>\n",
       "      <th>app_code</th>\n",
       "      <th>is_4G</th>\n",
       "      <th>is_click</th>\n",
       "    </tr>\n",
       "  </thead>\n",
       "  <tbody>\n",
       "    <tr>\n",
       "      <th>count</th>\n",
       "      <td>237609.000000</td>\n",
       "      <td>237609.000000</td>\n",
       "      <td>237609.000000</td>\n",
       "      <td>237609.000000</td>\n",
       "    </tr>\n",
       "    <tr>\n",
       "      <th>mean</th>\n",
       "      <td>46454.526828</td>\n",
       "      <td>249.099971</td>\n",
       "      <td>0.361312</td>\n",
       "      <td>0.045714</td>\n",
       "    </tr>\n",
       "    <tr>\n",
       "      <th>std</th>\n",
       "      <td>26802.726666</td>\n",
       "      <td>135.213609</td>\n",
       "      <td>0.480382</td>\n",
       "      <td>0.208864</td>\n",
       "    </tr>\n",
       "    <tr>\n",
       "      <th>min</th>\n",
       "      <td>0.000000</td>\n",
       "      <td>0.000000</td>\n",
       "      <td>0.000000</td>\n",
       "      <td>0.000000</td>\n",
       "    </tr>\n",
       "    <tr>\n",
       "      <th>25%</th>\n",
       "      <td>23197.000000</td>\n",
       "      <td>163.000000</td>\n",
       "      <td>0.000000</td>\n",
       "      <td>0.000000</td>\n",
       "    </tr>\n",
       "    <tr>\n",
       "      <th>50%</th>\n",
       "      <td>46597.000000</td>\n",
       "      <td>213.000000</td>\n",
       "      <td>0.000000</td>\n",
       "      <td>0.000000</td>\n",
       "    </tr>\n",
       "    <tr>\n",
       "      <th>75%</th>\n",
       "      <td>69684.000000</td>\n",
       "      <td>385.000000</td>\n",
       "      <td>1.000000</td>\n",
       "      <td>0.000000</td>\n",
       "    </tr>\n",
       "    <tr>\n",
       "      <th>max</th>\n",
       "      <td>92586.000000</td>\n",
       "      <td>522.000000</td>\n",
       "      <td>1.000000</td>\n",
       "      <td>1.000000</td>\n",
       "    </tr>\n",
       "  </tbody>\n",
       "</table>\n",
       "</div>"
      ],
      "text/plain": [
       "             user_id       app_code          is_4G       is_click\n",
       "count  237609.000000  237609.000000  237609.000000  237609.000000\n",
       "mean    46454.526828     249.099971       0.361312       0.045714\n",
       "std     26802.726666     135.213609       0.480382       0.208864\n",
       "min         0.000000       0.000000       0.000000       0.000000\n",
       "25%     23197.000000     163.000000       0.000000       0.000000\n",
       "50%     46597.000000     213.000000       0.000000       0.000000\n",
       "75%     69684.000000     385.000000       1.000000       0.000000\n",
       "max     92586.000000     522.000000       1.000000       1.000000"
      ]
     },
     "execution_count": 5,
     "metadata": {},
     "output_type": "execute_result"
    }
   ],
   "source": [
    "train.describe()"
   ]
  },
  {
   "cell_type": "code",
   "execution_count": 6,
   "metadata": {},
   "outputs": [
    {
     "data": {
      "text/html": [
       "<div>\n",
       "<style scoped>\n",
       "    .dataframe tbody tr th:only-of-type {\n",
       "        vertical-align: middle;\n",
       "    }\n",
       "\n",
       "    .dataframe tbody tr th {\n",
       "        vertical-align: top;\n",
       "    }\n",
       "\n",
       "    .dataframe thead th {\n",
       "        text-align: right;\n",
       "    }\n",
       "</style>\n",
       "<table border=\"1\" class=\"dataframe\">\n",
       "  <thead>\n",
       "    <tr style=\"text-align: right;\">\n",
       "      <th></th>\n",
       "      <th>impression_id</th>\n",
       "      <th>impression_time</th>\n",
       "      <th>user_id</th>\n",
       "      <th>app_code</th>\n",
       "      <th>os_version</th>\n",
       "      <th>is_4G</th>\n",
       "      <th>is_click</th>\n",
       "    </tr>\n",
       "  </thead>\n",
       "  <tbody>\n",
       "    <tr>\n",
       "      <th>0</th>\n",
       "      <td>c4ca4238a0b923820dcc509a6f75849b</td>\n",
       "      <td>2018-11-15 00:00:00</td>\n",
       "      <td>87862</td>\n",
       "      <td>422</td>\n",
       "      <td>old</td>\n",
       "      <td>0</td>\n",
       "      <td>0</td>\n",
       "    </tr>\n",
       "    <tr>\n",
       "      <th>1</th>\n",
       "      <td>45c48cce2e2d7fbdea1afc51c7c6ad26</td>\n",
       "      <td>2018-11-15 00:01:00</td>\n",
       "      <td>63410</td>\n",
       "      <td>467</td>\n",
       "      <td>latest</td>\n",
       "      <td>1</td>\n",
       "      <td>1</td>\n",
       "    </tr>\n",
       "    <tr>\n",
       "      <th>2</th>\n",
       "      <td>70efdf2ec9b086079795c442636b55fb</td>\n",
       "      <td>2018-11-15 00:02:00</td>\n",
       "      <td>71748</td>\n",
       "      <td>259</td>\n",
       "      <td>intermediate</td>\n",
       "      <td>1</td>\n",
       "      <td>0</td>\n",
       "    </tr>\n",
       "    <tr>\n",
       "      <th>3</th>\n",
       "      <td>8e296a067a37563370ded05f5a3bf3ec</td>\n",
       "      <td>2018-11-15 00:02:00</td>\n",
       "      <td>69209</td>\n",
       "      <td>244</td>\n",
       "      <td>latest</td>\n",
       "      <td>1</td>\n",
       "      <td>0</td>\n",
       "    </tr>\n",
       "    <tr>\n",
       "      <th>4</th>\n",
       "      <td>182be0c5cdcd5072bb1864cdee4d3d6e</td>\n",
       "      <td>2018-11-15 00:02:00</td>\n",
       "      <td>62873</td>\n",
       "      <td>473</td>\n",
       "      <td>latest</td>\n",
       "      <td>0</td>\n",
       "      <td>0</td>\n",
       "    </tr>\n",
       "  </tbody>\n",
       "</table>\n",
       "</div>"
      ],
      "text/plain": [
       "                      impression_id      impression_time  user_id  app_code  \\\n",
       "0  c4ca4238a0b923820dcc509a6f75849b  2018-11-15 00:00:00    87862       422   \n",
       "1  45c48cce2e2d7fbdea1afc51c7c6ad26  2018-11-15 00:01:00    63410       467   \n",
       "2  70efdf2ec9b086079795c442636b55fb  2018-11-15 00:02:00    71748       259   \n",
       "3  8e296a067a37563370ded05f5a3bf3ec  2018-11-15 00:02:00    69209       244   \n",
       "4  182be0c5cdcd5072bb1864cdee4d3d6e  2018-11-15 00:02:00    62873       473   \n",
       "\n",
       "     os_version  is_4G  is_click  \n",
       "0           old      0         0  \n",
       "1        latest      1         1  \n",
       "2  intermediate      1         0  \n",
       "3        latest      1         0  \n",
       "4        latest      0         0  "
      ]
     },
     "execution_count": 6,
     "metadata": {},
     "output_type": "execute_result"
    }
   ],
   "source": [
    "train.head()"
   ]
  },
  {
   "cell_type": "code",
   "execution_count": 7,
   "metadata": {},
   "outputs": [
    {
     "data": {
      "text/plain": [
       "(90675, 6)"
      ]
     },
     "execution_count": 7,
     "metadata": {},
     "output_type": "execute_result"
    }
   ],
   "source": [
    "test.shape"
   ]
  },
  {
   "cell_type": "code",
   "execution_count": 8,
   "metadata": {},
   "outputs": [
    {
     "data": {
      "text/html": [
       "<div>\n",
       "<style scoped>\n",
       "    .dataframe tbody tr th:only-of-type {\n",
       "        vertical-align: middle;\n",
       "    }\n",
       "\n",
       "    .dataframe tbody tr th {\n",
       "        vertical-align: top;\n",
       "    }\n",
       "\n",
       "    .dataframe thead th {\n",
       "        text-align: right;\n",
       "    }\n",
       "</style>\n",
       "<table border=\"1\" class=\"dataframe\">\n",
       "  <thead>\n",
       "    <tr style=\"text-align: right;\">\n",
       "      <th></th>\n",
       "      <th>user_id</th>\n",
       "      <th>app_code</th>\n",
       "      <th>is_4G</th>\n",
       "    </tr>\n",
       "  </thead>\n",
       "  <tbody>\n",
       "    <tr>\n",
       "      <th>count</th>\n",
       "      <td>90675.00000</td>\n",
       "      <td>90675.000000</td>\n",
       "      <td>90675.000000</td>\n",
       "    </tr>\n",
       "    <tr>\n",
       "      <th>mean</th>\n",
       "      <td>46417.71013</td>\n",
       "      <td>254.793703</td>\n",
       "      <td>0.357872</td>\n",
       "    </tr>\n",
       "    <tr>\n",
       "      <th>std</th>\n",
       "      <td>26835.33356</td>\n",
       "      <td>133.411434</td>\n",
       "      <td>0.479377</td>\n",
       "    </tr>\n",
       "    <tr>\n",
       "      <th>min</th>\n",
       "      <td>1.00000</td>\n",
       "      <td>0.000000</td>\n",
       "      <td>0.000000</td>\n",
       "    </tr>\n",
       "    <tr>\n",
       "      <th>25%</th>\n",
       "      <td>23029.00000</td>\n",
       "      <td>190.000000</td>\n",
       "      <td>0.000000</td>\n",
       "    </tr>\n",
       "    <tr>\n",
       "      <th>50%</th>\n",
       "      <td>46557.00000</td>\n",
       "      <td>213.000000</td>\n",
       "      <td>0.000000</td>\n",
       "    </tr>\n",
       "    <tr>\n",
       "      <th>75%</th>\n",
       "      <td>69764.50000</td>\n",
       "      <td>386.000000</td>\n",
       "      <td>1.000000</td>\n",
       "    </tr>\n",
       "    <tr>\n",
       "      <th>max</th>\n",
       "      <td>92586.00000</td>\n",
       "      <td>522.000000</td>\n",
       "      <td>1.000000</td>\n",
       "    </tr>\n",
       "  </tbody>\n",
       "</table>\n",
       "</div>"
      ],
      "text/plain": [
       "           user_id      app_code         is_4G\n",
       "count  90675.00000  90675.000000  90675.000000\n",
       "mean   46417.71013    254.793703      0.357872\n",
       "std    26835.33356    133.411434      0.479377\n",
       "min        1.00000      0.000000      0.000000\n",
       "25%    23029.00000    190.000000      0.000000\n",
       "50%    46557.00000    213.000000      0.000000\n",
       "75%    69764.50000    386.000000      1.000000\n",
       "max    92586.00000    522.000000      1.000000"
      ]
     },
     "execution_count": 8,
     "metadata": {},
     "output_type": "execute_result"
    }
   ],
   "source": [
    "test.describe()"
   ]
  },
  {
   "cell_type": "code",
   "execution_count": 9,
   "metadata": {},
   "outputs": [
    {
     "data": {
      "text/html": [
       "<div>\n",
       "<style scoped>\n",
       "    .dataframe tbody tr th:only-of-type {\n",
       "        vertical-align: middle;\n",
       "    }\n",
       "\n",
       "    .dataframe tbody tr th {\n",
       "        vertical-align: top;\n",
       "    }\n",
       "\n",
       "    .dataframe thead th {\n",
       "        text-align: right;\n",
       "    }\n",
       "</style>\n",
       "<table border=\"1\" class=\"dataframe\">\n",
       "  <thead>\n",
       "    <tr style=\"text-align: right;\">\n",
       "      <th></th>\n",
       "      <th>impression_id</th>\n",
       "      <th>impression_time</th>\n",
       "      <th>user_id</th>\n",
       "      <th>app_code</th>\n",
       "      <th>os_version</th>\n",
       "      <th>is_4G</th>\n",
       "    </tr>\n",
       "  </thead>\n",
       "  <tbody>\n",
       "    <tr>\n",
       "      <th>0</th>\n",
       "      <td>a9e7126a585a69a32bc7414e9d0c0ada</td>\n",
       "      <td>2018-12-13 07:44:00</td>\n",
       "      <td>44754</td>\n",
       "      <td>127</td>\n",
       "      <td>latest</td>\n",
       "      <td>1</td>\n",
       "    </tr>\n",
       "    <tr>\n",
       "      <th>1</th>\n",
       "      <td>caac14a5bf2ba283db7708bb34855760</td>\n",
       "      <td>2018-12-13 07:45:00</td>\n",
       "      <td>29656</td>\n",
       "      <td>44</td>\n",
       "      <td>latest</td>\n",
       "      <td>0</td>\n",
       "    </tr>\n",
       "    <tr>\n",
       "      <th>2</th>\n",
       "      <td>13f10ba306a19ce7bec2f3cae507b698</td>\n",
       "      <td>2018-12-13 07:46:00</td>\n",
       "      <td>25234</td>\n",
       "      <td>296</td>\n",
       "      <td>latest</td>\n",
       "      <td>1</td>\n",
       "    </tr>\n",
       "    <tr>\n",
       "      <th>3</th>\n",
       "      <td>39c4b4dc0e9701b55a0a4f072008fb3f</td>\n",
       "      <td>2018-12-13 07:47:00</td>\n",
       "      <td>22988</td>\n",
       "      <td>207</td>\n",
       "      <td>latest</td>\n",
       "      <td>1</td>\n",
       "    </tr>\n",
       "    <tr>\n",
       "      <th>4</th>\n",
       "      <td>bf5a572cca75f5fc67f4b14e58b11d70</td>\n",
       "      <td>2018-12-13 07:48:00</td>\n",
       "      <td>35431</td>\n",
       "      <td>242</td>\n",
       "      <td>latest</td>\n",
       "      <td>1</td>\n",
       "    </tr>\n",
       "  </tbody>\n",
       "</table>\n",
       "</div>"
      ],
      "text/plain": [
       "                      impression_id      impression_time  user_id  app_code  \\\n",
       "0  a9e7126a585a69a32bc7414e9d0c0ada  2018-12-13 07:44:00    44754       127   \n",
       "1  caac14a5bf2ba283db7708bb34855760  2018-12-13 07:45:00    29656        44   \n",
       "2  13f10ba306a19ce7bec2f3cae507b698  2018-12-13 07:46:00    25234       296   \n",
       "3  39c4b4dc0e9701b55a0a4f072008fb3f  2018-12-13 07:47:00    22988       207   \n",
       "4  bf5a572cca75f5fc67f4b14e58b11d70  2018-12-13 07:48:00    35431       242   \n",
       "\n",
       "  os_version  is_4G  \n",
       "0     latest      1  \n",
       "1     latest      0  \n",
       "2     latest      1  \n",
       "3     latest      1  \n",
       "4     latest      1  "
      ]
     },
     "execution_count": 9,
     "metadata": {},
     "output_type": "execute_result"
    }
   ],
   "source": [
    "test.head()"
   ]
  },
  {
   "cell_type": "code",
   "execution_count": 10,
   "metadata": {},
   "outputs": [
    {
     "data": {
      "text/plain": [
       "(132761, 6)"
      ]
     },
     "execution_count": 10,
     "metadata": {},
     "output_type": "execute_result"
    }
   ],
   "source": [
    "item.shape"
   ]
  },
  {
   "cell_type": "code",
   "execution_count": 11,
   "metadata": {},
   "outputs": [
    {
     "data": {
      "text/html": [
       "<div>\n",
       "<style scoped>\n",
       "    .dataframe tbody tr th:only-of-type {\n",
       "        vertical-align: middle;\n",
       "    }\n",
       "\n",
       "    .dataframe tbody tr th {\n",
       "        vertical-align: top;\n",
       "    }\n",
       "\n",
       "    .dataframe thead th {\n",
       "        text-align: right;\n",
       "    }\n",
       "</style>\n",
       "<table border=\"1\" class=\"dataframe\">\n",
       "  <thead>\n",
       "    <tr style=\"text-align: right;\">\n",
       "      <th></th>\n",
       "      <th>item_id</th>\n",
       "      <th>item_price</th>\n",
       "      <th>category_1</th>\n",
       "      <th>category_2</th>\n",
       "      <th>category_3</th>\n",
       "      <th>product_type</th>\n",
       "    </tr>\n",
       "  </thead>\n",
       "  <tbody>\n",
       "    <tr>\n",
       "      <th>0</th>\n",
       "      <td>26880</td>\n",
       "      <td>4602</td>\n",
       "      <td>11</td>\n",
       "      <td>35</td>\n",
       "      <td>20</td>\n",
       "      <td>3040</td>\n",
       "    </tr>\n",
       "    <tr>\n",
       "      <th>1</th>\n",
       "      <td>54939</td>\n",
       "      <td>3513</td>\n",
       "      <td>12</td>\n",
       "      <td>57</td>\n",
       "      <td>85</td>\n",
       "      <td>6822</td>\n",
       "    </tr>\n",
       "    <tr>\n",
       "      <th>2</th>\n",
       "      <td>40383</td>\n",
       "      <td>825</td>\n",
       "      <td>17</td>\n",
       "      <td>8</td>\n",
       "      <td>279</td>\n",
       "      <td>1619</td>\n",
       "    </tr>\n",
       "    <tr>\n",
       "      <th>3</th>\n",
       "      <td>8777</td>\n",
       "      <td>2355</td>\n",
       "      <td>13</td>\n",
       "      <td>58</td>\n",
       "      <td>189</td>\n",
       "      <td>5264</td>\n",
       "    </tr>\n",
       "    <tr>\n",
       "      <th>4</th>\n",
       "      <td>113705</td>\n",
       "      <td>1267</td>\n",
       "      <td>17</td>\n",
       "      <td>39</td>\n",
       "      <td>151</td>\n",
       "      <td>10239</td>\n",
       "    </tr>\n",
       "  </tbody>\n",
       "</table>\n",
       "</div>"
      ],
      "text/plain": [
       "   item_id  item_price  category_1  category_2  category_3  product_type\n",
       "0    26880        4602          11          35          20          3040\n",
       "1    54939        3513          12          57          85          6822\n",
       "2    40383         825          17           8         279          1619\n",
       "3     8777        2355          13          58         189          5264\n",
       "4   113705        1267          17          39         151         10239"
      ]
     },
     "execution_count": 11,
     "metadata": {},
     "output_type": "execute_result"
    }
   ],
   "source": [
    "item.head()"
   ]
  },
  {
   "cell_type": "code",
   "execution_count": 12,
   "metadata": {},
   "outputs": [
    {
     "data": {
      "text/html": [
       "<div>\n",
       "<style scoped>\n",
       "    .dataframe tbody tr th:only-of-type {\n",
       "        vertical-align: middle;\n",
       "    }\n",
       "\n",
       "    .dataframe tbody tr th {\n",
       "        vertical-align: top;\n",
       "    }\n",
       "\n",
       "    .dataframe thead th {\n",
       "        text-align: right;\n",
       "    }\n",
       "</style>\n",
       "<table border=\"1\" class=\"dataframe\">\n",
       "  <thead>\n",
       "    <tr style=\"text-align: right;\">\n",
       "      <th></th>\n",
       "      <th>item_id</th>\n",
       "      <th>item_price</th>\n",
       "      <th>category_1</th>\n",
       "      <th>category_2</th>\n",
       "      <th>category_3</th>\n",
       "      <th>product_type</th>\n",
       "    </tr>\n",
       "  </thead>\n",
       "  <tbody>\n",
       "    <tr>\n",
       "      <th>count</th>\n",
       "      <td>132761.000000</td>\n",
       "      <td>1.327610e+05</td>\n",
       "      <td>132761.000000</td>\n",
       "      <td>132761.000000</td>\n",
       "      <td>132761.000000</td>\n",
       "      <td>132761.000000</td>\n",
       "    </tr>\n",
       "    <tr>\n",
       "      <th>mean</th>\n",
       "      <td>66430.268460</td>\n",
       "      <td>1.082685e+04</td>\n",
       "      <td>9.373852</td>\n",
       "      <td>39.130196</td>\n",
       "      <td>169.060929</td>\n",
       "      <td>5303.063746</td>\n",
       "    </tr>\n",
       "    <tr>\n",
       "      <th>std</th>\n",
       "      <td>38354.112949</td>\n",
       "      <td>2.843019e+04</td>\n",
       "      <td>5.193278</td>\n",
       "      <td>21.443609</td>\n",
       "      <td>95.310870</td>\n",
       "      <td>2961.645034</td>\n",
       "    </tr>\n",
       "    <tr>\n",
       "      <th>min</th>\n",
       "      <td>0.000000</td>\n",
       "      <td>5.000000e+00</td>\n",
       "      <td>0.000000</td>\n",
       "      <td>0.000000</td>\n",
       "      <td>0.000000</td>\n",
       "      <td>0.000000</td>\n",
       "    </tr>\n",
       "    <tr>\n",
       "      <th>25%</th>\n",
       "      <td>33211.000000</td>\n",
       "      <td>1.324000e+03</td>\n",
       "      <td>6.000000</td>\n",
       "      <td>24.000000</td>\n",
       "      <td>85.000000</td>\n",
       "      <td>2874.000000</td>\n",
       "    </tr>\n",
       "    <tr>\n",
       "      <th>50%</th>\n",
       "      <td>66433.000000</td>\n",
       "      <td>2.944000e+03</td>\n",
       "      <td>9.000000</td>\n",
       "      <td>40.000000</td>\n",
       "      <td>159.000000</td>\n",
       "      <td>5225.000000</td>\n",
       "    </tr>\n",
       "    <tr>\n",
       "      <th>75%</th>\n",
       "      <td>99644.000000</td>\n",
       "      <td>8.544000e+03</td>\n",
       "      <td>13.000000</td>\n",
       "      <td>57.000000</td>\n",
       "      <td>255.000000</td>\n",
       "      <td>7844.000000</td>\n",
       "    </tr>\n",
       "    <tr>\n",
       "      <th>max</th>\n",
       "      <td>132865.000000</td>\n",
       "      <td>1.340800e+06</td>\n",
       "      <td>17.000000</td>\n",
       "      <td>79.000000</td>\n",
       "      <td>341.000000</td>\n",
       "      <td>10584.000000</td>\n",
       "    </tr>\n",
       "  </tbody>\n",
       "</table>\n",
       "</div>"
      ],
      "text/plain": [
       "             item_id    item_price     category_1     category_2  \\\n",
       "count  132761.000000  1.327610e+05  132761.000000  132761.000000   \n",
       "mean    66430.268460  1.082685e+04       9.373852      39.130196   \n",
       "std     38354.112949  2.843019e+04       5.193278      21.443609   \n",
       "min         0.000000  5.000000e+00       0.000000       0.000000   \n",
       "25%     33211.000000  1.324000e+03       6.000000      24.000000   \n",
       "50%     66433.000000  2.944000e+03       9.000000      40.000000   \n",
       "75%     99644.000000  8.544000e+03      13.000000      57.000000   \n",
       "max    132865.000000  1.340800e+06      17.000000      79.000000   \n",
       "\n",
       "          category_3   product_type  \n",
       "count  132761.000000  132761.000000  \n",
       "mean      169.060929    5303.063746  \n",
       "std        95.310870    2961.645034  \n",
       "min         0.000000       0.000000  \n",
       "25%        85.000000    2874.000000  \n",
       "50%       159.000000    5225.000000  \n",
       "75%       255.000000    7844.000000  \n",
       "max       341.000000   10584.000000  "
      ]
     },
     "execution_count": 12,
     "metadata": {},
     "output_type": "execute_result"
    }
   ],
   "source": [
    "item.describe()"
   ]
  },
  {
   "cell_type": "code",
   "execution_count": 13,
   "metadata": {},
   "outputs": [
    {
     "data": {
      "text/plain": [
       "(3118622, 5)"
      ]
     },
     "execution_count": 13,
     "metadata": {},
     "output_type": "execute_result"
    }
   ],
   "source": [
    "view_log.shape"
   ]
  },
  {
   "cell_type": "code",
   "execution_count": 14,
   "metadata": {},
   "outputs": [
    {
     "data": {
      "text/html": [
       "<div>\n",
       "<style scoped>\n",
       "    .dataframe tbody tr th:only-of-type {\n",
       "        vertical-align: middle;\n",
       "    }\n",
       "\n",
       "    .dataframe tbody tr th {\n",
       "        vertical-align: top;\n",
       "    }\n",
       "\n",
       "    .dataframe thead th {\n",
       "        text-align: right;\n",
       "    }\n",
       "</style>\n",
       "<table border=\"1\" class=\"dataframe\">\n",
       "  <thead>\n",
       "    <tr style=\"text-align: right;\">\n",
       "      <th></th>\n",
       "      <th>session_id</th>\n",
       "      <th>user_id</th>\n",
       "      <th>item_id</th>\n",
       "    </tr>\n",
       "  </thead>\n",
       "  <tbody>\n",
       "    <tr>\n",
       "      <th>count</th>\n",
       "      <td>3.118622e+06</td>\n",
       "      <td>3.118622e+06</td>\n",
       "      <td>3.118622e+06</td>\n",
       "    </tr>\n",
       "    <tr>\n",
       "      <th>mean</th>\n",
       "      <td>5.451129e+05</td>\n",
       "      <td>4.617972e+04</td>\n",
       "      <td>6.605151e+04</td>\n",
       "    </tr>\n",
       "    <tr>\n",
       "      <th>std</th>\n",
       "      <td>3.147682e+05</td>\n",
       "      <td>2.672813e+04</td>\n",
       "      <td>3.826626e+04</td>\n",
       "    </tr>\n",
       "    <tr>\n",
       "      <th>min</th>\n",
       "      <td>0.000000e+00</td>\n",
       "      <td>0.000000e+00</td>\n",
       "      <td>0.000000e+00</td>\n",
       "    </tr>\n",
       "    <tr>\n",
       "      <th>25%</th>\n",
       "      <td>2.726422e+05</td>\n",
       "      <td>2.312200e+04</td>\n",
       "      <td>3.321900e+04</td>\n",
       "    </tr>\n",
       "    <tr>\n",
       "      <th>50%</th>\n",
       "      <td>5.454915e+05</td>\n",
       "      <td>4.617700e+04</td>\n",
       "      <td>6.747900e+04</td>\n",
       "    </tr>\n",
       "    <tr>\n",
       "      <th>75%</th>\n",
       "      <td>8.175090e+05</td>\n",
       "      <td>6.933900e+04</td>\n",
       "      <td>9.927000e+04</td>\n",
       "    </tr>\n",
       "    <tr>\n",
       "      <th>max</th>\n",
       "      <td>1.089677e+06</td>\n",
       "      <td>9.258600e+04</td>\n",
       "      <td>1.328650e+05</td>\n",
       "    </tr>\n",
       "  </tbody>\n",
       "</table>\n",
       "</div>"
      ],
      "text/plain": [
       "         session_id       user_id       item_id\n",
       "count  3.118622e+06  3.118622e+06  3.118622e+06\n",
       "mean   5.451129e+05  4.617972e+04  6.605151e+04\n",
       "std    3.147682e+05  2.672813e+04  3.826626e+04\n",
       "min    0.000000e+00  0.000000e+00  0.000000e+00\n",
       "25%    2.726422e+05  2.312200e+04  3.321900e+04\n",
       "50%    5.454915e+05  4.617700e+04  6.747900e+04\n",
       "75%    8.175090e+05  6.933900e+04  9.927000e+04\n",
       "max    1.089677e+06  9.258600e+04  1.328650e+05"
      ]
     },
     "execution_count": 14,
     "metadata": {},
     "output_type": "execute_result"
    }
   ],
   "source": [
    "view_log.describe()"
   ]
  },
  {
   "cell_type": "code",
   "execution_count": 15,
   "metadata": {},
   "outputs": [
    {
     "data": {
      "text/html": [
       "<div>\n",
       "<style scoped>\n",
       "    .dataframe tbody tr th:only-of-type {\n",
       "        vertical-align: middle;\n",
       "    }\n",
       "\n",
       "    .dataframe tbody tr th {\n",
       "        vertical-align: top;\n",
       "    }\n",
       "\n",
       "    .dataframe thead th {\n",
       "        text-align: right;\n",
       "    }\n",
       "</style>\n",
       "<table border=\"1\" class=\"dataframe\">\n",
       "  <thead>\n",
       "    <tr style=\"text-align: right;\">\n",
       "      <th></th>\n",
       "      <th>server_time</th>\n",
       "      <th>device_type</th>\n",
       "      <th>session_id</th>\n",
       "      <th>user_id</th>\n",
       "      <th>item_id</th>\n",
       "    </tr>\n",
       "  </thead>\n",
       "  <tbody>\n",
       "    <tr>\n",
       "      <th>0</th>\n",
       "      <td>2018-10-15 08:58:00</td>\n",
       "      <td>android</td>\n",
       "      <td>112333</td>\n",
       "      <td>4557</td>\n",
       "      <td>32970</td>\n",
       "    </tr>\n",
       "    <tr>\n",
       "      <th>1</th>\n",
       "      <td>2018-10-15 08:58:00</td>\n",
       "      <td>android</td>\n",
       "      <td>503590</td>\n",
       "      <td>74788</td>\n",
       "      <td>7640</td>\n",
       "    </tr>\n",
       "    <tr>\n",
       "      <th>2</th>\n",
       "      <td>2018-10-15 08:58:00</td>\n",
       "      <td>android</td>\n",
       "      <td>573960</td>\n",
       "      <td>23628</td>\n",
       "      <td>128855</td>\n",
       "    </tr>\n",
       "    <tr>\n",
       "      <th>3</th>\n",
       "      <td>2018-10-15 08:58:00</td>\n",
       "      <td>android</td>\n",
       "      <td>121691</td>\n",
       "      <td>2430</td>\n",
       "      <td>12774</td>\n",
       "    </tr>\n",
       "    <tr>\n",
       "      <th>4</th>\n",
       "      <td>2018-10-15 08:58:00</td>\n",
       "      <td>android</td>\n",
       "      <td>218564</td>\n",
       "      <td>19227</td>\n",
       "      <td>28296</td>\n",
       "    </tr>\n",
       "  </tbody>\n",
       "</table>\n",
       "</div>"
      ],
      "text/plain": [
       "           server_time device_type  session_id  user_id  item_id\n",
       "0  2018-10-15 08:58:00     android      112333     4557    32970\n",
       "1  2018-10-15 08:58:00     android      503590    74788     7640\n",
       "2  2018-10-15 08:58:00     android      573960    23628   128855\n",
       "3  2018-10-15 08:58:00     android      121691     2430    12774\n",
       "4  2018-10-15 08:58:00     android      218564    19227    28296"
      ]
     },
     "execution_count": 15,
     "metadata": {},
     "output_type": "execute_result"
    }
   ],
   "source": [
    "view_log.head()"
   ]
  },
  {
   "cell_type": "code",
   "execution_count": 16,
   "metadata": {},
   "outputs": [
    {
     "data": {
      "text/plain": [
       "array(['2018-11-15 00:00:00', '2018-11-15 00:01:00',\n",
       "       '2018-11-15 00:02:00', ..., '2018-12-13 07:41:00',\n",
       "       '2018-12-13 07:42:00', '2018-12-13 07:43:00'], dtype=object)"
      ]
     },
     "execution_count": 16,
     "metadata": {},
     "output_type": "execute_result"
    }
   ],
   "source": [
    "train.impression_time.unique()"
   ]
  },
  {
   "cell_type": "code",
   "execution_count": 17,
   "metadata": {},
   "outputs": [
    {
     "data": {
      "text/plain": [
       "array(['c4ca4238a0b923820dcc509a6f75849b',\n",
       "       '45c48cce2e2d7fbdea1afc51c7c6ad26',\n",
       "       '70efdf2ec9b086079795c442636b55fb', ...,\n",
       "       '8e58582b20ebfacb84fc338bac7cd5ae',\n",
       "       '9ccc5e0a6dc7a2f5224890a22defbd00',\n",
       "       'a68c052cab131719dede538b5466428e'], dtype=object)"
      ]
     },
     "execution_count": 17,
     "metadata": {},
     "output_type": "execute_result"
    }
   ],
   "source": [
    "train.impression_id.unique()"
   ]
  },
  {
   "cell_type": "code",
   "execution_count": 18,
   "metadata": {},
   "outputs": [
    {
     "data": {
      "text/plain": [
       "array([87862, 63410, 71748, ..., 89765, 43386,  2699])"
      ]
     },
     "execution_count": 18,
     "metadata": {},
     "output_type": "execute_result"
    }
   ],
   "source": [
    "train.user_id.unique()"
   ]
  },
  {
   "cell_type": "code",
   "execution_count": 21,
   "metadata": {},
   "outputs": [
    {
     "data": {
      "text/plain": [
       "array([422, 467, 259, 244, 473, 409, 190, 481, 386, 385, 249, 508, 275,\n",
       "       371, 207, 499, 372, 469, 283, 296,   7, 482, 359, 202, 129, 242,\n",
       "       127, 261, 163, 491, 198,  32, 366, 256, 465, 369, 407, 318,   3,\n",
       "         5, 377, 260, 500, 438,  46,  41, 317, 463, 145, 291, 151, 340,\n",
       "       168, 410, 213, 375, 171, 393, 150, 349,  37, 391, 414,  38,  44,\n",
       "       144, 443, 444, 272, 434, 440, 169, 351, 250,  93, 231, 392, 362,\n",
       "       354,  40, 170, 383,  23,  82, 424, 436, 382, 319, 107, 496, 365,\n",
       "       320, 173, 403, 195, 507,   1, 300,  20,  35,  98, 178, 264, 240,\n",
       "       126,  47, 166, 290, 294, 177,  96, 421, 327, 390, 448, 175, 346,\n",
       "       325,   8,  87,  61, 194, 417, 389, 135,  58, 201, 268,  49, 133,\n",
       "       196, 399, 492, 289, 193, 368, 330, 398, 334, 302, 217, 139, 395,\n",
       "       218, 338,  77, 106, 243,   2,  50, 210, 215, 308,  97, 367, 478,\n",
       "       470, 430,  16,  15, 336, 278, 495, 405, 276, 397, 455,  34, 423,\n",
       "       214, 314, 342, 120, 427, 229, 442, 420, 388, 483,  14,  48, 321,\n",
       "       111,   9, 303, 415, 406, 187, 203,  22, 206, 326, 277, 373,  99,\n",
       "       116, 298, 248, 411, 457,   0, 226, 292,  29, 475, 489, 462, 279,\n",
       "       471, 485, 396, 428, 503, 257, 253, 121,  78, 130,  17, 287, 204,\n",
       "       189,  31, 487, 123, 181, 425, 394,  28, 119, 157, 285, 497, 493,\n",
       "        19, 412, 437, 112, 506,  89, 114, 140, 152, 252, 199, 454,  53,\n",
       "        67, 350,  59,  83, 445, 381, 182, 225, 447, 384, 122,  24,  62,\n",
       "       312, 110,  76, 466,   4,   6, 200,  68,  95,  81,  51,  86, 498,\n",
       "       247, 512,  79, 273, 295, 258, 451, 104, 306, 439, 355, 154, 233,\n",
       "        74, 348, 102, 131,  39, 179, 241, 191, 186,  27, 269, 299, 432,\n",
       "       488, 192,  57, 118, 480, 307, 176, 337,  69, 458, 113, 115, 267,\n",
       "       361, 441, 160, 502, 352, 188, 156, 335,  55, 358, 468, 477, 322,\n",
       "       323, 450, 380, 108, 147, 344, 280, 297, 309, 142, 356, 453, 246,\n",
       "       143,  75, 364,  70, 452, 509, 379, 484,  92, 117, 505, 305, 274,\n",
       "       476, 353, 464, 370,  60, 288, 472, 220, 161,  65,  42, 124, 328,\n",
       "       138, 153, 221,  71, 404,  30, 293,  63, 183, 431,  52,  90, 329,\n",
       "       263, 237, 271,  64, 449,  85,  25, 429, 224, 222, 100, 128, 238,\n",
       "       301, 311, 426, 286, 234,  54, 101, 418, 374, 400, 125, 236, 162,\n",
       "       270, 165, 401,  73, 197, 316, 211, 164, 172, 486, 235, 474, 313,\n",
       "       360, 132, 281,  26, 459, 205, 141, 461, 513, 266, 363, 345, 239,\n",
       "       446, 315, 284, 265,  36,  13, 209, 174,  91, 180, 216,  80, 341,\n",
       "       347, 105, 504, 262,  43, 158, 408, 333, 185, 159,  66,  72, 137,\n",
       "       343,  88, 376, 479, 378,  84, 223, 522, 521, 519, 332, 515, 514,\n",
       "       517,  45, 520, 208, 149, 109, 518, 435,  21, 212, 510, 310, 254,\n",
       "       416, 251, 255, 230, 419, 228,  12, 184, 516])"
      ]
     },
     "execution_count": 21,
     "metadata": {},
     "output_type": "execute_result"
    }
   ],
   "source": [
    "train.app_code.unique()"
   ]
  },
  {
   "cell_type": "code",
   "execution_count": 19,
   "metadata": {},
   "outputs": [
    {
     "data": {
      "text/plain": [
       "array(['old', 'latest', 'intermediate'], dtype=object)"
      ]
     },
     "execution_count": 19,
     "metadata": {},
     "output_type": "execute_result"
    }
   ],
   "source": [
    "train.os_version.unique()"
   ]
  },
  {
   "cell_type": "code",
   "execution_count": 20,
   "metadata": {},
   "outputs": [
    {
     "data": {
      "text/plain": [
       "<matplotlib.axes._subplots.AxesSubplot at 0x1a1b148cf8>"
      ]
     },
     "execution_count": 20,
     "metadata": {},
     "output_type": "execute_result"
    },
    {
     "data": {
      "image/png": "[encoded data removed]",
      "text/plain": [
       "<Figure size 432x288 with 1 Axes>"
      ]
     },
     "metadata": {
      "needs_background": "light"
     },
     "output_type": "display_data"
    }
   ],
   "source": [
    "pd.value_counts(train['is_click']).plot.bar()"
   ]
  },
  {
   "cell_type": "code",
   "execution_count": 21,
   "metadata": {},
   "outputs": [],
   "source": [
    "#drop user_id and impression in train\n",
    "train = train.drop(['impression_id','user_id'], axis=1)\n",
    "test = test.drop(['user_id'], axis=1)"
   ]
  },
  {
   "cell_type": "code",
   "execution_count": 31,
   "metadata": {},
   "outputs": [
    {
     "ename": "AttributeError",
     "evalue": "Can only use .dt accessor with datetimelike values",
     "output_type": "error",
     "traceback": [
      "\u001b[0;31m---------------------------------------------------------------------------\u001b[0m",
      "\u001b[0;31mAttributeError\u001b[0m                            Traceback (most recent call last)",
      "\u001b[0;32m<ipython-input-31-036c30c5b39c>\u001b[0m in \u001b[0;36m<module>\u001b[0;34m\u001b[0m\n\u001b[1;32m      1\u001b[0m \u001b[0;31m#generate day of week\u001b[0m\u001b[0;34m\u001b[0m\u001b[0;34m\u001b[0m\u001b[0;34m\u001b[0m\u001b[0m\n\u001b[1;32m      2\u001b[0m \u001b[0;31m#train['day_of_week'] = train.apply(lambda row: dow(row.impression_time), axis=1)\u001b[0m\u001b[0;34m\u001b[0m\u001b[0;34m\u001b[0m\u001b[0;34m\u001b[0m\u001b[0m\n\u001b[0;32m----> 3\u001b[0;31m \u001b[0mtrain\u001b[0m\u001b[0;34m[\u001b[0m\u001b[0;34m'weekday'\u001b[0m\u001b[0;34m]\u001b[0m \u001b[0;34m=\u001b[0m \u001b[0mtrain\u001b[0m\u001b[0;34m[\u001b[0m\u001b[0;34m'impression_time'\u001b[0m\u001b[0;34m]\u001b[0m\u001b[0;34m.\u001b[0m\u001b[0mdt\u001b[0m\u001b[0;34m.\u001b[0m\u001b[0mdayofweek\u001b[0m\u001b[0;34m\u001b[0m\u001b[0;34m\u001b[0m\u001b[0m\n\u001b[0m",
      "\u001b[0;32m/anaconda3/lib/python3.7/site-packages/pandas/core/generic.py\u001b[0m in \u001b[0;36m__getattr__\u001b[0;34m(self, name)\u001b[0m\n\u001b[1;32m   4370\u001b[0m         if (name in self._internal_names_set or name in self._metadata or\n\u001b[1;32m   4371\u001b[0m                 name in self._accessors):\n\u001b[0;32m-> 4372\u001b[0;31m             \u001b[0;32mreturn\u001b[0m \u001b[0mobject\u001b[0m\u001b[0;34m.\u001b[0m\u001b[0m__getattribute__\u001b[0m\u001b[0;34m(\u001b[0m\u001b[0mself\u001b[0m\u001b[0;34m,\u001b[0m \u001b[0mname\u001b[0m\u001b[0;34m)\u001b[0m\u001b[0;34m\u001b[0m\u001b[0;34m\u001b[0m\u001b[0m\n\u001b[0m\u001b[1;32m   4373\u001b[0m         \u001b[0;32melse\u001b[0m\u001b[0;34m:\u001b[0m\u001b[0;34m\u001b[0m\u001b[0;34m\u001b[0m\u001b[0m\n\u001b[1;32m   4374\u001b[0m             \u001b[0;32mif\u001b[0m \u001b[0mself\u001b[0m\u001b[0;34m.\u001b[0m\u001b[0m_info_axis\u001b[0m\u001b[0;34m.\u001b[0m\u001b[0m_can_hold_identifiers_and_holds_name\u001b[0m\u001b[0;34m(\u001b[0m\u001b[0mname\u001b[0m\u001b[0;34m)\u001b[0m\u001b[0;34m:\u001b[0m\u001b[0;34m\u001b[0m\u001b[0;34m\u001b[0m\u001b[0m\n",
      "\u001b[0;32m/anaconda3/lib/python3.7/site-packages/pandas/core/accessor.py\u001b[0m in \u001b[0;36m__get__\u001b[0;34m(self, obj, cls)\u001b[0m\n\u001b[1;32m    131\u001b[0m             \u001b[0;31m# we're accessing the attribute of the class, i.e., Dataset.geo\u001b[0m\u001b[0;34m\u001b[0m\u001b[0;34m\u001b[0m\u001b[0;34m\u001b[0m\u001b[0m\n\u001b[1;32m    132\u001b[0m             \u001b[0;32mreturn\u001b[0m \u001b[0mself\u001b[0m\u001b[0;34m.\u001b[0m\u001b[0m_accessor\u001b[0m\u001b[0;34m\u001b[0m\u001b[0;34m\u001b[0m\u001b[0m\n\u001b[0;32m--> 133\u001b[0;31m         \u001b[0maccessor_obj\u001b[0m \u001b[0;34m=\u001b[0m \u001b[0mself\u001b[0m\u001b[0;34m.\u001b[0m\u001b[0m_accessor\u001b[0m\u001b[0;34m(\u001b[0m\u001b[0mobj\u001b[0m\u001b[0;34m)\u001b[0m\u001b[0;34m\u001b[0m\u001b[0;34m\u001b[0m\u001b[0m\n\u001b[0m\u001b[1;32m    134\u001b[0m         \u001b[0;31m# Replace the property with the accessor object. Inspired by:\u001b[0m\u001b[0;34m\u001b[0m\u001b[0;34m\u001b[0m\u001b[0;34m\u001b[0m\u001b[0m\n\u001b[1;32m    135\u001b[0m         \u001b[0;31m# http://www.pydanny.com/cached-property.html\u001b[0m\u001b[0;34m\u001b[0m\u001b[0;34m\u001b[0m\u001b[0;34m\u001b[0m\u001b[0m\n",
      "\u001b[0;32m/anaconda3/lib/python3.7/site-packages/pandas/core/indexes/accessors.py\u001b[0m in \u001b[0;36m__new__\u001b[0;34m(cls, data)\u001b[0m\n\u001b[1;32m    323\u001b[0m             \u001b[0;32mpass\u001b[0m  \u001b[0;31m# we raise an attribute error anyway\u001b[0m\u001b[0;34m\u001b[0m\u001b[0;34m\u001b[0m\u001b[0m\n\u001b[1;32m    324\u001b[0m \u001b[0;34m\u001b[0m\u001b[0m\n\u001b[0;32m--> 325\u001b[0;31m         raise AttributeError(\"Can only use .dt accessor with datetimelike \"\n\u001b[0m\u001b[1;32m    326\u001b[0m                              \"values\")\n",
      "\u001b[0;31mAttributeError\u001b[0m: Can only use .dt accessor with datetimelike values"
     ]
    }
   ],
   "source": [
    "#generate day of week\n",
    "#train['day_of_week'] = train.apply(lambda row: dow(row.impression_time), axis=1)\n",
    "#train['weekday'] = train['impression_time'].dt.dayofweek"
   ]
  },
  {
   "cell_type": "code",
   "execution_count": null,
   "metadata": {},
   "outputs": [],
   "source": []
  },
  {
   "cell_type": "code",
   "execution_count": null,
   "metadata": {},
   "outputs": [],
   "source": [
    "#generate hour"
   ]
  },
  {
   "cell_type": "code",
   "execution_count": null,
   "metadata": {},
   "outputs": [],
   "source": [
    "#split categorical data"
   ]
  },
  {
   "cell_type": "code",
   "execution_count": null,
   "metadata": {},
   "outputs": [],
   "source": [
    "#combine data"
   ]
  },
  {
   "cell_type": "code",
   "execution_count": null,
   "metadata": {},
   "outputs": [],
   "source": [
    "#fix imbalance"
   ]
  },
  {
   "cell_type": "code",
   "execution_count": null,
   "metadata": {},
   "outputs": [],
   "source": [
    "#store test impression id in a different data frame"
   ]
  },
  {
   "cell_type": "code",
   "execution_count": null,
   "metadata": {},
   "outputs": [],
   "source": []
  },
  {
   "cell_type": "code",
   "execution_count": null,
   "metadata": {},
   "outputs": [],
   "source": [
    "#perform modeling"
   ]
  },
  {
   "cell_type": "code",
   "execution_count": null,
   "metadata": {},
   "outputs": [],
   "source": [
    "#generate metrics"
   ]
  }
 ],
 "metadata": {
  "kernelspec": {
   "display_name": "Python 3",
   "language": "python",
   "name": "python3"
  },
  "language_info": {
   "codemirror_mode": {
    "name": "ipython",
    "version": 3
   },
   "file_extension": ".py",
   "mimetype": "text/x-python",
   "name": "python",
   "nbconvert_exporter": "python",
   "pygments_lexer": "ipython3",
   "version": "3.7.1"
  }
 },
 "nbformat": 4,
 "nbformat_minor": 2
}
