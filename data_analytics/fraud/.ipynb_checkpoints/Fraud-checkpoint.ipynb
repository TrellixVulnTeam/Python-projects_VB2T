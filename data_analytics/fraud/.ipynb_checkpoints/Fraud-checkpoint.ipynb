{
 "cells": [
  {
   "cell_type": "markdown",
   "metadata": {},
   "source": [
    "#Objective is to predict fraud \n"
   ]
  },
  {
   "cell_type": "code",
   "execution_count": 1,
   "metadata": {},
   "outputs": [],
   "source": [
    "#load libraries\n",
    "import pandas as pd\n",
    "import numpy as np\n",
    "import seaborn as sns\n",
    "import sklearn\n",
    "import matplotlib.pyplot as plt\n",
    "%matplotlib inline\n",
    "from sklearn import preprocessing\n",
    "from sklearn import model_selection\n",
    "from sklearn.metrics import accuracy_score\n",
    "from sklearn.metrics import roc_curve, auc, recall_score, precision_score, f1_score, confusion_matrix, recall_score\n",
    "from sklearn.model_selection import train_test_split\n",
    "from sklearn.linear_model import LogisticRegression\n",
    "from sklearn.tree import DecisionTreeClassifier\n",
    "from sklearn.neighbors import KNeighborsClassifier\n",
    "from sklearn.ensemble import RandomForestClassifier\n",
    "from sklearn.svm import SVC\n",
    "from sklearn.model_selection import cross_val_score\n",
    "from sklearn.naive_bayes import GaussianNB\n",
    "from sklearn.ensemble import GradientBoostingClassifier\n",
    "from sklearn.discriminant_analysis import LinearDiscriminantAnalysis\n",
    "from sklearn.ensemble import VotingClassifier\n",
    "from sklearn.ensemble import BaggingClassifier"
   ]
  },
  {
   "cell_type": "code",
   "execution_count": 2,
   "metadata": {},
   "outputs": [],
   "source": [
    "#load data\n",
    "df = pd.read_csv('transactions.csv', sep=\",\")"
   ]
  },
  {
   "cell_type": "code",
   "execution_count": 3,
   "metadata": {},
   "outputs": [
    {
     "data": {
      "text/html": [
       "<div>\n",
       "<style scoped>\n",
       "    .dataframe tbody tr th:only-of-type {\n",
       "        vertical-align: middle;\n",
       "    }\n",
       "\n",
       "    .dataframe tbody tr th {\n",
       "        vertical-align: top;\n",
       "    }\n",
       "\n",
       "    .dataframe thead th {\n",
       "        text-align: right;\n",
       "    }\n",
       "</style>\n",
       "<table border=\"1\" class=\"dataframe\">\n",
       "  <thead>\n",
       "    <tr style=\"text-align: right;\">\n",
       "      <th></th>\n",
       "      <th>Unnamed: 0</th>\n",
       "      <th>CURRENCY</th>\n",
       "      <th>AMOUNT</th>\n",
       "      <th>TRAN_STATE</th>\n",
       "      <th>TRAN_CREATED_DATE</th>\n",
       "      <th>MERCHANT_CATEGORY</th>\n",
       "      <th>MERCHANT_COUNTRY</th>\n",
       "      <th>ENTRY_METHOD</th>\n",
       "      <th>USER_ID</th>\n",
       "      <th>TYPE</th>\n",
       "      <th>...</th>\n",
       "      <th>COUNTRY</th>\n",
       "      <th>BIRTH_YEAR</th>\n",
       "      <th>KYC</th>\n",
       "      <th>FAILED_SIGN_IN_ATTEMPTS</th>\n",
       "      <th>CODE</th>\n",
       "      <th>NAME</th>\n",
       "      <th>CODE3</th>\n",
       "      <th>NUMCODE</th>\n",
       "      <th>PHONECODE</th>\n",
       "      <th>IS_FRAUDSTER_N</th>\n",
       "    </tr>\n",
       "  </thead>\n",
       "  <tbody>\n",
       "    <tr>\n",
       "      <th>0</th>\n",
       "      <td>0</td>\n",
       "      <td>GBP</td>\n",
       "      <td>175</td>\n",
       "      <td>COMPLETED</td>\n",
       "      <td>46:20.3</td>\n",
       "      <td>cafe</td>\n",
       "      <td>GBR</td>\n",
       "      <td>cont</td>\n",
       "      <td>8f99c254-7cf2-4e35-b7e4-53804d42445d</td>\n",
       "      <td>CARD_PAYMENT</td>\n",
       "      <td>...</td>\n",
       "      <td>GB</td>\n",
       "      <td>1962.0</td>\n",
       "      <td>PASSED</td>\n",
       "      <td>0.0</td>\n",
       "      <td>GB</td>\n",
       "      <td>United Kingdom</td>\n",
       "      <td>gBR</td>\n",
       "      <td>826.0</td>\n",
       "      <td>44.0</td>\n",
       "      <td>0</td>\n",
       "    </tr>\n",
       "    <tr>\n",
       "      <th>1</th>\n",
       "      <td>1</td>\n",
       "      <td>EUR</td>\n",
       "      <td>2593</td>\n",
       "      <td>COMPLETED</td>\n",
       "      <td>38:47.2</td>\n",
       "      <td>bar</td>\n",
       "      <td>AUS</td>\n",
       "      <td>cont</td>\n",
       "      <td>ed773c34-2b83-4f70-a691-6a7aa1cb9f11</td>\n",
       "      <td>CARD_PAYMENT</td>\n",
       "      <td>...</td>\n",
       "      <td>IE</td>\n",
       "      <td>1995.0</td>\n",
       "      <td>PASSED</td>\n",
       "      <td>0.0</td>\n",
       "      <td>IE</td>\n",
       "      <td>Ireland</td>\n",
       "      <td>iRL</td>\n",
       "      <td>372.0</td>\n",
       "      <td>353.0</td>\n",
       "      <td>0</td>\n",
       "    </tr>\n",
       "    <tr>\n",
       "      <th>2</th>\n",
       "      <td>2</td>\n",
       "      <td>EUR</td>\n",
       "      <td>1077</td>\n",
       "      <td>COMPLETED</td>\n",
       "      <td>34:39.7</td>\n",
       "      <td>NaN</td>\n",
       "      <td>CZE</td>\n",
       "      <td>cont</td>\n",
       "      <td>eb349cc1-e986-4bf4-bb75-72280a7b8680</td>\n",
       "      <td>CARD_PAYMENT</td>\n",
       "      <td>...</td>\n",
       "      <td>CZ</td>\n",
       "      <td>1985.0</td>\n",
       "      <td>PASSED</td>\n",
       "      <td>0.0</td>\n",
       "      <td>CZ</td>\n",
       "      <td>Czech Republic</td>\n",
       "      <td>CZE</td>\n",
       "      <td>203.0</td>\n",
       "      <td>420.0</td>\n",
       "      <td>0</td>\n",
       "    </tr>\n",
       "    <tr>\n",
       "      <th>3</th>\n",
       "      <td>3</td>\n",
       "      <td>GBP</td>\n",
       "      <td>198</td>\n",
       "      <td>COMPLETED</td>\n",
       "      <td>45:50.6</td>\n",
       "      <td>supermarket</td>\n",
       "      <td>GBR</td>\n",
       "      <td>cont</td>\n",
       "      <td>dc78fbc4-c936-45d3-a813-e2477ac6d74b</td>\n",
       "      <td>CARD_PAYMENT</td>\n",
       "      <td>...</td>\n",
       "      <td>GB</td>\n",
       "      <td>1974.0</td>\n",
       "      <td>PASSED</td>\n",
       "      <td>0.0</td>\n",
       "      <td>GB</td>\n",
       "      <td>United Kingdom</td>\n",
       "      <td>gBR</td>\n",
       "      <td>826.0</td>\n",
       "      <td>44.0</td>\n",
       "      <td>0</td>\n",
       "    </tr>\n",
       "    <tr>\n",
       "      <th>4</th>\n",
       "      <td>4</td>\n",
       "      <td>EUR</td>\n",
       "      <td>990</td>\n",
       "      <td>COMPLETED</td>\n",
       "      <td>45:32.7</td>\n",
       "      <td>NaN</td>\n",
       "      <td>FRA</td>\n",
       "      <td>cont</td>\n",
       "      <td>32958a5c-2532-42f7-94f9-127f2a812a55</td>\n",
       "      <td>CARD_PAYMENT</td>\n",
       "      <td>...</td>\n",
       "      <td>FR</td>\n",
       "      <td>1991.0</td>\n",
       "      <td>PASSED</td>\n",
       "      <td>0.0</td>\n",
       "      <td>FR</td>\n",
       "      <td>France</td>\n",
       "      <td>FRA</td>\n",
       "      <td>250.0</td>\n",
       "      <td>33.0</td>\n",
       "      <td>0</td>\n",
       "    </tr>\n",
       "  </tbody>\n",
       "</table>\n",
       "<p>5 rows × 32 columns</p>\n",
       "</div>"
      ],
      "text/plain": [
       "   Unnamed: 0 CURRENCY  AMOUNT TRAN_STATE TRAN_CREATED_DATE MERCHANT_CATEGORY  \\\n",
       "0           0      GBP     175  COMPLETED           46:20.3              cafe   \n",
       "1           1      EUR    2593  COMPLETED           38:47.2               bar   \n",
       "2           2      EUR    1077  COMPLETED           34:39.7               NaN   \n",
       "3           3      GBP     198  COMPLETED           45:50.6       supermarket   \n",
       "4           4      EUR     990  COMPLETED           45:32.7               NaN   \n",
       "\n",
       "  MERCHANT_COUNTRY ENTRY_METHOD                               USER_ID  \\\n",
       "0              GBR         cont  8f99c254-7cf2-4e35-b7e4-53804d42445d   \n",
       "1              AUS         cont  ed773c34-2b83-4f70-a691-6a7aa1cb9f11   \n",
       "2              CZE         cont  eb349cc1-e986-4bf4-bb75-72280a7b8680   \n",
       "3              GBR         cont  dc78fbc4-c936-45d3-a813-e2477ac6d74b   \n",
       "4              FRA         cont  32958a5c-2532-42f7-94f9-127f2a812a55   \n",
       "\n",
       "           TYPE      ...       COUNTRY BIRTH_YEAR     KYC  \\\n",
       "0  CARD_PAYMENT      ...            GB     1962.0  PASSED   \n",
       "1  CARD_PAYMENT      ...            IE     1995.0  PASSED   \n",
       "2  CARD_PAYMENT      ...            CZ     1985.0  PASSED   \n",
       "3  CARD_PAYMENT      ...            GB     1974.0  PASSED   \n",
       "4  CARD_PAYMENT      ...            FR     1991.0  PASSED   \n",
       "\n",
       "  FAILED_SIGN_IN_ATTEMPTS  CODE            NAME  CODE3 NUMCODE PHONECODE  \\\n",
       "0                     0.0    GB  United Kingdom    gBR   826.0      44.0   \n",
       "1                     0.0    IE         Ireland    iRL   372.0     353.0   \n",
       "2                     0.0    CZ  Czech Republic    CZE   203.0     420.0   \n",
       "3                     0.0    GB  United Kingdom    gBR   826.0      44.0   \n",
       "4                     0.0    FR          France    FRA   250.0      33.0   \n",
       "\n",
       "  IS_FRAUDSTER_N  \n",
       "0              0  \n",
       "1              0  \n",
       "2              0  \n",
       "3              0  \n",
       "4              0  \n",
       "\n",
       "[5 rows x 32 columns]"
      ]
     },
     "execution_count": 3,
     "metadata": {},
     "output_type": "execute_result"
    }
   ],
   "source": [
    "df.head()"
   ]
  },
  {
   "cell_type": "code",
   "execution_count": 4,
   "metadata": {},
   "outputs": [
    {
     "data": {
      "text/html": [
       "<div>\n",
       "<style scoped>\n",
       "    .dataframe tbody tr th:only-of-type {\n",
       "        vertical-align: middle;\n",
       "    }\n",
       "\n",
       "    .dataframe tbody tr th {\n",
       "        vertical-align: top;\n",
       "    }\n",
       "\n",
       "    .dataframe thead th {\n",
       "        text-align: right;\n",
       "    }\n",
       "</style>\n",
       "<table border=\"1\" class=\"dataframe\">\n",
       "  <thead>\n",
       "    <tr style=\"text-align: right;\">\n",
       "      <th></th>\n",
       "      <th>Unnamed: 0</th>\n",
       "      <th>AMOUNT</th>\n",
       "      <th>AMOUNT_USD</th>\n",
       "      <th>EXPONENT</th>\n",
       "      <th>HAS_EMAIL</th>\n",
       "      <th>BIRTH_YEAR</th>\n",
       "      <th>FAILED_SIGN_IN_ATTEMPTS</th>\n",
       "      <th>NUMCODE</th>\n",
       "      <th>PHONECODE</th>\n",
       "      <th>IS_FRAUDSTER_N</th>\n",
       "    </tr>\n",
       "  </thead>\n",
       "  <tbody>\n",
       "    <tr>\n",
       "      <th>count</th>\n",
       "      <td>57748.00000</td>\n",
       "      <td>5.774800e+04</td>\n",
       "      <td>5.774800e+04</td>\n",
       "      <td>57748.000000</td>\n",
       "      <td>55262.000000</td>\n",
       "      <td>55262.00000</td>\n",
       "      <td>55262.000000</td>\n",
       "      <td>55243.000000</td>\n",
       "      <td>55243.000000</td>\n",
       "      <td>57748.0</td>\n",
       "    </tr>\n",
       "    <tr>\n",
       "      <th>mean</th>\n",
       "      <td>28873.50000</td>\n",
       "      <td>3.955198e+04</td>\n",
       "      <td>5.993035e+06</td>\n",
       "      <td>2.009005</td>\n",
       "      <td>0.995729</td>\n",
       "      <td>1984.93795</td>\n",
       "      <td>0.008342</td>\n",
       "      <td>651.194341</td>\n",
       "      <td>105.287150</td>\n",
       "      <td>0.0</td>\n",
       "    </tr>\n",
       "    <tr>\n",
       "      <th>std</th>\n",
       "      <td>16670.55601</td>\n",
       "      <td>1.433153e+06</td>\n",
       "      <td>2.695487e+08</td>\n",
       "      <td>0.241621</td>\n",
       "      <td>0.065210</td>\n",
       "      <td>9.73848</td>\n",
       "      <td>0.127983</td>\n",
       "      <td>229.477925</td>\n",
       "      <td>128.115641</td>\n",
       "      <td>0.0</td>\n",
       "    </tr>\n",
       "    <tr>\n",
       "      <th>min</th>\n",
       "      <td>0.00000</td>\n",
       "      <td>0.000000e+00</td>\n",
       "      <td>0.000000e+00</td>\n",
       "      <td>0.000000</td>\n",
       "      <td>0.000000</td>\n",
       "      <td>1930.00000</td>\n",
       "      <td>0.000000</td>\n",
       "      <td>40.000000</td>\n",
       "      <td>30.000000</td>\n",
       "      <td>0.0</td>\n",
       "    </tr>\n",
       "    <tr>\n",
       "      <th>25%</th>\n",
       "      <td>14436.75000</td>\n",
       "      <td>5.290000e+02</td>\n",
       "      <td>6.010000e+02</td>\n",
       "      <td>2.000000</td>\n",
       "      <td>1.000000</td>\n",
       "      <td>1981.00000</td>\n",
       "      <td>0.000000</td>\n",
       "      <td>440.000000</td>\n",
       "      <td>44.000000</td>\n",
       "      <td>0.0</td>\n",
       "    </tr>\n",
       "    <tr>\n",
       "      <th>50%</th>\n",
       "      <td>28873.50000</td>\n",
       "      <td>1.545000e+03</td>\n",
       "      <td>1.638000e+03</td>\n",
       "      <td>2.000000</td>\n",
       "      <td>1.000000</td>\n",
       "      <td>1987.00000</td>\n",
       "      <td>0.000000</td>\n",
       "      <td>826.000000</td>\n",
       "      <td>44.000000</td>\n",
       "      <td>0.0</td>\n",
       "    </tr>\n",
       "    <tr>\n",
       "      <th>75%</th>\n",
       "      <td>43310.25000</td>\n",
       "      <td>5.100000e+03</td>\n",
       "      <td>5.613250e+03</td>\n",
       "      <td>2.000000</td>\n",
       "      <td>1.000000</td>\n",
       "      <td>1992.00000</td>\n",
       "      <td>0.000000</td>\n",
       "      <td>826.000000</td>\n",
       "      <td>47.000000</td>\n",
       "      <td>0.0</td>\n",
       "    </tr>\n",
       "    <tr>\n",
       "      <th>max</th>\n",
       "      <td>57747.00000</td>\n",
       "      <td>1.775452e+08</td>\n",
       "      <td>2.373411e+10</td>\n",
       "      <td>8.000000</td>\n",
       "      <td>1.000000</td>\n",
       "      <td>2000.00000</td>\n",
       "      <td>6.000000</td>\n",
       "      <td>826.000000</td>\n",
       "      <td>590.000000</td>\n",
       "      <td>0.0</td>\n",
       "    </tr>\n",
       "  </tbody>\n",
       "</table>\n",
       "</div>"
      ],
      "text/plain": [
       "        Unnamed: 0        AMOUNT    AMOUNT_USD      EXPONENT     HAS_EMAIL  \\\n",
       "count  57748.00000  5.774800e+04  5.774800e+04  57748.000000  55262.000000   \n",
       "mean   28873.50000  3.955198e+04  5.993035e+06      2.009005      0.995729   \n",
       "std    16670.55601  1.433153e+06  2.695487e+08      0.241621      0.065210   \n",
       "min        0.00000  0.000000e+00  0.000000e+00      0.000000      0.000000   \n",
       "25%    14436.75000  5.290000e+02  6.010000e+02      2.000000      1.000000   \n",
       "50%    28873.50000  1.545000e+03  1.638000e+03      2.000000      1.000000   \n",
       "75%    43310.25000  5.100000e+03  5.613250e+03      2.000000      1.000000   \n",
       "max    57747.00000  1.775452e+08  2.373411e+10      8.000000      1.000000   \n",
       "\n",
       "        BIRTH_YEAR  FAILED_SIGN_IN_ATTEMPTS       NUMCODE     PHONECODE  \\\n",
       "count  55262.00000             55262.000000  55243.000000  55243.000000   \n",
       "mean    1984.93795                 0.008342    651.194341    105.287150   \n",
       "std        9.73848                 0.127983    229.477925    128.115641   \n",
       "min     1930.00000                 0.000000     40.000000     30.000000   \n",
       "25%     1981.00000                 0.000000    440.000000     44.000000   \n",
       "50%     1987.00000                 0.000000    826.000000     44.000000   \n",
       "75%     1992.00000                 0.000000    826.000000     47.000000   \n",
       "max     2000.00000                 6.000000    826.000000    590.000000   \n",
       "\n",
       "       IS_FRAUDSTER_N  \n",
       "count         57748.0  \n",
       "mean              0.0  \n",
       "std               0.0  \n",
       "min               0.0  \n",
       "25%               0.0  \n",
       "50%               0.0  \n",
       "75%               0.0  \n",
       "max               0.0  "
      ]
     },
     "execution_count": 4,
     "metadata": {},
     "output_type": "execute_result"
    }
   ],
   "source": [
    "#data summary\n",
    "df.describe()"
   ]
  },
  {
   "cell_type": "code",
   "execution_count": 5,
   "metadata": {},
   "outputs": [],
   "source": [
    "df_backup = df"
   ]
  },
  {
   "cell_type": "code",
   "execution_count": 6,
   "metadata": {},
   "outputs": [
    {
     "data": {
      "text/plain": [
       "<matplotlib.axes._subplots.AxesSubplot at 0x1a1cb38978>"
      ]
     },
     "execution_count": 6,
     "metadata": {},
     "output_type": "execute_result"
    },
    {
     "data": {
      "image/png": "[encoded data removed]",
      "text/plain": [
       "<Figure size 432x288 with 1 Axes>"
      ]
     },
     "metadata": {
      "needs_background": "light"
     },
     "output_type": "display_data"
    }
   ],
   "source": [
    "#check for data imbalance\n",
    "pd.value_counts(df['IS_FRAUDSTER_N']).plot.bar()"
   ]
  },
  {
   "cell_type": "code",
   "execution_count": 7,
   "metadata": {},
   "outputs": [],
   "source": [
    "#check for missing data and drop data\n",
    "#remove empty data\n",
    "#check for missing data\n",
    "nan_rows = df.isnull().T.any().T.sum()\n",
    "#drop missing data\n",
    "df = df.dropna()"
   ]
  },
  {
   "cell_type": "code",
   "execution_count": 8,
   "metadata": {},
   "outputs": [
    {
     "data": {
      "text/plain": [
       "(19174, 32)"
      ]
     },
     "execution_count": 8,
     "metadata": {},
     "output_type": "execute_result"
    }
   ],
   "source": [
    "df.shape"
   ]
  },
  {
   "cell_type": "code",
   "execution_count": 9,
   "metadata": {},
   "outputs": [
    {
     "data": {
      "text/plain": [
       "Unnamed: 0                   int64\n",
       "CURRENCY                    object\n",
       "AMOUNT                       int64\n",
       "TRAN_STATE                  object\n",
       "TRAN_CREATED_DATE           object\n",
       "MERCHANT_CATEGORY           object\n",
       "MERCHANT_COUNTRY            object\n",
       "ENTRY_METHOD                object\n",
       "USER_ID                     object\n",
       "TYPE                        object\n",
       "SOURCE                      object\n",
       "TRAN_ID                     object\n",
       "AMOUNT_USD                   int64\n",
       "CCY                         object\n",
       "EXPONENT                     int64\n",
       "IS_CRYPTO                     bool\n",
       "HAS_EMAIL                  float64\n",
       "PHONE_COUNTRY               object\n",
       "IS_FRAUDSTER                object\n",
       "TERMS_VERSION               object\n",
       "USER_CREATED_DATE           object\n",
       "USER_STATE                  object\n",
       "COUNTRY                     object\n",
       "BIRTH_YEAR                 float64\n",
       "KYC                         object\n",
       "FAILED_SIGN_IN_ATTEMPTS    float64\n",
       "CODE                        object\n",
       "NAME                        object\n",
       "CODE3                       object\n",
       "NUMCODE                    float64\n",
       "PHONECODE                  float64\n",
       "IS_FRAUDSTER_N               int64\n",
       "dtype: object"
      ]
     },
     "execution_count": 9,
     "metadata": {},
     "output_type": "execute_result"
    }
   ],
   "source": [
    "df.dtypes"
   ]
  },
  {
   "cell_type": "code",
   "execution_count": 10,
   "metadata": {},
   "outputs": [
    {
     "data": {
      "text/html": [
       "<div>\n",
       "<style scoped>\n",
       "    .dataframe tbody tr th:only-of-type {\n",
       "        vertical-align: middle;\n",
       "    }\n",
       "\n",
       "    .dataframe tbody tr th {\n",
       "        vertical-align: top;\n",
       "    }\n",
       "\n",
       "    .dataframe thead th {\n",
       "        text-align: right;\n",
       "    }\n",
       "</style>\n",
       "<table border=\"1\" class=\"dataframe\">\n",
       "  <thead>\n",
       "    <tr style=\"text-align: right;\">\n",
       "      <th></th>\n",
       "      <th>Unnamed: 0</th>\n",
       "      <th>CURRENCY</th>\n",
       "      <th>AMOUNT</th>\n",
       "      <th>TRAN_STATE</th>\n",
       "      <th>TRAN_CREATED_DATE</th>\n",
       "      <th>MERCHANT_CATEGORY</th>\n",
       "      <th>MERCHANT_COUNTRY</th>\n",
       "      <th>ENTRY_METHOD</th>\n",
       "      <th>USER_ID</th>\n",
       "      <th>TYPE</th>\n",
       "      <th>...</th>\n",
       "      <th>COUNTRY</th>\n",
       "      <th>BIRTH_YEAR</th>\n",
       "      <th>KYC</th>\n",
       "      <th>FAILED_SIGN_IN_ATTEMPTS</th>\n",
       "      <th>CODE</th>\n",
       "      <th>NAME</th>\n",
       "      <th>CODE3</th>\n",
       "      <th>NUMCODE</th>\n",
       "      <th>PHONECODE</th>\n",
       "      <th>IS_FRAUDSTER_N</th>\n",
       "    </tr>\n",
       "  </thead>\n",
       "  <tbody>\n",
       "    <tr>\n",
       "      <th>57707</th>\n",
       "      <td>57707</td>\n",
       "      <td>EUR</td>\n",
       "      <td>0</td>\n",
       "      <td>REVERTED</td>\n",
       "      <td>11:52.9</td>\n",
       "      <td>bar</td>\n",
       "      <td>NLD</td>\n",
       "      <td>manu</td>\n",
       "      <td>4d612d5b-b627-4084-a734-777f64f8a876</td>\n",
       "      <td>CARD_PAYMENT</td>\n",
       "      <td>...</td>\n",
       "      <td>BE</td>\n",
       "      <td>1988.0</td>\n",
       "      <td>PASSED</td>\n",
       "      <td>0.0</td>\n",
       "      <td>BE</td>\n",
       "      <td>Belgium</td>\n",
       "      <td>BEL</td>\n",
       "      <td>56.0</td>\n",
       "      <td>32.0</td>\n",
       "      <td>0</td>\n",
       "    </tr>\n",
       "    <tr>\n",
       "      <th>57723</th>\n",
       "      <td>57723</td>\n",
       "      <td>EUR</td>\n",
       "      <td>1177</td>\n",
       "      <td>COMPLETED</td>\n",
       "      <td>37:30.7</td>\n",
       "      <td>point_of_interest</td>\n",
       "      <td>NZL</td>\n",
       "      <td>manu</td>\n",
       "      <td>0ea52336-aa1b-4dab-ab5f-84e9d1ed2766</td>\n",
       "      <td>CARD_PAYMENT</td>\n",
       "      <td>...</td>\n",
       "      <td>EE</td>\n",
       "      <td>1985.0</td>\n",
       "      <td>PASSED</td>\n",
       "      <td>0.0</td>\n",
       "      <td>EE</td>\n",
       "      <td>Estonia</td>\n",
       "      <td>EST</td>\n",
       "      <td>233.0</td>\n",
       "      <td>372.0</td>\n",
       "      <td>0</td>\n",
       "    </tr>\n",
       "    <tr>\n",
       "      <th>57726</th>\n",
       "      <td>57726</td>\n",
       "      <td>GBP</td>\n",
       "      <td>420</td>\n",
       "      <td>COMPLETED</td>\n",
       "      <td>18:47.6</td>\n",
       "      <td>restaurant</td>\n",
       "      <td>GBR</td>\n",
       "      <td>cont</td>\n",
       "      <td>7cbd5950-6b6c-4289-a996-59d2911003ed</td>\n",
       "      <td>CARD_PAYMENT</td>\n",
       "      <td>...</td>\n",
       "      <td>GB</td>\n",
       "      <td>1986.0</td>\n",
       "      <td>PASSED</td>\n",
       "      <td>0.0</td>\n",
       "      <td>GB</td>\n",
       "      <td>United Kingdom</td>\n",
       "      <td>gBR</td>\n",
       "      <td>826.0</td>\n",
       "      <td>44.0</td>\n",
       "      <td>0</td>\n",
       "    </tr>\n",
       "    <tr>\n",
       "      <th>57737</th>\n",
       "      <td>57737</td>\n",
       "      <td>USD</td>\n",
       "      <td>100</td>\n",
       "      <td>REVERTED</td>\n",
       "      <td>50:07.5</td>\n",
       "      <td>atm</td>\n",
       "      <td>LUX</td>\n",
       "      <td>manu</td>\n",
       "      <td>35507271-8bbd-4181-a35b-773b93a737bd</td>\n",
       "      <td>CARD_PAYMENT</td>\n",
       "      <td>...</td>\n",
       "      <td>PL</td>\n",
       "      <td>1976.0</td>\n",
       "      <td>PASSED</td>\n",
       "      <td>0.0</td>\n",
       "      <td>PL</td>\n",
       "      <td>Poland</td>\n",
       "      <td>pOL</td>\n",
       "      <td>616.0</td>\n",
       "      <td>48.0</td>\n",
       "      <td>0</td>\n",
       "    </tr>\n",
       "    <tr>\n",
       "      <th>57747</th>\n",
       "      <td>57747</td>\n",
       "      <td>EUR</td>\n",
       "      <td>5339</td>\n",
       "      <td>COMPLETED</td>\n",
       "      <td>23:49.9</td>\n",
       "      <td>bank</td>\n",
       "      <td>IND</td>\n",
       "      <td>mags</td>\n",
       "      <td>8a7d56a5-2df8-4206-a1c7-4ea0e16b6c94</td>\n",
       "      <td>ATM</td>\n",
       "      <td>...</td>\n",
       "      <td>NL</td>\n",
       "      <td>1985.0</td>\n",
       "      <td>PASSED</td>\n",
       "      <td>0.0</td>\n",
       "      <td>NL</td>\n",
       "      <td>Netherlands</td>\n",
       "      <td>nLD</td>\n",
       "      <td>528.0</td>\n",
       "      <td>31.0</td>\n",
       "      <td>0</td>\n",
       "    </tr>\n",
       "  </tbody>\n",
       "</table>\n",
       "<p>5 rows × 32 columns</p>\n",
       "</div>"
      ],
      "text/plain": [
       "       Unnamed: 0 CURRENCY  AMOUNT TRAN_STATE TRAN_CREATED_DATE  \\\n",
       "57707       57707      EUR       0   REVERTED           11:52.9   \n",
       "57723       57723      EUR    1177  COMPLETED           37:30.7   \n",
       "57726       57726      GBP     420  COMPLETED           18:47.6   \n",
       "57737       57737      USD     100   REVERTED           50:07.5   \n",
       "57747       57747      EUR    5339  COMPLETED           23:49.9   \n",
       "\n",
       "       MERCHANT_CATEGORY MERCHANT_COUNTRY ENTRY_METHOD  \\\n",
       "57707                bar              NLD         manu   \n",
       "57723  point_of_interest              NZL         manu   \n",
       "57726         restaurant              GBR         cont   \n",
       "57737                atm              LUX         manu   \n",
       "57747               bank              IND         mags   \n",
       "\n",
       "                                    USER_ID          TYPE      ...        \\\n",
       "57707  4d612d5b-b627-4084-a734-777f64f8a876  CARD_PAYMENT      ...         \n",
       "57723  0ea52336-aa1b-4dab-ab5f-84e9d1ed2766  CARD_PAYMENT      ...         \n",
       "57726  7cbd5950-6b6c-4289-a996-59d2911003ed  CARD_PAYMENT      ...         \n",
       "57737  35507271-8bbd-4181-a35b-773b93a737bd  CARD_PAYMENT      ...         \n",
       "57747  8a7d56a5-2df8-4206-a1c7-4ea0e16b6c94           ATM      ...         \n",
       "\n",
       "      COUNTRY BIRTH_YEAR     KYC FAILED_SIGN_IN_ATTEMPTS  CODE  \\\n",
       "57707      BE     1988.0  PASSED                     0.0    BE   \n",
       "57723      EE     1985.0  PASSED                     0.0    EE   \n",
       "57726      GB     1986.0  PASSED                     0.0    GB   \n",
       "57737      PL     1976.0  PASSED                     0.0    PL   \n",
       "57747      NL     1985.0  PASSED                     0.0    NL   \n",
       "\n",
       "                 NAME  CODE3 NUMCODE PHONECODE IS_FRAUDSTER_N  \n",
       "57707         Belgium    BEL    56.0      32.0              0  \n",
       "57723         Estonia    EST   233.0     372.0              0  \n",
       "57726  United Kingdom    gBR   826.0      44.0              0  \n",
       "57737          Poland    pOL   616.0      48.0              0  \n",
       "57747     Netherlands    nLD   528.0      31.0              0  \n",
       "\n",
       "[5 rows x 32 columns]"
      ]
     },
     "execution_count": 10,
     "metadata": {},
     "output_type": "execute_result"
    }
   ],
   "source": [
    "df.tail()"
   ]
  },
  {
   "cell_type": "code",
   "execution_count": 11,
   "metadata": {},
   "outputs": [],
   "source": [
    "df = df.drop(['IS_FRAUDSTER','Unnamed: 0','NAME','CODE3','CODE','USER_ID','AMOUNT','TRAN_ID','PHONE_COUNTRY','TERMS_VERSION'], axis=1)"
   ]
  },
  {
   "cell_type": "code",
   "execution_count": 12,
   "metadata": {},
   "outputs": [
    {
     "data": {
      "text/plain": [
       "(19174, 22)"
      ]
     },
     "execution_count": 12,
     "metadata": {},
     "output_type": "execute_result"
    }
   ],
   "source": [
    "df.shape"
   ]
  },
  {
   "cell_type": "code",
   "execution_count": 13,
   "metadata": {},
   "outputs": [
    {
     "data": {
      "text/html": [
       "<div>\n",
       "<style scoped>\n",
       "    .dataframe tbody tr th:only-of-type {\n",
       "        vertical-align: middle;\n",
       "    }\n",
       "\n",
       "    .dataframe tbody tr th {\n",
       "        vertical-align: top;\n",
       "    }\n",
       "\n",
       "    .dataframe thead th {\n",
       "        text-align: right;\n",
       "    }\n",
       "</style>\n",
       "<table border=\"1\" class=\"dataframe\">\n",
       "  <thead>\n",
       "    <tr style=\"text-align: right;\">\n",
       "      <th></th>\n",
       "      <th>CURRENCY</th>\n",
       "      <th>TRAN_STATE</th>\n",
       "      <th>TRAN_CREATED_DATE</th>\n",
       "      <th>MERCHANT_CATEGORY</th>\n",
       "      <th>MERCHANT_COUNTRY</th>\n",
       "      <th>ENTRY_METHOD</th>\n",
       "      <th>TYPE</th>\n",
       "      <th>SOURCE</th>\n",
       "      <th>AMOUNT_USD</th>\n",
       "      <th>CCY</th>\n",
       "      <th>...</th>\n",
       "      <th>HAS_EMAIL</th>\n",
       "      <th>USER_CREATED_DATE</th>\n",
       "      <th>USER_STATE</th>\n",
       "      <th>COUNTRY</th>\n",
       "      <th>BIRTH_YEAR</th>\n",
       "      <th>KYC</th>\n",
       "      <th>FAILED_SIGN_IN_ATTEMPTS</th>\n",
       "      <th>NUMCODE</th>\n",
       "      <th>PHONECODE</th>\n",
       "      <th>IS_FRAUDSTER_N</th>\n",
       "    </tr>\n",
       "  </thead>\n",
       "  <tbody>\n",
       "    <tr>\n",
       "      <th>0</th>\n",
       "      <td>GBP</td>\n",
       "      <td>COMPLETED</td>\n",
       "      <td>46:20.3</td>\n",
       "      <td>cafe</td>\n",
       "      <td>GBR</td>\n",
       "      <td>cont</td>\n",
       "      <td>CARD_PAYMENT</td>\n",
       "      <td>GAIA</td>\n",
       "      <td>220</td>\n",
       "      <td>GBP</td>\n",
       "      <td>...</td>\n",
       "      <td>1.0</td>\n",
       "      <td>53:55.8</td>\n",
       "      <td>ACTIVE</td>\n",
       "      <td>GB</td>\n",
       "      <td>1962.0</td>\n",
       "      <td>PASSED</td>\n",
       "      <td>0.0</td>\n",
       "      <td>826.0</td>\n",
       "      <td>44.0</td>\n",
       "      <td>0</td>\n",
       "    </tr>\n",
       "    <tr>\n",
       "      <th>1</th>\n",
       "      <td>EUR</td>\n",
       "      <td>COMPLETED</td>\n",
       "      <td>38:47.2</td>\n",
       "      <td>bar</td>\n",
       "      <td>AUS</td>\n",
       "      <td>cont</td>\n",
       "      <td>CARD_PAYMENT</td>\n",
       "      <td>GAIA</td>\n",
       "      <td>2885</td>\n",
       "      <td>EUR</td>\n",
       "      <td>...</td>\n",
       "      <td>1.0</td>\n",
       "      <td>57:58.2</td>\n",
       "      <td>ACTIVE</td>\n",
       "      <td>IE</td>\n",
       "      <td>1995.0</td>\n",
       "      <td>PASSED</td>\n",
       "      <td>0.0</td>\n",
       "      <td>372.0</td>\n",
       "      <td>353.0</td>\n",
       "      <td>0</td>\n",
       "    </tr>\n",
       "    <tr>\n",
       "      <th>3</th>\n",
       "      <td>GBP</td>\n",
       "      <td>COMPLETED</td>\n",
       "      <td>45:50.6</td>\n",
       "      <td>supermarket</td>\n",
       "      <td>GBR</td>\n",
       "      <td>cont</td>\n",
       "      <td>CARD_PAYMENT</td>\n",
       "      <td>GAIA</td>\n",
       "      <td>249</td>\n",
       "      <td>GBP</td>\n",
       "      <td>...</td>\n",
       "      <td>1.0</td>\n",
       "      <td>01:29.8</td>\n",
       "      <td>ACTIVE</td>\n",
       "      <td>GB</td>\n",
       "      <td>1974.0</td>\n",
       "      <td>PASSED</td>\n",
       "      <td>0.0</td>\n",
       "      <td>826.0</td>\n",
       "      <td>44.0</td>\n",
       "      <td>0</td>\n",
       "    </tr>\n",
       "    <tr>\n",
       "      <th>13</th>\n",
       "      <td>EUR</td>\n",
       "      <td>COMPLETED</td>\n",
       "      <td>41:13.0</td>\n",
       "      <td>florist</td>\n",
       "      <td>LTU</td>\n",
       "      <td>cont</td>\n",
       "      <td>CARD_PAYMENT</td>\n",
       "      <td>GAIA</td>\n",
       "      <td>389</td>\n",
       "      <td>EUR</td>\n",
       "      <td>...</td>\n",
       "      <td>1.0</td>\n",
       "      <td>47:06.4</td>\n",
       "      <td>ACTIVE</td>\n",
       "      <td>LT</td>\n",
       "      <td>1996.0</td>\n",
       "      <td>PASSED</td>\n",
       "      <td>0.0</td>\n",
       "      <td>440.0</td>\n",
       "      <td>370.0</td>\n",
       "      <td>0</td>\n",
       "    </tr>\n",
       "    <tr>\n",
       "      <th>14</th>\n",
       "      <td>EUR</td>\n",
       "      <td>COMPLETED</td>\n",
       "      <td>57:12.7</td>\n",
       "      <td>supermarket</td>\n",
       "      <td>FRA</td>\n",
       "      <td>chip</td>\n",
       "      <td>CARD_PAYMENT</td>\n",
       "      <td>GAIA</td>\n",
       "      <td>3890</td>\n",
       "      <td>EUR</td>\n",
       "      <td>...</td>\n",
       "      <td>1.0</td>\n",
       "      <td>52:14.6</td>\n",
       "      <td>ACTIVE</td>\n",
       "      <td>FR</td>\n",
       "      <td>1967.0</td>\n",
       "      <td>PASSED</td>\n",
       "      <td>0.0</td>\n",
       "      <td>250.0</td>\n",
       "      <td>33.0</td>\n",
       "      <td>0</td>\n",
       "    </tr>\n",
       "  </tbody>\n",
       "</table>\n",
       "<p>5 rows × 22 columns</p>\n",
       "</div>"
      ],
      "text/plain": [
       "   CURRENCY TRAN_STATE TRAN_CREATED_DATE MERCHANT_CATEGORY MERCHANT_COUNTRY  \\\n",
       "0       GBP  COMPLETED           46:20.3              cafe              GBR   \n",
       "1       EUR  COMPLETED           38:47.2               bar              AUS   \n",
       "3       GBP  COMPLETED           45:50.6       supermarket              GBR   \n",
       "13      EUR  COMPLETED           41:13.0           florist              LTU   \n",
       "14      EUR  COMPLETED           57:12.7       supermarket              FRA   \n",
       "\n",
       "   ENTRY_METHOD          TYPE SOURCE  AMOUNT_USD  CCY       ...        \\\n",
       "0          cont  CARD_PAYMENT   GAIA         220  GBP       ...         \n",
       "1          cont  CARD_PAYMENT   GAIA        2885  EUR       ...         \n",
       "3          cont  CARD_PAYMENT   GAIA         249  GBP       ...         \n",
       "13         cont  CARD_PAYMENT   GAIA         389  EUR       ...         \n",
       "14         chip  CARD_PAYMENT   GAIA        3890  EUR       ...         \n",
       "\n",
       "    HAS_EMAIL  USER_CREATED_DATE  USER_STATE COUNTRY BIRTH_YEAR     KYC  \\\n",
       "0         1.0            53:55.8      ACTIVE      GB     1962.0  PASSED   \n",
       "1         1.0            57:58.2      ACTIVE      IE     1995.0  PASSED   \n",
       "3         1.0            01:29.8      ACTIVE      GB     1974.0  PASSED   \n",
       "13        1.0            47:06.4      ACTIVE      LT     1996.0  PASSED   \n",
       "14        1.0            52:14.6      ACTIVE      FR     1967.0  PASSED   \n",
       "\n",
       "    FAILED_SIGN_IN_ATTEMPTS NUMCODE  PHONECODE  IS_FRAUDSTER_N  \n",
       "0                       0.0   826.0       44.0               0  \n",
       "1                       0.0   372.0      353.0               0  \n",
       "3                       0.0   826.0       44.0               0  \n",
       "13                      0.0   440.0      370.0               0  \n",
       "14                      0.0   250.0       33.0               0  \n",
       "\n",
       "[5 rows x 22 columns]"
      ]
     },
     "execution_count": 13,
     "metadata": {},
     "output_type": "execute_result"
    }
   ],
   "source": [
    "df.head()"
   ]
  },
  {
   "cell_type": "code",
   "execution_count": 14,
   "metadata": {},
   "outputs": [],
   "source": [
    "import datetime\n",
    "now = datetime.datetime.now()\n",
    "df['USER_AGE'] = df.apply(lambda row: now.year - row.BIRTH_YEAR, axis=1)\n",
    "#drop birth year\n",
    "df = df.drop('BIRTH_YEAR', axis=1)"
   ]
  },
  {
   "cell_type": "code",
   "execution_count": 15,
   "metadata": {},
   "outputs": [
    {
     "data": {
      "text/plain": [
       "array(['PASSED', 'NONE', 'FAILED', 'PENDING'], dtype=object)"
      ]
     },
     "execution_count": 15,
     "metadata": {},
     "output_type": "execute_result"
    }
   ],
   "source": [
    "df.KYC.unique()"
   ]
  },
  {
   "cell_type": "code",
   "execution_count": 16,
   "metadata": {},
   "outputs": [
    {
     "data": {
      "text/plain": [
       "array(['ACTIVE', 'LOCKED'], dtype=object)"
      ]
     },
     "execution_count": 16,
     "metadata": {},
     "output_type": "execute_result"
    }
   ],
   "source": [
    "df.USER_STATE.unique()\n"
   ]
  },
  {
   "cell_type": "code",
   "execution_count": 17,
   "metadata": {},
   "outputs": [
    {
     "data": {
      "text/plain": [
       "array(['53:55.8', '57:58.2', '01:29.8', ..., '17:05.8', '58:08.3',\n",
       "       '34:33.5'], dtype=object)"
      ]
     },
     "execution_count": 17,
     "metadata": {},
     "output_type": "execute_result"
    }
   ],
   "source": [
    "df.USER_CREATED_DATE.unique()\n"
   ]
  },
  {
   "cell_type": "code",
   "execution_count": 18,
   "metadata": {},
   "outputs": [],
   "source": [
    "#drop user create date\n",
    "df = df.drop('USER_CREATED_DATE', axis=1)"
   ]
  },
  {
   "cell_type": "code",
   "execution_count": 19,
   "metadata": {},
   "outputs": [
    {
     "data": {
      "text/plain": [
       "array([826., 372., 440., 250., 196., 428., 756., 208., 100., 752., 620.,\n",
       "       276., 380., 724., 233., 578., 292., 616., 705., 528., 348., 300.,\n",
       "       203., 642., 703.,  56.,  40., 470., 442., 246., 191., 352., 312.])"
      ]
     },
     "execution_count": 19,
     "metadata": {},
     "output_type": "execute_result"
    }
   ],
   "source": [
    "df.NUMCODE.unique()"
   ]
  },
  {
   "cell_type": "code",
   "execution_count": 20,
   "metadata": {},
   "outputs": [
    {
     "data": {
      "text/plain": [
       "array([ 44., 353., 370.,  33., 357., 371.,  41.,  45., 359.,  46., 351.,\n",
       "        49.,  39.,  34., 372.,  47., 350.,  48., 386.,  31.,  36.,  30.,\n",
       "       420.,  40., 421.,  32.,  43., 356., 352., 358., 385., 354., 590.])"
      ]
     },
     "execution_count": 20,
     "metadata": {},
     "output_type": "execute_result"
    }
   ],
   "source": [
    "df.PHONECODE.unique()"
   ]
  },
  {
   "cell_type": "code",
   "execution_count": 21,
   "metadata": {},
   "outputs": [],
   "source": [
    "#drop num code\n",
    "df = df.drop('NUMCODE', axis=1)"
   ]
  },
  {
   "cell_type": "code",
   "execution_count": 23,
   "metadata": {},
   "outputs": [
    {
     "data": {
      "text/plain": [
       "(19174, 20)"
      ]
     },
     "execution_count": 23,
     "metadata": {},
     "output_type": "execute_result"
    }
   ],
   "source": [
    "df.shape"
   ]
  },
  {
   "cell_type": "code",
   "execution_count": 25,
   "metadata": {},
   "outputs": [
    {
     "data": {
      "text/plain": [
       "array(['COMPLETED', 'REVERTED', 'DECLINED', 'PENDING'], dtype=object)"
      ]
     },
     "execution_count": 25,
     "metadata": {},
     "output_type": "execute_result"
    }
   ],
   "source": [
    "df.TRAN_STATE.unique()"
   ]
  },
  {
   "cell_type": "code",
   "execution_count": 26,
   "metadata": {},
   "outputs": [],
   "source": [
    "#drop tran created date code\n",
    "df = df.drop('TRAN_CREATED_DATE', axis=1)"
   ]
  },
  {
   "cell_type": "code",
   "execution_count": 27,
   "metadata": {},
   "outputs": [],
   "source": [
    "#DROP CURRENCY\n",
    "df = df.drop('CURRENCY', axis=1)"
   ]
  },
  {
   "cell_type": "code",
   "execution_count": 29,
   "metadata": {},
   "outputs": [],
   "source": [
    "#DROP CCY\n",
    "df = df.drop('CCY', axis=1)"
   ]
  },
  {
   "cell_type": "code",
   "execution_count": 30,
   "metadata": {},
   "outputs": [],
   "source": [
    "#DROP COUNTRY\n",
    "df = df.drop('COUNTRY', axis=1)"
   ]
  },
  {
   "cell_type": "code",
   "execution_count": 33,
   "metadata": {},
   "outputs": [
    {
     "data": {
      "text/plain": [
       "array([2, 8, 0])"
      ]
     },
     "execution_count": 33,
     "metadata": {},
     "output_type": "execute_result"
    }
   ],
   "source": [
    "df.EXPONENT.unique()"
   ]
  },
  {
   "cell_type": "code",
   "execution_count": 34,
   "metadata": {},
   "outputs": [
    {
     "data": {
      "text/plain": [
       "array([0., 1., 2.])"
      ]
     },
     "execution_count": 34,
     "metadata": {},
     "output_type": "execute_result"
    }
   ],
   "source": [
    "df.FAILED_SIGN_IN_ATTEMPTS.unique()"
   ]
  },
  {
   "cell_type": "code",
   "execution_count": 32,
   "metadata": {},
   "outputs": [
    {
     "data": {
      "text/html": [
       "<div>\n",
       "<style scoped>\n",
       "    .dataframe tbody tr th:only-of-type {\n",
       "        vertical-align: middle;\n",
       "    }\n",
       "\n",
       "    .dataframe tbody tr th {\n",
       "        vertical-align: top;\n",
       "    }\n",
       "\n",
       "    .dataframe thead th {\n",
       "        text-align: right;\n",
       "    }\n",
       "</style>\n",
       "<table border=\"1\" class=\"dataframe\">\n",
       "  <thead>\n",
       "    <tr style=\"text-align: right;\">\n",
       "      <th></th>\n",
       "      <th>TRAN_STATE</th>\n",
       "      <th>MERCHANT_CATEGORY</th>\n",
       "      <th>MERCHANT_COUNTRY</th>\n",
       "      <th>ENTRY_METHOD</th>\n",
       "      <th>TYPE</th>\n",
       "      <th>SOURCE</th>\n",
       "      <th>AMOUNT_USD</th>\n",
       "      <th>EXPONENT</th>\n",
       "      <th>IS_CRYPTO</th>\n",
       "      <th>HAS_EMAIL</th>\n",
       "      <th>USER_STATE</th>\n",
       "      <th>KYC</th>\n",
       "      <th>FAILED_SIGN_IN_ATTEMPTS</th>\n",
       "      <th>PHONECODE</th>\n",
       "      <th>IS_FRAUDSTER_N</th>\n",
       "      <th>USER_AGE</th>\n",
       "    </tr>\n",
       "  </thead>\n",
       "  <tbody>\n",
       "    <tr>\n",
       "      <th>0</th>\n",
       "      <td>COMPLETED</td>\n",
       "      <td>cafe</td>\n",
       "      <td>GBR</td>\n",
       "      <td>cont</td>\n",
       "      <td>CARD_PAYMENT</td>\n",
       "      <td>GAIA</td>\n",
       "      <td>220</td>\n",
       "      <td>2</td>\n",
       "      <td>False</td>\n",
       "      <td>1.0</td>\n",
       "      <td>ACTIVE</td>\n",
       "      <td>PASSED</td>\n",
       "      <td>0.0</td>\n",
       "      <td>44.0</td>\n",
       "      <td>0</td>\n",
       "      <td>57.0</td>\n",
       "    </tr>\n",
       "    <tr>\n",
       "      <th>1</th>\n",
       "      <td>COMPLETED</td>\n",
       "      <td>bar</td>\n",
       "      <td>AUS</td>\n",
       "      <td>cont</td>\n",
       "      <td>CARD_PAYMENT</td>\n",
       "      <td>GAIA</td>\n",
       "      <td>2885</td>\n",
       "      <td>2</td>\n",
       "      <td>False</td>\n",
       "      <td>1.0</td>\n",
       "      <td>ACTIVE</td>\n",
       "      <td>PASSED</td>\n",
       "      <td>0.0</td>\n",
       "      <td>353.0</td>\n",
       "      <td>0</td>\n",
       "      <td>24.0</td>\n",
       "    </tr>\n",
       "    <tr>\n",
       "      <th>3</th>\n",
       "      <td>COMPLETED</td>\n",
       "      <td>supermarket</td>\n",
       "      <td>GBR</td>\n",
       "      <td>cont</td>\n",
       "      <td>CARD_PAYMENT</td>\n",
       "      <td>GAIA</td>\n",
       "      <td>249</td>\n",
       "      <td>2</td>\n",
       "      <td>False</td>\n",
       "      <td>1.0</td>\n",
       "      <td>ACTIVE</td>\n",
       "      <td>PASSED</td>\n",
       "      <td>0.0</td>\n",
       "      <td>44.0</td>\n",
       "      <td>0</td>\n",
       "      <td>45.0</td>\n",
       "    </tr>\n",
       "    <tr>\n",
       "      <th>13</th>\n",
       "      <td>COMPLETED</td>\n",
       "      <td>florist</td>\n",
       "      <td>LTU</td>\n",
       "      <td>cont</td>\n",
       "      <td>CARD_PAYMENT</td>\n",
       "      <td>GAIA</td>\n",
       "      <td>389</td>\n",
       "      <td>2</td>\n",
       "      <td>False</td>\n",
       "      <td>1.0</td>\n",
       "      <td>ACTIVE</td>\n",
       "      <td>PASSED</td>\n",
       "      <td>0.0</td>\n",
       "      <td>370.0</td>\n",
       "      <td>0</td>\n",
       "      <td>23.0</td>\n",
       "    </tr>\n",
       "    <tr>\n",
       "      <th>14</th>\n",
       "      <td>COMPLETED</td>\n",
       "      <td>supermarket</td>\n",
       "      <td>FRA</td>\n",
       "      <td>chip</td>\n",
       "      <td>CARD_PAYMENT</td>\n",
       "      <td>GAIA</td>\n",
       "      <td>3890</td>\n",
       "      <td>2</td>\n",
       "      <td>False</td>\n",
       "      <td>1.0</td>\n",
       "      <td>ACTIVE</td>\n",
       "      <td>PASSED</td>\n",
       "      <td>0.0</td>\n",
       "      <td>33.0</td>\n",
       "      <td>0</td>\n",
       "      <td>52.0</td>\n",
       "    </tr>\n",
       "  </tbody>\n",
       "</table>\n",
       "</div>"
      ],
      "text/plain": [
       "   TRAN_STATE MERCHANT_CATEGORY MERCHANT_COUNTRY ENTRY_METHOD          TYPE  \\\n",
       "0   COMPLETED              cafe              GBR         cont  CARD_PAYMENT   \n",
       "1   COMPLETED               bar              AUS         cont  CARD_PAYMENT   \n",
       "3   COMPLETED       supermarket              GBR         cont  CARD_PAYMENT   \n",
       "13  COMPLETED           florist              LTU         cont  CARD_PAYMENT   \n",
       "14  COMPLETED       supermarket              FRA         chip  CARD_PAYMENT   \n",
       "\n",
       "   SOURCE  AMOUNT_USD  EXPONENT  IS_CRYPTO  HAS_EMAIL USER_STATE     KYC  \\\n",
       "0    GAIA         220         2      False        1.0     ACTIVE  PASSED   \n",
       "1    GAIA        2885         2      False        1.0     ACTIVE  PASSED   \n",
       "3    GAIA         249         2      False        1.0     ACTIVE  PASSED   \n",
       "13   GAIA         389         2      False        1.0     ACTIVE  PASSED   \n",
       "14   GAIA        3890         2      False        1.0     ACTIVE  PASSED   \n",
       "\n",
       "    FAILED_SIGN_IN_ATTEMPTS  PHONECODE  IS_FRAUDSTER_N  USER_AGE  \n",
       "0                       0.0       44.0               0      57.0  \n",
       "1                       0.0      353.0               0      24.0  \n",
       "3                       0.0       44.0               0      45.0  \n",
       "13                      0.0      370.0               0      23.0  \n",
       "14                      0.0       33.0               0      52.0  "
      ]
     },
     "execution_count": 32,
     "metadata": {},
     "output_type": "execute_result"
    }
   ],
   "source": [
    "df.head()"
   ]
  },
  {
   "cell_type": "code",
   "execution_count": 31,
   "metadata": {},
   "outputs": [
    {
     "data": {
      "text/plain": [
       "TRAN_STATE                  object\n",
       "MERCHANT_CATEGORY           object\n",
       "MERCHANT_COUNTRY            object\n",
       "ENTRY_METHOD                object\n",
       "TYPE                        object\n",
       "SOURCE                      object\n",
       "AMOUNT_USD                   int64\n",
       "EXPONENT                     int64\n",
       "IS_CRYPTO                     bool\n",
       "HAS_EMAIL                  float64\n",
       "USER_STATE                  object\n",
       "KYC                         object\n",
       "FAILED_SIGN_IN_ATTEMPTS    float64\n",
       "PHONECODE                  float64\n",
       "IS_FRAUDSTER_N               int64\n",
       "USER_AGE                   float64\n",
       "dtype: object"
      ]
     },
     "execution_count": 31,
     "metadata": {},
     "output_type": "execute_result"
    }
   ],
   "source": [
    "df.dtypes"
   ]
  },
  {
   "cell_type": "code",
   "execution_count": 37,
   "metadata": {},
   "outputs": [],
   "source": [
    "#split categorical data\n",
    "df_cat = df[['TRAN_STATE','MERCHANT_CATEGORY','MERCHANT_COUNTRY','ENTRY_METHOD','TYPE','SOURCE','EXPONENT',\n",
    "            'IS_CRYPTO','HAS_EMAIL','USER_STATE','KYC','FAILED_SIGN_IN_ATTEMPTS','PHONECODE']]\n",
    "df_cat2 = pd.get_dummies(df_cat, columns=['TRAN_STATE','MERCHANT_CATEGORY','MERCHANT_COUNTRY',\n",
    "                                          'ENTRY_METHOD','TYPE','SOURCE','EXPONENT',\n",
    "            'IS_CRYPTO','HAS_EMAIL','USER_STATE','KYC','FAILED_SIGN_IN_ATTEMPTS','PHONECODE'], drop_first=False)\n",
    "df_cat2.reset_index(drop=True, inplace=True)"
   ]
  },
  {
   "cell_type": "code",
   "execution_count": 38,
   "metadata": {},
   "outputs": [],
   "source": [
    "#split cts data\n",
    "scaler = preprocessing.MinMaxScaler()\n",
    "to_scale_df = df[['USER_AGE','AMOUNT_USD']]\n",
    "scaled_df = scaler.fit_transform(to_scale_df)\n",
    "scaled_df = pd.DataFrame(scaled_df, columns=['USER_AGE','AMOUNT_USD'])\n",
    "scaled_df.reset_index(drop=True, inplace=True)"
   ]
  },
  {
   "cell_type": "code",
   "execution_count": null,
   "metadata": {},
   "outputs": [],
   "source": [
    "df['IS_FRAUDSTER_N'].reset_index(drop=True, inplace=True)"
   ]
  },
  {
   "cell_type": "code",
   "execution_count": null,
   "metadata": {},
   "outputs": [],
   "source": [
    "#combine data"
   ]
  },
  {
   "cell_type": "code",
   "execution_count": null,
   "metadata": {},
   "outputs": [],
   "source": [
    "#feature selection"
   ]
  },
  {
   "cell_type": "code",
   "execution_count": null,
   "metadata": {},
   "outputs": [],
   "source": [
    "#fix data imbalance"
   ]
  },
  {
   "cell_type": "code",
   "execution_count": null,
   "metadata": {},
   "outputs": [],
   "source": [
    "#perform modeling"
   ]
  },
  {
   "cell_type": "code",
   "execution_count": null,
   "metadata": {},
   "outputs": [],
   "source": [
    "#parameter tuning - drop highly correlated independent variables in the model."
   ]
  },
  {
   "cell_type": "code",
   "execution_count": null,
   "metadata": {},
   "outputs": [],
   "source": [
    "#build metrics (confusion matrix, auc, roc, precision, recall)"
   ]
  },
  {
   "cell_type": "code",
   "execution_count": null,
   "metadata": {},
   "outputs": [],
   "source": []
  },
  {
   "cell_type": "code",
   "execution_count": null,
   "metadata": {},
   "outputs": [],
   "source": []
  },
  {
   "cell_type": "code",
   "execution_count": null,
   "metadata": {},
   "outputs": [],
   "source": []
  },
  {
   "cell_type": "code",
   "execution_count": null,
   "metadata": {},
   "outputs": [],
   "source": [
    "The precision-recall curve can help us determine if we were successful enough. \n",
    "For the unfamiliar precision-recall scores represent a balance between high recall \n",
    "and high precision relating to a low false positive rate and a low false negative rate respectively. \n",
    "When evaluating, you have four outcomes: true positive, true negative, false positive and false negative. \n",
    "Depending on the project, you would aim for different balances, \n",
    "but ideally you want everything to be as accurate, or true, as possible. \n",
    "In the graph above, the y axis is the precision and the x axis is recall. \n",
    "If the graph went straight across the middle, that would be a random-like output. \n",
    "Below it would be poor performance and above it would be a more accurate and better quality performance. \n",
    "If it were 100 it would be a perfect classifier. \n",
    "Because the classifier above is at 0.84 we can feel confident that our precision was good. "
   ]
  }
 ],
 "metadata": {
  "kernelspec": {
   "display_name": "Python 3",
   "language": "python",
   "name": "python3"
  },
  "language_info": {
   "codemirror_mode": {
    "name": "ipython",
    "version": 3
   },
   "file_extension": ".py",
   "mimetype": "text/x-python",
   "name": "python",
   "nbconvert_exporter": "python",
   "pygments_lexer": "ipython3",
   "version": "3.7.1"
  }
 },
 "nbformat": 4,
 "nbformat_minor": 2
}
